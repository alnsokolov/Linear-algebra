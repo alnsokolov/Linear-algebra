{
 "cells": [
  {
   "cell_type": "markdown",
   "metadata": {},
   "source": [
    "# 18. Возведение в степень комплексного числа. Формула Муавра"
   ]
  },
  {
   "cell_type": "markdown",
   "metadata": {},
   "source": [
    "Пусть $ n \\in \\mathbb{Z}, z \\in \\mathbb{C} $. Число $ z^n = \\underset{n}{\\underbrace{z \\cdot z \\cdot \\dots \\cdot z}} $ при $ n \\in \\mathbb{N} $, $ z^n = 1 $ при $ n = 0 $, $ z^n = 1 / z^m $ при $ m = -n \\in \\mathbb{N} $ называется $n$-й степенью числа $z$."
   ]
  },
  {
   "cell_type": "markdown",
   "metadata": {},
   "source": [
    "### Теорема 1\n",
    "\n",
    "Если $ z = r (cos \\space \\varphi + i \\space sin \\space \\varphi), n \\in \\mathbb{Z} $, то $$ z^n = r^n (cos \\space n\\varphi + i \\space sin \\space n\\varphi) $$\n",
    "\n",
    "### Доказательство\n",
    "\n",
    "Для $ n \\in \\mathbb{N} $ равенство доказывается из свойства сложения комплексных чисел. Для $ n = 0 $ равенство следует из определения: $ z^0 = 1 = r^0 (cos \\space 0 + i \\space sin \\space 0) $. Если $ n < 0 $ и $ m = -n \\in \\mathbb{N} $, то $$ z^n = \\frac{1}{z^m} = \\frac{1}{z^m(cos \\space m \\varphi + i \\space cos \\space m \\varphi)} = r^n (cos \\space m \\varphi - i \\space cos \\space m \\varphi) = r^n (cos \\space (-m \\varphi) + i \\space cos \\space (-m \\varphi)) =  z^n = r^n (cos \\space n\\varphi + i \\space sin \\space n\\varphi)$$"
   ]
  },
  {
   "cell_type": "markdown",
   "metadata": {},
   "source": [
    "Эта формула называется формулой Муавра."
   ]
  }
 ],
 "metadata": {
  "kernelspec": {
   "display_name": "Python 3",
   "language": "python",
   "name": "python3"
  },
  "language_info": {
   "codemirror_mode": {
    "name": "ipython",
    "version": 3
   },
   "file_extension": ".py",
   "mimetype": "text/x-python",
   "name": "python",
   "nbconvert_exporter": "python",
   "pygments_lexer": "ipython3",
   "version": "3.7.4"
  }
 },
 "nbformat": 4,
 "nbformat_minor": 4
}
