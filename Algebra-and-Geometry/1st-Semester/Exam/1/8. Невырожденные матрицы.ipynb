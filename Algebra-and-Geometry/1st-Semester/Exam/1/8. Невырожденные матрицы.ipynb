{
 "cells": [
  {
   "cell_type": "markdown",
   "metadata": {},
   "source": [
    "# 8. Невырожденные матрицы. Обратная матрица. Критерий обратимости"
   ]
  },
  {
   "cell_type": "markdown",
   "metadata": {},
   "source": [
    "Матрица $ A $ называется вырожденной (невырожденной) или особенной (неособенной), если $ |A| = 0 $ ( $ |A| \\neq 0 $ )"
   ]
  },
  {
   "cell_type": "markdown",
   "metadata": {},
   "source": [
    "Матрица $ A^{-1} $ называется обратной матрице $ A $, если $ AA^{-1} = A^{-1}A = I $. Матрица, для которой существует обратная матрица называется обратимой."
   ]
  },
  {
   "cell_type": "markdown",
   "metadata": {},
   "source": [
    "Матрица  \n",
    "\n",
    "$\n",
    "\\widehat A = \n",
    "\\begin{bmatrix}\n",
    "A_{11} & A_{21} & \\dots & A_{n1} \\\\\n",
    "A_{12} & A_{22} & \\dots & A_{n2} \\\\\n",
    "\\dots  & \\dots  & \\dots & \\dots  \\\\\n",
    "A_{1n} & A_{2n} & \\dots & A_{nn} \\\\\n",
    "\\end{bmatrix}\n",
    "$  \n",
    "\n",
    "Называется присоединённой к $ A $."
   ]
  },
  {
   "cell_type": "markdown",
   "metadata": {},
   "source": [
    "### Теорема о фальшивом разложении определителя"
   ]
  },
  {
   "cell_type": "markdown",
   "metadata": {},
   "source": [
    "$ A = (a_{ij}) \\in \\mathbb{R}^{n \\times n}. \\forall i, j: i \\neq j, \\sum\\limits_{s = 1}^n s_{is} A_{js} = 0 $"
   ]
  },
  {
   "cell_type": "markdown",
   "metadata": {},
   "source": [
    "### Доказательство"
   ]
  },
  {
   "cell_type": "markdown",
   "metadata": {},
   "source": [
    "Рассмотрим матрицы $ B $, в которой строка $ j $ заменена на строку $ i $. $ |B| = 0 $ согласно свойствам определителя, а разложение по $ j $-й строке равно $ \\sum\\limits_{s = 1}^n a_{is} A_{js} $, т.к. алгебраическое дополнение $ j $-й строки матрицы $ B $ равно аналогичному дополнению матрицы $ A $. Значит $ \\sum\\limits_{s = 1}^n a_{is} A_{js} = 0 $"
   ]
  },
  {
   "cell_type": "markdown",
   "metadata": {},
   "source": [
    "### Критерий обратимости\n",
    "\n",
    "Матрица обратима тогда и только тогда, когда она не вырождена."
   ]
  },
  {
   "cell_type": "markdown",
   "metadata": {},
   "source": [
    "### Доказательство\n",
    "\n",
    "#### Необходимость\n",
    "\n",
    "Пусть матрица $ A $ обратима. Тогда $ |AA^{-1}| = |A||A^{1-}| = |I| = 1 \\Rightarrow |A| \\neq 0 $\n",
    "\n",
    "#### Достаточность\n",
    "\n",
    "Пусть $ |A| \\neq 0 $. Покажем, что $ \\frac{1}{|A|} \\widehat A = A^{-1} $  \n",
    "\n",
    "Из разложения по строке и теоремы выше, имеем $ A \\widehat A = \\widehat A A = |A|I \\Rightarrow A \\frac{1}{|A|} \\widehat A = \\frac{1}{|A|} \\widehat A A = I \\Rightarrow A^{-1} = \\frac{1}{|A|} \\widehat A $"
   ]
  },
  {
   "cell_type": "markdown",
   "metadata": {},
   "source": [
    "#### Свойства\n",
    "\n",
    "1. $ I^{-1} = I $\n",
    "2. $ |A^{-1}| = \\frac{1}{|A|} $\n",
    "3. $ (A^{-1})^{-1} = A $\n",
    "4. $ (A^T)^{-1} = (A^{-1})^T $\n",
    "5. $ (AB)^{-1} = B^{-1}A^{-1} $"
   ]
  }
 ],
 "metadata": {
  "kernelspec": {
   "display_name": "Python 3",
   "language": "python",
   "name": "python3"
  },
  "language_info": {
   "codemirror_mode": {
    "name": "ipython",
    "version": 3
   },
   "file_extension": ".py",
   "mimetype": "text/x-python",
   "name": "python",
   "nbconvert_exporter": "python",
   "pygments_lexer": "ipython3",
   "version": "3.7.4"
  }
 },
 "nbformat": 4,
 "nbformat_minor": 4
}
