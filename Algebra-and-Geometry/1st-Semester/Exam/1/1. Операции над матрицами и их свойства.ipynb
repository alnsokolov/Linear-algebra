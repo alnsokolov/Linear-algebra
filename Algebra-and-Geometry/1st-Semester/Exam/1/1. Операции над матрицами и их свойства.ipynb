{
 "cells": [
  {
   "cell_type": "markdown",
   "metadata": {},
   "source": [
    "# 1. Операции над матрицами и их свойства"
   ]
  },
  {
   "cell_type": "markdown",
   "metadata": {},
   "source": [
    "### Равенство матриц\n",
    "$ A = B \\Leftrightarrow \\forall i, j: \\{A\\}_{ij} = \\{B\\}_{ij} $"
   ]
  },
  {
   "cell_type": "markdown",
   "metadata": {},
   "source": [
    "### Линейные операции\n",
    "\n",
    "#### Противоположная матрица\n",
    "$ -A = (-a_{ij}) \\in \\mathbb{R}^{n \\times m} $ - противоположная к $ A = (a_{ij}) \\in \\mathbb{R}^{n \\times m} $"
   ]
  },
  {
   "cell_type": "markdown",
   "metadata": {},
   "source": [
    "#### Сумма матриц\n",
    "$ A, B, C \\in \\mathbb{R}^{n \\times m} $  \n",
    "$ C = A + B \\Leftrightarrow c_{ij} = a_{ij} + b_{ij}, i = \\overline{1,n}, j = \\overline{1,m} $  \n",
    "\n",
    "#### Свойства\n",
    "1. $ A + B = B + A $ - операция коммутативна\n",
    "2. $ A + (B + C) = (A + B) + C $ - операция ассоциативна\n",
    "3. $ A + 0 = 0 + A = A $\n",
    "4. $ A + (-A) = (-A) + A = 0 $"
   ]
  },
  {
   "cell_type": "markdown",
   "metadata": {},
   "source": [
    "#### Разность матриц\n",
    "\n",
    "$ C $ - разность мартриц $ A, B $, если $ A = B + C $"
   ]
  },
  {
   "cell_type": "markdown",
   "metadata": {},
   "source": [
    "#### Произведение матриц\n",
    "\n",
    "$ C = \\alpha A \\Leftrightarrow c_{ij} = \\alpha a_{ij} \\ i = \\overline{1,n}, j = \\overline{1,m} $\n",
    "\n",
    "#### Свойства\n",
    "1. $ 1 \\cdot A = A $\n",
    "2. $ (\\alpha \\beta)A = \\alpha (\\beta A) $\n",
    "3. $ \\alpha(A  + B) = \\alpha A  + \\alpha B $\n",
    "4. $ (\\alpha + \\beta)A = \\alpha A + \\beta A $\n",
    "5. $ -A = (-1)A $\n",
    "\n",
    "Линейная комбинация матриц $ A_1, A_2, \\dots, A_n $ - матрица вида $ \\alpha_1 A_1 + \\alpha_2 A_2 + \\dots + \\alpha_n A_n, \\forall i = \\overline{1, n} \\alpha_i \\in \\mathbb{R} $"
   ]
  },
  {
   "cell_type": "markdown",
   "metadata": {},
   "source": [
    "#### Произведение матриц\n",
    "\n",
    "$ C = AB \\Leftrightarrow c_{ij}  = \\sum_{p = 1}^n a_{ip}b_{pj} $\n",
    "\n",
    "Если $ AB = BA $, то такие матрицы называются перестановочными\n",
    "\n",
    "#### Свойства\n",
    "1. $ A(BC) = (AB)C $\n",
    "2. $ \\alpha(AB) = (\\alpha A)B = A (\\alpha B), \\forall \\alpha \\in \\mathbb{R} $\n",
    "3. $ A(B + C) = AB + AC, (A + B)C = AC + BC $"
   ]
  },
  {
   "cell_type": "markdown",
   "metadata": {},
   "source": [
    "#### Транспонирование матриц\n",
    "\n",
    "$ A = (a_{ij}) \\in \\mathbb{R}^{n \\times m}. A^T = (a_{ji}^t) \\in \\mathbb{R}^{m \\times n} $ - транспонированная к матрице $ A $, если $ a_{ij}^t = a_{ji}, i = \\overline{1, m}, j = \\overline{1, n} $\n",
    "\n",
    "#### Свойства\n",
    "1. $ (A + B)^T = A^T + B^T $\n",
    "2. $ (\\alpha A)^T = \\alpha A^T $\n",
    "3. $ (AB)^T = B^T A^T $\n",
    "4. $ (A^T)^T = A $"
   ]
  }
 ],
 "metadata": {
  "kernelspec": {
   "display_name": "Python 3",
   "language": "python",
   "name": "python3"
  },
  "language_info": {
   "codemirror_mode": {
    "name": "ipython",
    "version": 3
   },
   "file_extension": ".py",
   "mimetype": "text/x-python",
   "name": "python",
   "nbconvert_exporter": "python",
   "pygments_lexer": "ipython3",
   "version": "3.7.4"
  }
 },
 "nbformat": 4,
 "nbformat_minor": 4
}
