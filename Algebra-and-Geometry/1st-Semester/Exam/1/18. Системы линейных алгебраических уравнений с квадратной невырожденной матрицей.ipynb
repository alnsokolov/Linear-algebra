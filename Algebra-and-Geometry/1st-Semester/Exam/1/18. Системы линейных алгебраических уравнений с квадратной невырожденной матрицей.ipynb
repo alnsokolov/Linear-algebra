{
 "cells": [
  {
   "cell_type": "markdown",
   "metadata": {},
   "source": [
    "# 18. Системы линейных алгебраических уравнений с квадратной невырожденной матрицей. Правило Крамера"
   ]
  },
  {
   "cell_type": "markdown",
   "metadata": {},
   "source": [
    "### Теорема\n",
    "\n",
    "Система линейных алгебраических уравнений с квадратной невырожденной матрицей совместна и имеет единственное решение."
   ]
  },
  {
   "cell_type": "markdown",
   "metadata": {},
   "source": [
    "### Доказательство\n",
    "\n",
    "В силу невырожденности матрицы $ A, \\exists A^{-1} \\Rightarrow x = A^{-1}b $ является решением данной системы. Это решение единственно, так как если $ \\exists y \\neq x: Ay = b $, то $ Ax = Ay $. Домножением каждой из частей равенства слева на $ A^{-1} $, получим $ x = y $.  \n",
    "\n",
    "Решение может быть записано покомпонентно:\n",
    "\n",
    "$$\n",
    "x_i = \\frac{A_{1i}b_1 + A_{2i}b_2 + \\dots + A_{ni}b_n}{|A|}, \\ i = \\overline{1, n}\n",
    "$$  \n",
    "\n",
    "То есть $ x_i = \\frac{|A_i|}{|A|}, \\ i = \\overline{1, n} $, где $ A_i $ - матрица, полученная заменой $i$-го столбца на столбец свободных членов. Эта формула называется правилом Крамера."
   ]
  }
 ],
 "metadata": {
  "kernelspec": {
   "display_name": "Python 3",
   "language": "python",
   "name": "python3"
  },
  "language_info": {
   "codemirror_mode": {
    "name": "ipython",
    "version": 3
   },
   "file_extension": ".py",
   "mimetype": "text/x-python",
   "name": "python",
   "nbconvert_exporter": "python",
   "pygments_lexer": "ipython3",
   "version": "3.7.4"
  }
 },
 "nbformat": 4,
 "nbformat_minor": 4
}
