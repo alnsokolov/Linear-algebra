{
 "cells": [
  {
   "cell_type": "markdown",
   "metadata": {},
   "source": [
    "# 18. Эквивалентные матрицы. Критерий эквивалентности."
   ]
  },
  {
   "cell_type": "markdown",
   "metadata": {},
   "source": [
    "Матрицы $ A, B \\in P^{m \\times n} $ называются эквивалентыми, если $ \\exists P, Q, \\space |P| \\neq 0, |Q| \\neq 0 $ такие, что $ A = PBQ $. Обозначение: $ A \\sim B $"
   ]
  },
  {
   "cell_type": "markdown",
   "metadata": {},
   "source": [
    "### Теорема 16.11 (?)\n",
    "\n",
    "Две матрицы над полем $ P $ размера $ m \\times n $ эквивалентны тогда и только тогда, когда их ранги совпадают.\n",
    "\n",
    "### Доказательство\n",
    "\n",
    "Необходимость очевидна, так как при умножении матрицы на невырожденную матрицу, её ранг не меняется.\n",
    "\n",
    "Достаточность. Обе матрицы эквивалентны матрице ранга $ r $ \n",
    "\n",
    "$$ I_r = \\left[\\begin{array}{cccc|c} 1 & 0 & \\cdots & 0 & \\newline 0 & 1 & \\cdots & 0 &  0 \\newline \\vdots & \\vdots & \\ddots & \\vdots & \\newline 0 & 0 & \\cdots & 1 & \\newline \\hline & 0 &&& 0 \\end{array}\\right] $$\n",
    "\n",
    "В силу транзитивности отношения эквивалентности, они эквивалентны."
   ]
  }
 ],
 "metadata": {
  "kernelspec": {
   "display_name": "Python 3",
   "language": "python",
   "name": "python3"
  },
  "language_info": {
   "codemirror_mode": {
    "name": "ipython",
    "version": 3
   },
   "file_extension": ".py",
   "mimetype": "text/x-python",
   "name": "python",
   "nbconvert_exporter": "python",
   "pygments_lexer": "ipython3",
   "version": "3.7.4"
  }
 },
 "nbformat": 4,
 "nbformat_minor": 4
}
