{
 "cells": [
  {
   "cell_type": "markdown",
   "metadata": {},
   "source": [
    "# 34. Жорданова нормальная форма линейного оператора. Канонический базис"
   ]
  },
  {
   "cell_type": "markdown",
   "metadata": {},
   "source": [
    "Допустим у нас уже есть жорданова лестница для корневого подпространства $ K_{\\lambda_j} $. Тогда рассмотрим первый её столбец $ e_1, \\dots, e_q $:\n",
    "\n",
    "$$ \\begin{cases} e_1 = \\mathcal B^{q - 1}f_1 \\newline e_2 = \\mathcal B^{q - 2}f_1 \\newline \\dots \\newline e_q = f_1 \\end{cases} \\Rightarrow \\begin{cases} \\mathcal B e_1 = \\theta \\\\ \\mathcal B e_2 = e_1 \\\\ \\dots \\\\ B_q = e_{q - 1} \\end{cases} \\Rightarrow \\begin{cases} \\mathcal A e_1 = \\lambda_j e_1 \\\\ \\mathcal A e_2 = \\lambda_j e_2 + e_1 \\\\ \\dots \\\\ \\mathcal A e_q = \\lambda_j e_q + e_{q - 1} \\end{cases} $$\n",
    "\n",
    "Значит этой группе векторов соотвествуют первые $ q $ столюцов матрицы $ \\mathcal A | K_{\\lambda_j} $ имеющие вид $ \\left[ \\begin{array} \\\\ J_q(\\lambda_j) \\\\ \\hline O \\end{array} \\right] $. Рассматривая дальнейшие столбцы жордановой лестиныы, мы получим, что матрица $ A_j $ оператора $ \\mathcal A | K_{\\lambda_j} $ имеет вид\n",
    "\n",
    "$$ A_j = \\begin{bmatrix} J_{q_1}(\\lambda_j) &&& 0 \\\\ & J_{q_2}(\\lambda_j) && \\\\ && \\ddots & \\\\ 0 &&& J_{q_{s_j}}(\\lambda_j) \\end{bmatrix} $$"
   ]
  },
  {
   "cell_type": "markdown",
   "metadata": {},
   "source": [
    "Жордановой матрицей (или матрице, имеющей нормальную жорданову форму) называется квазидиагональная матрица, на диагонали которой расположены жордановы клетки. Жордановым базисом оператора $ \\mathcal A $ называется базис, в котором матрица оператора является жордановой."
   ]
  },
  {
   "cell_type": "markdown",
   "metadata": {},
   "source": [
    "### Теорема 92.2\n",
    "\n",
    "Пусть $ \\mathcal {A \\in L} (V, V) $, его характеристический многочлен имеет вид $ f(\\lambda) = (\\lambda_1 - \\lambda)^{m_1} \\dots (\\lambda_p - \\lambda)^{m_p} $. Тогда существует базис $ e $ в котором матрица $ A_e $ оператора будет иметь следующий вид\n",
    "\n",
    "$$ A_e = \\begin{bmatrix} A_1 &&& 0 \\\\ & A_2 && \\\\ && \\ddots & \\\\ 0 &&& A_p \\end{bmatrix} $$\n",
    "\n",
    "### Доказательство\n",
    "\n",
    "Формируем наш базис из канонических базисов $ \\mathcal A | K_{\\lambda_1}, \\dots, \\mathcal A | K_{\\lambda_p} $, убеждаемся в том, что вид матрицы совпадает с видом матрицы в определении теоремы.\n",
    "\n",
    "Profit."
   ]
  }
 ],
 "metadata": {
  "kernelspec": {
   "display_name": "Python 3",
   "language": "python",
   "name": "python3"
  },
  "language_info": {
   "codemirror_mode": {
    "name": "ipython",
    "version": 3
   },
   "file_extension": ".py",
   "mimetype": "text/x-python",
   "name": "python",
   "nbconvert_exporter": "python",
   "pygments_lexer": "ipython3",
   "version": "3.7.4"
  }
 },
 "nbformat": 4,
 "nbformat_minor": 4
}
