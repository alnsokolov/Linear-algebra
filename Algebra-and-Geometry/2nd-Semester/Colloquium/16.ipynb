{
 "cells": [
  {
   "cell_type": "markdown",
   "metadata": {},
   "source": [
    "# 16. Матрица линейного оператора. Связь между координатами вектора и его образа."
   ]
  },
  {
   "cell_type": "markdown",
   "metadata": {},
   "source": [
    "Пусть заданы два базиса: $ e = (e_1, \\dots, e_n), f = (f_1, \\dots, f_m) $ - базисы $ V $ и $ W $ соотвественно. Линенйный оператор однозначно определяется заданием векторов $ \\mathcal A e_1, \\dots, \\mathcal A e_n $ (по теореме 76.1, билет 13). В свою очередь данные вектора однозначно определяются своими координатами в базисе $ f $, то есть коэффицентами разложений\n",
    "\n",
    "$$ \\begin{cases} \\mathcal A e_1 = a_{11}f_1 + a_{21}f_2 + \\dots + a_{m1}f_m \\newline \\mathcal A e_2 = a_{12}f_1 + a_{22}f_2 + \\dots + a_{m2}f_m \\newline \\dots \\newline \\mathcal A e_n = a_{1n}f_1 + a_{2n}f_2 + \\dots + a_{mn}f_m \\end{cases} $$\n",
    "\n",
    "Матрица $$ \\mathcal A_{fe} = \\begin{bmatrix} a_{11} & a_{12} & \\cdots & a_{1n} \\newline a_{21} & a_{22} & \\cdots & a_{2n} \\newline \\vdots & \\vdots & \\ddots & \\vdots \\newline a_{m1} & a_{m2} & \\cdots & a_{mn} \\newline \\end{bmatrix} $$ называется матрицей оператора $ \\mathcal A $ в паре базисов $ e $ и $ f $. Для обозначения этой матрицы также используется символ $ (\\mathcal A)_{fe} $"
   ]
  },
  {
   "cell_type": "markdown",
   "metadata": {},
   "source": [
    "### Теорема 77.2\n",
    "\n",
    "Если $ y = \\mathcal A x $, то\n",
    "\n",
    "$$ y_f = A_{fe}x_e $$\n",
    "\n",
    "### Доказательство\n",
    "\n",
    "Пусть $ x = \\sum_{i = 1}^n x_i e_i, \\space y = \\sum_{i = 1}^m y_i f_i, \\space A_{fe} = (a_{ij}) $. Тогда\n",
    "\n",
    "$$ y_f = A_{fe}x_e \\Leftrightarrow y_i = \\sum\\limits_{j = 1}^n a_{ij}x_j, \\space i = \\overline{1, m} $$\n",
    "\n",
    "Имеем $ y = \\mathcal A x = \\mathcal A (\\sum_{j = 1}^n x_je_j) = \\sum_{j = 1}^n x_j \\mathcal A e_j = \\sum_{j = 1}^n x_j \\sum_{i = 1}^m a_{ij} f_i = \\sum_{i = 1}^m (\\sum_{j = 1}^n a_{ij} x_j)f_i $, что эквивалентно изначальному разложению в силу единственности разложения вектора $ y $ по базису $ f $."
   ]
  }
 ],
 "metadata": {
  "kernelspec": {
   "display_name": "Python 3",
   "language": "python",
   "name": "python3"
  },
  "language_info": {
   "codemirror_mode": {
    "name": "ipython",
    "version": 3
   },
   "file_extension": ".py",
   "mimetype": "text/x-python",
   "name": "python",
   "nbconvert_exporter": "python",
   "pygments_lexer": "ipython3",
   "version": "3.7.4"
  }
 },
 "nbformat": 4,
 "nbformat_minor": 4
}
