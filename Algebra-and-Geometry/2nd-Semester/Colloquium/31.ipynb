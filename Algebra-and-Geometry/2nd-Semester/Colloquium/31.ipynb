{
 "cells": [
  {
   "cell_type": "markdown",
   "metadata": {},
   "source": [
    "# 31. Теорема о прямой сумме нилльпотентного и обратного операторов"
   ]
  },
  {
   "cell_type": "markdown",
   "metadata": {},
   "source": [
    "### Теорема 90.3\n",
    "\n",
    "Вырожденный и не нилькотентный оператор $ \\mathcal{A \\in V} (V, V) $ является прямой суммой нильпотентного и обратимого операторов, причём это разложение единственно.\n",
    "\n",
    "### Доказательство\n",
    "\n",
    "Пусть $ N_k = \\ker \\mathcal A^k, \\space T_k = \\text{im} \\space \\mathcal A^k $  \n",
    "Доказываем, что $ N_1 \\subset N_2 \\subset \\dots, \\space \\exists q: N_q = N_{q + 1} = \\dots $  \n",
    "Потом доказываем, что $ V = N_q \\oplus T_k $ и то, что $ \\mathcal A | N_q $ - нильпотентен, а $ \\mathcal A | T_k $ - обратимый.\n",
    "\n",
    "Доказываем единственность: допускаем, что $ \\exists N, T: V = N \\oplus T, \\space \\mathcal A | N $ - нильпотентный, а $ \\mathcal A | T $ - обратимый. Тогда получается, что $ \\dim N \\leq \\dim N_q, \\space \\dim T \\leq \\dim T_q $, но $ \\dim N + \\dim T = \\dim V = \\dim N_q + \\dim T_q \\Rightarrow N = N_q, T = T_q $\n",
    "\n",
    "Сложна, необходимо прочитать учебник и понять."
   ]
  }
 ],
 "metadata": {
  "kernelspec": {
   "display_name": "Python 3",
   "language": "python",
   "name": "python3"
  },
  "language_info": {
   "codemirror_mode": {
    "name": "ipython",
    "version": 3
   },
   "file_extension": ".py",
   "mimetype": "text/x-python",
   "name": "python",
   "nbconvert_exporter": "python",
   "pygments_lexer": "ipython3",
   "version": "3.7.4"
  }
 },
 "nbformat": 4,
 "nbformat_minor": 4
}
