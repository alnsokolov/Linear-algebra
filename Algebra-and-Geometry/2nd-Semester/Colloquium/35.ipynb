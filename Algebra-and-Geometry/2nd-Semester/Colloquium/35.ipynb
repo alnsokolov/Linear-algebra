{
 "cells": [
  {
   "cell_type": "markdown",
   "metadata": {},
   "source": [
    "# 35. Теорема Гамильтона-Кэли"
   ]
  },
  {
   "cell_type": "markdown",
   "metadata": {},
   "source": [
    "### Теорема 92.4\n",
    "\n",
    "Линейны оператор, действующий в комплексном (или вещественном) пространстве является корнем своего характеристического многочлена.\n",
    "\n",
    "### Доказательство\n",
    "\n",
    "Докажем сначала для комплексного пространаства. Берём рандомный вектор $ x $, раскладываем его по корневым подпространствам - $ x = x_1 + \\dots + x_p $. Далее домножаем слева все векторы на $ f(\\mathcal A) $. Получаем $ f(\\mathcal A) x_j = (\\mathcal{\\lambda_1I - A})^{m_1} \\dots (\\mathcal{\\lambda_jI - A})^{m_j} \\dots (\\mathcal{\\lambda_pI - A})^{m_p} = \\theta $, так как множители-матрицы перестановочны, а $ (\\mathcal{\\lambda_jI - A})^{m_j}x_j = x_j(\\mathcal{\\lambda_jI - A})^{m_j} = \\theta \\Rightarrow f(\\mathcal A) = \\mathcal O $.\n",
    "\n",
    "Докажем для веществененого пространства. Рассмотрим вещественное пространство $ V_1 $ и его базис $ e $, в котором оператор имеет матрицу $ A_e $. Также рассмотрим комплексное пространство $ V_2 $ той же размерности и случайный базис $ f $, в котором матрица $ A_e $ является матрицей оператора $ \\mathcal{B \\in L}(V_2, V_2) $, то есть $ A_e = B_f $. Т.к. матрицы совпадают, совпадают и характеристическим многочлены операторов и $ f(A_e) = O $\n",
    "\n",
    "Profit."
   ]
  },
  {
   "cell_type": "markdown",
   "metadata": {},
   "source": [
    "Многочлен $ f(t) \\in P[t] $ нзывается аннулирующим многочленом оператора $ \\mathcal A $, если $ f(\\mathcal A) = \\mathcal O $. Аннулирующий многочлен минимальной степени со старшим коэффицентом единица называется минимальным многочленом для оператора."
   ]
  }
 ],
 "metadata": {
  "kernelspec": {
   "display_name": "Python 3",
   "language": "python",
   "name": "python3"
  },
  "language_info": {
   "codemirror_mode": {
    "name": "ipython",
    "version": 3
   },
   "file_extension": ".py",
   "mimetype": "text/x-python",
   "name": "python",
   "nbconvert_exporter": "python",
   "pygments_lexer": "ipython3",
   "version": "3.7.4"
  }
 },
 "nbformat": 4,
 "nbformat_minor": 4
}
