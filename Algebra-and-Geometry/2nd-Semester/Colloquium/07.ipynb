{
 "cells": [
  {
   "cell_type": "markdown",
   "metadata": {},
   "source": [
    "# 7. Изометрия"
   ]
  },
  {
   "cell_type": "markdown",
   "metadata": {},
   "source": [
    "Два евклидовых (унитарных) пространства называются изометричными или евклидово изоморфными, если существует биекция $ \\varphi: V_1 \\to V_2 $, которая сохраняет законы композиции и скалярное произведение:\n",
    "1. $ \\varphi(x + y) = \\varphi(x) + \\varphi(y), \\space \\forall x, y \\in V_1 $\n",
    "2. $ \\varphi(\\alpha x) = \\alpha \\varphi(x), \\space \\forall x \\in V_1, \\space \\alpha \\in P $\n",
    "3. $ (\\varphi(x), \\varphi(y)) = (x, y), \\space \\forall x, y \\in V_1 $\n",
    "\n",
    "Само отображение при этом называется изометрией или евклидовым изоморфизмом."
   ]
  },
  {
   "cell_type": "markdown",
   "metadata": {},
   "source": [
    "### Теорема 75.1\n",
    "\n",
    "Два евклидовых (унитарных) пространства изометричны тогда и только тогда, когда равны их размерности.\n",
    "\n",
    "### Доказательство\n",
    "\n",
    "Необходимость вытекает из изоморфизма евклидовых (унитарных) пространств как линейных протсранств.\n",
    "\n",
    "Достаточность доказывается как изоморфизм линейных пространств (находим два базиса, строим биекцию, это билет 2) плюс то, что $ (\\varphi(x), \\varphi(y)) = (x, y), \\space \\forall x, y \\in V_1 $\n",
    "\n",
    "Profit."
   ]
  }
 ],
 "metadata": {
  "kernelspec": {
   "display_name": "Python 3",
   "language": "python",
   "name": "python3"
  },
  "language_info": {
   "codemirror_mode": {
    "name": "ipython",
    "version": 3
   },
   "file_extension": ".py",
   "mimetype": "text/x-python",
   "name": "python",
   "nbconvert_exporter": "python",
   "pygments_lexer": "ipython3",
   "version": "3.7.4"
  }
 },
 "nbformat": 4,
 "nbformat_minor": 4
}
