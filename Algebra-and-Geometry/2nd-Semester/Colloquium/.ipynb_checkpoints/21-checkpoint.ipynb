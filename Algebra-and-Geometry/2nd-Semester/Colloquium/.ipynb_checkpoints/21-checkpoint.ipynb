{
 "cells": [
  {
   "cell_type": "markdown",
   "metadata": {},
   "source": [
    "# 21. Обратный оператор. Критерий обратимости."
   ]
  },
  {
   "cell_type": "markdown",
   "metadata": {},
   "source": [
    "Пусть $ \\mathcal{A \\in L}(V, V) $. Отображение $ \\mathcal{A^{-1}}: V \\to V $ называется обратным операторос к оператору $ \\mathcal A $, если\n",
    "\n",
    "$$ \\mathcal{A A^{-1} = A^{-1} A = I} $$"
   ]
  },
  {
   "cell_type": "markdown",
   "metadata": {},
   "source": [
    "### Теорема 83.1\n",
    "\n",
    "Линейный оператор обратим тогда и только тогда, когда он биективен."
   ]
  },
  {
   "cell_type": "markdown",
   "metadata": {},
   "source": [
    "### Теорема 83.2\n",
    "\n",
    "Обратимый оператор единствен."
   ]
  },
  {
   "cell_type": "markdown",
   "metadata": {},
   "source": [
    "### Теоерма 83.3\n",
    "\n",
    "Обратный оператор линеен.\n",
    "\n",
    "### Доказательство\n",
    "\n",
    "Доказываем по определению сюрьективности."
   ]
  },
  {
   "cell_type": "markdown",
   "metadata": {},
   "source": [
    "### Теорема 83.4\n",
    "\n",
    "Оператор обратим тогда и только тогда, когда его матрица в произвольном базисе обратима.\n",
    "\n",
    "### Доказательство\n",
    "\n",
    "Обратимость оператора означает существование оператора $ \\mathcal A^{-1} $, для которого в произвольном базисе $ e \\space\\space A_e ( \\mathcal A^{-1})_e = ( \\mathcal A^{-1})_e A_e = I $, что совпадает с определением обратной матрицы."
   ]
  },
  {
   "cell_type": "markdown",
   "metadata": {},
   "source": [
    "Змечание 1. Попутно доказано, что $ (\\mathcal A^{-1})_e = A^{-1}_e $"
   ]
  },
  {
   "cell_type": "markdown",
   "metadata": {},
   "source": [
    "Оператор $ \\mathcal{A \\in L}(V, V) $ называется невырожденным, если его ядро состоит только из одного вектора, т.е. $ \\ker \\mathcal A = \\{ \\theta \\} $ и вырожденным в противном случае."
   ]
  },
  {
   "cell_type": "markdown",
   "metadata": {},
   "source": [
    "### Теорема 83.5\n",
    "\n",
    "В конечномерном пространстве $ V $ следующие утверждения равносильны: для $ \\mathcal{A \\in L}(V, V) $\n",
    "\n",
    "$$ \\begin{array} \\newline 1) \\space \\mathcal{AA^{-1} = I} & 4) \\space \\text{im} \\space \\mathcal A = V & 6) \\space \\mathcal A \\space \\text{обратим} \\newline 2) \\space \\mathcal{A^{-1}A = I} & 5) \\det A \\neq 0 & 7) \\space \\mathcal A \\space \\text{биективен} \\newline 3) \\space \\mathcal A \\space \\text{не вырожден} \\end{array} $$\n",
    "\n",
    "### Доказательство\n",
    "\n",
    "$ 1 \\Leftrightarrow 2 \\Leftrightarrow 5 \\Leftrightarrow 6 \\Leftrightarrow 7 $. В силу ствойства перемножения матриц, утверждение 1, 2 и 5 эквивалентны своим матричным эквивалентам, где эти вещи эквивалентны. Также это доказывает $ 1 \\Leftrightarrow 6 $. Кроме того, по теореме 83.1, $ 1 \\Leftrightarrow 7 $  \n",
    "Утверждение 1 в силу того, что $ \\det A_e \\neq 0 $ равносильно тому, что $ \\text{rg} \\space \\mathcal A = n $. Отсюда вытекает то, что $ \\text{def} \\space \\mathcal A = 0 $ и, отсюда, $ 1 \\Leftrightarrow 3 \\Leftrightarrow 4 $."
   ]
  },
  {
   "cell_type": "markdown",
   "metadata": {},
   "source": [
    "Замечание 2. Эта теорема на верна для бесконечномерных пространств. Например для $ M_\\infty: \\mathcal{DS = I, SD \\neq I} $."
   ]
  },
  {
   "cell_type": "markdown",
   "metadata": {},
   "source": [
    "### Теорема 83.6\n",
    "\n",
    "Произведение обратимых операторов обратимо, при этом $ \\mathcal{(AB)^{-1} = B^{-1}A^{-1}} $"
   ]
  },
  {
   "cell_type": "markdown",
   "metadata": {},
   "source": [
    "Следствие 1. Умножение линейных операторов является алгебраической операцией на множестве всех обратимых операторов, действущих в $ V $  \n",
    "Следствие 2. Множество всех обратимых линейных операторов из $ \\mathcal L(V, V) $ образует неабелеву мультипликативную группу."
   ]
  }
 ],
 "metadata": {
  "kernelspec": {
   "display_name": "Python 3",
   "language": "python",
   "name": "python3"
  },
  "language_info": {
   "codemirror_mode": {
    "name": "ipython",
    "version": 3
   },
   "file_extension": ".py",
   "mimetype": "text/x-python",
   "name": "python",
   "nbconvert_exporter": "python",
   "pygments_lexer": "ipython3",
   "version": "3.7.4"
  }
 },
 "nbformat": 4,
 "nbformat_minor": 4
}
