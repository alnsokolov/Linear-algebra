{
 "cells": [
  {
   "cell_type": "markdown",
   "metadata": {},
   "source": [
    "# 14. Матрицы линейных операторов. Взаимно-однозначное соотвествие между линейными операторами и матрицами."
   ]
  },
  {
   "cell_type": "markdown",
   "metadata": {},
   "source": [
    "Пусть заданы два базиса: $ e = (e_1, \\dots, e_n), f = (f_1, \\dots, f_m) $ - базисы $ V $ и $ W $ соотвественно. Линенйный оператор однозначно определяется заданием векторов $ \\mathcal A e_1, \\dots, \\mathcal A e_n $ (по теореме 76.1, билет 13). В свою очередь данные вектора однозначно определяются своими координатами в базисе $ f $, то есть коэффицентами разложений\n",
    "\n",
    "$$ \\begin{cases} \\mathcal A e_1 = a_{11}f_1 + a_{21}f_2 + \\dots + a_{m1}f_m \\newline \\mathcal A e_2 = a_{12}f_1 + a_{22}f_2 + \\dots + a_{m2}f_m \\newline \\dots \\newline \\mathcal A e_n = a_{1n}f_1 + a_{2n}f_2 + \\dots + a_{mn}f_m \\end{cases} $$\n",
    "\n",
    "Матрица $$ \\mathcal A_{fe} = \\begin{bmatrix} a_{11} & a_{12} & \\cdots & a_{1n} \\newline a_{21} & a_{22} & \\cdots & a_{2n} \\newline \\vdots & \\vdots & \\ddots & \\vdots \\newline a_{m1} & a_{m2} & \\cdots & a_{mn} \\newline \\end{bmatrix} $$ называется матрицей оператора $ \\mathcal A $ в паре базисов $ e $ и $ f $. Для обозначения этой матрицы также используется символ $ (\\mathcal A)_{fe} $"
   ]
  },
  {
   "cell_type": "markdown",
   "metadata": {},
   "source": [
    "### Теорема 77.1\n",
    "\n",
    "Пусть $ \\dim V = n, \\dim W = m $. Тогда существует взаимно однозначное соответствие между линейными операторами из $ \\mathcal L(V, W) $ и матрицами из $ P^{m \\times n} $\n",
    "\n",
    "### Доказательство\n",
    "\n",
    "Зафиксируем базисы, установим соотвествие между оператором и его матрицей. Докажем, что это соотвествие биективно:\n",
    "1. Оно сюрьективно, так как любая матрица $ B = (b_{ij}) \\in P^{m \\times n} $ является матрицей линейного оператора из $ \\mathcal L(V, W) $, переводящего векторы $ e_j $ в векторы $ \\sum_{i = 1}^m b_{ij} f_i, \\space j = \\overline{1, n}  $. По теореме о существованиии и едиснвенности оператора по заданным образам базисных векторов (теорема 76.1, билет 12), он существует.\n",
    "2. Инъективно, т.к разлиные операторы из $ \\mathcal (V, W) $ не совпадают на базисных векторах и, значит, имеют разные матрицы\n",
    "\n",
    "Profit."
   ]
  }
 ],
 "metadata": {
  "kernelspec": {
   "display_name": "Python 3",
   "language": "python",
   "name": "python3"
  },
  "language_info": {
   "codemirror_mode": {
    "name": "ipython",
    "version": 3
   },
   "file_extension": ".py",
   "mimetype": "text/x-python",
   "name": "python",
   "nbconvert_exporter": "python",
   "pygments_lexer": "ipython3",
   "version": "3.7.4"
  }
 },
 "nbformat": 4,
 "nbformat_minor": 4
}
