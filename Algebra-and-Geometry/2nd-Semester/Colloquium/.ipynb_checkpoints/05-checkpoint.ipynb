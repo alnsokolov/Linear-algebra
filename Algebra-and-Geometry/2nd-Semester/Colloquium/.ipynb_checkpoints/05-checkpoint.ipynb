{
 "cells": [
  {
   "cell_type": "markdown",
   "metadata": {},
   "source": [
    "# 5. Евклидово и унитарное пространства. Неравенство Коши-Буняковского-Шварца"
   ]
  },
  {
   "cell_type": "markdown",
   "metadata": {},
   "source": [
    "Пусть $ V $ - вещественное или комплексное линейное пространство. Отображение $$ (,): V \\times V \\to P $$ называется скалярным произведением, если оно удовлетворяет слудующим аксиомам: $ \\forall x, y, z \\in V, \\space \\forall \\alpha \\in P $\n",
    "1. $ (x, y) = \\overline{(y, x)} $\n",
    "2. $ (\\alpha x, y) = \\alpha (x, y) $\n",
    "3. $ (x + y, z) = (x, z) + (y, z) $\n",
    "4. $ (x, x) \\geq 0 \\forall x \\in V $  \n",
    "   $ (x, x) = 0 \\Leftrightarrow x = \\theta $\n",
    "\n",
    "Число $ (x, y) $ называется скалярным произведением векторов $ x, y $, а вышеприведённые аксиомы являются аксиомами скалярного произведения.\n",
    "\n",
    "Вещественное линейное пространство со скалярным произведением называется евклидовым пространством, а комклексное - унитарным. Обозначение: $ E $ и $ U $ соотвественно"
   ]
  },
  {
   "cell_type": "markdown",
   "metadata": {},
   "source": [
    "Примеры:\n",
    "1. В пространствах $ V_n, n = 1, 2, 3 $ скалярное произведение введено на основании метрицки, имеющейся на плоскости, прямой и в протсранстве. Аксиоматическое определение скалярного произведения говорит о том, что геометрическое определение скалярного произведения не является единственным.\n",
    "2. В арифметическом пространстве скалярное произведение может быть введено следующим образом:\n",
    "   - $ (x, y) = \\sum\\limits_{i = 1}^n x_i y_i, \\space x, y \\in \\mathbb{R}^n $ или $ (x, y) = x^Ty = y^Tx $\n",
    "   - $ (x, y) = \\sum\\limits_{i = 1}^n x_i \\overline{y_i}, \\space x, y \\in \\mathbb{C}^n $ или $ (x, y) = x^T\\overline y = y^Hx $\n",
    "3. В функциональном пространстве $ C[0, 1] $ скалярное произведение функций $ f(x), g(x) $ может быть задано как $$ (f, g) = \\int\\limits_0^1 f(x)g(x)dx $$"
   ]
  },
  {
   "cell_type": "markdown",
   "metadata": {},
   "source": [
    "Простейшие свойства скалярного произведения:\n",
    "1. $ (x, y + z) = (x, y) + (x, z), \\forall x, y, z \\in E(U) $\n",
    "2. $ (x, \\alpha y) = \\overline\\alpha (x, y), \\forall x, y \\in E(U), \\alpha \\in P $\n",
    "3. $ (\\theta, x) = (x, \\theta) = \\theta, \\forall x \\in E(U) $\n",
    "4. $ (x, y) = 0, \\forall y \\in E(U) \\Leftrightarrow x = 0 $\n",
    "5. Люое подпространство евклидова (унитарного) пространства является евклидовым (унитарным) пространством"
   ]
  },
  {
   "cell_type": "markdown",
   "metadata": {},
   "source": [
    "### Теорема 68.1 (неравенство Коши-Буняковского-Шварца)\n",
    "\n",
    "$ \\forall x, y \\in E(U) $\n",
    "$$ |(x, y)|^2 \\leq (x, x)(y, y) $$\n",
    "или, в другой форме\n",
    "$$ \\begin{vmatrix} (x, x) & (x, y) \\newline (y, x) & (y, y) \\end{vmatrix} \\geq 0 $$\n",
    "\n",
    "### Доказательство\n",
    "\n",
    "Допустим $ x \\neq \\theta $. $ 0 \\leq (\\alpha x - y, \\alpha x - y) = |\\alpha|^2(x, x) - \\alpha (x, y) - \\overline\\alpha (y, x) + (y, y) $  \n",
    "Пусть $ \\alpha = \\frac{(y, x)}{(x, x)} $. Имеем $ 0 \\leq \\frac{|(y, x)|^2}{(x, x)^2}(x, x) - \\frac{(y, x)(x, y)}{(x, x)} - \\frac{(x, y)(y, x)}{(x, x)} + (y, y) $, откуда получаем изначальное неравенство."
   ]
  },
  {
   "cell_type": "markdown",
   "metadata": {},
   "source": [
    "### Теорема 68.2\n",
    "\n",
    "Неравенство Коши-Буняковского-Шварца обращается в равенство только тогда, когда $ x, y $ коллинеарны.\n",
    "\n",
    "### Доказательство\n",
    "\n",
    "По неравенству."
   ]
  }
 ],
 "metadata": {
  "kernelspec": {
   "display_name": "Python 3",
   "language": "python",
   "name": "python3"
  },
  "language_info": {
   "codemirror_mode": {
    "name": "ipython",
    "version": 3
   },
   "file_extension": ".py",
   "mimetype": "text/x-python",
   "name": "python",
   "nbconvert_exporter": "python",
   "pygments_lexer": "ipython3",
   "version": "3.7.4"
  }
 },
 "nbformat": 4,
 "nbformat_minor": 4
}
