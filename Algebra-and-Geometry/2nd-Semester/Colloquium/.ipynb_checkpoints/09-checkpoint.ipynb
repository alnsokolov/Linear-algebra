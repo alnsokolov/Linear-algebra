{
 "cells": [
  {
   "cell_type": "markdown",
   "metadata": {},
   "source": [
    "# 9. Ортогональное дополнение. Ортогональная сумма подпространств. Расстояние от вектора до подпространства."
   ]
  },
  {
   "cell_type": "markdown",
   "metadata": {},
   "source": [
    "Прямая сумма ортогональных подпространств называется ортогональной суммой и обозначается как $ K = L + M $  \n",
    "\n",
    "$ L^\\perp = \\{ x | x \\in V, \\space (x, y) = 0, \\space \\forall y \\in L \\} $ - ортогональное дополнение подпространства $ L $."
   ]
  },
  {
   "cell_type": "markdown",
   "metadata": {},
   "source": [
    "### Теорема 72.1\n",
    "\n",
    "Ортогональное дополнение к подпространству является линейным подпространством.\n",
    "\n",
    "### Доказательство\n",
    "\n",
    "$ \\forall x, y \\in L^\\perp, \\space \\forall z \\in L, \\forall \\alpha \\in P: (x, z) + (y, z) = (x + y, z) = 0, \\space (\\alpha x, z) = \\alpha (x, z) = 0 \\Rightarrow L^\\perp \\subset V $\n",
    "\n",
    "Profit."
   ]
  },
  {
   "cell_type": "markdown",
   "metadata": {},
   "source": [
    "### Теорема 72.2\n",
    "\n",
    "Если $ L \\subset E(U)$, то $$ L \\oplus L^\\perp = E(U) $$\n",
    "\n",
    "### Доказательство\n",
    "\n",
    "Берём два ортонормированных базиса - линейного подпространства и ортогонального дополнения - и допускаем, что есть вектор пространства $ f $, который не выражается через них. Применение процесса ортогонализации приводит к ортонормированный системе $ e_1, \\dots, e_n, e_{n + 1} $. Тогда $ e_{n + 1} \\in L^\\perp $, т.к. он ортогонален $ e_1, \\dots, e_k $ - базису $ L $, но и $ f \\in L $ т.к. он ортогонален базису дополнения. Противоречие. Значит $L \\oplus L^\\perp = E(U)  $\n",
    "\n",
    "Profit."
   ]
  },
  {
   "cell_type": "markdown",
   "metadata": {},
   "source": [
    "Следствие. Если $ L $ - линейное подпространство $ E(U) $, то $ \\forall f \\in E(U) \\space \\exists! g \\in L, h \\perp L: \\space f = g + h $"
   ]
  },
  {
   "cell_type": "markdown",
   "metadata": {},
   "source": [
    "Расстояние от вектора - до подпространства - кратчайшее расстояние от ветора до любого вектора подпространства."
   ]
  },
  {
   "cell_type": "markdown",
   "metadata": {},
   "source": [
    "### Теоерема 74.2 (о кратчайшем расстоянии)\n",
    "\n",
    "Расстояние между вектором $ F $ и линейным подпространством $ L $ в евклидовом (унитарном) пространстве равно длине перпендекуляра, опещунного из $ f $ на $ L $. Иначе формулировка выглядит так: $ f = g + h, g \\in L, h \\perp L \\space\\space \\rho(f, L) = |h| $"
   ]
  }
 ],
 "metadata": {
  "kernelspec": {
   "display_name": "Python 3",
   "language": "python",
   "name": "python3"
  },
  "language_info": {
   "codemirror_mode": {
    "name": "ipython",
    "version": 3
   },
   "file_extension": ".py",
   "mimetype": "text/x-python",
   "name": "python",
   "nbconvert_exporter": "python",
   "pygments_lexer": "ipython3",
   "version": "3.7.4"
  }
 },
 "nbformat": 4,
 "nbformat_minor": 4
}
