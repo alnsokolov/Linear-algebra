{
 "cells": [
  {
   "cell_type": "markdown",
   "metadata": {},
   "source": [
    "# 3. Сумма и пересечение линейных подпространств"
   ]
  },
  {
   "cell_type": "markdown",
   "metadata": {},
   "source": [
    "Пусть $ L_1, \\dots, L_k $ - линейные подпространства линейного пространства $ V $. Суммой подпространств называется множество $ L_1 + \\dots + L_k = \\sum_{i = 1}^k L_i = \\{ x = x_1 + \\dots + x_k | x_i \\in L_i \\space i = \\overline{1, k} \\} $"
   ]
  },
  {
   "cell_type": "markdown",
   "metadata": {},
   "source": [
    "Представление вектора $ x $ в виде $ x = x_1 + \\dots, x_k, \\space x_i \\in L_i, \\space i = \\overline{1, k} $ называется разложением этого вектора по подпространствам."
   ]
  },
  {
   "cell_type": "markdown",
   "metadata": {},
   "source": [
    "Пересечением подпространств называется множество $ \\bigcap_{i = 1}^k L_i = \\{ x \\in V | x \\in L_i, \\space i = \\overline{1, k} \\} $. Пересечение подпространств всегда не пусто, так как любые два подпространства содержат вектор $ \\theta $."
   ]
  },
  {
   "cell_type": "markdown",
   "metadata": {},
   "source": [
    "### Теорема 65.1\n",
    "\n",
    "Сумма и пересечение подпространств линейного пространства $ V $ являются линейными подпространствами $ V $."
   ]
  },
  {
   "cell_type": "markdown",
   "metadata": {},
   "source": [
    "### Теорема 65.2\n",
    "\n",
    "Сумма линейных подпространств есть линейная оболочка совокупности базисов слагаемых пространств.\n",
    "\n",
    "### Доказательство\n",
    "\n",
    "Рассмотреть линейную оболочку совокупности базисов и саму сумму подпространств, убедиться в двусторонней вложенности.\n",
    "\n",
    "Следствие. Размерность суммы линейных подпространств равна рангу совокупности базисов слагаемых подпространств."
   ]
  },
  {
   "cell_type": "markdown",
   "metadata": {},
   "source": [
    "### Теорема 65.3\n",
    "\n",
    "$ \\forall L_1, L_2 \\subset V: $\n",
    "$$ \\dim(L_1 + L_2) = \\dim L_1 + \\dim L_2 - \\dim L_1 \\cap L_2 $$\n",
    "\n",
    "### Доказательство\n",
    "\n",
    "Рассмотрим базис $ L_1 \\cap L_2 $, дополним его до $ L_1 $ и $ L_2 $ по отдельности, потом до $ L_1 + L_2 $. Кроме того смотрим на размерности. Profit"
   ]
  }
 ],
 "metadata": {
  "kernelspec": {
   "display_name": "Python 3",
   "language": "python",
   "name": "python3"
  },
  "language_info": {
   "codemirror_mode": {
    "name": "ipython",
    "version": 3
   },
   "file_extension": ".py",
   "mimetype": "text/x-python",
   "name": "python",
   "nbconvert_exporter": "python",
   "pygments_lexer": "ipython3",
   "version": "3.7.4"
  }
 },
 "nbformat": 4,
 "nbformat_minor": 4
}
