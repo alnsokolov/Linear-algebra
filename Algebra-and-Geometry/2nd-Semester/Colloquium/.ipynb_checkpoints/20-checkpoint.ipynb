{
 "cells": [
  {
   "cell_type": "markdown",
   "metadata": {},
   "source": [
    "# 20. Произведение линейных операторов. Матрица произведения."
   ]
  },
  {
   "cell_type": "markdown",
   "metadata": {},
   "source": [
    "Пусть $ V, W, Z $ - линейные пространства над полем $ P $. Произведением линейных операторов $ \\mathcal{A \\in L}(V, W), \\mathcal{B \\in L}(W, Z) $ называется отображение $ \\mathcal{C \\in L}(V, Z) $, выполняемое по правилу $ \\mathcal C x = \\mathcal A (\\mathcal B x) \\forall x \\in V $. Обозначение: $ \\mathcal {AB} $. То есть $ (\\mathcal{AB})x = \\mathcal A (\\mathcal B x) \\forall x \\in V $."
   ]
  },
  {
   "cell_type": "markdown",
   "metadata": {},
   "source": [
    "### Теорема 79.1\n",
    "\n",
    "Если $ \\mathcal{A \\in L}(V, W), \\mathcal{B \\in L}(W, Z) $, то $ \\mathcal{AB \\in L}(V, Z) $.\n",
    "\n",
    "### Доказательство\n",
    "\n",
    "Просто проверяем линейность непосредственно по определению.\n",
    "\n",
    "Profit."
   ]
  },
  {
   "cell_type": "markdown",
   "metadata": {},
   "source": [
    "Произведение операторов имеет смысл не для любой пары операторов, но когда это так, то:\n",
    "1. $ \\mathcal{(AB)C = A(BC)} $ (ассоциативность)\n",
    "2. $ \\mathcal{\\alpha (AB) = (\\alpha A)B = A (\\alpha B)} $\n",
    "3. $ \\mathcal{ (A + B)C = AC + BC } $  \n",
    "   $ \\mathcal{ A(B + C) = AB + AC } $ (дистрибутивность)"
   ]
  },
  {
   "cell_type": "markdown",
   "metadata": {},
   "source": [
    "### Теорема 79.2\n",
    "\n",
    "При умножении линейных операторов их матрицы умножаются, т.е. если $ e, f, g $ -  базисы $ V, W, Z $, то $$ (\\mathcal{BA})_{ge} = B_{gf} A_{fe} $$\n",
    "\n",
    "### Доказательство\n",
    "\n",
    "Записываем равенства для $ \\mathcal{BA} e_j = \\sum_{i = 1}^k c_{ij}g_i $, потом по определению $ \\mathcal{A(Be_j)} $ и приходим к тому, что $ c_ij = \\sum_{s = 1}^m e_{is}g_{sj} $, что ээквивалентно перемножению матриц\n",
    "\n",
    "Profit."
   ]
  }
 ],
 "metadata": {
  "kernelspec": {
   "display_name": "Python 3",
   "language": "python",
   "name": "python3"
  },
  "language_info": {
   "codemirror_mode": {
    "name": "ipython",
    "version": 3
   },
   "file_extension": ".py",
   "mimetype": "text/x-python",
   "name": "python",
   "nbconvert_exporter": "python",
   "pygments_lexer": "ipython3",
   "version": "3.7.4"
  }
 },
 "nbformat": 4,
 "nbformat_minor": 4
}
