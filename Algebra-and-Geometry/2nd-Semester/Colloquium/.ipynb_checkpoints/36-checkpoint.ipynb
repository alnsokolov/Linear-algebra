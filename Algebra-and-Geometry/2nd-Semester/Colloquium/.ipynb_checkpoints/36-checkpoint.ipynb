{
 "cells": [
  {
   "cell_type": "markdown",
   "metadata": {},
   "source": [
    "# 36. Подобные матрицы. Критерий подобия."
   ]
  },
  {
   "cell_type": "markdown",
   "metadata": {},
   "source": [
    "### Теорема 92.3\n",
    "\n",
    "Две матрицы $ A, B \\in \\mathbb{C}^{n \\times n} $ подобны тогда и только тогда, когда их жордановы формы равны.\n",
    "\n",
    "### Доказательство\n",
    "\n",
    "Это следует из того, что квадратные матрица одного порядка над общим полем подобны тогда и только тогда, когда они являются матрицами одного и того же линейного оператора.\n",
    "\n",
    "Profit."
   ]
  }
 ],
 "metadata": {
  "kernelspec": {
   "display_name": "Python 3",
   "language": "python",
   "name": "python3"
  },
  "language_info": {
   "codemirror_mode": {
    "name": "ipython",
    "version": 3
   },
   "file_extension": ".py",
   "mimetype": "text/x-python",
   "name": "python",
   "nbconvert_exporter": "python",
   "pygments_lexer": "ipython3",
   "version": "3.7.4"
  }
 },
 "nbformat": 4,
 "nbformat_minor": 4
}
