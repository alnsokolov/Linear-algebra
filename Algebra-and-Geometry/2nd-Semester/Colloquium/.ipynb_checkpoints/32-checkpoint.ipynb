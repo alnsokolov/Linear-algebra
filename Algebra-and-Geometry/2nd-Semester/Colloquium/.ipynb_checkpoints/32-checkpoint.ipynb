{
 "cells": [
  {
   "cell_type": "markdown",
   "metadata": {},
   "source": [
    "# 32. Расщепление линейного оператора"
   ]
  },
  {
   "cell_type": "markdown",
   "metadata": {},
   "source": [
    "### Теорема 91.1 (о расщеплении линейного оператора)\n",
    "\n",
    "Если $ \\mathcal A $ - линейный оператор, действующий в пространстве $ V $ и\n",
    "\n",
    "$$ f(\\lambda) = (\\lambda_1 - \\lambda)^{m_1} \\dots (\\lambda_p - \\lambda)^{m_p}, \\space \\lambda_i \\neq \\lambda_k (i \\neq k) $$\n",
    "\n",
    "то $ V = K_{\\lambda_1} \\oplus \\dots \\oplus K_{\\lambda_p} $\n",
    "\n",
    "### Доказательство\n",
    "\n",
    "Воспользуемся индукцией по $ p $. Для $ p = 1 $ всё очевидно. Пусть теорема верна для $ p - 1 $ докажем ей для $ p $. Выделим корневое подпространство $ K_{\\lambda_p} $. Тогда $ V = K_{\\lambda_p} \\oplus T_{q} $. Тогда характеристический многочлен оператора $ \\mathcal A | T_q $ имеет вид $ f_2(\\lambda) = (\\lambda_1 - \\lambda)^{m_1} \\dots (\\lambda_{p - 1} - \\lambda)^{m_{p - 1}}, \\space \\lambda_i \\neq \\lambda_k (i \\neq k) $. Оператор $ \\mathcal A | T_q $ имеет $ p - 1 $ собственное значение и для него эта теорема верна. Значит $ T_q = K_{\\lambda_1} \\oplus \\dots \\oplus K_{\\lambda_{p - 1}} \\Rightarrow V = K_{\\lambda_1} \\oplus \\dots \\oplus K_{\\lambda_p} $\n",
    "\n",
    "Profit."
   ]
  }
 ],
 "metadata": {
  "kernelspec": {
   "display_name": "Python 3",
   "language": "python",
   "name": "python3"
  },
  "language_info": {
   "codemirror_mode": {
    "name": "ipython",
    "version": 3
   },
   "file_extension": ".py",
   "mimetype": "text/x-python",
   "name": "python",
   "nbconvert_exporter": "python",
   "pygments_lexer": "ipython3",
   "version": "3.7.4"
  }
 },
 "nbformat": 4,
 "nbformat_minor": 4
}
