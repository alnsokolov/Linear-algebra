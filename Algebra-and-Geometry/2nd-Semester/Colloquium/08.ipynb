{
 "cells": [
  {
   "cell_type": "markdown",
   "metadata": {},
   "source": [
    "# 8. Матрица Грамма. Критерий линейной зависимости."
   ]
  },
  {
   "cell_type": "markdown",
   "metadata": {},
   "source": [
    "Матрицей Грамма сиситемы векторов $ a_1, \\dots, a_k $ евклидова (унитарного) пространства называется матрица  \n",
    "\n",
    "$$ G(a_1, \\dots, a_k) = \\begin{bmatrix} (a_1, a_1) & (a_1, a_2) & \\cdots & (a_1, a_k) \\newline \\vdots & \\vdots & \\ddots & \\vdots \\newline (a_k, a_1) & (a_k, a_2) & \\cdots & (a_k, a_K) \\end{bmatrix} $$  \n",
    "\n",
    "Определитель матрицы Грамма называется определителем Грамма."
   ]
  },
  {
   "cell_type": "markdown",
   "metadata": {},
   "source": [
    "### Теорема 71.1\n",
    "\n",
    "Система векторов евклидова (унитарного) пространства линейно зависима тогда и только тогда, когда определитель Грамма равен 0.\n",
    "\n",
    "### Доказательство\n",
    "\n",
    "Допустим есть линейная комбинация векторов $ y = \\sum_{i = 1}^k \\alpha_k a_k $. Равенство её $ \\theta $ равносильно ортогональности вектора $ y $ любому вектору $ a_i, \\space i = \\overline{1, k} \\Leftrightarrow (y, a_i) = 0, \\space i = \\overline{1, k} $. Представляем данные соотношения в виде системы линейных уравнений $ G^T(a_1, \\dots, a_k) (\\alpha_1, \\dots, \\alpha_k)^T = \\theta $. При этом, т.к. линейная комбинация нетривиальная, это означает, что $ |G(a_1, \\dots, a_k)| = 0 $."
   ]
  },
  {
   "cell_type": "markdown",
   "metadata": {},
   "source": [
    "Матрица называется эрмитовой, если $ A = A^H $ и симметричной (вещественно эрмитовой), если $ A = A^T $."
   ]
  },
  {
   "cell_type": "markdown",
   "metadata": {},
   "source": [
    "### Теорема 71. 2\n",
    "\n",
    "Матрица Грамма системы векторов евклидова (унитарного) пространства эрмитова."
   ]
  },
  {
   "cell_type": "markdown",
   "metadata": {},
   "source": [
    "### Теорема 71.3\n",
    "\n",
    "Определитель Грамма линейно независимой системы векторов в евклидовом (унитарном) пространстве положителен.\n",
    "\n",
    "### Доказательство\n",
    "\n",
    "Пусть \n",
    "\n",
    "$$ A = \\begin{bmatrix} a_{11} & a_{12} & \\cdots & a_{1k} \\newline \\vdots & \\vdots & \\ddots & \\vdots \\newline a_{k1} & a_{k2} & \\cdots & a_{kk} \\end{bmatrix} $$\n",
    "\n",
    "Столбцами данной матрицы являются координаты векторов $ a_1, \\dots, a_k $ в базисе $ e_1, \\dots, e_k $. Тогда $ G(a_1, \\dots, a_k) = (A^HA)^T $ и $ |G(a_1, \\dots, a_k)| = |A|^2 \\geq 0 $\n",
    "\n",
    "Profit."
   ]
  }
 ],
 "metadata": {
  "kernelspec": {
   "display_name": "Python 3",
   "language": "python",
   "name": "python3"
  },
  "language_info": {
   "codemirror_mode": {
    "name": "ipython",
    "version": 3
   },
   "file_extension": ".py",
   "mimetype": "text/x-python",
   "name": "python",
   "nbconvert_exporter": "python",
   "pygments_lexer": "ipython3",
   "version": "3.7.4"
  }
 },
 "nbformat": 4,
 "nbformat_minor": 4
}
