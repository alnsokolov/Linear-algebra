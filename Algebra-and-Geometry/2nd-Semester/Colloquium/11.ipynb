{
 "cells": [
  {
   "cell_type": "markdown",
   "metadata": {},
   "source": [
    "# 11. Процесс ортогонализации Грама-Шмидта. QR-разложение матрицы."
   ]
  },
  {
   "cell_type": "markdown",
   "metadata": {},
   "source": [
    "### Процесс ортогонализации Грама-Шмидта\n",
    "\n",
    "Процесс построения ортонормированного базиса $ e_1, \\dots, e_n $ по заданному базису $ f_1, \\dots, f_n $\n",
    "1. (первый шаг) Пологаем $ g_1 = f_1 $. Тогда $ e_1 = g_1 / |g_1| $\n",
    "2. (k-й шаг) Полагаем $ g_k = f_k - \\alpha_1 e_1 - \\dots - \\alpha_{k - 1} e_{k - 1} $, где $ \\alpha_i = (f_k, e_i), \\space i = \\overline{1, k - 1} $. Тогда $ e_k = g_k / |g_k| $\n",
    "\n",
    "Через $ n $ шагов получаем искомый базис $ e_1, \\dots, e_n $."
   ]
  },
  {
   "cell_type": "markdown",
   "metadata": {},
   "source": [
    "Данный процесс, применённый к матрице $ A = [a_1, \\dots, a_n] $, столбцы $ a_1, \\dots, a_n $ которой являются линейно независимыми векторами, описанный в матричной форме, даёт ещё одну факторизацию матрицы.\n",
    "\n",
    "В результате применения данного процесса к слолбцам матрицы, получается ортогональная (унитарная) матрица $ Q = [q_1, \\dots, q_n] $. Сам процесс представляет из себя поледовательное умножение матрицы $ A $ на матрицы элементарных преобразований слева. На $i$-м шаге матрица $A_{i - 1}$, полученная на $ i-1 $ шаге домножится справа на матрицу $$ L_i = \\begin{bmatrix} 1 & 0 & \\cdots & -\\alpha_{1i} & \\cdots & 0 \\newline & 1 & \\cdots & -\\alpha_{2i} & \\cdots & 0 \\newline && \\ddots &&& \\newline &&& 1 & \\cdots & 0 \\newline &&&& \\ddots & \\newline &&&&& 1 \\end{bmatrix} $$\n",
    "\n",
    "Так что весь процесс ортогоналицазии представим в матричной форме:\n",
    "\n",
    "$$ AL_1 \\dots L_n = Q \\space\\space или \\space\\space AL = Q $$\n",
    "\n",
    "Где $ L $ - верхняя треугольная матрица, т.е.\n",
    "\n",
    "$$ A = QR $$\n",
    "\n",
    "где $ R = L^{-1} $ - верхняя треугольная матрица, а $ Q $ - ортогональная.\n",
    "\n",
    "Данное разложение называется $ QR $-разложением матрицы."
   ]
  }
 ],
 "metadata": {
  "kernelspec": {
   "display_name": "Python 3",
   "language": "python",
   "name": "python3"
  },
  "language_info": {
   "codemirror_mode": {
    "name": "ipython",
    "version": 3
   },
   "file_extension": ".py",
   "mimetype": "text/x-python",
   "name": "python",
   "nbconvert_exporter": "python",
   "pygments_lexer": "ipython3",
   "version": "3.7.4"
  }
 },
 "nbformat": 4,
 "nbformat_minor": 4
}
