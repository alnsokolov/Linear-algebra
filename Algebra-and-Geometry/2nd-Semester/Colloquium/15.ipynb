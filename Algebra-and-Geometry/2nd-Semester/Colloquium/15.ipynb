{
 "cells": [
  {
   "cell_type": "markdown",
   "metadata": {},
   "source": [
    "# 15. Линейное пространство линейных операторов и его связь с линейным пространством матриц"
   ]
  },
  {
   "cell_type": "markdown",
   "metadata": {},
   "source": [
    "На множестве $ \\mathcal L (V, W) $ введём операции сложения и умножения на число из $ P $.\n",
    "\n",
    "Суммой линейных операторов $ \\mathcal{A, B} $ называется отображение $ \\mathcal C: V \\to W $, выполняемое по правилу $ \\mathcal C x = \\mathcal A x + \\mathcal B x \\space \\forall x \\in V $. Обозначение: $ \\mathcal{A + B} $. То есть $$ (\\mathcal {A + B}) x = \\mathcal A x + \\mathcal B , \\forall X \\in V $$\n",
    "\n",
    "Произведением линейного оператора $ \\mathcal{A \\in L} (V, W) $ на число $ \\alpha \\in P $ называется  отображение $ \\mathcal C: V \\to W $, выполняеное по правилу $ \\mathcal C x = \\alpha \\mathcal x, \\space \\forall x \\in V $. Обозначение: $ \\alpha \\mathcal A $. Итак, $$ (\\alpha \\mathcal A)x = \\alpha \\mathcal A x, \\forall x \\in V $$"
   ]
  },
  {
   "cell_type": "markdown",
   "metadata": {},
   "source": [
    "### Теорема 78.1\n",
    "\n",
    "$ \\forall \\mathcal{A, B \\in L} (V, W), \\forall \\alpha \\in P $\n",
    "\n",
    "$$ \\mathcal{A + B \\in L}(V, W), \\space \\alpha \\mathcal{A \\in L}(V, W) $$\n",
    "\n",
    "### Доказательство\n",
    "\n",
    "Показать, что $ (\\mathcal{A + B}) (x + y) = (\\mathcal{A + B}) x + (\\mathcal{A + B}) y $ и что $ (\\mathcal{A + B})(\\lambda x) = \\lambda ((\\mathcal{A + B})(x)) \\space \\forall x, y \\in V, \\space \\lambda \\in P $\n",
    "Точно так же доказать, что $ \\alpha \\mathcal{A \\in L}(V, W) $"
   ]
  },
  {
   "cell_type": "markdown",
   "metadata": {},
   "source": [
    "Следствие 1. Сложение операторов и умножение оператора на число являются внутренним и внешним законами композиции на сножестве $ \\mathcal L(V, W) $."
   ]
  },
  {
   "cell_type": "markdown",
   "metadata": {},
   "source": [
    "### Теорема 78.2\n",
    "\n",
    "Множество $ \\mathcal L(V, W) $ - линейное пространство над полем $ P $ относительно введённых выше операций.\n",
    "\n",
    "### Доказательство\n",
    "\n",
    "Достаточно проверить аксиомы линейного пространства, взяв за нулевой элемент линейного пространства оператор $ \\mathcal {O \\in L}(V, W) $, а в качестве противоположново оператору $ \\mathcal A $, отображение $ \\mathcal -A $, выполняемое по правилу $ (\\mathcal{-A})x = -\\mathcal A x, \\space \\forall x \\in P $\n",
    "\n",
    "Profit."
   ]
  },
  {
   "cell_type": "markdown",
   "metadata": {},
   "source": [
    "### Теорема 78.3\n",
    "\n",
    "Если $ \\dim V = n, \\dim W = m $, то линейное пространство $ \\mathcal L(V, W) $ изоморфно протсранству матриц $ P^{m \\times n} $\n",
    "\n",
    "### Доказательство\n",
    "\n",
    "Зафиксируем базисы $ e $ и $ f $ пространств $ V $ и $ W $ соответственно. Построим отображение $ \\varphi: \\mathcal L(V, W) \\to P^{m \\times n} \\space \\varphi(\\mathcal A) = A_{fe} $. Надо, что оно сохраняет законы композиции, т.е что $$ (\\mathcal{A + B})_{fe} = A_{fe} + B_{fe}, \\space \\space (\\alpha \\mathcal A)_{fe} = \\alpha A_{fe} $$ Это легко делается по определению матрицы линейного оператора.\n",
    "\n",
    "Profit."
   ]
  }
 ],
 "metadata": {
  "kernelspec": {
   "display_name": "Python 3",
   "language": "python",
   "name": "python3"
  },
  "language_info": {
   "codemirror_mode": {
    "name": "ipython",
    "version": 3
   },
   "file_extension": ".py",
   "mimetype": "text/x-python",
   "name": "python",
   "nbconvert_exporter": "python",
   "pygments_lexer": "ipython3",
   "version": "3.7.4"
  }
 },
 "nbformat": 4,
 "nbformat_minor": 4
}
