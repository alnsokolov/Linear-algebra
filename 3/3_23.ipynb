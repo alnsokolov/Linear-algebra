{
 "cells": [
  {
   "cell_type": "markdown",
   "metadata": {},
   "source": [
    "# 23. Значения многочлена и корни. Теорема Безу"
   ]
  },
  {
   "cell_type": "markdown",
   "metadata": {},
   "source": [
    "Многочлен $ f(x) $ можно рассмотреть как функцию от переменной $ x $. Если $ f(x) = \\sum_{k = 0}^n a_kx^k $ - многочлен над полем $ P, c $ - некоторое число из поля $ P $, то число $ f(c) = \\sum_{k = 0}^n a_kc^k $ называется значением многочлена $ f(x) $ при $ x = c $.\n",
    "\n",
    "Корнем многочлена $ f(x) $ называется такое число $ c \\in P $ такое, что $ f(c) = 0 $"
   ]
  },
  {
   "cell_type": "markdown",
   "metadata": {},
   "source": [
    "### Теорема Безу\n",
    "\n",
    "Остаток от деления многочлена $ f(x) $ на $ x - c $ равен $ f(c) $.\n",
    "\n",
    "### Доказательство\n",
    "\n",
    "Разделим согласно теореме о делении многочлена $ f(x) $ на $ x - c $. Тогда $ f(x) = (x - c)q(x) + r(x) $, где $ \\deg r < \\deg (x - c) = 1 \\Rightarrow x - c = const $. Рассматривая значения обеих частей этого уравнения при $ x = c $, получим, что $ r = f(c) $"
   ]
  }
 ],
 "metadata": {
  "kernelspec": {
   "display_name": "Python 3",
   "language": "python",
   "name": "python3"
  },
  "language_info": {
   "codemirror_mode": {
    "name": "ipython",
    "version": 3
   },
   "file_extension": ".py",
   "mimetype": "text/x-python",
   "name": "python",
   "nbconvert_exporter": "python",
   "pygments_lexer": "ipython3",
   "version": "3.7.4"
  }
 },
 "nbformat": 4,
 "nbformat_minor": 4
}
