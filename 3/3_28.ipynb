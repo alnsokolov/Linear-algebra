{
 "cells": [
  {
   "cell_type": "markdown",
   "metadata": {},
   "source": [
    "# 28. Формулы Виета. Симметрические многочлены"
   ]
  },
  {
   "cell_type": "markdown",
   "metadata": {},
   "source": [
    "### Формулы Виета\n",
    "\n",
    "Если $ c_1, c_2 \\dots, c_n $ - корни многочлена $ f(z) = \\sum_{k = 0}^n a_kz^k $, то\n",
    "\n",
    "$$\n",
    "\\begin{align}\n",
    "a_{n - 1} / a_n &= -(c_1 + c_2 + \\dots + c_n) \\newline\n",
    "\\cdots \\newline\n",
    "a_{n - k} / a_n &= (-1)^k \\sum_{i_1 < i_2 < \\dots < i_k} c_{i_1}c_{i_2}\\dots c_{i_k} \\newline\n",
    "\\cdots \\newline\n",
    "a_0 / a_n &= (-1)^n c_1c_2 \\dots c_n \\end{align}\n",
    "$$\n",
    "\n",
    "### Доказательство\n",
    "\n",
    "Аналогично 25 вопросу."
   ]
  },
  {
   "cell_type": "markdown",
   "metadata": {},
   "source": [
    "Формулы Виета примечательны тем, что их правые части представляют собой такие многочлены от переменных $ c_1, c_2, \\dots, c_n $, которые не меняются ни при какой перестановке корней $ c_1, \\dots, c_n $. Такие многочлены называются симметрическими многочленами. Следующие $ n $ симетрических многочленов от $ n $ неизвестных называются элементарными симметрическими многочленами:\n",
    "\n",
    "$$\n",
    "\\begin{align}\n",
    "\\sigma_1 &= x_1 + x_2 + \\dots + x_n \\newline\n",
    "\\dots \\newline\n",
    "\\sigma_{n - k} &= \\sum_{i_1 < \\dots < i_k} x_{i_1}x_{i_2}\\dots x_{i_k} \\newline\n",
    "\\dots \\newline\n",
    "\\sigma_n &= x_1x_2\\dots x_n\n",
    "\\end{align}\n",
    "$$"
   ]
  }
 ],
 "metadata": {
  "kernelspec": {
   "display_name": "Python 3",
   "language": "python",
   "name": "python3"
  },
  "language_info": {
   "codemirror_mode": {
    "name": "ipython",
    "version": 3
   },
   "file_extension": ".py",
   "mimetype": "text/x-python",
   "name": "python",
   "nbconvert_exporter": "python",
   "pygments_lexer": "ipython3",
   "version": "3.7.4"
  }
 },
 "nbformat": 4,
 "nbformat_minor": 4
}
