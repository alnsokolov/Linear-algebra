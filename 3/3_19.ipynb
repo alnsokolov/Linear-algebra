{
 "cells": [
  {
   "cell_type": "markdown",
   "metadata": {},
   "source": [
    "# 19. Извлечение корня из комплексного числа\n",
    "\n",
    "Пусть $ n \\in \\mathbb{N} $. Корнем $n$-й степени из комплексного числа $ z $ называется число $ \\alpha \\in \\mathbb{C} $ такое, что $ \\alpha^n = z $. Очевидно, что для $ z = 0 $ существует лишь один корень $n$-й степени, равный нулю."
   ]
  },
  {
   "cell_type": "markdown",
   "metadata": {},
   "source": [
    "### Теорема 1\n",
    "\n",
    "Для ненулевого числа $ z = r (cos \\space \\varphi + i \\space sin \\space \\varphi) $ существует ровно $ n $ различных корней $ \\alpha_1, \\alpha_2, \\dots, \\alpha_n $ $n$-й степени: $$ \\alpha_k = \\sqrt[n]{r} = \\left( cos \\frac{\\varphi + 2 \\pi k}{n} + i \\space sin \\frac{\\varphi + 2 \\pi k}{n} \\right), \\space\\space k = \\overline{0, n - 1} $$\n",
    "\n",
    "### Доказательство\n",
    "\n",
    "Пусть $ \\alpha $ - корень $n$-1 степени из числа $ z $ и $ \\alpha = \\rho(cos \\space \\theta + i \\space sin \\space \\theta) $. Тогда $ \\alpha^n = z $ или, в силу формулы Муавра $ \\rho^n(cos \\space n\\theta + i \\space sin \\space n\\theta) = r (cos \\space \\varphi + i \\space sin \\space \\varphi) $. Согласно свойствам тригонометрической формы, это означает, что \n",
    "\n",
    "$$ \\rho^n = r, \\space\\space\\space\\space n\\theta = \\varphi + 2 \\pi k, \\space k \\in \\mathbb{Z} $$\n",
    "\n",
    "\n",
    "Так как $ \\rho > 0, r > 0 $, то существует единственный корень $n$-й степени из положительного числа $ r $ - арифметический корень $ \\rho = \\sqrt[n]{r} $. Таким образом число $ \\alpha = \\rho(cos \\space \\theta + i \\space sin \\space \\theta) $ является корнем $n$-й степени числа $ z $ тогда и только тогда, когда \n",
    "\n",
    "$$ \\rho = \\sqrt[n]{r}, \\space\\space\\space\\space \\theta = \\frac{\\varphi + 2 \\pi k}{n}, \\space k \\in \\mathbb{Z}, $$\n",
    "\n",
    "т.е. числа $ \\alpha_k = \\sqrt[n]{r} = \\left( cos \\frac{\\varphi + 2 \\pi k}{n} + i \\space sin \\frac{\\varphi + 2 \\pi k}{n} \\right), k \\in \\mathbb{Z} $, и только они, являются корнями $n$-й степени из числа $ z $. Числа $ \\alpha_k $ для $ k = \\overline{0, n - 1} $ различны, т.к. их аргументы отличаются самое большее на $ \\frac{2 \\pi (n - 1)}{n} < 2 \\pi $. Числа $ \\alpha_n $ при $ k \\geqslant n $ совпадают с одним из $ \\alpha_1, \\alpha_2, \\dots, \\alpha_n $, т.к. если $ k = nq + r, 0 \\leqslant r \\leqslant n - 1 $, то \n",
    "\n",
    "$$ \\frac{\\varphi + 2 \\pi k}{n} = \\frac{\\varphi + 2 \\pi nq + 2\\pi r}{n} = \\frac{\\varphi + 2 \\pi r}{n} + 2\\pi q, \\space q \\in \\mathbb{Z} $$\n",
    "\n",
    "Следовательно $ \\alpha_k = \\alpha_r $"
   ]
  }
 ],
 "metadata": {
  "kernelspec": {
   "display_name": "Python 3",
   "language": "python",
   "name": "python3"
  },
  "language_info": {
   "codemirror_mode": {
    "name": "ipython",
    "version": 3
   },
   "file_extension": ".py",
   "mimetype": "text/x-python",
   "name": "python",
   "nbconvert_exporter": "python",
   "pygments_lexer": "ipython3",
   "version": "3.7.4"
  }
 },
 "nbformat": 4,
 "nbformat_minor": 4
}
