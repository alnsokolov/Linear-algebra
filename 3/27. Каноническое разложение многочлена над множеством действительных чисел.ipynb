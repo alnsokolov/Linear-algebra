{
 "cells": [
  {
   "cell_type": "markdown",
   "metadata": {},
   "source": [
    "# 27. Каноническое разложение многочлена над множеством действительных чисел"
   ]
  },
  {
   "cell_type": "markdown",
   "metadata": {},
   "source": [
    "### Теорема о каноническом разложении многочлена над полем $ \\mathbb{R} $"
   ]
  },
  {
   "cell_type": "markdown",
   "metadata": {},
   "source": [
    "Для любого многочлена $ f(x) = \\sum_{k = 0}^n a_kx^k \\in \\mathbb{R}[x] $ степени $ n \\geqslant 1 $ существую числа $ c_1, c_2, \\dots, c_r \\in \\mathbb{R} $, где $ c_i \\neq c_j $ при $ i \\neq j $; числа $ p_1, q_1, \\dots, p_s, q_s \\in \\mathbb{R} $, где $ (p_i, q_i) \\neq (p_j, q_j) $ при $ i \\neq j $; числа $ k_1, \\dots, k_r \\in \\mathbb{N} $ и $ l_1, \\dots, l_s \\in \\mathbb{N} $, где $ \\sum_{i = 1}^r k_i + 2\\sum_{j = 1}^s l_j = n $, такие что\n",
    "\n",
    "$$ f(n) = a_n \\prod_{i = 1}^r(x - c_i)^{k_i} \\prod_{j = 1}^s (s^s + p_jx + q_j)^{l_j} $$\n",
    "\n",
    "### Доказательство\n",
    "\n",
    "$ \\dots $"
   ]
  }
 ],
 "metadata": {
  "kernelspec": {
   "display_name": "Python 3",
   "language": "python",
   "name": "python3"
  },
  "language_info": {
   "codemirror_mode": {
    "name": "ipython",
    "version": 3
   },
   "file_extension": ".py",
   "mimetype": "text/x-python",
   "name": "python",
   "nbconvert_exporter": "python",
   "pygments_lexer": "ipython3",
   "version": "3.7.4"
  }
 },
 "nbformat": 4,
 "nbformat_minor": 4
}
