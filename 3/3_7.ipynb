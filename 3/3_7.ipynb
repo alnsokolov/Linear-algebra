{
 "cells": [
  {
   "cell_type": "markdown",
   "metadata": {},
   "source": [
    "# 7. Конечные группы. Теорема Лагранжа"
   ]
  },
  {
   "cell_type": "markdown",
   "metadata": {},
   "source": [
    "### Коннечная группа\n",
    "\n",
    "Группа с конечным числом элементов называется конечной группой. Число элементов такой группы называется её порядком и обозначается символом $ card \\space G $. Бесконечную группу называют группой бесконечного порядка."
   ]
  },
  {
   "cell_type": "markdown",
   "metadata": {},
   "source": [
    "### Теорема Лагранжа\n",
    "\n",
    "Во всякой конечной группе порядок её подгруппы является делителем порядка самой группы.\n",
    "\n",
    "### Доказательство\n",
    "\n",
    "Пусть $ card \\space G - n, card \\space H = k $. Рассмотрим левосторонне разложение группы $ G $ по подгруппе $ H $. Оно состоит из всех левых смежных элементов классов $ aH, a \\in G $. Каждый класс $ aH $ состоит из всех элементов $ ah $, где $ h \\in H $. Все элементы $ ah $ различны (так как $ ah_1 = ah_2 \\Rightarrow a^{-1}ah_1 = a^{-1}ah_2 \\Rightarrow h_1 = h_2 $), поэтому каждый класс $ aH $ состоит ровно из $ k $ элементов. Таким образом, количество всех элементов группы $ G $ равно $ mk $, т.е. $ n = mk $"
   ]
  }
 ],
 "metadata": {
  "kernelspec": {
   "display_name": "Python 3",
   "language": "python",
   "name": "python3"
  },
  "language_info": {
   "codemirror_mode": {
    "name": "ipython",
    "version": 3
   },
   "file_extension": ".py",
   "mimetype": "text/x-python",
   "name": "python",
   "nbconvert_exporter": "python",
   "pygments_lexer": "ipython3",
   "version": "3.7.4"
  }
 },
 "nbformat": 4,
 "nbformat_minor": 4
}
