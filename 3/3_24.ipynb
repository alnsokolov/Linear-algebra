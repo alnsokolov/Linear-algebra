{
 "cells": [
  {
   "cell_type": "markdown",
   "metadata": {},
   "source": [
    "# 24. Многочлены как формальные выражения и как функция. Эквивалентность двух определений равенства многочленов"
   ]
  },
  {
   "cell_type": "markdown",
   "metadata": {},
   "source": [
    "Аглебраическое представление многочлена и равенство многочленов как алгебраических выражений:\n",
    "\n",
    "$$ \\begin{align}\n",
    "f(x) &= a_0 + a_1 x + \\dots + a_{n - 1} x^{n - 1} + a_n x^n \\newline\n",
    "\\varphi(x) &= b_0 + b_1 x + \\dots + b_{n - 1} x^{n - 1} + b_m x^m\n",
    "\\end{align} $$\n",
    "\n",
    "$ f(x) = g(x) $, если $ \\deg f = n = \\deg g = m $ и $ a_i = b_i, \\space i = \\overline{0, n} $"
   ]
  },
  {
   "cell_type": "markdown",
   "metadata": {},
   "source": [
    "Функциональное определение многочлена и равенство многочленов как алгебраических выражений:\n",
    "\n",
    "$$ \\begin{align}\n",
    "f(x) &= a_0 + a_1 x + \\dots + a_{n - 1} x^{n - 1} + a_n x^n \\newline\n",
    "\\varphi(x) &= b_0 + b_1 x + \\dots + b_{n - 1} x^{n - 1} + b_m x^m\n",
    "\\end{align} $$\n",
    "\n",
    "$ f(x) = g(x) $, если $ \\forall x \\in P \\space f(x) = g(x) $"
   ]
  },
  {
   "cell_type": "markdown",
   "metadata": {},
   "source": [
    "### Теорема 1\n",
    "\n",
    "Алгебраическое и функциональное определения равенства двух многочленов эквивалентны.\n",
    "\n",
    "### Доказательство\n",
    "\n",
    "Докажем, что если верно алгебраическое определение, то верно и функциональное. Пусть заданы алгебраические многочлены $ f(x), \\varphi(x) $ и функции, им соответствующие - $ f'(x), \\varphi'(x) $  и многочлены равны. Следовательно\n",
    "\n",
    "$ \\begin{align}\n",
    "f(x) &= a_0 + a_1 x + \\dots + a_{n - 1} x^{n - 1} + a_n x^n \\newline\n",
    "\\varphi(x) &= a_0 + a_1 x + \\dots + a_{n - 1} x^{n - 1} + a_n x^n\n",
    "\\end{align} $ т.к. $ n = m $ и $ a_i = b_i, i = \\overline{0, n} $\n",
    "\n",
    "Значит $ \\forall c \\in P, f'(c) = a_0 + a_1 c + \\dots + a_{n - 1} c^{n - 1} + a_n c^n, \\space\\space \\varphi'(c) = a_0 + a_1 c + \\dots + a_{n - 1} c^{n - 1} + a_n c^n \\Rightarrow f'(x) = \\varphi'(x) $\n",
    "\n",
    "Теперь докажем, что если верно функциональное определение, то верно и алгебраическое:\n",
    "\n",
    "$ h(x) = f'(x) - \\varphi(x) = 0 \\forall x \\in P $\n",
    "\n",
    "Любое число является корнем $ h(x) \\Rightarrow h(x) $ - нулевой многочлен $ \\Rightarrow $ многочлены $ f(x) $ и $ \\varphi(x) $ совпадают."
   ]
  }
 ],
 "metadata": {
  "kernelspec": {
   "display_name": "Python 3",
   "language": "python",
   "name": "python3"
  },
  "language_info": {
   "codemirror_mode": {
    "name": "ipython",
    "version": 3
   },
   "file_extension": ".py",
   "mimetype": "text/x-python",
   "name": "python",
   "nbconvert_exporter": "python",
   "pygments_lexer": "ipython3",
   "version": "3.7.4"
  }
 },
 "nbformat": 4,
 "nbformat_minor": 4
}
