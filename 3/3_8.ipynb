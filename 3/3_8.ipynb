{
 "cells": [
  {
   "cell_type": "markdown",
   "metadata": {},
   "source": [
    "# 8. Степени элемента в группе. Циклические группы. Подгруппы циклической группы"
   ]
  },
  {
   "cell_type": "markdown",
   "metadata": {},
   "source": [
    "### Циклическая группа\n",
    "\n",
    "Пусть $ a $ - элемент группы $ G, n \\in \\mathbb{Z} $. Определим $n$-ю степень элемента $ a $ следующим образом:  \n",
    "\n",
    "$$ a^n = \\begin{cases} \\underset{n}{\\underbrace{aa\\dots a}}, & n > 0 \\newline 1, & n = 0 \\newline (a^{-1})^m, & m = -n, n < 0 \\end{cases} $$\n",
    "\n",
    "Так как при $ m > 0 $ имеем $ (a^{-1})^ma^m = 1 $, то из вышеприведённого равенства следует, что  \n",
    "\n",
    "$$ (*) \\space\\space\\space\\space\\space\\space\\space\\space a^{-m} = (a^{-1})^m = (a^m)^{-1} $$\n",
    "\n",
    "В аддитивной группе вместо степени элемента говорят о кратности элемента $ a $ и обозначают символом $ na $ю\n",
    "\n",
    "Нетрудно показать, что $ \\forall n, m \\in \\mathbb{Z} $ $$ (**) \\space\\space\\space\\space\\space\\space\\space\\space \\begin{align} a^na^m = a^{n + m} \\newline (a^n)^m = a^{nm} \\end{align} $$"
   ]
  },
  {
   "cell_type": "markdown",
   "metadata": {},
   "source": [
    "### Теорема 1\n",
    "\n",
    "Множество $ \\{a\\} $ всех целых степеней элемента группы $ G $ образует абелеву группу.\n",
    "\n",
    "### Доказательство\n",
    "\n",
    "Достаточно показать, что $ \\{a\\} $ - абелева подгруппа группы $ G $. Это следует из теоремы о подгруппах и из уравнений $(*)$ и $(**)$"
   ]
  },
  {
   "cell_type": "markdown",
   "metadata": {},
   "source": [
    "Группа $ \\{a\\} $ называется циклической группой, порождённой элементом $ a $. При этом элемент $ a $ называется образующим элементом группы $ \\{a\\} $."
   ]
  },
  {
   "cell_type": "markdown",
   "metadata": {},
   "source": [
    "### Теорема 2\n",
    "\n",
    "Любая подгруппа циклической группы $ \\{ a \\} $ тоже является циклической.\n",
    "\n",
    "### Доказательство\n",
    "\n",
    "Пусть $ H $ - подгруппа циклической группы $ \\{ a \\} $, т.е. $ H $ состоит из некоторых целых степеней элемента $ a: H = \\{ a^{k_1}, a^{k_2}, \\dots \\} $. Пусть далее $ m $ - наименьшее целое положительное число среди $ k_1, k_2, \\dots $. Очевидно, что $ H $ содержит все элементы вида $ a^{km} $, где $ k \\in \\mathbb{Z} $. Докажем, что в $ H $ не может быть других целых степеней $ a $. пусть $ a^n \\in H, n = mk + r $, где $ m, r \\in \\mathbb{Z}, 0 \\leqslant r < m $. Тогда $ a^r = a^na^{-mk} $. Т.к. $ a^n \\in \\mathbb{H}, a^{-mk} \\in H $, то $ a^r \\in H $. Но это противоречит тому, что $ m $ - минимальная моложительная степень $ a $, содержащаяся в $ H $."
   ]
  }
 ],
 "metadata": {
  "kernelspec": {
   "display_name": "Python 3",
   "language": "python",
   "name": "python3"
  },
  "language_info": {
   "codemirror_mode": {
    "name": "ipython",
    "version": 3
   },
   "file_extension": ".py",
   "mimetype": "text/x-python",
   "name": "python",
   "nbconvert_exporter": "python",
   "pygments_lexer": "ipython3",
   "version": "3.7.4"
  }
 },
 "nbformat": 4,
 "nbformat_minor": 4
}
