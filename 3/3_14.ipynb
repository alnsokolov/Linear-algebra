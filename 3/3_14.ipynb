{
 "cells": [
  {
   "cell_type": "markdown",
   "metadata": {},
   "source": [
    "# 14. Кольцо вычетов. Поле вычетов по простому модулю"
   ]
  },
  {
   "cell_type": "markdown",
   "metadata": {},
   "source": [
    "## Кольцо вычетов по модулю $ p $"
   ]
  },
  {
   "cell_type": "markdown",
   "metadata": {},
   "source": [
    "Рассмотрим аддитивную группу $ \\mathbb{Z}_p = \\{ C_0, C_1, \\dots, C_{p - 1} \\} $ вычетов по модулю $ p $. В данном случае операция сложения определена как $ C_n + C_m = C_r, \\space\\space r \\equiv (m + n) (mod \\space p) $. Отметим, что нулём в данном случае выступает класс $ C_0 $, а противоположным классу $ C_m $ - класс $$ -C_m = \\begin{cases} \\space\\space C_0, \\space\\space m = 0 \\newline C_{p - m}, m > 0 \\end{cases} $$\n",
    "Определим на $ \\mathbb{Z}_p $ операцию умножения. Положим $$ C_m C_n = C_r, \\space\\space\\space\\space r = (mn)(mod \\space p), $$\n",
    "т.е. $ C_m C_n $ - класс, в который входит число $ mn $. Эта операция обладает следующими свойствами:\n",
    "1. $ C_n C_m = C_m C_n $\n",
    "2. $ C_m (C_n C_k) = (C_m C_n) C_k $\n",
    "3. сузествует единица $ C_1: C_m C_1 = C_1 C_m = C-m $\n",
    "4. $ (C_m + C_n)C_k = C_m C_k + C_n C_k $\n",
    "5. Если $ p $ - составное число, то в кольце есть делители нуля, т.к. если $ p = mn $, где $ 1 < n < p, 1 < m < p $ то $ C_m, C_n \\in \\mathbb{Z}_p $ и $ C_n C_m = C_0 $\n",
    "\n",
    "Таким образом $ \\mathbb{Z_p} $  - конечное коммутативное кольцо с единицей, которое имеет делители нуля, если $ p $ - составное число. Оно называется кольцом вычетов по модулю $ p $"
   ]
  },
  {
   "cell_type": "markdown",
   "metadata": {},
   "source": [
    "## Поле вычетов по простому модулю"
   ]
  },
  {
   "cell_type": "markdown",
   "metadata": {},
   "source": [
    "Кольцо вычетов $ \\mathbb{Z}_p $ не будет полем, если $ p $ - составное число, т.к. в этом случае кольцо имеет делители нуля."
   ]
  },
  {
   "cell_type": "markdown",
   "metadata": {},
   "source": [
    "### Теорема 1\n",
    "\n",
    "Если $ p $ - простое число и $ p \\geqslant 2 $, то $ \\mathbb{Z}_p $ - поле характеристики $ p $.\n",
    "\n",
    "### Доказательство\n",
    "\n",
    "Так как $ \\mathbb{Z}_p $ - коммутативное кольцо с единицей, достаточно показать, что для любого элемента $ C_m \\in \\mathbb{Z}_p, m \\neq 0 $ кольца существует обратный элемент. Для этого рассмотрим произведения $ C_m C_k, k = \\overline{0, p - 1} $. Этих произведений имеется ровно $ p $. и все они различны. Таким образом, произведения по одному разу пробегают всё множество $ \\mathbb{Z}_p $, и, значит, одно из них совпадает с $ C_1 \\Rightarrow \\forall C_m \\in \\mathbb{Z}_p \\space\\space \\exists C_k: C_m C_k = C_1 \\Rightarrow \\mathbb{Z}_p $ - поле"
   ]
  }
 ],
 "metadata": {
  "kernelspec": {
   "display_name": "Python 3",
   "language": "python",
   "name": "python3"
  },
  "language_info": {
   "codemirror_mode": {
    "name": "ipython",
    "version": 3
   },
   "file_extension": ".py",
   "mimetype": "text/x-python",
   "name": "python",
   "nbconvert_exporter": "python",
   "pygments_lexer": "ipython3",
   "version": "3.7.4"
  }
 },
 "nbformat": 4,
 "nbformat_minor": 4
}
