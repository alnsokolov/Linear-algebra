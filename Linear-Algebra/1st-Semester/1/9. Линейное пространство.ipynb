{
 "cells": [
  {
   "cell_type": "markdown",
   "metadata": {},
   "source": [
    "# 9. Линейное пространство. Определение и примеры. Арифметическое пространство"
   ]
  },
  {
   "cell_type": "markdown",
   "metadata": {},
   "source": [
    "Будем рассматривать множества, наделённые двумя законами композиции: внутренним и внешним. Внутренний закон будем называть сложением, внешний - умножением.\n",
    "\n",
    "Непустое множество $ V $ будем называть линейным пространством, если на нём заданы два закона композиции:\n",
    "\n",
    "внутренний закон, подчинённый аксиомам:\n",
    "1. $ a + b = b + a, \\forall a, b \\in V $ (аксиома коммутативности)\n",
    "2. $ a + (b + c) = (a + b) + c $ (аксиома ассоциативности)\n",
    "3. $ \\exists \\theta \\in V: a + \\theta = a, \\forall a \\in V $\n",
    "4. $ \\forall a \\in V \\exists (-a) \\in V: a + (-a) = \\theta $  \n",
    "\n",
    "внешний закон композиции:\n",
    "5. $ 1 \\cdot a = a, \\forall a \\in V $\n",
    "6. $ (\\alpha \\beta)a = \\alpha(\\beta a), \\forall \\alpha, \\beta \\in \\mathbb{R}, \\forall a \\in V $  \n",
    "\n",
    "и если оба закона связаны между собой аксиомами\n",
    "7. $ (\\alpha + \\beta)a = \\alpha a + \\beta a, \\forall a, b \\in \\mathbb{R}, \\forall a \\in V $\n",
    "8. $ \\alpha (a + b) = \\alpha a + \\alpha b, \\forall \\alpha \\in \\mathbb{R}, \\forall a, b \\in V $"
   ]
  },
  {
   "cell_type": "markdown",
   "metadata": {},
   "source": [
    "Также оно называется векторным пространством."
   ]
  },
  {
   "cell_type": "markdown",
   "metadata": {},
   "source": [
    "Пример: множетво целых чисел относительно операций сложения и умножения."
   ]
  },
  {
   "cell_type": "markdown",
   "metadata": {},
   "source": [
    "### Арифметическое (координатное) пространство $ R^n $\n",
    "\n",
    "Пусть $ R^n $ - множество врех упорядоченных наборов $ n $ дествительных чисел, называемых арифметическими векторами. Если арифметические вектора записать в виде $ a = (a_1, \\dots, a_n) $, то $ R^n = \\{a = (a_1, \\dots, a_n) | a_i \\in \\mathbb{R}, i = \\overline{1, n}\\} $\n",
    "\n",
    "Два вектора $ a, b $ называются равными, если $ a_i =  b_i, i = \\overline{1, n} $.\n",
    "\n",
    "Операции задаются следующим образом: $ a + b = (a_1  + b_1, \\dots, a_n + a_n), \\ \\alpha a = (\\alpha a_1, \\dots, \\alpha a_n), \\alpha \\in \\mathbb{R} $"
   ]
  }
 ],
 "metadata": {
  "kernelspec": {
   "display_name": "Python 3",
   "language": "python",
   "name": "python3"
  },
  "language_info": {
   "codemirror_mode": {
    "name": "ipython",
    "version": 3
   },
   "file_extension": ".py",
   "mimetype": "text/x-python",
   "name": "python",
   "nbconvert_exporter": "python",
   "pygments_lexer": "ipython3",
   "version": "3.7.4"
  }
 },
 "nbformat": 4,
 "nbformat_minor": 4
}
