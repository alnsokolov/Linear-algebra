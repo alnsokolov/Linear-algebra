{
 "cells": [
  {
   "cell_type": "markdown",
   "metadata": {},
   "source": [
    "# 11. Гомоморфизм групп"
   ]
  },
  {
   "cell_type": "markdown",
   "metadata": {},
   "source": [
    "Две группы $ G_1 $ и $ G_2 $ с операциями $ *_1 $ и $ *_2 $ называются гомоморфными, если существует сюрьективное отображение $ \\varphi: G_1 \\to G_2 $, сохраняющее групповую операцию. Само отображение называется гомоморфизмом."
   ]
  },
  {
   "cell_type": "markdown",
   "metadata": {},
   "source": [
    "Простейшие свойства гомоморфных групп:\n",
    "1. Образом единицы является единица, т.е. $ \\varphi (e) = e' $, где $ e, e' $ - единицы групп $ G_1, G_2 $\n",
    "2. образом обратного элемента является обратный элемент, т.е. $ \\varphi (a^{-1}) = (\\varphi(a))^{-1} $"
   ]
  },
  {
   "cell_type": "markdown",
   "metadata": {},
   "source": [
    "Пусть $ \\varphi $ - гомоморфизм группы $ G_1 $ на $ G_2 $. Множество $ ker \\space \\varphi = \\{ a \\in G_1 | \\varphi(a) = e' \\} $ называется ядром гомоморфизма."
   ]
  },
  {
   "cell_type": "markdown",
   "metadata": {},
   "source": [
    "### Теорема 1\n",
    "\n",
    "Нормальные делители группы и только они являются ядрами гомоморфизмов этой группы\n",
    "\n",
    "### Доказательство\n",
    "\n",
    "$ \\dots $"
   ]
  }
 ],
 "metadata": {
  "kernelspec": {
   "display_name": "Python 3",
   "language": "python",
   "name": "python3"
  },
  "language_info": {
   "codemirror_mode": {
    "name": "ipython",
    "version": 3
   },
   "file_extension": ".py",
   "mimetype": "text/x-python",
   "name": "python",
   "nbconvert_exporter": "python",
   "pygments_lexer": "ipython3",
   "version": "3.7.4"
  }
 },
 "nbformat": 4,
 "nbformat_minor": 4
}
