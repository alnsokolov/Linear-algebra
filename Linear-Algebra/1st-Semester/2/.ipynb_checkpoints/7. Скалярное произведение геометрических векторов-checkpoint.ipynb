{
 "cells": [
  {
   "cell_type": "markdown",
   "metadata": {},
   "source": [
    "# 7. Скалярное произведение геометрических векторов. Скалярное произвеение в прямоугольных декартовых координатах"
   ]
  },
  {
   "cell_type": "markdown",
   "metadata": {},
   "source": [
    "Пусть $ a $ и $ b $ - ненулевые векторы. Пусть $ a = \\overrightarrow{OA}, b = \\overrightarrow{OB} $. Углом между векторами $ a, b $ называется наименьший угол между лучами $ [OA) $ и $ [OB) $. Обозначение: $ (\\widehat{a, b}) $\n",
    "\n",
    "Скалярным произведением ненулевых векторов $ a, b $ называеется число равное произведению длин этих векторв на косинус угла между ними. Обозначение: $ (a, b) = |a| \\cdot |b| cos(\\widehat{a, b}) $\n",
    "\n",
    "Обозначим через $ pr_a b $ ортогональную проекцию вектора $ b $ на ось, определённую вектором $ a \\neq 0 $."
   ]
  },
  {
   "cell_type": "markdown",
   "metadata": {},
   "source": [
    "### Теорема 1\n",
    "\n",
    "Если $ a \\neq 0 $, то для любого вектора $ b \\space $  $ \\space (a, b) = |a|(pr_a b) = (a, pr_a b) $"
   ]
  },
  {
   "cell_type": "markdown",
   "metadata": {},
   "source": [
    "### Теорема 2\n",
    "\n",
    "$ \\forall a, b, c \\in V, \\alpha \\in \\mathbb{R} $:\n",
    "\n",
    "1. $ (a, b) = (b, a) $\n",
    "2. $ (a + b, c) = (a, c) + (b, c) $\n",
    "3. $ (\\alpha a, b) = \\alpha (a, b) $\n",
    "4. $ (a, a) \\geqslant 0 $, причём $ (a, a) = 0 \\Leftrightarrow a = 0 $"
   ]
  },
  {
   "cell_type": "markdown",
   "metadata": {},
   "source": [
    "## Скалярное произведение в координатах"
   ]
  },
  {
   "cell_type": "markdown",
   "metadata": {},
   "source": [
    "Свойство линейноти скалярного произведения позволяет перемножать линейные комбинации векторов:\n",
    "\n",
    "$$ (\\sum^k_{i = 1} \\limits \\alpha_i \\space a_i, \\sum^m_{j = 1} \\limits \\beta_j \\space b_j) = \\sum^k_{i = 1} \\limits \\sum^m_{j = 1} \\limits \\alpha_i \\beta_j (a_i, b_j) $$"
   ]
  },
  {
   "cell_type": "markdown",
   "metadata": {},
   "source": [
    "Векторы $ a, b $ назваются ортогональными, если $ (a, b) = 0 $/ В терминах ортогональности векторов, ортонормированность базиса $ e_1, \\dots, e_n, n = 1, 2, 3 $ означает, что $ (e_i, e_j) = \\begin{cases} 0, & i \\neq j \\newline 1, &i = j \\end{cases} $"
   ]
  },
  {
   "cell_type": "markdown",
   "metadata": {},
   "source": [
    "### Теорема 3\n",
    "\n",
    "Скалярное произведение векторов $ a = \\alpha_1 e_1 + \\alpha_2 e_2 + \\alpha_3 e_3, b = \\beta_1 e_1 + \\beta_2 e_2 + \\beta_3 e_3 $ равно сумме попарных произведений координат ($ \\sum^3_{i = 1} \\alpha_i \\beta_i\n",
    "$) тогда и только тогда, когда базис $ e_1, e_2, e_3 $ - ортонормированный"
   ]
  }
 ],
 "metadata": {
  "kernelspec": {
   "display_name": "Python 3",
   "language": "python",
   "name": "python3"
  },
  "language_info": {
   "codemirror_mode": {
    "name": "ipython",
    "version": 3
   },
   "file_extension": ".py",
   "mimetype": "text/x-python",
   "name": "python",
   "nbconvert_exporter": "python",
   "pygments_lexer": "ipython3",
   "version": "3.7.4"
  }
 },
 "nbformat": 4,
 "nbformat_minor": 4
}
