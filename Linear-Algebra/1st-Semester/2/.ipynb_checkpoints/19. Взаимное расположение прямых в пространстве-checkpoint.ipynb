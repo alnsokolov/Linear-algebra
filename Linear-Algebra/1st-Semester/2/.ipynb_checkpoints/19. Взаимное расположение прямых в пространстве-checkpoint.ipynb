{
 "cells": [
  {
   "cell_type": "markdown",
   "metadata": {},
   "source": [
    "# 19. Взаимное расположение прямых в пространстве"
   ]
  },
  {
   "cell_type": "markdown",
   "metadata": {},
   "source": [
    "Пусть каждая из прямых $ l_i, i = 1, 2 $ задана точкой $ M_i(x_i, y_i, z_i) $ и направляющим вектором $ a_i = \\{ m_i, n_i, k_i \\} $ в некоторой афинной системе координат $ Oxyz $. Положим $ b = \\overrightarrow{M_1M_2} $."
   ]
  },
  {
   "cell_type": "markdown",
   "metadata": {},
   "source": [
    "### Теорема 1\n",
    "\n",
    "Прямые $ l_1, l_2 $ лежат в одной плоскости тогда и только тогда, когда  \n",
    "$$ \\begin{vmatrix} x_2 - x_1 & y_2 - y_1 & z_2 - z_1 \\newline m_1 & n_1 & k_1 \\newline m_2 & n_2 & k_2  \\end{vmatrix} = 0 $$\n",
    "\n",
    "### Доказательство\n",
    "\n",
    "Действительно, прямые $ l_1, l_2 $ лежат в одной плоскости тогда и только тогда, когда вектора $ b, l_1, l_2 $ компланарны, что равносильно определютелю, равному нулю."
   ]
  },
  {
   "cell_type": "markdown",
   "metadata": {},
   "source": [
    "### Теорема 2\n",
    "\n",
    "Прямые $ l_1, l_2 $ совпадают тогда и только тогда, когда  \n",
    "$$ rg \\begin{bmatrix} x_2 - x_1 & y_2 - y_1 & z_2 - z_1 \\newline m_1 & n_1 & k_1 \\newline m_2 & n_2 & k_2  \\end{bmatrix} = 1 $$  \n",
    "параллельны и не совпадают тогда и только тогда, когда  \n",
    "$$ rg \\begin{bmatrix} m_1 & n_1 & k_1 \\newline m_2 & n_2 & k_2  \\end{bmatrix} = 1, \\space\\space\\space\\space rg \\begin{bmatrix} x_2 - x_1 & y_2 - y_1 & z_2 - z_1 \\newline m_1 & n_1 & k_1 \\newline m_2 & n_2 & k_2  \\end{bmatrix} = 2 $$  \n",
    "Персекаются тогда и только тогда, когда  \n",
    "$$ rg \\begin{bmatrix} m_1 & n_1 & k_1 \\newline m_2 & n_2 & k_2  \\end{bmatrix} = rg \\begin{bmatrix} x_2 - x_1 & y_2 - y_1 & z_2 - z_1 \\newline m_1 & n_1 & k_1 \\newline m_2 & n_2 & k_2  \\end{bmatrix} = 2 $$\n",
    "\n",
    "### Доказательство\n",
    "\n",
    "Первый случай возможен, когда вектора коллинеарны, в том числе и вектор $ b $.\n",
    "Второй случай возможен, когда вектора компланарны, но не коллинеарны с вектором.\n",
    "Третий случай возможен, когда вектора $ a_1, a_2 $ не коллинеарны, а вектоора $ a_1, a_2, b $ компланарны."
   ]
  }
 ],
 "metadata": {
  "kernelspec": {
   "display_name": "Python 3",
   "language": "python",
   "name": "python3"
  },
  "language_info": {
   "codemirror_mode": {
    "name": "ipython",
    "version": 3
   },
   "file_extension": ".py",
   "mimetype": "text/x-python",
   "name": "python",
   "nbconvert_exporter": "python",
   "pygments_lexer": "ipython3",
   "version": "3.7.4"
  }
 },
 "nbformat": 4,
 "nbformat_minor": 4
}
