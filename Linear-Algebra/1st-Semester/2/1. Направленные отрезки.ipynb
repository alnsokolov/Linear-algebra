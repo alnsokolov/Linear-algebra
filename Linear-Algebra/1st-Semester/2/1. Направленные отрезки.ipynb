{
 "cells": [
  {
   "cell_type": "markdown",
   "metadata": {},
   "source": [
    "# 1. Направленные отрезки. Свободный вектор"
   ]
  },
  {
   "cell_type": "markdown",
   "metadata": {},
   "source": [
    "Упорядоченная пара точек $ (A, B) $ называется направленным отрезком с началом в точке $ A $ и концом в точке $ B $ и обозначается $ \\overrightarrow{AB} $. Направленный отрезок $ \\overrightarrow{AB} $ изображается стрелкой, идущей из его начала в его конец. Направленный отрезок $ \\overrightarrow{AB} $ называют также связанным отрезком, а $ A $ - точкой его приложения. Если точки $ A $ и $ B $ различны, то отрезок называется ненулевым, иначе - нулевым и обозначается $ \\theta_A $"
   ]
  },
  {
   "cell_type": "markdown",
   "metadata": {},
   "source": [
    "Упорядоченный отрезок $ \\overrightarrow{AB} $ называется параллельным прямой $ l $ (плоскости $ P $) либо если он нулевой, либо если прямая $ AB $ совпадает с прямой $ l $ (лежит в плоскости $ P $), либо если она параллельна $ l $ ($ P $).  \n",
    "Обозначается: $ \\overrightarrow{AB} \\space || \\space l, \\overrightarrow{AB} \\space || \\space P $"
   ]
  },
  {
   "cell_type": "markdown",
   "metadata": {},
   "source": [
    "Направленные отрезки $ \\overrightarrow{A_1B_1}, \\overrightarrow{A_2B_2}, \\dots, \\overrightarrow{A_kB_k} $ называются коллинеарными (компланарными), если существует соотвественно прямая (плоскость), которой параллелен каждый из отрезков."
   ]
  },
  {
   "cell_type": "markdown",
   "metadata": {},
   "source": [
    "Длиной направленного отрезка называется длина отрезка $ AB $ и обозначается как $ |\\overrightarrow{AB}| $. Замечание: $ |\\theta| = 0 $"
   ]
  },
  {
   "cell_type": "markdown",
   "metadata": {},
   "source": [
    "Ненулевые направленные отрезки $ \\overrightarrow{AB}, \\overrightarrow{CD} $ называются одинаково направленными (сонаправленными), если лучи $ |AB), |CD) $ имеют одинаковое направление. Исли лучи имеют противоположные направления, то направленные отрезки называются противоположно направленными.  \n",
    "Обозначение: $ \\overrightarrow{AB} \\uparrow \\uparrow \\overrightarrow{CD}, \\overrightarrow{AB} \\uparrow \\downarrow \\overrightarrow{CD} $"
   ]
  },
  {
   "cell_type": "markdown",
   "metadata": {},
   "source": [
    "Направленные отрезки $ \\overrightarrow{AB}, \\overrightarrow{CD} $ называются равными, если середины отрезков $ AD $ и $ BC $ совпадают.  \n",
    "Обозначение $ \\overrightarrow{AB} = \\overrightarrow{CD} $"
   ]
  },
  {
   "cell_type": "markdown",
   "metadata": {},
   "source": [
    "Из свойств параллелограмма следует, что ненулевые направлненные отрезки, не лежащие на одной прямой, равны тогда и только тогда, когда четырёхугольник $ ABDC $ - параллелограм."
   ]
  },
  {
   "cell_type": "markdown",
   "metadata": {},
   "source": [
    "## Теоремы"
   ]
  },
  {
   "cell_type": "markdown",
   "metadata": {},
   "source": [
    "### Теорема 1\n",
    "\n",
    "Направленные отрезки $ \\overrightarrow{AB}, \\overrightarrow{CD} $ равны тогда и только тогда, когда они имеют:  \n",
    "1. Одинаковую длину: $ |\\overrightarrow{AB}| = |\\overrightarrow{CD}| $  \n",
    "И, в случае $ |\\overrightarrow{AB}| \\neq 0 $  \n",
    "2. Одинаковое направление: $ \\overrightarrow{AB} \\uparrow \\uparrow \\overrightarrow{CD} $\n",
    "\n",
    "Утверждение прямо следует из определения равенства и свойств параллелограмма."
   ]
  },
  {
   "cell_type": "markdown",
   "metadata": {},
   "source": [
    "### Теорема 2\n",
    "\n",
    "Для любого направленного отрезка $ \\overrightarrow{AB} $ и любой точки $ C $ существует едиственная точка $ D $, т.ч. $ \\overrightarrow{AB} = \\overrightarrow{CD} $\n",
    "\n",
    "### Доказательство\n",
    "\n",
    "Пусть $ O $ - середина $ BC $. Тогда $ D \\in AO $ и $ D $ симметрична $ A $ относительно $ O $. Точка с данными характеристиками определена однозначно."
   ]
  },
  {
   "cell_type": "markdown",
   "metadata": {},
   "source": [
    "### Теорема 3\n",
    "\n",
    "Отношение равенства направленных отрезков является отношением эквивалентности на множестве всех направленных отрезков.\n",
    "\n",
    "### Доказательство\n",
    "\n",
    "В самом деле, отношение равенства направленных отношений является бинарным отношением, которое обладает следующими свойствами:\n",
    "\n",
    "1. Рефлексивности (направленный отрезок равен самому себе)\n",
    "2. Симметричности, так как справедливы импликации $ |\\overrightarrow{AB}| = |\\overrightarrow{CD}| \\Rightarrow |\\overrightarrow{CD}| = |\\overrightarrow{AB}|, \\space \\space \\overrightarrow{AB} \\uparrow \\uparrow \\overrightarrow{CD} \\Rightarrow \\overrightarrow{CD} \\uparrow \\uparrow \\overrightarrow{AB} $\n",
    "3. Транзитивности, так как равенство длин (т.е. чисел) и сонаправленность направленных отрезков (т.е. лучей) обладают этими свойствами"
   ]
  },
  {
   "cell_type": "markdown",
   "metadata": {},
   "source": [
    "Прямая $ l $ с заданным на ней направлением называется осью. Величиной направленного отрезка $ \\overrightarrow{AB} $ на оси $ l $ называется  \n",
    "\n",
    "$$ (\\overrightarrow{AB}) = \\begin{cases} |\\overrightarrow{AB}|, &\\overrightarrow{AB} \\uparrow \\uparrow l \\\\\\\\ -|\\overrightarrow{AB}|, &\\overrightarrow{AB} \\uparrow \\downarrow l  \\end{cases} $$  \n",
    "\n",
    "Следствия:\n",
    "1. Нулевые направленные отрезки, и только они, имеют нулевую величину\n",
    "2. $ (\\overrightarrow{AB}) = -(\\overrightarrow{BA}) $"
   ]
  },
  {
   "cell_type": "markdown",
   "metadata": {},
   "source": [
    "### Лемма Шаля\n",
    "\n",
    "При любом расположении точек $ A, B, C $ на прямой имеет место быть равенство $ (\\overrightarrow{AB}) = (\\overrightarrow{AC}) + (\\overrightarrow{CB}) $"
   ]
  },
  {
   "cell_type": "markdown",
   "metadata": {},
   "source": [
    "## Свободный вектор\n",
    "\n",
    "Отношение равенства направленных отрезков разбивает всё множество направленных отрезков на непересекающиеся классы эквивалентности. Класс эквивалентности направленных отрезков называется свободным вектором, или просто вектором. Обозначается он строчными латинскими буквами ($ a, b $).\n",
    "\n",
    "Итак, вектор $ a = cl(\\overrightarrow{AB}) $ состоит из всех направленных отрезков, равных $ \\overrightarrow{AB} $. Так как класс эквивалентности порождается любым своим представителем, то его можно задать любым направленным отрезком $ \\overrightarrow{CD} = \\overrightarrow{AB} $, т.е. $ a = cl (\\overrightarrow{CD}) $. В последнем случае говорят, что вектор отложен от точки $ C $. Обычно вместо символа $ a = cl (\\overrightarrow{AB}) $ используется символ $ a = \\overrightarrow{AB} $, который в зависимости от контекста читается как \"вектор $ a $, порождённый направленным отрезком $ \\overrightarrow{AB} $\", либо \"вектор $ a $, отложенный от точки $ A $\".  \n",
    "\n",
    "Свойства длины, коллинеарности и направленности двух векторов соотвествуют этим же свойствам, направленных отрезков, их образующих."
   ]
  }
 ],
 "metadata": {
  "kernelspec": {
   "display_name": "Python 3",
   "language": "python",
   "name": "python3"
  },
  "language_info": {
   "codemirror_mode": {
    "name": "ipython",
    "version": 3
   },
   "file_extension": ".py",
   "mimetype": "text/x-python",
   "name": "python",
   "nbconvert_exporter": "python",
   "pygments_lexer": "ipython3",
   "version": "3.7.4"
  }
 },
 "nbformat": 4,
 "nbformat_minor": 4
}
