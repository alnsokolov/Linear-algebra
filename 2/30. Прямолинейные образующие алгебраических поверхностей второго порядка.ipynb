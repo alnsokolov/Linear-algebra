{
 "cells": [
  {
   "cell_type": "markdown",
   "metadata": {},
   "source": [
    "# 30. Прямолинейные образующие алгебраических поверхностей второго порядка"
   ]
  },
  {
   "cell_type": "markdown",
   "metadata": {},
   "source": [
    "Прямые, все точки которых лежат на поверхности, называются прямолинейными образующими."
   ]
  },
  {
   "cell_type": "markdown",
   "metadata": {},
   "source": [
    "### Теорема 1\n",
    "\n",
    "Через каждую точку однополостного гиперболоида проходят две различные прямые, целиком расположенные на этой поверхности.\n",
    "\n",
    "### Доказательство\n",
    "\n",
    "Рассмотрим прямые $ L, L* $, заданные как линии персечения плоскостей\n",
    "\n",
    "$$ L: \\begin{cases} \\alpha \\left(\\frac{x}{a} - \\frac{z}{c}\\right) = \\beta\\left(1 - \\frac{y}{b}\\right) \\newline \\beta \\left(\\frac{x}{a} + \\frac{z}{c}\\right) = \\alpha\\left(1 + \\frac{y}{b}\\right) \\newline \\alpha^2 + \\beta^2 \\neq 0 \\end{cases} \\space и \\space L*: \\begin{cases} \\gamma \\left(\\frac{x}{a} - \\frac{z}{c}\\right) = \\delta\\left(1 + \\frac{y}{b}\\right) \\newline \\delta\\left(\\frac{x}{a} + \\frac{z}{c}\\right) = \\gamma\\left(1 - \\frac{y}{b}\\right) \\newline \\gamma^2 + \\delta^2 \\neq 0 \\end{cases} $$\n",
    "\n",
    "Прямые $ L, L* $ целиком лежат на поверхности. При этом через каждую точку $ M_0(x_0, y_0, z_0) $ поверхности проходит единственная прямая тз семейства $ L $ и единственная прямая из семейства $ L* $. Эти прямые (т.е. пары чисел $ \\alpha, \\beta $ и $ \\gamma, \\delta $) находятся из однородных систем уравнений\n",
    "\n",
    "$$ \\begin{cases} \\alpha \\left(\\frac{x}{a} - \\frac{z}{c}\\right) = \\beta\\left(1 - \\frac{y}{b}\\right) \\newline \\beta \\left(\\frac{x}{a} + \\frac{z}{c}\\right) = \\alpha\\left(1 + \\frac{y}{b}\\right) \\end{cases} \\space и \\space \\begin{cases} \\gamma \\left(\\frac{x}{a} - \\frac{z}{c}\\right) = \\delta\\left(1 + \\frac{y}{b}\\right) \\newline \\delta \\left(\\frac{x}{a} + \\frac{z}{c}\\right) = \\gamma\\left(1 - \\frac{y}{b}\\right) \\end{cases} $$\n",
    "\n",
    "матрицы которых вырождены и имеют ранг, равный 1. Остаётся добасить, что прямые $ L $ и $ L* $ не совпадают."
   ]
  },
  {
   "cell_type": "markdown",
   "metadata": {},
   "source": [
    "#### Однополостный гиперболоид\n",
    "\n",
    "Он покрыт двумя семействами прямолинейных образующих."
   ]
  },
  {
   "cell_type": "markdown",
   "metadata": {},
   "source": [
    "#### Конус\n",
    "\n",
    "Прямая, проходящая через любую точку $ M_0(x_0, y_0, z_0) $ конуса и проходящая через начало координат, является прямолинейной образующей конуса, так как любая точка этой прямой имеет координаты $ (x_0t, y_0t, z_0t) $"
   ]
  },
  {
   "cell_type": "markdown",
   "metadata": {},
   "source": [
    "#### Гиперболический параболоид\n",
    "\n",
    "Как и однополостный гиперболоид, гиперболический параболоид покрыт двумя различными семействами прямолинейных образующих. Эти же рассуждения, что и в случае однополостного гиперболоида, показывают, что через любую точку $ M_0(x_0, y_0, z_0) $ гиперболического параболоида проходят две различные прямые, целиком лежащие на этой поверхности. Эти прямые определяются плоскостями:\n",
    "\n",
    "$$ L: \\begin{cases} \\alpha z = \\beta \\left(\\frac{x}{a} + \\frac{y}{b}\\right) \\newline 2 \\beta = \\alpha \\left(\\frac{x}{a} - \\frac{y}{b}\\right) \\newline \\alpha^2 + \\beta^2 \\neq 0 \\end{cases} \\space и \\space L*: \\begin{cases} \\gamma z = \\delta \\left(\\frac{x}{a} - \\frac{y}{b}\\right) \\newline 2 \\delta = \\gamma \\left(\\frac{x}{a} + \\frac{y}{b}\\right) \\newline \\gamma^2 + \\delta^2 \\neq 0 \\end{cases} $$\n",
    "\n",
    "Коэффиценты $ \\alpha, \\beta $ и $ \\gamma, \\delta $ находятся из условия, что прямые проходят через точку $ M_0(x_0, y_0, z_0) $"
   ]
  },
  {
   "cell_type": "markdown",
   "metadata": {},
   "source": [
    "#### Цилиндрические поверхности\n",
    "\n",
    "Прямая, прохдящая через точку $ M_0(x_0, y_0, z_0) $ и параллельная оси $ Oz $, является прямолинейной образующей, так как любая точка этой прямой имеет координаты $ (x_0, y_0, z_0 + t) $"
   ]
  }
 ],
 "metadata": {
  "kernelspec": {
   "display_name": "Python 3",
   "language": "python",
   "name": "python3"
  },
  "language_info": {
   "codemirror_mode": {
    "name": "ipython",
    "version": 3
   },
   "file_extension": ".py",
   "mimetype": "text/x-python",
   "name": "python",
   "nbconvert_exporter": "python",
   "pygments_lexer": "ipython3",
   "version": "3.7.4"
  }
 },
 "nbformat": 4,
 "nbformat_minor": 4
}
