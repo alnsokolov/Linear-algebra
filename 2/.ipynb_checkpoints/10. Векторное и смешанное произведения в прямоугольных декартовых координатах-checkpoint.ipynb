{
 "cells": [
  {
   "cell_type": "markdown",
   "metadata": {},
   "source": [
    "# 10. Векторное и смешанное произведения в прямоугольных декартовых координатах"
   ]
  },
  {
   "cell_type": "markdown",
   "metadata": {},
   "source": [
    "Пусть $ e_1, e_2, e_3 $ - ортонормированный базис пространства, и он является правой тройкой.\n",
    "\n",
    "1. Найдём координаты векторного произведения $ [a, b] $ при $ a = \\{ a_1, a_2, a_3 \\}, b = \\{ b_1, b_2, b_3 \\} $ в базисе $ e $. Имеем $ [a, b] = [a_1 e_1 + a_2 e_2 + a_3 e_3, \\space b_1 e_1 + b_2 e_2 + b_3 e_3] = a_1 b_1 [e_1, e_2] + a_1 b_3 [e_1, e_3] + a_2 b_1 [e_2, e_1] + a_2 b_3 [e_2, e_3] + a_3 b_1 [e_3, e_1] + a_3 b_2 [e_3, e_2] $\n",
    "\n",
    "$ [a, b] = \\left | \\begin{align} a_2 & a_3 \\newline b_2 & b_3 \\end{align} \\right | [e_2, e_3]$ $ - \\left | \\begin{align} a_1 & a_3 \\newline b_1 & b_3 \\end{align} \\right | [e_3, e_1] $ $ + \\left | \\begin{align} a_1 & a_2 \\newline b_1 & b_2 \\end{align} \\right | [e_1, e_2] $  \n",
    "\n",
    "Пусть $ [a, b] = x e_1 + y e_2 + z e_3 $. Получаем, что $ x = ([a, b], e_1) = \\left | \\begin{align} a_2 & a_3 \\newline b_2 & b_3 \\end{align} \\right | (e_1, e_2, e_3) $ $ = \\left | \\begin{align} a_2 & a_3 \\newline b_2 & b_3 \\end{align} \\right | $\n",
    "\n",
    "Также находим $ y, z $. Получаем $ [a, b] = \\left | \\begin{align} a_2 & a_3 \\newline b_2 & b_3 \\end{align} \\right | e_1$ $ - \\left | \\begin{align} a_1 & a_3 \\newline b_1 & b_3 \\end{align} \\right | e_2 $ $ + \\left | \\begin{align} a_1 & a_2 \\newline b_1 & b_2 \\end{align} \\right | e_3 $  $ = \\left | \\begin{align} e_1 && e_2 && e_3 \\newline a_1 && a_2 && a_3 \\newline b_1 && b_2 && b_3 \\end{align} \\right | $  "
   ]
  },
  {
   "cell_type": "markdown",
   "metadata": {},
   "source": [
    "2. Из равенств сверху находится непосредственно смешанное умножение: $ (a, b, c) = \\left | \\begin{align} a_1 && a_2 && a_3 \\newline b_1 && b_2 && b_3 \\newline c_1 && c_2 && c_3 \\end{align} \\right | $  "
   ]
  },
  {
   "cell_type": "markdown",
   "metadata": {},
   "source": [
    "Если изначальный базис отрицательно ориентирован, то $ (e_1, e_2, e_3) = -1 $ и все знаки в полученных выражениях следует сменить на противоположные."
   ]
  }
 ],
 "metadata": {
  "kernelspec": {
   "display_name": "Python 3",
   "language": "python",
   "name": "python3"
  },
  "language_info": {
   "codemirror_mode": {
    "name": "ipython",
    "version": 3
   },
   "file_extension": ".py",
   "mimetype": "text/x-python",
   "name": "python",
   "nbconvert_exporter": "python",
   "pygments_lexer": "ipython3",
   "version": "3.7.4"
  }
 },
 "nbformat": 4,
 "nbformat_minor": 4
}
