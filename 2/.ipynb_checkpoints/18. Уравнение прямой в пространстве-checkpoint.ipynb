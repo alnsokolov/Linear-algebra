{
 "cells": [
  {
   "cell_type": "markdown",
   "metadata": {},
   "source": [
    "# 18. Уравнение прямой в пространстве"
   ]
  },
  {
   "cell_type": "markdown",
   "metadata": {},
   "source": [
    "Векторное уравнение для прямой на плоскости остаётся справедливо и в пространстве. Итак, если в пространстве зафиксирован полюс $ O $, то уравнение прямойЮ проходящей через точку $ M_0 (r_0) $, с направляющим вектором имеет вид  \n",
    "$$ r = r_0 + tn, \\space\\space t \\in \\mathbb{R} $$  \n",
    "\n",
    "Пусть в афинной системе координат точка $ M_0 $ имеет координаты $ (x_0, y_0, z_0) $, а вектор $ n = \\{ m, n, k \\} $. Тогда уравнение можно переписать в координатах:  \n",
    "\n",
    "$$ \\begin{cases} x = x_0 + tm \\newline y = y_0 + tn \\newline z = z_0 + tk \\end{cases}, \\space\\space\\space\\space t \\in \\mathbb{R} $$"
   ]
  },
  {
   "cell_type": "markdown",
   "metadata": {},
   "source": [
    "Эти уравнения называются параметрическими уравнениями прямой в пространстве."
   ]
  },
  {
   "cell_type": "markdown",
   "metadata": {},
   "source": [
    "Уравнение, означающее коллинеарность векторов $ r - r_0, a $ может быть записано в терминах пропорциональности координат $ r - r_0 = \\{ x - x_0, y - y_0, z - z_0 \\}, a = \\{m, n, k\\} $ следующим образом:  \n",
    "$$ \\frac{x - x_0}{m} = \\frac{y - y_0}{n} = \\frac{z - z_0}{k} $$  \n",
    "\n",
    "Эти уравнения называются каноническими уравнениями прямой в пространстве. Также говорят лишь о пропорциональности координат векторов $ r - r_0 $ и $ a $. Например, если $ m = 0 $, то уравнения переходят в вид\n",
    "\n",
    "$$ x - x_0 = 0, \\space \\frac{y - y_0}{n} = \\frac{z - z_0}{k} $$"
   ]
  },
  {
   "cell_type": "markdown",
   "metadata": {},
   "source": [
    "Веторное уравнение порождает и другие формы ыекторных уравнений прямой в пространстве. Коллинеарность $ r - r_0 $ и $ a $ равносильна\n",
    "\n",
    "$$ [r - r_0, a] = 0 $$\n",
    "\n",
    "Или, в силу линейности векторного произведения,\n",
    "\n",
    "$ [r, a] = M $, где $ M = [r_0, a] $"
   ]
  },
  {
   "cell_type": "markdown",
   "metadata": {},
   "source": [
    "Каждая прямая может быть представлена как пересечение двух плоскостей. В афинной системе координат $ Oxyz $ прямая $ l $, являющаяся пересечением плоскостей $ \\pi_i: \\space \\space A_i x + B_i y + C_i z + D_i= 0, \\space\\space\\space\\space i = 1, 2 $ определяется системой уравнений  \n",
    "\n",
    "$$ \\begin{cases} A_1 x + B_1 y + C_1 z + D_1 = 0 \\newline A_2 x + B_2 y + C_2 z + D_2 = 0 \\end{cases} $$, где $$ rg \\begin{bmatrix} A_1 & B_1 & C_1 \\newline A_2 & B_2 & C_2 \\end{bmatrix} = 2 $$"
   ]
  },
  {
   "cell_type": "markdown",
   "metadata": {},
   "source": [
    "Систему называют общими уравнениями прямой в пространстве."
   ]
  },
  {
   "cell_type": "markdown",
   "metadata": {},
   "source": [
    "### Теорема 1\n",
    "\n",
    "Если в афинной системе координат $ Oxyz $ прямая $ l $ задана общими уравнениями, то вектор\n",
    "\n",
    "$$ a = \\left\\{ \\begin{vmatrix} B_1 & C_1 \\newline B_2 & C_2 \\end{vmatrix}, -\\begin{vmatrix} A_1 & C_1 \\newline A_2 & C_2 \\end{vmatrix}, \\begin{vmatrix} A_1 & B_1 \\newline A_2 & B_2 \\end{vmatrix} \\right\\} $$  \n",
    "\n",
    "Является направляющим вектором этой прямой\n",
    "\n",
    "### Доказательство\n",
    "\n",
    "$ a \\neq 0 $ в силу условия того, что $ rg A = 2 $. Кроме того, $ a || \\pi_1, a || \\pi_2 \\Rightarrow $ он является направляющим вектором пересечения плоскостей."
   ]
  },
  {
   "cell_type": "markdown",
   "metadata": {},
   "source": [
    "Для запоминания, можно использовать мнемонический определитель\n",
    "\n",
    "$$ a = \\begin{vmatrix} e_1 & e_2 & e_3 \\newline A_1 & B_1 & C_1 \\newline A_2 & B_2 & C_2 \\end{vmatrix} $$"
   ]
  }
 ],
 "metadata": {
  "kernelspec": {
   "display_name": "Python 3",
   "language": "python",
   "name": "python3"
  },
  "language_info": {
   "codemirror_mode": {
    "name": "ipython",
    "version": 3
   },
   "file_extension": ".py",
   "mimetype": "text/x-python",
   "name": "python",
   "nbconvert_exporter": "python",
   "pygments_lexer": "ipython3",
   "version": "3.7.4"
  }
 },
 "nbformat": 4,
 "nbformat_minor": 4
}
