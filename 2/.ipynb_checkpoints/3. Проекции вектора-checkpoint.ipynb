{
 "cells": [
  {
   "cell_type": "markdown",
   "metadata": {},
   "source": [
    "# 3. Проекции вектора. Свойства линейности проекций"
   ]
  },
  {
   "cell_type": "markdown",
   "metadata": {},
   "source": [
    "## Проекции вектора на плоскость"
   ]
  },
  {
   "cell_type": "markdown",
   "metadata": {},
   "source": [
    "Пусть на плоскости $ P $ даны две прямые $ l, L $. Проекцией направленного отрезка $ \\overrightarrow{AB} $ на прямую $ l $ параллельно прямой $ L $ называют такой направленный отрезок $ \\overrightarrow{A_1B_1} $, что $ A_1B_1 \\in l, AA_1 || L, BB_1 || L $. Здесь $ A_1, B_1 $ - проекции точек $ A, B $ на прямую $ l $ параллельно прямой $ L $ соответсвенно.  \n",
    "Обозначение: $ pr^L_l\\overrightarrow{AB} $"
   ]
  },
  {
   "cell_type": "markdown",
   "metadata": {},
   "source": [
    "### Теорема 1\n",
    "\n",
    "Проекции равных направленных отрезков равны.\n",
    "\n",
    "### Доказательство\n",
    "\n",
    "Введём на плоскости систему координат $ \\{O; e_1, e_2\\} $, где $ O = l \\cap L $, $ e_1, e_2 $ - базисы на прямых $ l, L $ соответственно. Далее рассматриваются координаты векторов и всё доказывается."
   ]
  },
  {
   "cell_type": "markdown",
   "metadata": {},
   "source": [
    "Проекцией вектора $ a = \\overrightarrow{AB} $ на прямую $ l $ относительно прямой $ L $ называется вектор, порождённый $ pr^L_l\\overrightarrow{AB} $. Обозначение: $ pr^L_la $"
   ]
  },
  {
   "cell_type": "markdown",
   "metadata": {},
   "source": [
    "### Теорема 2\n",
    "\n",
    "Проекция вектора на прямую $ l $ параллельно прямой $ L $ обладает свойствами линейности:\n",
    "1. $ pr^L_l (a + b) = pr^L_l a + pr^L_l b $\n",
    "2. $ pr^L_l (\\alpha a) = \\alpha \\cdot pr^L_l a $\n",
    "\n",
    "### Доказательство\n",
    "\n",
    "Доказательство тоже проводится рассмотрением координат."
   ]
  },
  {
   "cell_type": "markdown",
   "metadata": {},
   "source": [
    "## Проекция вектора в пространстве"
   ]
  },
  {
   "cell_type": "markdown",
   "metadata": {},
   "source": [
    "Пусть в пространстве заданы плоскость $ \\pi $ и прямая $ l $. Проекцией направленного отрезка $ \\overrightarrow{AB} $ на прямую $ l $ (плоскость $ \\pi $) параллельно плоскости $ \\pi $ (прямой $ l $) называется направленный отрезок $ \\overrightarrow{A_1B_1} $ ($ \\overrightarrow{A_2B_2} $), где $ A_1, B_1 $ ($ A_2, B_2 $) - проеции относительно ... на ... Обозначение: $ pr^{\\pi}_l a $ и $ pr^l_{\\pi} a $ соотвественно. Утвеждение о равенстве проекций и линейности проекций верны также и для проекций в пространстве."
   ]
  },
  {
   "cell_type": "markdown",
   "metadata": {},
   "source": [
    "### Теорема 3\n",
    "\n",
    "На плоскости (в пространстве) величина проекции вектора на ось параллельно прямой (соответственно плокости) обладает свойстом линейности."
   ]
  }
 ],
 "metadata": {
  "kernelspec": {
   "display_name": "Python 3",
   "language": "python",
   "name": "python3"
  },
  "language_info": {
   "codemirror_mode": {
    "name": "ipython",
    "version": 3
   },
   "file_extension": ".py",
   "mimetype": "text/x-python",
   "name": "python",
   "nbconvert_exporter": "python",
   "pygments_lexer": "ipython3",
   "version": "3.7.4"
  }
 },
 "nbformat": 4,
 "nbformat_minor": 4
}
