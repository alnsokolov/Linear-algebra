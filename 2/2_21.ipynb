{
 "cells": [
  {
   "cell_type": "markdown",
   "metadata": {},
   "source": [
    "# 21. Общее уравнение линии всторого порядка на плоскости. Матричная запись уравнения и его кравдратичной части"
   ]
  },
  {
   "cell_type": "markdown",
   "metadata": {},
   "source": [
    "Пусть $ Oxy $ - афинная система координат на плоскости. Алгебраическая линия второго порядка определяется уравнением  \n",
    "\n",
    "$$ F(x, y) = 0 $$  \n",
    "\n",
    "где $ F(x, y) $ - алгебраический многочлен второой степени от переменных $ x, y $ с вещественными коэффиценами. Этот многочлен примято записывать в виде   \n",
    "\n",
    "$$ F(x, y) = a_{11}x^2+ 2a_{12}xy + a^{22}y^2 + 2a_{13}x + 2a_{23}y + a_{33} $$  \n",
    "\n",
    ", где $ a_{11}^2 + a_{12} + a_{22} \\neq 0 $. Таким, линия сторого порядка определяется уравнением  \n",
    "\n",
    "$$ F(x, y) = a_{11}x^2+ 2a_{12}xy + a^{22}y^2 + 2a_{13}x + 2a_{23}y + a_{33} $$ $$ a_{11}^2 + a_{12} + a_{22} \\neq 0 $$  \n",
    "\n",
    "Эьто уравнение называется общим уравнением алгебраической линии второго порядка на плоскости. Группа слагаемых $ a_{11}x^2 + a_{12}xy + a_{22}y^2 $ называетася крадратичной частью уравнения (или группой старших членов), группы $ 2a_{13}x + 2a_{23}y $ - линейной частью, а $ a_{33} $ - свободным членом."
   ]
  },
  {
   "cell_type": "markdown",
   "metadata": {},
   "source": [
    "### Компактная запись общего уравнения\n",
    "\n",
    "Положим\n",
    "\n",
    "$$ A = \\begin{bmatrix} a_{11} & a_{12} \\newline a_{12} & a_{22} \\end{bmatrix} \\space\\space\\space\\space b = \\begin{bmatrix}a_{13} \\newline a_{23}\\end{bmatrix} \\space\\space\\space\\space X = \\begin{bmatrix} x \\newline y \\end{bmatrix} $$\n",
    "\n",
    "Матрица $ A $ называется матрицей крадратичной части. В этих обозначениях уравнение может быть записано как\n",
    "\n",
    "$$ X^TAX + 2b^TX + a_{33} = 0, \\space\\space\\space\\space A = A^{T}, A \\neq 0 $$"
   ]
  }
 ],
 "metadata": {
  "kernelspec": {
   "display_name": "Python 3",
   "language": "python",
   "name": "python3"
  },
  "language_info": {
   "codemirror_mode": {
    "name": "ipython",
    "version": 3
   },
   "file_extension": ".py",
   "mimetype": "text/x-python",
   "name": "python",
   "nbconvert_exporter": "python",
   "pygments_lexer": "ipython3",
   "version": "3.7.4"
  }
 },
 "nbformat": 4,
 "nbformat_minor": 4
}
