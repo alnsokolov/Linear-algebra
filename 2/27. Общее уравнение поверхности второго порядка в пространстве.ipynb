{
 "cells": [
  {
   "cell_type": "markdown",
   "metadata": {},
   "source": [
    "# 27. Общее уравнение поверхности второго порядка в пространстве. Матричная запись общего уравнения и его квадратичной части"
   ]
  },
  {
   "cell_type": "markdown",
   "metadata": {},
   "source": [
    "Под общим уравнение адгебраической поверхности второго порядка в системе координат $ Oxyz $ пространства понимают уравнение вида  \n",
    "\n",
    "$$ a_{11}x^2 + a_{22}y^2 + a_{33}z^2 + 2a^{12}xy + 2a_{13}xz + 2a_{23}^yz + 2b_1x + 2b_2y + 2b_3z + c = 0 $$\n",
    "\n",
    "где не все коэффиценты $ a_{ij} (i, j = \\overline{1, 3}) $ рарны нулю, $ a_{ij} = a_{ji} (i, j = \\overline{1,3}) $"
   ]
  },
  {
   "cell_type": "markdown",
   "metadata": {},
   "source": [
    "Здесь группа членов второго порядка образует квадратичную форму от переменных $ x, y, z $ (или, в векторной терминологии, от радиус-вектора точки $ (x, y, z) $), а группа линейных членов - линейную форму, так что это уравнение является уравнением гиперповерхности второго порядка в евклидовом пространстве $ V_3 $. Обозначения имеют вид:\n",
    "\n",
    "$$ X = (x, y, z)^T, \\space\\space\\space\\space b = (b_1, b_2, b_3)^T, $$  \n",
    "$$ A = \\begin{bmatrix} a_{11} & a_{12} & a_{13} \\newline a_{12} & a_{22} & a_{23} \\newline a_{13} & a_{23} & a_{33} \\end{bmatrix}, \\space\\space\\space\\space B = \\begin{bmatrix} a_{11} & a_{12} & a_{13} & b_1 \\newline a_{12} & a_{22} & a_{23} & b_2 \\newline a_{13} & a_{23} & a_{33} & b_3 \\newline b_1& b_2 & b_3 & b_4 \\end{bmatrix} $$\n",
    "\n",
    "В этих обозначениях общее уравнение может быть записано в компактной форме:\n",
    "\n",
    "$$ X^TAX + 2b^TX + c = 0, A = A^T $$"
   ]
  }
 ],
 "metadata": {
  "kernelspec": {
   "display_name": "Python 3",
   "language": "python",
   "name": "python3"
  },
  "language_info": {
   "codemirror_mode": {
    "name": "ipython",
    "version": 3
   },
   "file_extension": ".py",
   "mimetype": "text/x-python",
   "name": "python",
   "nbconvert_exporter": "python",
   "pygments_lexer": "ipython3",
   "version": "3.7.4"
  }
 },
 "nbformat": 4,
 "nbformat_minor": 4
}
