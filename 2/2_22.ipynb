{
 "cells": [
  {
   "cell_type": "markdown",
   "metadata": {},
   "source": [
    "# 22. Приведённые уравнения линии второго порядка на плоскости. Метод вращений"
   ]
  },
  {
   "cell_type": "markdown",
   "metadata": {},
   "source": [
    "### Теорема 1\n",
    "\n",
    "Общее уравнение линии второго порядка, заданное в прямоугольной декартовой системе коорлинат, переходом к другой прямоугольной декартовой сситеме координат приводится к одному и только одному из слудующих типов уравнений:\n",
    "\n",
    "1. $ \\lambda_1x^2 + \\lambda_2y_2 + a_0 = 0 $, где $ \\lambda_1\\lambda_2 \\neq 0 $  \n",
    "2. $ \\lambda_2y^2 + 2b_0x = 0 $, где $ \\lambda_2b_0 \\neq 0 $  \n",
    "3. $ \\lambda_2y^2 + c_0 = - $, где $ \\lambda_2 \\neq 0 $\n",
    "\n",
    "### Доказательство\n",
    "\n",
    "Пусть $ Oxy $ - прямоугольная декртова система координат и линия $ L $ задана в ней общим уравнением"
   ]
  },
  {
   "cell_type": "markdown",
   "metadata": {},
   "source": [
    "Покажем, что если $ a_{12} \\neq 0 $, то поворотом осей можно привести квадратичную часть уранения к сумме квадратов. Действительно, поворот на угол $ \\varphi $ приводит к новому базису $ e' = eQ $ с матрицей перехода $ Q = \\begin{bmatrix} cos \\space \\varphi & -sin \\space \\varphi \\newline sin \\space \\varphi & cos \\space \\varphi \\end{bmatrix} $. Очевидно, что $ QQ^T = Q^TQ = I $, т.е. $ Q $ - ортогональная матрцаю При переходе к новой системе координат $ \\{); e_1', e_2'\\} $, матрица крадратичной части $ A $ преодразуется в матрицу  \n",
    "\n",
    "$$ A' = \\begin{bmatrix} cos \\space \\varphi & sin \\space \\varphi \\newline -sin \\space \\varphi & cos \\space \\varphi \\end{bmatrix} \\begin{bmatrix} a_{11} & a_{12} \\newline a_{12} & a_{22} \\end{bmatrix} \\begin{bmatrix} cos \\space \\varphi & -sin \\space \\varphi \\newline sin \\space \\varphi & cos \\space \\varphi \\end{bmatrix} $$  \n",
    "\n",
    "При этом  $ a_{12}' = -a_{11} cos \\space \\varphi \\space sin \\space \\varphi - a_{12}sin^2 \\space \\varphi + a_{12}cos^2 \\space \\varphi + a_{22} cos \\space \\varphi \\space sin \\space \\varphi = a_{12}cos \\space 2\\varphi - \\frac{1}{2}(a_{11} - a_{22})sin \\space 2\\varphi $  \n",
    "\n",
    "Если $ ctr \\space 2\\varphi = (a_{11} - a_{22}) / a_{12} $, то $ a_{12}' = 0 $. Следовательно, при повороте осей на такой угол $ \\varphi $, квадратичная часть уравнения преобразуется в сумму квадратов. В новой системе координат $ Ox'y' $ уравнение имеет вид  \n",
    "\n",
    "$$  a_{11}'x'^2 + a_{22}'y'^2 + 2a_{13}'x' + 2a_{23}'y' + a_{33} = 0 $$"
   ]
  },
  {
   "cell_type": "markdown",
   "metadata": {},
   "source": [
    "Далее если $ a_{11}' \\neq 0, a_{22}' \\neq 0 $ при помощи замены $$ x'' = x' + \\frac{a_{13}'}{a_{11}'}, \\space\\space y'' = y' + \\frac{a_{23}'}{a_{22}'} $$ уравнение преобразуется к виду $$ a_{11}x'' + a_{22}'y'' + a_{33}' = 0, \\space\\space\\space\\space a_{11}''a_{22}'' \\neq 0 $$ где $ a_{33}' = a_{33} - \\frac{a_{13}'^2}{a_{11}'^2} - \\frac{a_{23}'^2}{a_{22}'^2} $, т.е. в уравнение типа 1"
   ]
  },
  {
   "cell_type": "markdown",
   "metadata": {},
   "source": [
    "Рассмотрим случаи, когда один из коэффицентов $ a_{11} $ или $ a_{22} $. Если $ a_{11}' = 0, a_{22}' \\neq 0 $, то переносом начала $$ x'' = x', \\space\\space y'' = y' + \\frac{a_{23}'}{a_{22}'} $$ изначальное уравнение преобразуется в $$ a_{22}'y^2 + 2a_{13}'x'' + a_{33}' = 0, \\space\\space a_{22}' \\neq 0 $$ где $ a_{33}' = a_{33} - {a_{23}'}^2 / a_{22}' $\n",
    "\n",
    "Случай $ a_{11}' \\neq 0, a_{22}' = 0 $ сводится к предыдущему переименованием переменных $ x'' = y', \\space\\space y'' = x' $. Если в новом уравнении $ a_{13}' = 0 $, то уравнение относится к типу 2."
   ]
  },
  {
   "cell_type": "markdown",
   "metadata": {},
   "source": [
    "Если в новом уравнении $ a_{13}' \\neq 0 $, то $ 2a_{13}'x'' + a_{33}' = 2a_{13}'(x'' + a_{33}' / (2a_{13}')) $ и пеереносом начала $$ x''' = x'' + a_{33}' / (2a_{13}'), y''' = y $$ уравнение $ a_{22}'y^2 + 2a_{13}'x'' + a_{33}' = 0 $ преобразуется в $$ a_{22}'y'''^2 + 2a_{13}'x''' = 0 $$ которое относится к типу 3."
   ]
  }
 ],
 "metadata": {
  "kernelspec": {
   "display_name": "Python 3",
   "language": "python",
   "name": "python3"
  },
  "language_info": {
   "codemirror_mode": {
    "name": "ipython",
    "version": 3
   },
   "file_extension": ".py",
   "mimetype": "text/x-python",
   "name": "python",
   "nbconvert_exporter": "python",
   "pygments_lexer": "ipython3",
   "version": "3.7.4"
  }
 },
 "nbformat": 4,
 "nbformat_minor": 4
}
