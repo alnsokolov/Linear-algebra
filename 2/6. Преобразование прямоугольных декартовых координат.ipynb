{
 "cells": [
  {
   "cell_type": "markdown",
   "metadata": {},
   "source": [
    "# 6. Преобразование прямоугольных декартовых координат. Ортогональные матрицы"
   ]
  },
  {
   "cell_type": "markdown",
   "metadata": {},
   "source": [
    "## Ортогональная матрица"
   ]
  },
  {
   "cell_type": "markdown",
   "metadata": {},
   "source": [
    "Вещественная матрица $ C $ называется ортогональной, если $ CC^T = C^TC = I $\n",
    "\n",
    "Из определения следует, что:\n",
    "1. $ C \\in \\mathbb{R}^{n\\times n} $\n",
    "2. $ C^{-1} = C^T $\n",
    "3. $ C^{-1} $ - ортогональная матрица\n",
    "4. $ |C| = \\pm 1 $\n",
    "5. Матрица $ C $ ортогональна тогда и только тогда, когад $ \\sum^n_{k = 1} \\limits c_{ik}c_{jk} = \\begin{cases} 1, &i = j \\newline 0, &i \\neq j \\end{cases} \\space \\space $ и $ \\space \\space \\sum^n_{k = 1} \\limits c_{ki}c_{jk} = \\begin{cases} 1, &i = j \\newline 0, &i \\neq j \\end{cases} $\n",
    "6. Произведение ортогональных матриц - ортогональная матрица"
   ]
  },
  {
   "cell_type": "markdown",
   "metadata": {},
   "source": [
    "## Преобразование прямоугольной декартовой системы координат на плоскости"
   ]
  },
  {
   "cell_type": "markdown",
   "metadata": {},
   "source": [
    "Пусть даны прмоугольные декартовы координаты $ \\{ O; e_1, e_2 \\}, \\{ O'; e_1', e_2' \\} $, т.е. $ e = (e_1, e_2), e' = (e_1', e_2') $ - ортонормированные базиссы и матрица перехода $ C = (c_{ij}) \\in \\mathbb{R}^{2 \\times 2} $ ортогональна. Согласно свойству 5 (см. выше), имеем  \n",
    "\n",
    "$$ c^2_{11} + c^2_{12} = 1, \\space \\space c_{11}c_{12} + c_{21}c_{22} = 0, \\space \\space c^2_{12} + c^2_{22} = 1 $$  \n",
    "\n",
    "Из первого равенства следует, что $ \\exists \\varphi: c_{11} = sin \\space \\varphi, c_{21} = cos \\space \\varphi $. Из второго равенства слежует, что $ c_{12} = k \\space sin \\space \\varphi, c_{22} = -k \\space cos \\space \\varphi $. Отсюда из из третьего равенства получаем, что $ k = \\pm 1 $, следовательно\n",
    "\n",
    "$ C = \\begin{bmatrix} cos \\space \\varphi & -sin \\space \\varphi \\newline sin \\space \\varphi & cos \\space \\varphi \\end{bmatrix} $, либо $ C = \\begin{bmatrix} cos \\space \\varphi & sin \\space \\varphi \\newline sin \\space \\varphi & -cos \\space \\varphi \\end{bmatrix} $"
   ]
  },
  {
   "cell_type": "markdown",
   "metadata": {},
   "source": [
    "1. Пусть $ C = \\begin{bmatrix} cos \\space \\varphi & -sin \\space \\varphi \\newline sin \\space \\varphi & cos \\space \\varphi \\end{bmatrix} $. Тогда $ |C| = 1 \\space \\space $ и $ \\space \\space e_1' = cos \\space \\varphi \\cdot e_1 + sin \\space \\varphi \\cdot e_2, \\space e_2' = -sin \\space \\varphi \\cdot e_1 + cos \\space \\varphi \\cdot e_2 $"
   ]
  },
  {
   "cell_type": "markdown",
   "metadata": {},
   "source": [
    "Умножив скалярно обе части этих равенств на $ e_1 $ и $ e_2 $, получим $ (\\widehat{e_1', e_1}) = \\varphi, (\\widehat{e_1', e_2}) = \\frac{\\pi}{2} - \\varphi, (\\widehat{e_2', e_1}) = \\frac{\\pi}{2} + \\varphi, (\\widehat{e_2', e_2}) = \\varphi $"
   ]
  },
  {
   "cell_type": "markdown",
   "metadata": {},
   "source": [
    "Знвчит базисы $ e $ и $ e' $ одинаково ориентированы и системы координат $ \\{ O'; e_1', e_2' \\} $ может быть совмещена с $ \\{ O; e_1, e_2 \\} $ путём переноса начала и повороты на угол $ \\varphi $ вокруг начала. При этом формулы преобразования координат имеют вид  \n",
    "\n",
    "$$ \\begin{cases} x = \\alpha + x' \\space cos \\space \\varphi - y' \\space sin \\space \\varphi \\newline y = \\beta + x' \\space sin \\space \\varphi + y' \\space cos \\space \\varphi  \\end{cases} $$"
   ]
  },
  {
   "cell_type": "markdown",
   "metadata": {},
   "source": [
    "2. Пусть $ C = \\begin{bmatrix} cos \\space \\varphi & sin \\space \\varphi \\newline sin \\space \\varphi & -cos \\space \\varphi \\end{bmatrix} $\n",
    "\n",
    "В этом случае базисы противоположно ориентированы и системы координат $ \\{ O'; e_1', e_2' \\} $ и $ \\{ O; e_1, e_2 \\} $ не могут быть совмещены путём поворота и переноса. После поворота надо выполнить отражение относительно оси $ e_1' $. При этом формулы преобразования координат имеют вид  \n",
    "\n",
    "$$ \\begin{cases} x = \\alpha + x' \\space cos \\space \\varphi + y' \\space sin \\space \\varphi \\newline y = \\beta + x' \\space sin \\space \\varphi - y' \\space cos \\space \\varphi  \\end{cases} $$"
   ]
  },
  {
   "cell_type": "markdown",
   "metadata": {},
   "source": [
    "## Преобразование прямоугольной декартовой системы координат в пространстве"
   ]
  },
  {
   "cell_type": "markdown",
   "metadata": {},
   "source": [
    "Пусть введены две системы координат: $ \\{ O; e_1, e_2, e_3 \\}, \\{ O'; e_1', e_2', e_3' \\} $, т.е. $ e = (e_1, e_2, e_3), e' = ( e_1', e_2', e_3') $ - ортонормированные базисы. Положение второго базиса также может быть однозначно определно тремя параметрами - углами Эйлера:\n",
    "\n",
    "$ \\psi, 0 \\leqslant \\psi \\leqslant 2\\pi $ от $ Ox $ до $ Ox' $ в плоскости $ Oxy $  \n",
    "$ \\theta, 0 \\leqslant \\theta \\leqslant \\pi $ от $ Oz $ до $ Oz' $ в плоскости $ Ozz' $  \n",
    "$ \\varphi, 0 \\leqslant \\varphi \\leqslant 2\\pi $ от $ Ox' $ до $ Ox $ в плоскости $ Ox'y' $"
   ]
  },
  {
   "cell_type": "markdown",
   "metadata": {},
   "source": [
    "Если заданы эти три угла, то преобразование первой системы координат во вторую можно представить как проведение трёх последовательных поворотов:\n",
    "\n",
    "1. Поворота плоскости $ Oxy $ вокруг оси $ Oz $ на угол $ \\psi $ (сместятся оси $ Ox $ и $ Ox' $)\n",
    "2. Поворота плоскости $ Oy_1z_1 $ вокруг оси $ Ox_1 $ на угол $ \\theta $ (сместятся оси $ Oz $ и $ Oz' $)\n",
    "3. Поворота плоскости $ Ox_2y_2 $ вокруг оси $ )z_2 $ на угол $ \\varphi $ (сместятся оси $ Oy $ и $ Oy' $)"
   ]
  },
  {
   "cell_type": "markdown",
   "metadata": {},
   "source": [
    "Матрицы перхода легко написать самостоятельно"
   ]
  }
 ],
 "metadata": {
  "kernelspec": {
   "display_name": "Python 3",
   "language": "python",
   "name": "python3"
  },
  "language_info": {
   "codemirror_mode": {
    "name": "ipython",
    "version": 3
   },
   "file_extension": ".py",
   "mimetype": "text/x-python",
   "name": "python",
   "nbconvert_exporter": "python",
   "pygments_lexer": "ipython3",
   "version": "3.7.4"
  }
 },
 "nbformat": 4,
 "nbformat_minor": 4
}
