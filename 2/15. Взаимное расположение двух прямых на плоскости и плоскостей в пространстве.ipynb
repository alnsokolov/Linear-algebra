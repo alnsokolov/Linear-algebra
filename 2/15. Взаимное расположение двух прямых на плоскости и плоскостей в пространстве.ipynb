{
 "cells": [
  {
   "cell_type": "markdown",
   "metadata": {},
   "source": [
    "# 15. Взаимное расположение двух прямых на плоскости и плоскостей в пространстве"
   ]
  },
  {
   "cell_type": "markdown",
   "metadata": {},
   "source": [
    "Пусть на плоскости (в пространстве) две прямые (плоскости) заданы общими уравнениями в афинной сситеме координат $ Oxy $ ($ Oxyz $):\n",
    "$$ l_i: \\space \\space A_i x + B_i y + C_i = 0, \\space\\space\\space\\space A_i^2 + B_i^2 \\neq 0, \\space\\space\\space\\space i = 1, 2 $$  \n",
    "И, соответственно:  \n",
    "$$ \\pi_i: \\space \\space A_i x + B_i y + C_i z + D_i= 0, \\space\\space\\space\\space A_i^2 + B_i^2 + C_i^2 \\neq 0, \\space\\space\\space\\space i = 1, 2 $$  \n",
    "\n",
    "Составим матрицы из коэффицентов этих уравнений для прямых:  \n",
    "$$ A = \\begin{bmatrix} A_1 & B_1 \\newline A_2 & B_2 \\end{bmatrix}, \\space\\space B = \\begin{bmatrix} A_1 & B_1 & C_1 \\newline A_2 & B_2 & C_2 \\end{bmatrix} $$  \n",
    "И для плоскостей:  \n",
    "$$ A = \\begin{bmatrix} A_1 & B_1 & C_1 \\newline A_2 & B_2 & C_2 \\end{bmatrix}, \\space\\space B = \\begin{bmatrix} A_1 & B_1 & C_1 & D_1 \\newline A_2 & B_2 & C_2 & D_2 \\end{bmatrix} $$"
   ]
  },
  {
   "cell_type": "markdown",
   "metadata": {},
   "source": [
    "Очевидно, что в обоих случаях $ 1 \\leqslant rg \\space A \\leqslant 2, \\space 1 \\leqslant rg \\space B \\leqslant 2, \\space rg \\space A \\leqslant rg \\space B $"
   ]
  },
  {
   "cell_type": "markdown",
   "metadata": {},
   "source": [
    "### Теорема 1\n",
    "\n",
    "Прямые $ l_1 $ и $ l_2 $ на плоскости совпадают тогда и только тогда, когда $$ \\frac{A_1}{A_2} = \\frac{B_1}{B_2} = \\frac{C_1}{C_2} $$ \n",
    "параллельны тогда и только тогда, когда $$ \\frac{A_1}{A_2} = \\frac{B_1}{B_2} \\neq \\frac{C_1}{C_2} $$  \n",
    "пересекаются тогда и только тогда, когда $$ \\frac{A_1}{A_2} \\neq \\frac{B_1}{B_2} $$\n",
    "\n",
    "### Доказательство\n",
    "\n",
    "Рассмотрим систему линейных алгебраических уравнений  \n",
    "\n",
    "$$ \\begin{cases} A_1 x + B_1 y + C_1 = 0 \\newline A_2 x + B_2 y + C_2 = 0 \\end{cases} $$  \n",
    "\n",
    "относительно неизвестных $ x, y $. Для этой системы матрицы $ A $ и $ B $ являются основной и расширенной матрицами соотвественно. Эта система совместна в двух случаях: когда $ rg \\space A = rg \\space B = 1 $ и $ rg \\space A = rg \\space B = 2 $. В случае, когда $ rg A = 1, rg B = 2 $ система не совместна. В первом случае решения системы образуют одномерное линейное многообразие, а во втором - нульмерное, т.е. система имеет единственное решение.  \n",
    "\n",
    "Перейдём к прямым $ l_1, l_2 $. Совпадение прямых означает, что решения системы образуют одномерное линейное многообразие, т.е. $ rg A = rg B = 1 $ или то же самое, $ rg B = 1 $. Это равносильно первому выражению в силу теоремы о базисном миноре. Параллельность прямых означает, что сситема несовместна - $ rg A = 1, rg B = 2 $, что эквивалентно второму выражению. Пересекаемость прямых означает, что система совместна и имееет единственное решение, т.е. что $ rg A = rg B = 2 $, или то же самое $ rg A = 2 $. Это условие равносильно последнему выражению."
   ]
  },
  {
   "cell_type": "markdown",
   "metadata": {},
   "source": [
    "### Теорема 2\n",
    "\n",
    "Плоскости $ \\pi_1 $ и $ \\pi_2 $ совпадают тогда и только тогда, когда $$ \\frac{A_1}{A_2} = \\frac{B_1}{B_2} = \\frac{C_1}{C_2} = \\frac{D_1}{D_2} $$\n",
    "параллельны тогда и только тогда, когда $$ \\frac{A_1}{A_2} = \\frac{B_1}{B_2} = \\frac{C_1}{C_2} \\neq \\frac{D_1}{D_2} $$\n",
    "пересекаются тогда, когда коэффиценты $ A_1, B_1, C_1 $ и $ A_2, B_2, C_2 $ не пропорциональны.\n",
    "\n",
    "### Доказательство\n",
    "\n",
    "Аналогично случаю с прямыми."
   ]
  },
  {
   "cell_type": "markdown",
   "metadata": {},
   "source": [
    "### Замечание\n",
    "\n",
    "Теоремам можно дать формулировку в терминах матриц $ A $ и $ B $. Прямые $ l_1, l_2 $ (плоскости $ \\pi_1, \\pi_2 $)\n",
    "- Совпадают $ \\Leftrightarrow rg B = 1 $\n",
    "- параллельны и не совпадают $ \\Leftrightarrow rg A = 1, rg B = 2 $\n",
    "- пересекаются $ \\Leftrightarrow rg A = 2 $"
   ]
  }
 ],
 "metadata": {
  "kernelspec": {
   "display_name": "Python 3",
   "language": "python",
   "name": "python3"
  },
  "language_info": {
   "codemirror_mode": {
    "name": "ipython",
    "version": 3
   },
   "file_extension": ".py",
   "mimetype": "text/x-python",
   "name": "python",
   "nbconvert_exporter": "python",
   "pygments_lexer": "ipython3",
   "version": "3.7.4"
  }
 },
 "nbformat": 4,
 "nbformat_minor": 4
}
