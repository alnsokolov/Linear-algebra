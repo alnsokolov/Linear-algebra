{
 "cells": [
  {
   "cell_type": "markdown",
   "metadata": {},
   "source": [
    "### Определение\n",
    "\n",
    "ЭК (элементарная конъюнкция) - монотонная, если она не содержит отрицаний переменных.\n",
    "\n",
    "Например: $ x_1 \\cdot x_2 \\cdot x_3 $"
   ]
  },
  {
   "cell_type": "markdown",
   "metadata": {},
   "source": [
    "### Определние\n",
    "\n",
    "Полином Жегалкина - выражение вида $ k_1 \\oplus \\dots \\oplus k_l $, где $ k_i $ - разложение монотонной ЭК или 0, $ l $ - длина полинома Жегалкина, $ l \\geqslant 1 $. Длина полинома Жегалкина $ 0 $ равна $ 0 $.\n",
    "\n",
    "Например: $ x_1 \\oplus 1 $"
   ]
  },
  {
   "cell_type": "markdown",
   "metadata": {},
   "source": [
    "### Теорема 3.6 (Жегалкина)\n",
    "\n",
    "Каждая функция $ f \\in P_2 $ может быть представлена полиномом Жегалкина, причём однозначно.\n",
    "\n",
    "### Доказательство\n",
    "\n",
    "1. Существование\n",
    "   Рассмотрим $ f(x_1, \\dots, x_n) \\in P_2 $\n",
    "   Полином Жегалкина $ f $ по $ n $ переменным:\n",
    "   $ f(x_1, \\dots, x_n) = \\bigoplus_{\\sigma \\in E_2^n}\\limits x_1^{\\sigma_1} \\cdot x_2^{\\sigma_2} \\dots x_n^{\\sigma_n} \\cdot f(\\sigma) = \\bigoplus_{\\sigma \\in E_2^n} (x_1 \\oplus \\sigma_1 \\oplus 1) \\dots (x_n \\oplus \\sigma_n \\oplus 1) \\cdot f(\\sigma) $\n",
    "   - перемножаем скобки по правилам  \n",
    "     Коммутативности, ассоциативности $ \\cdot, \\space \\oplus $  \n",
    "     Дистрибутивности $ (x \\oplus y)z = xz \\oplus yz $\n",
    "   - Приводим подобные слагаемые  \n",
    "     $ x \\oplus x = 0, \\space x \\oplus 0 = x $  \n",
    "   Получим полином Жегалкина функции $ f $  \n",
    "   Пример: $ x \\vee y = \\overline{x}\\overline{y}0 \\oplus \\overline{x}y1 \\oplus x \\overline{y}1 \\oplus xy1 = (x \\oplus 1)y \\oplus x(y \\oplus 1) \\oplus xy = xy \\oplus y \\oplus xy \\oplus x \\oplus xy = x \\oplus y \\oplus xy $\n",
    "\n",
    "2. Единственность $ f(x_1, \\dots, x_n) $  \n",
    "   Подсчитаем число полиномов жегалкина над переменными $ x_1, \\dots, x_n $  \n",
    "   Сколько мнотонных ЭК с $ x_1, \\dots, x_n $ - каждую перемнную можно независимо от других переменных включить или не включить в ЭК. То есть всего ЭК есть $ 2^n $. Всего полиномов Жегалкина с $ x_1, \\dots, x_n - 2^{2^n} $\n",
    "   $ |P_2^{(n)}| = 2^{2^n} $  \n",
    "   Из того, что для $ \\forall f \\in p_2^{(n)} $ существует полином Жегалкина, а всего полиномов Жегалкина с $ x_1, \\dots, x_n $ найдётся $ 2^{2^n} $, получаем, что $ \\forall f $ полином Жегалкина единственный."
   ]
  },
  {
   "cell_type": "markdown",
   "metadata": {},
   "source": [
    "### Способы построения полинома Жегалкина\n",
    "\n",
    "1. По доказательству теоремы 3.6\n",
    "2. Метод неопределённых коэффицентов\n",
    "3. Быстрый способ\n",
    "\n",
    "Пример с методом неопределённых коэффицентов:\n",
    "\n",
    "$ f(x, y) = x \\vee y = c_{1,2}xy \\oplus c_1x \\oplus c_2y \\oplus c_01 = xy \\oplus x \\oplus y $\n",
    "$ c_{1, 2}, c_1, c_2, c_0 \\in E_2 $\n",
    "\n",
    "$ \\begin{cases} &&&c_0 &= 0 \\newline &&c_2 \\oplus &c_0 &= 1 \\newline &c_1 \\oplus &&c_0 &= 1 \\newline c_{1,2} \\oplus & c_1 \\oplus &c_2 \\oplus &c_0 &= 1 \\newline \\end{cases} $"
   ]
  }
 ],
 "metadata": {
  "kernelspec": {
   "display_name": "Python 3",
   "language": "python",
   "name": "python3"
  },
  "language_info": {
   "codemirror_mode": {
    "name": "ipython",
    "version": 3
   },
   "file_extension": ".py",
   "mimetype": "text/x-python",
   "name": "python",
   "nbconvert_exporter": "python",
   "pygments_lexer": "ipython3",
   "version": "3.7.4"
  }
 },
 "nbformat": 4,
 "nbformat_minor": 4
}
