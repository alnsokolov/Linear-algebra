{
 "cells": [
  {
   "cell_type": "markdown",
   "metadata": {},
   "source": [
    "# 2. "
   ]
  },
  {
   "cell_type": "markdown",
   "metadata": {},
   "source": [
    "Функции $ f, g \\in P_2 $ называются конгурентными, если переменные одной из них можно так переобозначить, что , что получится функция, равная другой."
   ]
  },
  {
   "cell_type": "markdown",
   "metadata": {},
   "source": [
    "### Предложение 2.1\n",
    "\n",
    "При $ n \\geqslant 1 $ верно равенство $ |P_2^{(n)}| = 2^n $\n",
    "\n",
    "### Доказательство\n",
    "\n",
    "Любую функцию $ f \\in p_2^{(n)} $ можно представить в виде таблицы истиности с $ 2^n $ строк. В каждой строке находится 0 или 1. Функций $ f $ столько же, сколько и таблиц истиности, то есть $ 2^n $"
   ]
  },
  {
   "cell_type": "markdown",
   "metadata": {},
   "source": [
    "Пусть $ A \\subseteq P_2 $, причём каждая функция из $ A $ имеет своё, отличное от других формул обозначение. \n",
    "\n",
    "Формула над множеством $ A $ определяется по индукции:  \n",
    "1. Базис индукции  \n",
    "   Если $ x $ - переменная, то $ x $ - формула\n",
    "2. Переход\n",
    "   $ \\dots $\n",
    "\n",
    "Аналогия - программа"
   ]
  },
  {
   "cell_type": "markdown",
   "metadata": {},
   "source": [
    "Особенности построения формул при исмкользовании формул со связками.\n",
    "\n",
    "В индуктивном переходе:\n",
    "\n",
    "1. Если $ f = \\overline{x} $, то $ F = \\overline{F_1} $\n",
    "2. Если $ f = x \\circ y $, где $ \\circ \\in \\{\\&, \\cdot, \\vee, \\oplus, \\rightarrow } $"
   ]
  }
 ],
 "metadata": {
  "kernelspec": {
   "display_name": "Python 3",
   "language": "python",
   "name": "python3"
  },
  "language_info": {
   "codemirror_mode": {
    "name": "ipython",
    "version": 3
   },
   "file_extension": ".py",
   "mimetype": "text/x-python",
   "name": "python",
   "nbconvert_exporter": "python",
   "pygments_lexer": "ipython3",
   "version": "3.7.4"
  }
 },
 "nbformat": 4,
 "nbformat_minor": 4
}
