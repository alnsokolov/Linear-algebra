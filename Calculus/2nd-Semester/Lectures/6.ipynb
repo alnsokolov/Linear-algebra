{
 "cells": [
  {
   "cell_type": "markdown",
   "metadata": {},
   "source": [
    "# 6. Объём тела"
   ]
  },
  {
   "cell_type": "markdown",
   "metadata": {},
   "source": [
    "### Определние 1\n",
    "\n",
    "Телом назовём произвольное ограниченное множество точек $ F $ точек трёхмерного пространства. (все определения внутренней, внешней, граничной точки, границы множества, замкнутого и ораниченнго мнодества соответсвуют определниям в плоском случае)\n",
    "\n",
    "$ B_\\varepsilon(M_0) = \\{ (x, y, z) \\space | \\space (x - x_0)^2 + (y - y_0)^2 + (z - z_0)^2 < \\varepsilon^2 \\}, \\space M_0(x_0, y_0, z_0) $"
   ]
  },
  {
   "cell_type": "markdown",
   "metadata": {},
   "source": [
    "### Определение 2\n",
    "\n",
    "Простейшим назовёс тело, являющееся объединением конечного числа прямоугольных параллелепипедов, со сторонами, параллельными осям координат (при этом любые два могут пересекаться только по частям границ). Обозначим $ V(P) $ - объём простешего тела $ P $. Свойства объёмов простейших тел полностью аналогичны свойствам площадей."
   ]
  },
  {
   "cell_type": "markdown",
   "metadata": {},
   "source": [
    "### Определение 3\n",
    "\n",
    "Верхний (нижний) объём тела $ F $ - это $ V^*(F) = \\subset{Q \\supset F}{V(Q)}, V_*(F) = \\subset{P \\subset F}{V(P)}; \\space P, Q $ - простейшие. $ \\forall $ тела $ F $ существует $ V^*(F) $ и $ V_*(F) $, причём $ V_*(F \\leqslant V^*(F) $"
   ]
  },
  {
   "cell_type": "markdown",
   "metadata": {},
   "source": [
    "### Определние 4\n",
    "\n",
    "Тело $ F $ называется кубируемым, если $ V_*(F) = V^*(F) $. Объём кубируемого тела $ F $ - число $ V(F) = V^*(F) = V_*(F) $"
   ]
  },
  {
   "cell_type": "markdown",
   "metadata": {},
   "source": [
    "### Определение 5\n",
    "\n",
    "Пусть $ F $ - плоская фигур. Цилиндрическим телом (цилиндром) называется тело $ C = F \\times [z_1, z_2] $, где система координат выбрана так, что $ F \\subset Oxy; \\space [z_1, z_2] $ - отрезок оси $ Oz $. Фигура $ F $ называется основанием цилиндра; число $ n = z_2 - z_1 $ - высотой"
   ]
  },
  {
   "cell_type": "markdown",
   "metadata": {},
   "source": [
    "### Теорема 1\n",
    "\n",
    "Если основание цилиндра $ C $ - квадратируемая фигура $ F $, то $ C $ - кубируем, причём $ V(C) = S(F) \\cdot h $."
   ]
  },
  {
   "cell_type": "markdown",
   "metadata": {},
   "source": [
    "### Лемма 1\n",
    "\n",
    "Тело $ F $ кубируемо $ \\Leftrightarrow \\forall \\varepsilon > 0 \\space \\exists P, Q $ - простейшие тела, т.ч. $ P \\subset F \\subset Q $, причём $ V(Q) - V(P) < \\varepsilon $"
   ]
  },
  {
   "cell_type": "markdown",
   "metadata": {},
   "source": [
    "### Лемма 2\n",
    "\n",
    "Тело $ F $ кубируемо $ \\Leftrightarrow \\forall \\varepsilon > 0 \\space \\exists F_1, F_2 $ - кубируемые тела, т.ч. $ F_1 \\subset F \\subset F_2 $, причём $ V(F_2) - V(F_1) < \\varepsilon $. Докзательства лемм 1 и 2 аналогичны доказательствам лемм 1 и 2 предыдущего параграфа."
   ]
  },
  {
   "cell_type": "markdown",
   "metadata": {},
   "source": [
    "### Доказательство теоремы 1\n",
    "\n",
    "Возьмём $ \\varepsilon > 0 $. Фигура $ F $ квадратируема $ \\rightarrow \\exists P, Q $ - простейшие фигуры, т.ч. $ P \\subset F \\subset Q $, причём $ S(Q - S(P) < \\frac{\\varepsilon}{h} $, где $ h $ - высота цилиндра. Пусть $ C_P, C_Q $ - цилиндры с основаниями $ P $ и $ Q $ соответственно и высотой $ h $. Тогда $ C_P, C_Q $ - простейшие тела, причём $ C_P \\subset C \\subset C_Q, \\space V(C_P) = S(P) \\cdot h, V(C_Q) = S(Q) \\cdot h $. Значит $ V(C_Q) - V(C_P) < \\varepsilon \\Rightarrow C $ - кубируем (лемма 1).\n",
    "\n",
    "Далее $ V(C_P) \\leqslant V(C) \\leqslant V(C_Q) \\Leftrightarrow S(P) \\cdot h \\leqslant S(F) \\cdot h \\leqslant S(Q) \\cdot h \\Rightarrow V(C) = S(F) \\cdot h $\n",
    "\n",
    "ч.т.д.\n",
    "\n",
    "### Следствие\n",
    "\n",
    "Пусть тело $ C = \\bigcup_{k = 1}^n C_k $, где $ C_k $ - цилиндр, причём любые два могут пересекаться только по части основания."
   ]
  },
  {
   "cell_type": "markdown",
   "metadata": {},
   "source": [
    "#### Степнчатое тело\n",
    "\n",
    "Если в основании любого цилиндра $ C_k $ лежит увадратируемая фигура $ F_k $, то тело $ C_k $ кубируемо, причём $ V(C) = \\sum_{k = 1}^n\\limits V(C_k) = \\sum_{k = 1}^n\\limits S(F_k) \\cdot h_k $"
   ]
  },
  {
   "cell_type": "markdown",
   "metadata": {},
   "source": [
    "### Теорема 2\n",
    "\n",
    "Пусть $ f \\in C[a, b] $; тело $ F $ ограничено поверхностью, образованной вращением вокруг оси $ Ox $ кривой $ y = |f(x)|, \\space a \\leqslant x \\leqslant b $ (и плоскостями $ x = a, x = b $). Тогда тело $ F $ кубируемо, причём $ V(F) = \\pi \\int_a^b\\limits f^2(x) dx $\n",
    "\n",
    "### Доказательство\n",
    "\n",
    "$ f \\in C[a, b] \\Rightarrow \\pi f^2 \\in R[a, b] $. Возьмём $ \\varepsilon > 0. \\exists T = \\{ x_0, x_1, \\dots, x_n \\} $ - разбиение $ [a, b] $, т.ч. $ S_{\\pi f^2}(T) - s_{\\pi f^2}(T) < \\varepsilon $. Пусть $ m_k = \\underset{x_{k - 1} \\leqslant x \\leqslant x_k}{\\inf} |f(x)|, M_k = \\underset{x_{k - 1} \\leqslant x \\leqslant x_k}{\\sup} |f(x)| $. Тогда $ S(T) = \\sum_{k = 1}^n\\limits \\pi M_k^2 \\cdot \\Delta x_k = \\sum_{k = 1}^n\\limits V(Q_k) = V(Q) $, где $ V(Q) - V(P) < \\varepsilon \\Rightarrow F $ - кубируемо.  \n",
    "$ s(T) \\leqslant \\int_a^b\\limits \\pi f^2(x)dx \\leqslant S(T) \\Leftrightarrow V(P) \\leqslant V(F) \\leqslant V(Q) \\Rightarrow V(F) = \\int_a^b\\limits \\pi f^2(x)dx $\n",
    "\n",
    "ч.т.д.\n",
    "\n",
    "### Пример\n",
    "\n",
    "$ F $ получено вращениес вокруг $ Ox $ эллипса $ \\frac{x^2}{a^2} + \\frac{y^2}{b^2}  = 1, \\space a, b > 0 $  \n",
    "$ V = \\pi \\int_{-a}^a\\limits \\left(b \\sqrt{1 - \\frac{x^2}{a^2}} \\right)^2 = \\pi \\cdot \\frac{b^2}{a^2} \\int_{-a}^a\\limits (a^2 - x^2) dx = \\frac{\\pi b^2}{a^2} (a^2 \\cdot x - \\frac{x^3}{3})|_{-a}^a = \\frac{4}{3}\\pi ab^2 $\n",
    "\n",
    "### Замечание (без доказательства)\n",
    "\n",
    "1. Пусть тело $ F $ в системе координат $ Oxyz $ по оси $ Ox $ ограничено плоскостями $ x = a, \\space x = b $ и $ \\forall x_0 \\in [a, b] $ известна площадь $ S(x_0) $ сечения тела плоскостью $ x = x_0 $. Тогда $ V(F) = \\int_a^b\\limits S(x) \\space dx $.  \n",
    "   \n",
    "   Например $ F $ - эллипсоид $ \\frac{x^2}{a^2} + \\frac{y^2}{b^2} + \\frac{z^2}{c^2} = 1 $. Пусть $ x = x_0 \\in (-a, a) $. Тогда в сечении - эллипс.  \n",
    "   $ \\frac{y^2}{b^2} + \\frac{z^2}{c^2} = 1 - \\frac{x^2}{a^2} \\Rightarrow \\frac{y^2}{b^2 (1 - \\frac{x^2}{a^2})} + \\frac{z^2}{c^2 (1 - \\frac{x^2}{a^2})} = 1 $.  \n",
    "   Его площадь: $ S(x_0) = \\pi \\cdot b \\cdot c \\cdot (1 - \\frac{x^2}{a^2}) \\Rightarrow V(F) = \\int_{-a}^a\\limits S(x) \\space dx = \\frac{\\pi b c}{a^2}  \\int_{-a}^a\\limits (a^2 - x^2) \\space dx = \\frac{4}{3} \\pi abc $\n",
    "   \n",
    "2. Вращаем криволинейную проекцию вокруг $ Oy $: $ V(F) = 2\\pi \\int_a^b\\limits x f(x)\\space dx $"
   ]
  }
 ],
 "metadata": {
  "kernelspec": {
   "display_name": "Python 3",
   "language": "python",
   "name": "python3"
  },
  "language_info": {
   "codemirror_mode": {
    "name": "ipython",
    "version": 3
   },
   "file_extension": ".py",
   "mimetype": "text/x-python",
   "name": "python",
   "nbconvert_exporter": "python",
   "pygments_lexer": "ipython3",
   "version": "3.7.4"
  }
 },
 "nbformat": 4,
 "nbformat_minor": 4
}
