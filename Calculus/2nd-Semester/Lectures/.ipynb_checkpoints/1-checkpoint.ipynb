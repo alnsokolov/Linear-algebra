{
 "cells": [
  {
   "cell_type": "markdown",
   "metadata": {},
   "source": [
    "# 1. Определённый интеграл. Основные свойства"
   ]
  },
  {
   "cell_type": "markdown",
   "metadata": {},
   "source": [
    "\\*когда-нибудь тут будет картинка приближения интеграла пряямоугольниками\\*"
   ]
  },
  {
   "cell_type": "markdown",
   "metadata": {},
   "source": [
    "### Определение 1\n",
    "\n",
    "Разбиение (прямоугольниками) отрезка $ [a, b] $ называется множество $ T = \\{ x_0, x_1, \\dots, x_n \\} $, такое что $ a  =x_0 < x_1 < \\dots < x_n = b $"
   ]
  },
  {
   "cell_type": "markdown",
   "metadata": {},
   "source": [
    "### Определение 2\n",
    "\n",
    "Объединением разбиени1 $ T_1 $ и $ T_2 $ называется разбиение $ T $, $ T = T_1 \\cup T_2 $.  \n",
    "\n",
    "Разбиение $ T' $ называется измельчением разбиения $ T $, если $ T' \\subset T $. Очевидно, что если $ T = T_1 \\cap T_2 $, то $ T $ - измельчение и $ T_1 $ и $ T_2 $"
   ]
  },
  {
   "cell_type": "markdown",
   "metadata": {},
   "source": [
    "### Определение 3\n",
    "\n",
    "Размеченным разбиением отрезка $ [a, b] $, соответствующим неразмеченному разбиению $ T $, называется совокупность $ V = \\{ x_0, \\dots, x_n; \\xi_1, \\dots, \\xi_n \\} $, т.ч. $ x_{i - 1} < \\xi_i < x_i \\space\\space \\forall i \\in \\overline{1, n} $"
   ]
  },
  {
   "cell_type": "markdown",
   "metadata": {},
   "source": [
    "### Определение 4\n",
    "\n",
    "Обозначим $ \\Delta x_k = x_k - x_{k - 1} $ - длина каждого отрезка разбиения $ T $. Диаметром разбиения $ T $ называется называется $ \\Delta_T = \\underset{1 \\leqslant k \\leqslant n}{max} \\Delta x_n $.\n",
    "\n",
    "Диаметром разчеченного разбиения $ V $ будем считать диаметр неразмеченного разбиения, которому оно соответсвует."
   ]
  },
  {
   "cell_type": "markdown",
   "metadata": {},
   "source": [
    "Пусть функция $ f $ определена на $ [a, b] $.\n",
    "\n",
    "### Определние 5\n",
    "\n",
    "Интегральной суммой функции $ f $, соответствующей размеченному разбиению $ V = \\{ x_0, \\dots, x_n; \\xi_1, \\dots, \\xi_n \\} $ называется выражение $ \\sigma(V) = \\sigma(V) = \\sum_{i = 1}^n\\limits f(\\xi_k)\\Delta x_k $"
   ]
  },
  {
   "cell_type": "markdown",
   "metadata": {},
   "source": [
    "### Определение 6\n",
    "\n",
    "Определённым интегралом (Римана) от функции $ f $ на отрезке $ [a, b] $ называется число $ I $, т.ч. $ \\forall \\varepsilon > 0 \\exists \\delta(\\varepsilon) > 0 $, т.ч $ \\forall V $ - размеченное разбиение $ [a, b], \\space \\Delta_V < \\delta: |I - \\sigma_f(V)| < \\varepsilon $. Говорят, что число $ I $ авляется пределом интегральных сумм при стремлении диаметра разбиения к нулю. В этом случае говорят, что функция $ f $ интегрируема (по Риману) на отрезке $ [a, b] $.  \n",
    "\n",
    "Обозначение: $ f \\in R[a, b] $  \n",
    "Пишут: $ I = \\int_{a}^{b}\\limits f(x) dx $.  \n",
    "Числа $ a $ и $ b $ называются нижним и верхним пределами интеграла соответственно."
   ]
  },
  {
   "cell_type": "markdown",
   "metadata": {},
   "source": [
    "### Утверждение 1\n",
    "\n",
    "Если $ f \\in R[a, b] $, то число $ I $ определено однозначным образом.\n",
    "\n",
    "### Доказательство\n",
    "\n",
    "Предположим, что $ \\exists I_1, I_2: i_1 \\neq I_2 $, т.ч. они удовлетворяют определнию 6. Положим в определнии $ \\varepsilon = \\frac{|I_1 - I_2|}{2} > 0 $. Тогда $ \\exists \\delta > 0: \\forall V, \\Delta_V < \\delta:  |I_1 - I_2| \\leqslant |I_1 - \\sigma(V)| + |I_2 - \\sigma(V)| < 2\\varepsilon = |I_1 - I_2| $  ?! $ \\Rightarrow I_1 = I_2 $\n",
    "\n",
    "<strong>ч.т.д.</strong>"
   ]
  },
  {
   "cell_type": "markdown",
   "metadata": {},
   "source": [
    "### Теорема 1. Необходимое условие интегрируемости\n",
    "\n",
    "Если $ f \\in R[a, b] $, то она ограничена на $ [a, b] $\n",
    "\n",
    "### Доказательство\n",
    "\n",
    "Предположим, что $ f $ не ограничена на $ [a, b] $. Тогда рассмотрим произвольное разбиение $ T = \\{ x_0, x_1, \\dots, x_n \\} $. Тогда найдётся отрезок $ [x_{r - 1}, x_r] $, на котором функция не ограничена. На каждом из отрезков $ [ x_{k - 1}, x_k ], k \\neq r $ выберем точку $ \\xi_k  $ произвольным образом. Обозначим $ A = \\left|\\sum_{i = 1, i \\neq r}^n f(\\xi_i)\\Delta x_i \\right| \\space $ Возьмём произвольное число $ M > 0 $. $ f $ не определена на $ [x_{r - 1}, x_r] \\Rightarrow \\exists \\xi_r \\in [x_{r - 1}, x_r] $, т.ч. $ |f(\\xi_r)| > \\frac{M + A}{\\Delta x_r} $. Тогда $ V = \\{ x_0, x_1 \\dots, x_n; \\xi_1, \\dots, \\xi_n \\} $ - размеченное разбиение $ [a, b] $, причём $ |\\sigma(V)| = |\\sum_{i = 1, i \\neq r}^n + f(\\xi_r) \\Delta x_r| \\geqslant |f(\\xi_r) -\\Delta x_r| - A > \\frac{M + A}{\\Delta x_r}\\Delta x_r - A = M $. Почучаем, что $ \\forall M > 0, \\forall T $ - разбиение $[a, b]$, $ \\exists V $ - соответсвенное разбиение: $ |\\sigma(V) > M| $ Значит определние 6 не выполняется ни для какого конечного числа $ I \\Rightarrow f \\not\\in R[a, b] $  \n",
    "\n",
    "ч.т.д."
   ]
  },
  {
   "cell_type": "markdown",
   "metadata": {},
   "source": [
    "Будем считать теперь, что функция $ f $ ограничена на $ [a, b] $. Обозначим $ M = \\underset{a \\leqslant x \\leqslant b}{\\sup} f(x), \\space\\space m = \\underset{a \\leqslant x \\leqslant b}{\\inf} f(x) $. Пусть $ T = \\{ x_0, x_1, \\dots, x_n \\} $ - произвольное разбиение $ [a, b] $. Обозначим $ M = \\underset{x_{k - 1} \\leqslant x \\leqslant x_k}{\\sup} f(x), \\space\\space m = \\underset{x_{k - 1} \\leqslant x \\leqslant x_k}{\\inf} f(x) $"
   ]
  },
  {
   "cell_type": "markdown",
   "metadata": {},
   "source": [
    "### Определение 7\n",
    "\n",
    "Пусть $ T = \\{ x_0, x_1, \\dots, x_n \\} $ - разбиение $ [a, b] $. Верхней (нижней) суммой Дарбу для функции $ f $, соответствующей разбиению $ T $ называется $ S(T) = \\sum_{i = 1}^n\\limits M_i\\Delta x_i $ $ \\left( s(T) = \\sum_{i = 1}^n\\limits m_i\\Delta x_i \\right)$"
   ]
  },
  {
   "cell_type": "markdown",
   "metadata": {},
   "source": [
    "### Лемма 1\n",
    "\n",
    "Пусть $ T = \\{ x_0, x_1, \\dots, x_n \\} $ - разбиение $ [a, b] $. $ \\forall V $ - соответствующее размеченное разбиение: $ s(T) \\leqslant \\sigma(V) \\leqslant S(T) $\n",
    "\n",
    "### Доказательство\n",
    "\n",
    "$ m_k \\leqslant f(\\xi_k) \\leqslant M_k $. Дальше очевидно.\n",
    "\n",
    "ч.т.д."
   ]
  },
  {
   "cell_type": "markdown",
   "metadata": {},
   "source": [
    "### Лемма 2\n",
    "\n",
    "$ S(t) = \\sup \\sigma(V), s(t)  =\\inf \\sigma(V) $, где точные грани берутся по всем возможным значениям $ V $, соответствующим $ T $.\n",
    "\n",
    "### Доказательство\n",
    "\n",
    "Докажем первое утверждение, второе аналогично.\n",
    "\n",
    "$ \\sigma(V) \\leqslant S(T) \\forall V $, соответствующее $ T $ (по лемме 1). Возьмём $ \\varepsilon > 0 $. Поскольку $ M_k = \\underset{x_{k - 1} \\leqslant x \\leqslant x_k}{\\sup} f(x) $, то $ \\exists \\xi_k \\in [x_{k - 1}, x_k] $, т.ч. $ f(\\xi_k) > M_k  -\\frac{\\varepsilon}{b - a}, k = 1, \\dots, n $. Пусть $ V = \\{ x_0, x_1, \\dots, x_n; \\xi_1, \\dots, \\xi_n \\} $. Тогда $ \\sigma(V) = \\sum_{i = 1}^n\\limits f(\\xi_i)\\Delta x_i > \\sum_{i = 1}^n (M_k - \\frac{\\varepsilon}{b - 1}) \\Delta x_i = S(T) - \\frac{\\varepsilon}{b - a}\\sum_{i = 1}^n \\Delta x_i = S(t) - \\varepsilon $. Значит $ S(t) = \\underset{V}{\\sup} \\{\\sigma(V)\\} $"
   ]
  },
  {
   "cell_type": "markdown",
   "metadata": {},
   "source": [
    "### Лемма 3\n",
    "\n",
    "Пусть $ T = \\{ x_0, x_1, \\dots, x_n \\} $ - разбиение $ [a, b], T' = T \\cup \\{ x_1', \\dots, x_l' \\} $. Тогда $ 0 \\leqslant S(T) - S(T') \\leqslant (M - m)\\cdot l\\cdot\\Delta_t $ $ \\left(0 \\leqslant s(T') - s(T) \\leqslant (M - m)\\cdot l\\cdot\\Delta_t \\right) $.\n",
    "\n",
    "### Доказательство\n",
    "\n",
    "Докажем первое утверждение, второе аналогично. Пусть $ T' = T \\cup \\{x'\\}, x' \\in (x_{k - 1}, x_k) $.  \n",
    "\n",
    "Тогда $ S(T) - S(T') = M_k \\cdot (x_k - x_{k - 1})) - ( \\underset{x_{k - 1} \\leqslant x \\leqslant x'}{\\sup}  f(x) \\cdot (x' - x_{k - 1}) + \\underset{x' \\leqslant x \\leqslant x_k}{\\sup} f(x) \\cdot (x_k - x') \\geqslant M_k \\cdot (x_k - x_{k - 1}) - M_k (x' - x_{k - 1} + x_k - x') = 0 $  \n",
    "\n",
    "С другой стороны, $ S(T) - S(T') = M_k \\cdot (x_k - x_{k - 1}) - (\\underset{x_{k - 1} \\leqslant x \\leqslant x'}{\\sup} f(x) \\cdot (x' - x_{k - 1}) + \\underset{x' \\leqslant x \\leqslant x_k}{f(x)} (x_k - x')) \\leqslant (M - m) \\cdot \\Delta x_k \\leqslant  (M - m) \\cdot \\Delta_T $"
   ]
  },
  {
   "cell_type": "markdown",
   "metadata": {},
   "source": [
    "### Лемма 4\n",
    "\n",
    "$ \\forall T_1, T_2: s(T_1) \\leqslant S(T_2) $\n",
    "\n",
    "### Доказательство\n",
    "\n",
    "Пусть $ T' = T_1 \\cup T_2 $. Тогда $  s(T_1) \\leqslant $ (по лемме 3) $ s(T') \\leqslant $ (по определению) $ S(T') \\leqslant $ (по лемме 3) $ (T_2) $"
   ]
  }
 ],
 "metadata": {
  "kernelspec": {
   "display_name": "Python 3",
   "language": "python",
   "name": "python3"
  },
  "language_info": {
   "codemirror_mode": {
    "name": "ipython",
    "version": 3
   },
   "file_extension": ".py",
   "mimetype": "text/x-python",
   "name": "python",
   "nbconvert_exporter": "python",
   "pygments_lexer": "ipython3",
   "version": "3.7.4"
  }
 },
 "nbformat": 4,
 "nbformat_minor": 4
}
