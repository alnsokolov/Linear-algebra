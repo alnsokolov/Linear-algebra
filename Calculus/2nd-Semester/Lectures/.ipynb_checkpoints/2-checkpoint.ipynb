{
 "cells": [
  {
   "cell_type": "markdown",
   "metadata": {},
   "source": [
    "# 2. Классы интегрируемых функций"
   ]
  },
  {
   "cell_type": "markdown",
   "metadata": {},
   "source": [
    "### Теорема 1\n",
    "\n",
    "$ f \\in C[a, b] \\Rightarrow f \\in R[a, b] $\n",
    "\n",
    "### Доказательство\n",
    "\n",
    "$ f \\in C[a, b] \\Rightarrow f $ равномерно непрерывна на $ [a, b] $. Возьмём $ \\varepsilon > 0. \\space\\space \\exists \\delta(\\varepsilon) > 0 $, т.ч. $ \\forall x', x'' \\in [a, b] \\space\\space |x' - x''| < \\delta: |f(x') - f(x'')| < \\frac{\\varepsilon}{b - a} $. Пусть $ T = \\{ x_0, x_1, \\dots, x_n \\} $ - разбиение $ [a, b], \\Delta_t < \\delta $. Тогда $ \\forall k \\in \\{1, n\\}: M_k - m_k < \\frac{\\varepsilon}{b - a} $. Тогда $ S(T) - s(T) = \\sum_{k  =1}^n\\limits (M_k - m_k) \\cdot \\Delta x_k < \\frac{\\varepsilon}{b - a} \\sum_{k = 1}^n\\limits = \\varepsilon \\Rightarrow f \\in R[a, b] $\n",
    "\n",
    "ч.т.д."
   ]
  },
  {
   "cell_type": "markdown",
   "metadata": {},
   "source": [
    "### Теорема 2\n",
    "\n",
    "Пусть $ f $ ограничена на $ [a, b] $ и $ \\forall \\varepsilon > 0 $ все точки разрыва $ f $ на $ [a, b] $ можно покрыть конечной системой интервалов суммой длины $ < \\varepsilon $. Тогда $ f \\in R[a, b] $\n",
    "\n",
    "### Доказательство\n",
    "\n",
    "Возьмём $ \\varepsilon > 0 $. Пусть все точки разрыва пкрыты сситемой интервалов $ \\{ (x_j', x_j'') \\}_{j = 1}^l, \\sum_{j = 1}^n  (x_j'' - x_j') < \\frac{\\varepsilon}{2 (M - m)}$ (если $ M = m $, то утверждение очевидно).\n",
    "\n",
    "\\* здесь может будет картинка отрезка с точками разрыва \\*\n",
    "\n",
    "Обозначим $ I = [a, b] \\space \\backslash \\space \\bigcup_{j = 1}^l\\limits (x_j', x_j'') $. Тогда $ I = \\bigcup_{j = 1}^r\\limits I_j, i_j $ - отрезки, $ r \\leqslant l + 1 $. Функция $ f \\in C(I_j) \\Rightarrow $ равномерно непрерывна $ \\Rightarrow \\exists \\delta_j(\\varepsilon) > 0 $, т.ч. $ \\forall x', x'' \\in I_j, |x' - x''| < \\delta_j: \\space\\space |f(x') - f(x'')| < \\frac{\\varepsilon}{2(b - a)} $. Положим $ \\delta = \\underset{1 \\leqslant j \\leqslant r}{\\delta_J} $. Пусть $ T_j $ - разбиение $ I_j, \\Delta_t < \\delta $. Тогда $ T = \\bigcup_{j = 1}^r\\limits $ - разбиение $ [a, b] $. Пусть $ T = \\{ x_0, x_1, \\dots, x_n \\} \\Rightarrow S(T) - s(T) = \\sum_{[x_{k - 1}, x_k] \\subset I}\\limits (M_k - m_k) \\cdot \\Delta x_k + \\sum_{[x_{k - 1}, x_k] \\subset ([a, b] \\space \\backslash \\space I)} (M_k - m_k) \\cdot \\Delta x_k < \\frac{\\varepsilon}{2(b - a)} \\cdot \\sum_{k = 1}^b\\limits \\Delta x_k + (M - m) \\cdot \\sum_{j = 1}^l\\limits (x_j'' - x_j') < \\varepsilon \\Rightarrow f \\in R[a, v] $\n",
    "\n",
    "ч.т.д.\n",
    "\n",
    "### Следствие\n",
    "\n",
    "Если $ f $ ограничена на $ [a, b] $ и имеет конечное число точек разрыва, то $ f \\in R[a, b] $.\n",
    "\n",
    "### Упражнение\n",
    "\n",
    "Докажите, что если $ f \\in R[a, b], g $ совпадает с $ f $ всюду на $ [a, b] $, кроме конечного числа точек, то $ g \\in R[a, b] $ и $ \\int_a^b\\limits g(x)dx = \\int_a^b\\limits f(x)dx $\n",
    "\n",
    "### Замечание\n",
    "\n",
    "Функции с бесконечным числом точек разрыва тоже могут быть интегрируемы. Например, \n",
    "\n",
    "$ f(x) = \\begin{cases} \\sin \\frac{\\pi}{x}, &x \\neq 0 \\newline 0, &x = 0 \\end{cases}, \\space\\space x \\in [0, 1] $"
   ]
  },
  {
   "cell_type": "markdown",
   "metadata": {},
   "source": [
    "$ \\dots $"
   ]
  },
  {
   "cell_type": "markdown",
   "metadata": {},
   "source": [
    "### Пример\n",
    "\n",
    "1. $ R(x) = \\begin{cases} \\frac{1}{n}, &x = \\frac{m}{n} \\in \\mathbb{Q} \\newline 0, &x \\not\\in \\mathbb{Q}  \\end{cases} $ - функция Римана.\n",
    "\n",
    "Она разрывна в рациональных точках, но нерахрывна в иррациональных точках (без доказательства).\n",
    "\n",
    "Доказательство того, что $ R(x) = R[a, b] $. Дозьмём $ \\varepsilon > 0 $. Пусть $ T = [\\frac{\\varepsilon}{2}] + 1 \\in \\mathbb{N} $ и выберем $ \\delta \\in (0, \\frac{\\varepsilon}{2N^2}) $. Пусть $ T = \\{ x_0, x_1, \\dots, x_n \\} $ - разбиение $ [0, 1], \\Delta_T < \\delta $. Очевидно, что $ m_k = 0 \\space \\forall k = 1, 2, \\dots, n $. Рассмотрим те отрезки разбиения, для которых $ M_k \\geqslant \\frac{1}{N} $. Каждый из таких отрезков должен содержать точку вида $ \\frac{m}{n} $, где $ n \\leqslant N $. Поскольку $ 0 \\leqslant \\frac{m}{n} \\leqslant 1 $, то $ m \\leqslant N $. Таких точек всего $ \\leqslant N^2 \\Rightarrow $ таких отрезков $ \\leqslant N^2 $. Тогда \n",
    "\n",
    "$ S(T) - s(T) = \\sum_{M_k \\geqslant \\frac{1}{N}}\\limits (M_k - m_k) \\cdot \\Delta x_k + \\sum_{M_k < \\frac{1}{N}}\\limits (M_k - m_k) \\cdot \\Delta x_k < 1 \\cdot \\delta \\cdot \\sum_{M_k \\geqslant \\frac{1}{N}}\\limits 1 + \\frac{1}{N} \\sum_{k = 1}\\limits \\Delta x_k < \\frac{\\varepsilon}{2N^2}\\cdot N^2 + \\frac{\\varepsilon}{2} \\cdot 1 = \\varepsilon \\Rightarrow $ функция Римана $ \\in R[0, 1] $ по критерию Римана\n",
    "\n",
    "2. $ D(x) = \\begin{cases} 1, &x \\in \\mathbb{Q} \\newline 0, &x \\not\\in \\mathbb{Q} \\end{cases} $\n",
    "\n",
    "Пусть $ T = \\{ x_0, x_1, \\dots, x_n \\} $ - произвольное разбиение отрезка $ [0, 1] $. Тогда $ \\forall k \\in \\{ 0, 1, \\dots, n \\} \\space M_k = 1, m_k = 0 $ (т.к. на любом отрезке есть как рациональные, так и иррациональные точки).  \n",
    "\n",
    "Тогда $ S(T) - s(T) = \\sum_{k = 1}^n\\limits (M_k - m_k) \\cdot \\Delta x_k = \\sum{k = 1}^n\\limits \\Delta x_k = 1 $"
   ]
  },
  {
   "cell_type": "markdown",
   "metadata": {},
   "source": [
    "### Определение *\n",
    "\n",
    "Множество $ A \\subset \\mathbb{R} $ имеет меру нуль по Лебегу, если $ \\forall \\varepsilon > 0 $ существует не более чем счётная система интервалов $ \\{ I_\\alpha \\} $, покрывающая множество $ A $ (т.е. $ A \\subset \\bigcup_{\\alpha}\\limits I_\\alpha $), для которых $ \\sum_{\\alpha}\\limits |I_{\\alpha}| < \\varepsilon $"
   ]
  },
  {
   "cell_type": "markdown",
   "metadata": {},
   "source": [
    "### Теорема \\*. Критерий Лебега интегрируемости функции\n",
    "\n",
    "Пусть $ f $ определена и ограничена на отрезке $ [a, b] $. Тогда $ f \\in R[a, b] \\Rightarrow $ множество её точек разрыва на $ [a, b] $ имеет меру нуль по Лебегу.\n",
    "\n",
    "### Замечание\n",
    "\n",
    "Любое счётное множество имеет меру нуль по Лебегу\n",
    "\n",
    "### Теорема 3\n",
    "\n",
    "Пусть $ f $ определена и монотонна на $ [a, b] $. Тогда $ f \\in R[a, b] $\n",
    "\n",
    "### Доказательство\n",
    "\n",
    "Пусть $ f $ не убывает на $ [a, b] $. Если $ f(a) = f(b) $, то $ f \\equiv const $ и утверждение очевидно. Пусть $ f(a) < f(b) $. Возьмём $ \\varepsilon > 0 $. Пусть $ T = \\{ x_0, x_1, \\dots, x_n \\} $ - разбиение $ [a, b], \\space \\Delta_t < \\frac{\\varepsilon}{f(b) - f(a)} $. Тогда $ S(T) - s(T) = \\sum_{k = 1}^n\\limits (M_k - m_k) \\dots \\Delta x_k = \\sum_{k = 1}^n\\limits (f(x_k) - f(x_{k - 1})) \\cdot \\Delta x_k \\leqslant \\Delta_T (f(x_1 - f(a) + f(x_2) - f(x_1) + \\dots + f(b) - f(x_{n - 1}))) < \\frac{\\varepsilon}{f(b) - f(a)} (f(b) - f(a)) = \\varepsilon \\Rightarrow f \\in R[a, b] $.\n",
    "\n",
    "ч.т.д."
   ]
  },
  {
   "cell_type": "markdown",
   "metadata": {},
   "source": [
    "#### Определение 1\n",
    "\n",
    "Функция удовлетворяет условию Липщица на $ [a, b] $, если $ \\exists c > 0 $, т.ч. $ \\forall x_1, x_2 \\in [a, n]: |f(x_2) - f(x_1)| \\leqslant c \\cdot |x_2 - x_1| $. Пишут: $ f \\in Lip [a, b] $"
   ]
  },
  {
   "cell_type": "markdown",
   "metadata": {},
   "source": [
    "### Теорема 4\n",
    "\n",
    "Пусть $ f \\in R[a, b]; M = \\underset{a \\leqslant x \\leqslant b}{\\sup} f(x), m = \\underset{a \\leqslant x \\leqslant b}{\\inf} f(x) $. Пусть $ g $ определена на $ m, M, g \\in Lip[m, M] $. Тогда $ g(f) \\in R[a, b] $\n",
    "\n",
    "### Доказательство"
   ]
  }
 ],
 "metadata": {
  "kernelspec": {
   "display_name": "Python 3",
   "language": "python",
   "name": "python3"
  },
  "language_info": {
   "codemirror_mode": {
    "name": "ipython",
    "version": 3
   },
   "file_extension": ".py",
   "mimetype": "text/x-python",
   "name": "python",
   "nbconvert_exporter": "python",
   "pygments_lexer": "ipython3",
   "version": "3.7.4"
  }
 },
 "nbformat": 4,
 "nbformat_minor": 4
}
