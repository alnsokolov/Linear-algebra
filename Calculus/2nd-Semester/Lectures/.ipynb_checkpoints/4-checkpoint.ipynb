{
 "cells": [
  {
   "cell_type": "markdown",
   "metadata": {},
   "source": [
    "# 4. Длина дуги плоской кривой"
   ]
  },
  {
   "cell_type": "markdown",
   "metadata": {},
   "source": [
    "### Определение 1\n",
    "\n",
    "Пусть $ \\phi, \\psi \\in C[\\alpha, \\beta] $. Плоской кривой называется множество $ L = \\{ (x, y) \\space | \\space x = \\phi(t), y = \\psi(t), \\alpha \\leqslant t \\leqslant \\beta \\} $.  \n",
    "Аналогично пространственной кривой называется множество $ L = \\{ (x, y, z) \\space | \\space x = \\phi(t), y = \\psi(t), z = \\eta(t), \\space  \\alpha \\leqslant t \\leqslant \\beta, \\space \\phi, \\psi, \\eta \\in C[a, b]\\} $\n",
    "\n",
    "#### Замечание\n",
    "\n",
    "Можно обобщить понятие кривой на случай бесконечных промежутков $ \\alpha = - \\infty $ и/или $ \\beta = +\\infty $"
   ]
  },
  {
   "cell_type": "markdown",
   "metadata": {},
   "source": [
    "### Определение 2\n",
    "\n",
    "Точка $ (x', y') $ называется кратной точкой кривой $ L $, если $ \\exists t_1 \\neq t_2: \\space x' = \\phi(t_1) = \\phi(t_2), \\space y' = \\psi(t_1) = \\psi(t_2) $.  \n",
    "Кривая $ L $ называется простой, если она не имеет кратных точек (кроме, возможно, точки $ (a, b) $, т.ч. $ a = \\phi(\\alpha) = \\phi(\\beta), b = \\psi(\\alpha) = \\psi(\\beta) $)"
   ]
  },
  {
   "cell_type": "markdown",
   "metadata": {},
   "source": [
    "### Определение 3\n",
    "\n",
    "Кривая $ L $ называется параметризованной, если $ \\exists T = \\{t_0, t_1, \\dots, t_n \\} $ - разбиение $ [\\alpha, \\beta] $, т.ч. на каждом из отрезков $ [t_{k - 1}, t_k] $ функции $ \\phi $ и $ \\psi $ задают простые кривые.\n",
    "\n",
    "Будем в дальнейшем считать, что $ L $ - простая кривая."
   ]
  },
  {
   "cell_type": "markdown",
   "metadata": {},
   "source": [
    "### Определение 4\n",
    "\n",
    "Ломаная (кривая) - множество $ l $, состоящее из точек $ A_1, A_2, \\dots, A_n $ - вершин (узлов) ломанной и отрезков $ A_1A_2, A_2, A_3, \\dots, A_{n - 1}A_n $ - звеньев ломанной. Пусть $ A_k(x_k, y_k), \\space k = 1, \\space, n $. Тогда длина ломаной $ l: |l| = \\sum_{k = 1}^{n - 1}\\limits \\sqrt{(x_{k+1} - x_k)^2 + (y_{k + 1} - y_k)^2} $."
   ]
  },
  {
   "cell_type": "markdown",
   "metadata": {},
   "source": [
    "### Определение 5\n",
    "\n",
    "Пусть $ L = \\{ (x, y) \\space | \\space x = \\phi(t), y = \\psi(t), \\space \\alpha \\leqslant t \\leqslant \\beta \\} $. Ломаная $ l $ вписана в кривую $ L $, если $ \\exists T = \\{ t_0, t_1, \\dots, t_n \\} $ - разбиение $ [ \\alpha, \\beta ] $, т.ч. $ l = A_0A_1 \\dots A_n $, где $ A_k (\\phi(t_k), \\psi(t_k)), \\space k = 1, \\dots, n $"
   ]
  },
  {
   "cell_type": "markdown",
   "metadata": {},
   "source": [
    "### Определние 6\n",
    "\n",
    "Кривая $ L $ называется спрямляемой, если множество вписанных в неё ломанных ограничено сверху. Длиной спрямляемой кривой называется $ |L| = \\underset{l}{\\sup} |l| $, где точная грань берётся по всем ломаным $ l $, вписаным в кривую $ L $."
   ]
  },
  {
   "cell_type": "markdown",
   "metadata": {},
   "source": [
    "### Лемма 1\n",
    "\n",
    "Пусть ломаные $ l_1, l_2 $ вписаны в кривую $ L, l_1 $ соответствует разбиение $ T_1, l_2 - T_2 $. Если $ T_1 \\subset T_2 $, то $ |l_1| \\leqslant |l_2| $\n",
    "\n",
    "### Доказатесльтво\n",
    "\n",
    "Достаточно доказательство для случая $ T_2 = T_2 \\cup \\{ t' \\} $. Пусть $ T' \\in (t_{k - 1}, t_k); A_{k - 1} = (\\phi(t_{k - 1}, \\psi(t_{k - 1}))), A_k(\\phi(t_k), \\psi(t_k)) $. Тогда $ |l_2| - |l_1| = |A_{k - 1}A'| + |A'A_k| - |A_{k - 1}A_k| \\geqslant 0 $ (неравенство треугольника)"
   ]
  },
  {
   "cell_type": "markdown",
   "metadata": {},
   "source": [
    "### Лемма 2\n",
    "\n",
    "$ \\forall a, b, c \\in \\mathbb{R}: |\\sqrt{a^2 + b^2} - \\sqrt{a^2 + c^2}| \\leqslant |b - c| $\n",
    "\n",
    "### Доказательство\n",
    "\n",
    "Если $ a = b = c = 0 $ то это очевидно. Иначе $ |\\sqrt{a^2 + b^2} - \\sqrt{a^2 + c^2}| = \\left |\\frac{b^2 - c^2}{|\\sqrt{a^2 + b^2} + \\sqrt{a^2 + b^2}} \\right | \\leqslant \\frac{|b - c| \\cdot (|b| + |c|)}{|b| + |c|} = |b - c| $"
   ]
  },
  {
   "cell_type": "markdown",
   "metadata": {},
   "source": [
    "### Теорема 1\n",
    "\n",
    "Пусть $ L = \\{ (x, y) \\space | \\space x = \\phi(t), y = \\psi(T), \\space \\alpha \\leqslant t \\leqslant \\beta \\} $. Если $ \\phi, \\psi \\in C^1[\\alpha, \\beta] $, то кривая $ L $ спрямляема и $ |L| = \\int_\\alpha^\\beta\\limits \\sqrt{(\\phi'(t))^2 + (\\psi(t))^2} dt $\n",
    "\n",
    "### Доказательство\n",
    "\n",
    "Обозначим $ f(t) = \\sqrt{(\\phi'(t))^2 + (\\psi'(t))^2}, \\phi', \\psi' \\in C[\\alpha, \\beta] \\Rightarrow f \\in C[\\alpha, \\beta] \\Rightarrow $ интеграл существует. Обозначим $ I = \\int_\\alpha^\\beta\\limits f(t)dt $. Возьмём $ \\varepsilon > 0 $  \n",
    "\n",
    "Функция $ \\psi' \\in C[\\alpha, \\beta] \\Rightarrow $ равномерно непрерывна $ \\Rightarrow \\exists \\delta(\\varepsilon) > 0 $, т.ч. $ \\forall t', t'' \\in [\\alpha, \\beta], |t' - t''| < \\delta: |\\psi'(t') - \\psi'(t'')| < \\frac{\\varepsilon}{4(\\beta - \\alpha)} $. Пусть $ T = \\{ t_0, t_1, \\dots, t_n \\} $ - разбиение $ [\\alpha, \\beta], \\Delta_T < \\delta $. Пусть ломаная $ l $ вписана в $ L $ и соответсвует рабиению $ T $. Тогда $ |l| = \\sum_{k = 1}^n\\limits \\sqrt{(\\phi(t_k) - \\phi(t_{k - 1}))^2 + (\\psi(t_k) - \\psi(t_{k - 1}))^2} = \\sum_{k = 1}^n\\limits \\sqrt{\\phi'(\\xi_k) \\cdot \\Delta t_k)^2 + ( \\psi'(\\eta_k)\\cdot \\Delta t_k )^2} = (\\xi_k, \\eta_k \\in (t_{k - 1}, t_k)) = \\sum_{k = 1}^n \\sqrt{(\\phi(\\xi_k))^2 + (\\psi(\\eta_k))^2} \\cdot \\Delta t_k $ (2)  \n",
    "\n",
    "Т.к. $ \\phi', \\psi' $ непрерывны $ \\Rightarrow $ ограничены на $ [\\alpha, \\beta] \\Rightarrow |l| \\leqslant \\sqrt{\\underset{\\alpha \\leqslant t \\leqslant \\beta}{\\sup}(\\phi'(t))^2 + \\underset{\\alpha \\leqslant t \\leqslant \\beta}{\\sup}(\\psi'(t))^2 } \\cdot \\sum_{k = 1}^n \\Delta t_k = M \\cdot (\\beta - \\alpha) $\n",
    "\n",
    "Доказали, что множество $ \\{ |l| \\} $ ограничено сверху $ \\Rightarrow L $ спрямляема. Пусть $ V = \\{ t_0, t_1, \\dots, t_n; \\xi_1, \\dots, \\xi_n \\} $ - размеченное разбиение $ [\\alpha, \\beta] $ ($ \\xi_k $ - из соотношения 2)\n",
    "\n",
    "$ \\sigma(V) $ - интегральная сумма для функции $ f $ на $ [a, b]. f \\in R[a, b] \\Rightarrow \\exists \\delta_1(\\varepsilon) > 0 $, т.ч. $ \\forall V, \\Delta_V < \\delta_1: \\space |\\sigma(V) - I| < \\frac{\\varepsilon}{4} $ (3). Возьмём $ \\delta_2 = \\min \\{ \\delta_1, \\delta_2 \\} $; пусть $ \\Delta_t < \\sigma_2 $. Тогда в силу (2) $ ||l| - \\sigma(V)| = |\\sum_{k = 1}^n \\limits \\left(\\sqrt{(\\phi'(\\xi_k))^2 + (\\psi'(\\eta_k))^2} - \\sqrt{(\\psi'(\\xi_k))^2 + (\\psi'(\\xi_k))^2} \\right) \\Delta t_k | \\leqslant \\sum_{k = 1}^n |\\psi'(\\xi_k) - \\psi'(\\eta_k)| \\cdot \\Delta t_k < \\frac{\\varepsilon}{4(\\beta - \\alpha)} \\sum_{k = 1}^n\\limits \\Delta t_k = |L| = \\sup \\{ |l| \\} \\Rightarrow \\exists $ ломаная $ l^* $, соответствующая разбиению $ T^* $, т.ч. $ 0 < |L| - |l^*| < \\frac{\\varepsilon}{2} $. Пусть $ T' $ - измельчение $ L^*, \\Delta_T < \\delta_2; \\space l' $ соответствующая $ T' $. Тогда $ ||L| - I| \\leqslant (|L| - |l'|) + ||l'| - I| < |L| - |l'| + \\frac{\\varepsilon}{2} \\leqslant |L| - |l^*| + \\frac{\\varepsilon}{2} < \\varepsilon \\Rightarrow |L| = I $\n",
    "\n",
    "ч.т.д."
   ]
  },
  {
   "cell_type": "markdown",
   "metadata": {},
   "source": [
    "### Тоерема\n",
    "\n",
    "$ \\phi, \\psi \\in C'[\\alpha, \\beta] $, то $ L = \\{ (x, y) \\space | \\space x = \\phi(t), y = \\psi(t), \\space \\alpha < t < \\beta \\} $ спрямляема и $ |L| = \\int_a^b\\limits \\sqrt{(\\phi'(t))^2 + (\\psi'(t))^2}dt = \\sum_{k = 1}^n\\limits \\sqrt{(\\phi(t_k) - \\phi(t_{k - 1}))^2 + (\\psi(t_k) - \\psi(t_{k - 1}))^2} $\n",
    "\n",
    "### Следствие\n",
    "\n",
    "1. Пусть $ f \\in C'[a, b] $. Тогда график $ L $ этой функции на отрезке $ [a, b] $ является спрямляемой кривой, причём $ |L| = \\int_a^b\\limits \\sqrt{1 + (f'(x))^2}dx $\n",
    "   \n",
    "   ### Доказательство\n",
    "   \n",
    "   Нужно в теореме 1 полодить $ \\phi(t) = t, \\psi(t) = f(t) $\n",
    "\n",
    "2. Пусть кривая $ L $ задана в полярных координатах: $ r = r(\\theta), \\space \\theta_1 \\leqslant \\theta \\leqslant \\theta_2 $. Если $ r \\in C'[\\theta_1, \\theta_2] $, то $ L $ спрямляема, причём $ |L| = \\int_{\\theta_1}^{\\theta_2}\\limits \\sqrt{(r'(\\theta))^2 + (r(\\theta))^2} $\n",
    "   \n",
    "   ### Доказетльство\n",
    "   \n",
    "   $ \\begin{cases} x = r \\cos \\theta \\newline y = r \\sin \\theta \\end{cases} \\Rightarrow $ положим в теореме 1 $ \\begin{cases} \\phi(t) = r(\\theta) \\cos \\theta \\newline \\psi(t) = r(\\theta) \\sin \\theta \\end{cases} $.  \n",
    "   \n",
    "   Значит, $ (\\phi'(\\theta))^2 + (\\psi'(\\theta))^2 = (r'(\\theta)\\cos \\theta - r(\\theta)\\sin \\theta)^2 + (r'(\\theta)\\sin \\theta + r(\\theta)\\cos \\theta)^2 = (r'(\\theta))^2\\cos^2 \\theta - 2 r(\\theta)r'(\\theta)\\cdot \\sin \\theta \\cos \\theta + (r(\\theta))^2\\sin^2 \\theta + (r'(\\theta))^2sin^2 \\theta + 2 r(\\theta)r'(\\theta) \\sin \\theta \\cos \\Theta + (r(\\theta))^2 \\cos^2 \\theta = (r'(\\theta))^2 + (r(\\theta))^2 $\n",
    "\n",
    "    ч.т.д.\n",
    "\n",
    "### Замечание\n",
    "\n",
    "Для длины пространственной кривой $ L = \\{ (x, y, z) \\space | \\space x = \\phi(t), y = \\psi(t), z = \\eta(t), \\space \\alpha \\leqslant t \\leqslant \\beta \\} $ справедливо утверждение (без доказательтва): если $ \\phi, \\psi, \\eta \\in C'[\\alpha, \\beta] $, то $ L $ спрямляема и $ |L| = \\int_a^b\\limits \\sqrt{(\\phi'(t))^2 + (\\psi'(t))^2 + (\\eta'(t))^2}dt $"
   ]
  }
 ],
 "metadata": {
  "kernelspec": {
   "display_name": "Python 3",
   "language": "python",
   "name": "python3"
  },
  "language_info": {
   "codemirror_mode": {
    "name": "ipython",
    "version": 3
   },
   "file_extension": ".py",
   "mimetype": "text/x-python",
   "name": "python",
   "nbconvert_exporter": "python",
   "pygments_lexer": "ipython3",
   "version": "3.7.4"
  }
 },
 "nbformat": 4,
 "nbformat_minor": 4
}
