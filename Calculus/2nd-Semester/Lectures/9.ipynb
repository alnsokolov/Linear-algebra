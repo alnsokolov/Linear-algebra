{
 "cells": [
  {
   "cell_type": "markdown",
   "metadata": {},
   "source": [
    "# 9. Метод приближённого вычисления определённых интегралов"
   ]
  },
  {
   "cell_type": "markdown",
   "metadata": {},
   "source": [
    "### Лемма 1\n",
    "\n",
    "Пусть $ f \\in C[a, b] $. Тогда $ \\forall \\lambda_1, \\lambda_2 > 0, \\space \\forall x_1, \\dots, x_n \\in [a, b] \\space \\exists \\xi \\in [a, b]: $\n",
    "\n",
    "$ f(\\xi) = \\frac{\\lambda_1 f(x_1) + \\dots + \\lambda_n f(x_n)}{\\lambda_1 + \\dots + \\lambda_n} $ (это будем называть усреднением чисел $ f(x_1), \\dots f(x_n) $)\n",
    "\n",
    "### Доказательство\n",
    "\n",
    "Пусть $ m = \\underset{a \\leqslant x \\leqslant b}{f(x)}, \\space M = \\underset{a \\leqslant x \\leqslant b}{f(x)} $. Поскольку $ m \\leqslant f(x_k)\\leqslant M , k = 1, \\dots, n $, то $ M(\\lambda_1 + \\dots + \\lambda_n) \\leqslant \\lambda_1 f(x_1) + \\dots + \\lambda_n f(x_n) \\leqslant M (\\lambda_1 + \\dots + \\lambda_n) \\Rightarrow c = \\frac{\\lambda_1 f(x_1) + \\dots + \\lambda_n f(x_n)}{\\lambda_1 + \\dots + \\lambda_n} \\in [m, M] \\Rightarrow \\exists \\xi \\in [a, b]: \\space f(\\xi) = c $\n",
    "\n",
    "Идея прибилжённых методов:\n",
    "\n",
    "$ f(\\xi)(b - a) = \\int_a^b\\limits f(x)dx \\approx \\frac{\\lambda_1 f(x_1) + \\dots + \\lambda_n f(x_n)}{\\lambda_1 + \\dots + \\lambda_n} (b - a) = f(\\xi) (b - a) $.  \n",
    "То есть $ \\int_a^b\\limits f(x)dx = c(b - a) + R $, где $ R $ - погрешность. Хотим подобрать точки $ x_1, \\dots, x_n $ и числа $ \\lambda_1, \\dots, \\lambda_n $ так, чтобы $ |R| $ был как можно меньше."
   ]
  },
  {
   "cell_type": "markdown",
   "metadata": {},
   "source": [
    "### 1. Метод прямоугольников\n",
    "\n",
    "Пусть $ f \\in C^2[a, b] $. Положим сначала $ a = -\\delta, b = \\delta $. В формуле $ (3): \\space n = 1, x_1 = 0, \\lambda_1 = 1 $. Тогда формула $ (4) $ принимает вид $ \\int_{-\\delta}^\\delta f(x)dx = f(0) \\cdot 2\\delta + R $\n",
    "\n",
    "\\* больше графиков богу графиков! *\n",
    "\n",
    "Пусть $ F(x) $ - первообразная $ f $ на $ [a, b]; \\space \\psi(x) = F(x) - F(-x) $\n",
    "\n",
    "Тогда $ \\int_{-\\delta}^\\delta f(x)dx = F(\\delta) - F(-\\delta) = \\psi(\\delta) $\n",
    "\n",
    "$ \\psi'(x) = f(x) + f(-x) \\Rightarrow \\psi'(0) = 2f(0) $.\n",
    "\n",
    "Разложим $ \\psi(\\delta) $ по формуле Маклорена:\n",
    "\n",
    "$ \\psi(\\delta) = \\psi(0) + \\psi'(0) \\cdot \\delta + \\frac{1}{2!} \\psi''(0)\\delta^2 + \\frac{1}{3!} \\psi'''(0)\\delta^3, \\space 0 < \\xi < \\delta \\Rightarrow \\int_{-\\delta}^\\delta f(x)dx = 2f(0)\\delta + \\frac{\\delta^3}{6} \\psi'''(\\xi) \\Rightarrow R = \\frac{\\delta^3}{6} \\psi'''(\\xi) = \\frac{\\delta^3}{6} (f''(\\xi) + f''(-\\xi)) = \\frac{\\delta^3}{3} \\cdot \\frac{f''(\\xi) + f''(-\\xi)}{2} = f''(\\xi') \\cdot \\frac{(2\\delta)^3}{24} $\n",
    "\n",
    "Пусть теперь $ x_k = a + \\frac{b - a}{2n} \\cdot k, k = 0, 1 \\dots, 2n $. Тогда $ \\int_a^b\\limits f(x)dx = \\sum_{k = 1}^n\\limits \\int_{x_{2k - 2}}^{x_{2k}} f(x)dx = \\sum_{k = 1}^n (f(x_{2k - 1}) \\cdot \\frac{b - a}{n} + R_{2k - 1}) = \\frac{b - a}{n} \\sum_{k = 1}^n\\limits f(x_{2k - 1}) + R $, где $ R = R_1 + R_2 + \\dots + R_{2n - 1} = (\\frac{b - a}{n})^n \\frac{1}{24} \\cdot (f''(\\xi_1) + f''(\\xi_3) + \\dots + f''(\\xi_{2n - 1})) = \\frac{(b - a)^3}{24 \\cdot n^2} \\cdot \\frac{f''(\\xi_1) + \\dots f''(\\xi_{2n - 1})}{n} $\n",
    "\n",
    "$ R = \\frac{(b - a)^3 \\cdot f''(\\xi)}{24 n^2} = \\underline{O} (\\frac{1}{n^2})$"
   ]
  }
 ],
 "metadata": {
  "kernelspec": {
   "display_name": "Python 3",
   "language": "python",
   "name": "python3"
  },
  "language_info": {
   "codemirror_mode": {
    "name": "ipython",
    "version": 3
   },
   "file_extension": ".py",
   "mimetype": "text/x-python",
   "name": "python",
   "nbconvert_exporter": "python",
   "pygments_lexer": "ipython3",
   "version": "3.7.4"
  }
 },
 "nbformat": 4,
 "nbformat_minor": 4
}
