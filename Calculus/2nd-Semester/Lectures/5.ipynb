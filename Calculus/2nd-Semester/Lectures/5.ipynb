{
 "cells": [
  {
   "cell_type": "markdown",
   "metadata": {},
   "source": [
    "# 5. Площадь плоской области"
   ]
  },
  {
   "cell_type": "markdown",
   "metadata": {},
   "source": [
    "Рассмотрим множество $ \\mathbb{R}^2 $ всех точек плоскости."
   ]
  },
  {
   "cell_type": "markdown",
   "metadata": {},
   "source": [
    "### Определение 1\n",
    "\n",
    "$ \\varepsilon $-окрестности точки $ M_0(x_0, y_0) $ называется множество $ B_\\varepsilon(M_0) = \\{ (x, y) \\space | \\space (x - x_0)^2 + (y - y_0)^2 < \\varepsilon^2 \\} $"
   ]
  },
  {
   "cell_type": "markdown",
   "metadata": {},
   "source": [
    "### Определение 2\n",
    "\n",
    "Точка $ M_0(x_0, y_0) $ называется внутренней точкой множества $ A \\subset \\mathbb{R}^2 $, если $ \\exists \\varepsilon > 0 $, т.ч. $ B_\\varepsilon(M_0) \\subset A $.\n",
    "\n",
    "Точка $ M_0 $ называется внешней точкой множества $ A $, если $ \\exists \\varepsilon > 0 $, т.ч. $ B_\\varepsilon(M_0) \\subset (\\mathbb{R}^2 \\space \\backslash \\space A) $.\n",
    "\n",
    "Точка $ M_0 $ называется граничной точкой множества $ A $, если $ \\forall \\varepsilon > 0: \\space B_\\varepsilon(M_0) \\cap A \\neq \\emptyset $ и $ B_\\varepsilon(M_0) \\cap (\\mathbb{R}^2 \\space \\backslash \\space A) \\neq \\emptyset $\n",
    "\n",
    "Совокупность всех граничных точек называется его границей и обозначается $ \\delta A $ \\* не совсем точный символ, надо заменить \\*"
   ]
  },
  {
   "cell_type": "markdown",
   "metadata": {},
   "source": [
    "### Определение 3\n",
    "\n",
    "Множество $ A $ называется открытым, если все его точки - внутренние. Множество $ A $ называется замкнутым, если его дополнение $ (\\mathbb{R}^2 \\space \\backslash \\space A) $ открыто.  \n",
    "Множество называется ограниченным, если $ \\exists R > 0: \\space A \\subset B_R(0) $"
   ]
  },
  {
   "cell_type": "markdown",
   "metadata": {},
   "source": [
    "### Определение 4\n",
    "\n",
    "Плоской фигурой $ F $ будем называть любое ограниченное множество $ R \\subset \\mathbb{R}^2 $"
   ]
  },
  {
   "cell_type": "markdown",
   "metadata": {},
   "source": [
    "### Определение 5\n",
    "\n",
    "Простейшими будем называть плоские фигуры, представляющие собой конечные объединения прямоугольников со сторонами, параллельными координатным осям. (Можем считать, что любые 2 прямоугольника, составляющие простую фигуру, могут пересекаться только по части границ)\n",
    "\n",
    "### Замечание\n",
    "\n",
    "Любая простейшая фигура $ P $ имеет площадь $ S(P) \\in \\mathbb{R} $. Она обладает свойствами:\n",
    "1. $ S(P) \\geqslant 0 \\space \\forall P $ (неотрицательность)\n",
    "2. Если $ P_1 = P_2 $, то $ S(P_1) = S(P_2) $ (инвариантность)\n",
    "3. Если $ P_1 \\subset P_2 $, то $ S(P_1) \\leqslant S(P_2) $ (монотонность)\n",
    "4. Если $ P = P_1 \\cup P_1 $ и $ P_1 \\cap P_2 = \\emptyset $, то $ S(P) = S(P_1) + S(P_2) $\n",
    "\n",
    "Зотим обобщить понятие площади на произвольную плоскую фигуру."
   ]
  },
  {
   "cell_type": "markdown",
   "metadata": {},
   "source": [
    "### Определение 6\n",
    "\n",
    "Пусть $ F $ - плоская фигура. Её верхней (нижней) площадью называется $ S^*(F) = \\underset{P \\subset F}{\\inf} \\{ S(P) \\} \\space (S_*(F) = \\underset{P \\supset F}{\\inf} \\{ S(P) \\}) $, где $ \\sup $ берётся по всем фигурам, вписанным в $ F $, а $ \\inf $ - по описанным вокруг $ F $.\n",
    "\n",
    "### Замечание\n",
    "\n",
    "Верхняя площадь существует, поскольку всегда $ S(Q) \\geqslant 0 $, нижняя площадь существует в силу ограниченности $ F $. Поскольку всегда $ P \\subset F \\subset Q $, то $ S(P) \\leqslant S(Q) \\Rightarrow S_*(F) \\leqslant S^*(F) $"
   ]
  },
  {
   "cell_type": "markdown",
   "metadata": {},
   "source": [
    "### Определение 7\n",
    "\n",
    "Фигура $ F $ называется квадратируемой, если $ S_*(F) = S^*(F) $. Площадью квадратируемой фигуры $ F $ называется $ S(F) = S_*(F) = S^*(F) $\n",
    "\n",
    "Пример: фигура $ F = \\{ (x, y) \\space | \\space 0 \\leqslant x \\leqslant 1, 0 \\leqslant y \\leqslant 1; \\space x, y \\in \\mathbb{Q} \\} $ на является квадратируемой. $ S^*(F) = 1 $, т.к. $ Q = [0, 1] \\times [0, 1] $ и уменьшить нельзя. Любая простейшая фигура $ P $ - конечное объединение точек $ \\Rightarrow S_*(F) = 0 $"
   ]
  },
  {
   "cell_type": "markdown",
   "metadata": {},
   "source": [
    "### Лемма 1\n",
    "\n",
    "Фигура $ F $ квадратируема $ \\Leftrightarrow \\space \\forall \\varepsilon > 0 \\space \\exists P, Q $ - простейшие, т.ч. $ P \\subset F \\subset Q $, причём $ S(Q) - S(P) < \\varepsilon $.\n",
    "\n",
    "### Доказательство\n",
    "\n",
    "$ \\Rightarrow | S(F) $ - площадь $ F $, причём $ S(F) = \\underset{P \\subset F}{\\sup} \\{ S(P) \\} = \\underset{Q \\supset F}{\\inf} \\{ S(P) \\} $. Возьмём $ \\varepsilon > 0, \\space \\exists P $ - простейшая, т.ч. $ P \\subset F, \\space 0 \\leqslant S(F) - S(P) < \\frac{\\varepsilon}{2} $ (по определению $ \\sup $)\n",
    "\n",
    "$ \\Leftarrow | \\forall \\varepsilon > 0 \\space \\exists P, Q $ - простейшие т.ч. $ 0 \\leqslant S(Q) - S(P) < \\varepsilon $. Поскольку $ S(P) \\leqslant S_*(F) \\leqslant S^*(F) \\leqslant S(Q) $ (из определения), то $ 0 \\leqslant S^*(F) - S_*(F) < \\varepsilon \\Rightarrow S_*(F) = S^*(F) $\n",
    "\n",
    "ч.т.д."
   ]
  },
  {
   "cell_type": "markdown",
   "metadata": {},
   "source": [
    "### Лемма 2\n",
    "\n",
    "Фигура $ F $ квадратируема $ \\Leftrightarrow \\space \\forall \\varepsilon > 0 \\space \\exists F_1, F_2 $ - квадратируемые фигуры, т.ч. $ F_1 \\subset F \\subset F_2 $, причём $ S(F_2) - S(F_1) < \\varepsilon $\n",
    "\n",
    "### Доказательство\n",
    "\n",
    "$ \\Rightarrow | $ сразу следует из леммы 1, т.к. любая простейшая фигура квадратируема\n",
    "\n",
    "$ \\Leftarrow | F_1, F_2 $ - квадратируемы $ |rightarrow \\exists P_1, P_2, Q_1, Q_2 $ - простейшие, т.ч. $ P_1 \\subset F_1 \\subset Q_1, P_2 \\subset F_2 \\subset Q_2 $, причём $ S(Q_1) - S(P_1) < \\frac{\\varepsilon}{4}; \\space S(Q_2) - S(P_2) < \\frac{\\varepsilon}{4} $ (лемма 1). Пусть $ F_1 \\subset F \\subset F_2, S(F_2) - S(F_1) < \\frac{\\varepsilon}{2} $. Тогда $ P_1 \\subset F \\subset Q_2, \\space P_1, Q_2 $ - простейшие, причём $ S(Q_2) - S(P_1) = \\underset{< \\frac{\\varepsilon}{4}}{\\underbrace{S(Q_2) - S(F_2)}} + \\underset{< \\frac{\\varepsilon}{2}}{\\underbrace{S(F_2) - S(F_1)}} + \\underset{< \\frac{\\varepsilon}{4}}{\\underbrace{S(F_2) - S(P_1)}} < \\varepsilon \\Rightarrow F $  - квадратируема (по лемме 1)\n",
    "\n",
    "ч.т.д."
   ]
  },
  {
   "cell_type": "markdown",
   "metadata": {},
   "source": [
    "### Определение 8\n",
    "\n",
    "Криволинейной трапецией называется плоская фигура $ F $, ограниченная графиком функции $ y = f(x) \\space \\left(f \\in C[a, b]; \\space f(x) \\geqslant 0 \\space\\space \\forall x \\in [a, b] \\right) $, отрезком $ [a, b] $ оси $ Ox $ и прямыми $ x = a, \\space x = b $"
   ]
  },
  {
   "cell_type": "markdown",
   "metadata": {},
   "source": [
    "### Теорема 1\n",
    "\n",
    "Криволинейная трапеция $ F $ квадратируема, причём $ S(F) = \\int_a^b\\limits f(x)dx $\n",
    "\n",
    "### Доказательство\n",
    "\n",
    "$ f \\in C[a, b] \\Rightarrow f \\in R[a, b] $ возьмём $ \\varepsilon > 0. \\space \\exists T = \\{ x_0, x_1, \\dots, x_n \\} $ - разбиение $ [a, b] $, т.ч. $ S(T) - s(T) < \\varepsilon $.  \n",
    "Обозначим $ Q = \\bigcup_{k = 1}^n\\limits Q_k $, где $ Q_k $ - прямоугольник со сторонами $ [x_{r - 1}, x_r] $ и $ [0, M_k] $. Очевидно, что $ Q $ - простейшаяб $ Q > F. \\space S(Q) = \\sum_{k = 1}^n\\limits S(Q_k) = \\sum_{k = 1}^n\\limits M_x \\cdot \\Delta x_k = S(T) $. Аналогично $ S(T) = S(P) $, где $ P = \\bigcup_{k = 1}^n\\limits P_k, \\space P_k $ - прямоугольник $ [x_{k - 1}, x_k] \\times [0, m_k]. \\space P $ - простейшая, $ P \\subset F $. Значит, $ P \\subset F \\subset Q, \\space S(Q) - S(P) < \\varepsilon \\Rightarrow F $ квадратируема.  \n",
    "Далее, $ s(T) \\leqslant \\int_a^b\\limits f(x)dx \\leqslant S(T) \\Leftrightarrow S(P) \\leqslant S(F) \\leqslant S(Q) $. Значит $ |S(F) - \\int_a^b\\limits f(x)dx| < \\varepsilon $. В силу произвольности выбора $ \\varepsilon > 0: \\space S(F) = \\int_a^b\\limits f(x)dx $\n",
    "\n",
    "ч.т.д."
   ]
  },
  {
   "cell_type": "markdown",
   "metadata": {},
   "source": [
    "$ f \\in C[a, b], \\space f(x) \\geqslant 0 \\Rightarrow S(F) = \\int_a^b\\limits f(x)dx $. Предположим, что кривая $ L $ задана параметрически.  \n",
    "$ \\begin{cases} x = \\phi(t) \\newline y = \\psi(t) \\end{cases}, \\space \\alpha \\leqslant t \\leqslant \\beta $. Тогда $ S(F) = -\\int_\\alpha^\\beta\\limits \\psi(t)\\phi'(t)dt $"
   ]
  },
  {
   "cell_type": "markdown",
   "metadata": {},
   "source": [
    "### Определение 9\n",
    "\n",
    "Криволинейным сектором называется плосская фигура, ограниченная лучами $ \\phi = \\alpha, \\phi = \\beta $ и кривой $ r = r(\\phi) $, заданой в полярных координатах ( $ r \\in C[\\alpha, \\beta] $ )"
   ]
  },
  {
   "cell_type": "markdown",
   "metadata": {},
   "source": [
    "### Теорема 2. Площадь криволинейного сектора\n",
    "\n",
    "Криволинейный сектор $ F $ - квадратируемая фигура, причём $ S(F) = \\frac{1}{2} \\int_\\alpha^\\beta\\limits r^2(\\phi)dt $\n",
    "\n",
    "### Доказательство\n",
    "\n",
    "$ r \\in C[\\alpha, \\beta] \\Rightarrow \\frac{1}{2} r^2 \\in R[\\alpha, \\beta] $. Возьмём $ \\varepsilon > 0. \\space \\exists T = \\{ \\phi_0, \\phi_1, \\dots, \\phi_n \\} $ - разбиение $ [\\alpha, \\beta] $, т.ч. $ S_{\\frac{1}{2}r^2}(T) - s_{\\frac{1}{2}r^2}(T) < \\varepsilon $.  \n",
    "\n",
    "Обозначим $ m_k = \\underset{\\phi_{k - 1} \\leqslant \\phi \\leqslant \\phi_k}{\\inf} r(\\phi), M_k = \\underset{\\phi_{k - 1} \\leqslant \\phi \\leqslant \\phi_k}{\\sup} r(\\phi) $. Тогда $ s_{\\frac{1}{2}r^2} = \\sum_{k = 1}^n\\limits \\frac{1}{2} m_k^2 \\cdot \\Delta \\phi_k = \\cdots $\n",
    "\n",
    "Далее, $ s(T) \\leqslant \\int_\\alpha^\\beta\\limits \\frac{1}{2} r^2(\\phi)d\\phi \\leqslant S(T) \\Leftrightarrow S(F_1) \\leqslant S(F) \\leqslant S(F_2) \\Rightarrow S(F) = \\int_\\alpha^\\beta\\limits \\frac{1}{2} r^2(\\phi)d \\phi $\n",
    "\n",
    "ч.т.д.\n",
    "\n",
    "#### Пример\n",
    "\n",
    "$ S(F) = ? \\space \\space F $ ограничена кривой $ r = \\sin(4 \\phi) $.\n",
    "\n",
    "$ r \\geqslant 0 \\Leftrightarrow \\sin(4 \\phi) \\Leftrightarrow 2 \\pi n \\leqslant 4 \\phi \\leqslant \\pi + 2 \\pi n \\Leftrightarrow \\frac{\\pi n}{2} \\leqslant \\phi \\leqslant \\frac{\\pi}{4} + \\frac{\\pi n}{2} $  \n",
    "\n",
    "$ S(F) = 4 \\cdot \\frac{1}{2} \\int_0^{\\frac{\\pi}{4}}\\limits \\sin^2 (4 \\phi) d \\phi = 2 \\int_0^{\\frac{\\pi}{4}}\\limits \\frac{1 - \\cos (8 \\phi)}{2} d \\phi = \\frac{\\pi}{4} - \\frac{\\sin (8 \\phi)}{8}|_0^{\\frac{\\pi}{4}} = \\frac{\\pi}{4} $\n",
    "\n",
    "### Замечание\n",
    "\n",
    "Справедливо следующее утверждение (без доказательства): плоская фигура $ F $ квадратируема $ \\Leftrightarrow S(\\delta F) = 0 $"
   ]
  }
 ],
 "metadata": {
  "kernelspec": {
   "display_name": "Python 3",
   "language": "python",
   "name": "python3"
  },
  "language_info": {
   "codemirror_mode": {
    "name": "ipython",
    "version": 3
   },
   "file_extension": ".py",
   "mimetype": "text/x-python",
   "name": "python",
   "nbconvert_exporter": "python",
   "pygments_lexer": "ipython3",
   "version": "3.7.4"
  }
 },
 "nbformat": 4,
 "nbformat_minor": 4
}
