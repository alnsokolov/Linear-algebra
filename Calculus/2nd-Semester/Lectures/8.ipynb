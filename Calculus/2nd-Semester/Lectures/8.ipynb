{
 "cells": [
  {
   "cell_type": "markdown",
   "metadata": {},
   "source": [
    "# 8. Методы вычисления корней уравнения"
   ]
  },
  {
   "cell_type": "markdown",
   "metadata": {},
   "source": [
    "$ f(x) = f_1(x) - f_2(x) $\n",
    "\n",
    "$ f(x) = 0 \\space\\space (1) $\n",
    "\n",
    "Пусть известно, чтона некоторос отрезке $ [a, b] $ функция $ f $ строго монотонна и $ f(a)f(b) < 0 $. Тогда $ \\exists!c \\in [a, b]: f(c) = 0 $"
   ]
  },
  {
   "cell_type": "markdown",
   "metadata": {},
   "source": [
    "#### Деление отрезка пополам\n",
    "\n",
    "Делим $ [a, b] $ и обозначаем через $ [a_1, b_b] $ ту половину, для которой: $ f(a_1)f(b_1) < 0 $. Если такой половины нет, то $ c = \\frac{a + b}{2} $.  \n",
    "Далее, если корень не найде, делим отрезок $ [a_1, b_1] $ пополам и т.д.  \n",
    "В итоге, либо корень получен, либо получена бесконечная последовательность отрезков $ [a_1, b_1] \\supset [a_2, b_2] \\supset \\dots \\supset [a_n, b_n] \\subset \\dots. b_n - a_n = \\frac{b - a}{2^n} \\underset{n \\to +\\infty}{\\to} 0 \\Rightarrow \\exists! c = \\bigcap_{i = 1}^{+\\infty} [a_i, b_i] $. Это и есть корень.  \n",
    "Погрешность на $ n $-ом шаге: $ \\frac{b - a}{2^n} $. На практике часто удобно вмето уравнения $ (1) $ рассматривать уравнение $ F(x) = x \\space\\space (2) $, где $ F $ строится по $ f $ так, чтобы уравнения $ (1) $ и $ (2) $ были эквивалентны на отрезке $ [a, b] $. "
   ]
  },
  {
   "cell_type": "markdown",
   "metadata": {},
   "source": [
    "### Определение 1\n",
    "\n",
    "Последовательность точек $ \\{ x_n \\}_{n = 0}^{+\\infty} $ называется итерационной последовательностью, построенной по функции $ F $, если все точки последней лежат в области определения $ F $ и $ x_n = F(x_{n - 1}), \\space n \\in \\mathbb{N} $"
   ]
  },
  {
   "cell_type": "markdown",
   "metadata": {},
   "source": [
    "### Лемма 1\n",
    "\n",
    "Пусть $ F \\in C[a, b], \\space \\{x_n\\}_{n = 0}^{+\\infty} $ - итерационная последовательность, построенная по $ F, x_n \\in [a, b], \\space n = 0, 1, \\dots $ Тогда, если $ \\exists \\underset{n \\to +\\infty}{\\lim} x_n = c $, то $ c $ - корень уравнения $ (2) $.\n",
    "\n",
    "### Доказательство\n",
    "\n",
    "$ x_n \\in [a, b] \\Rightarrow $ если $ c = \\underset{n \\to +\\infty}{\\lim} x_n $, то $ c\\in [a, b] $. Значит, функция $ F $ непрерывна в точке $ c \\Rightarrow \\underset{n \\to +\\infty}{\\lim} F(x_n) = \\underset{n \\to +\\infty}{\\lim} x_{n + 1} = F(c) $ \n",
    "\n",
    "ч.т.д."
   ]
  },
  {
   "cell_type": "markdown",
   "metadata": {},
   "source": [
    "Предположим, что функция $ f \\in C^1[a, b], f' $ монотонная и сохраняет знак на $ [a, b] $. Это означает, что возможны 4 ситуации:\n",
    "1. $ f' > 0 $ и $ \\nearrow $;\n",
    "2. $ f' < 0 $ и $ \\searrow $;\n",
    "3. $ f' > 0 $ и $ \\searrow $;\n",
    "4. $ f' < 0 $ и $ \\nearrow $;\n",
    "\n",
    "Будем подробно рассматривать случай 1. По-прежнему получается, что $ f(x)\\cdot f(x) < 0 $\n",
    "\n",
    "\\* график *\n",
    "\n",
    "Пусть $ F(x) = \\begin{cases} x - \\frac{f(x) \\cdot (b - x)}{f(b) - f(x)}, &a < x < b \\newline b - \\frac{f(b)}{f'(b)}, x = b \\end{cases} $. Тогда $ F \\in C[a, b] $  \n",
    "Заметим, что уравнение $ F(x) = x $ на $ [a, b] $ экивалентно уравнению $ f(x) = 0 $"
   ]
  },
  {
   "cell_type": "markdown",
   "metadata": {},
   "source": [
    "### Теорема 1\n",
    "\n",
    "Пусть $ x_n = F(x_{n - 1}) $, тогда $ \\exists \\underset{n \\to +\\infty}{\\lim} x_n = c $, где $ c $ - корень уравнения $ (1) $.\n",
    "\n",
    "### Доказательство\n",
    "\n",
    "Покажем (по индукции), что последовательность $ \\{ x_n \\} $ не убывает, и $ x_n \\in [a, c] $, где $ c $ - корень уравнения $ (1) $.\n",
    "\n",
    "\n",
    "$ x_0 = a \\in [a, b]. \\space x_{n + 1} = F(x_n) = x_n - \\frac{f(x_0) (b - x_0)}{f(b) - f(x_0)} = x_n + \\frac{(f(c) - f(x_n))(b - x_n)}{f(b) - f(c) + f(c) - f(x_n)} $ (по теореме лагранжа; $ \\xi_n \\in (x_b, c); \\xi \\in (c, b) $) $ = x_n + \\frac{f'(\\xi_n)(c - x_n)(b - x_n)}{f'(\\xi)(b - c) + f'(\\xi_n)(c - x_n)} \\leqslant x_n + \\frac{f'(\\xi_n)(c - x_n)(b - x_n)}{f'(\\xi_n)(b - c) + f'(\\xi_n)(c - x_n)} = x_n + c - x_n = c $. Значит, если $ x_n \\leqslant c $, то $ x_{n + 1} \\leqslant c $. При этом, если $ x_n = c $, то $ x_{n + 1} = x_n - 0 = x_n = c $.  \n",
    "Кроме того, $ x_{n + 1} = x_n - \\frac{f(x_n)(b - x_n)}{f(b) - f(x_n)} \\Rightarrow $ если $ x_n = c $, то $ f(x_n) = 0 $ и $ x_{n + 1} = x_n $;  \n",
    "если $ x_n < c $, то $ f(x_n) < 0 \\Rightarrow x_{n + 1} > x_n  $. Мы доказали, что $ \\{x_n\\} $ монотонна и ограничена, значит она сходится; $ F \\in C[a, b], \\space x_n \\in [a, b], \\space n = 0, 1 \\dots \\Rightarrow $ в силу леммы 1 $ \\underset{n \\to +\\infty}{x_n} = C$\n",
    "\n",
    "ч.т.д."
   ]
  },
  {
   "cell_type": "markdown",
   "metadata": {},
   "source": [
    "#### Геометрический смысл метода хорд"
   ]
  },
  {
   "cell_type": "markdown",
   "metadata": {},
   "source": [
    "\\* график *"
   ]
  },
  {
   "cell_type": "markdown",
   "metadata": {},
   "source": [
    "Напишем уравнение хорды, соединяющей точки $ (x_n, f(x_n)) $ и $ (b, f(b)): \\space \\frac{x - x_n}{b - x_n} = \\frac{y - f(x_n)}{f(b) - f(x_n)} $. Значит $ y = 0 \\Leftrightarrow x = x_n - \\frac{f(x_n)(b - x_n)}{f(b) - f(x_n)} = F(x_n) = x_{n + 1} $. Значит, $ x_{n + 1} $ - это абсцисса точки пересечения с осью $ Ox $ хорды, соединяющей $ (x_n, f(x_n)) $ и $ (b, f(b)) $\n",
    "\n",
    "#### Замечание\n",
    "\n",
    "Случай 2 рассматривается аналогично:\n",
    "\n",
    "\\* ещё график *\n",
    "\n",
    "В случаях 3 и 4 нужно взять $ F(x) = \\begin{cases} x - \\frac{f(x)(x - a)}{f(x) - f(a)}, a < x \\leqslant b \\newline a - \\frac{f(a)}{f'(a)}, x = a \\end{cases} $\n",
    "\n",
    "\\* и ещё *"
   ]
  },
  {
   "cell_type": "markdown",
   "metadata": {},
   "source": [
    "### 3. Метод касательных (метод Ньютона)\n",
    "\n",
    "Пусть $ F(x) = x - \\frac{f(x)}{f'(x)}, \\space a \\leqslant x \\leqslant b $. Очевидно, что $ F \\in C[a, b] $ и уравнения $ (1) $ и $ (2) $ эквивалентны."
   ]
  },
  {
   "cell_type": "markdown",
   "metadata": {},
   "source": [
    "### Тоерема 2\n",
    "\n",
    "Пусть $ x_{n + 1} = F(x_n), n = 0, 1, \\dots \\space x_0 = b $. Тогда $ \\exists \\underset{n \\to +\\infty}{\\lim} x_n = c $, где $ c $ - корень уравнения $ (1) $.\n",
    "\n",
    "### Доказательство\n",
    "\n",
    "Покажем по индукции, что $ \\{ x_n \\} $ не возрастает и $ x_n \\in [c, b] $, где $ c $ - корень уравнения $ (1) $. $ x_0 = b \\in [c, b], \\space x_{n + 1} = x_n - \\frac{f(x_n)}{f'(x_n)} = x_n + \\frac{f(c) - f(x_n)}{f'(x_n)} = x_n + \\frac{f'(\\xi_n)(c - x_n)}{f'(x_n)} \\geqslant x_N + \\frac{f'(x_n)(c - x_n)}{f'(x_n)} = c $. Если $ x_n = c $, то $ x_{n + 1} = x_n = c $. Кроме того, $ x_{n + 1} = x_n - \\frac{f(x_n)}{f'(x_n)} $  \n",
    "Если $ x_n = c $, то $ x_{n + 1} = x_n $. Если $ x_n > c $, то $ f(x_n) > 0; \\space f'(x_n) > 0 \\Rightarrow x_{n + 1} < x_n $.  \n",
    "Последовательность $ \\{x_n\\} $ монотонна и ограничена $ \\Rightarrow $ сходится. В силу леммы 1: $ \\underset{n \\to +\\infty}{\\lim} x_n = c $\n",
    "\n",
    "ч.т.д."
   ]
  },
  {
   "cell_type": "markdown",
   "metadata": {},
   "source": [
    "### Геометрический смысл метода Ньютона\n",
    "\n",
    "\\* и ещё *\n",
    "\n",
    "Напишем уравнение касательной к графику функции $ f $ в точке $ (x_n, f(x_n)): \\space y = f'(x_n) (x - x_n) + f(x_n) $\n",
    "\n",
    "Значит, $ x_{n + 1} $ - абсцисса точки пересечения с осью $ Ox $ касательной, проведённой к графику $ f $ в точке $ (x_n, f(x_n)) $.\n",
    "\n",
    "Случай 2 рассматривается аналогично. В случаях 3 и 4 надо взять $ x_0 = a $"
   ]
  },
  {
   "cell_type": "markdown",
   "metadata": {},
   "source": [
    "### Пограничность методов хорд и касательных\n",
    "\n",
    "\\* ещё *\n",
    "\n",
    "$ f(x_n) - f(c) = f'(\\xi_n)(x_n - c) \\Rightarrow |x_n - c| \\leqslant \\frac{|f(x_n)|}{m} $, где $ m = \\underset{a \\leqslant x \\leqslant b}{|f'(x)|} > 0 $\n",
    "\n",
    "#### Замечание\n",
    "\n",
    "1. Можно чередовать методы хорд и касательных\n",
    "\n",
    "\\* вы догадались *\n",
    "\n",
    "На практике применяют модифицированный метод Ньютона: $ x_{n + 1} = x_n - \\frac{f(x_n)}{f'(0)} $"
   ]
  }
 ],
 "metadata": {
  "kernelspec": {
   "display_name": "Python 3",
   "language": "python",
   "name": "python3"
  },
  "language_info": {
   "codemirror_mode": {
    "name": "ipython",
    "version": 3
   },
   "file_extension": ".py",
   "mimetype": "text/x-python",
   "name": "python",
   "nbconvert_exporter": "python",
   "pygments_lexer": "ipython3",
   "version": "3.7.4"
  }
 },
 "nbformat": 4,
 "nbformat_minor": 4
}
