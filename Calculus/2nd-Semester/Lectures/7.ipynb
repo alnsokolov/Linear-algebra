{
 "cells": [
  {
   "cell_type": "markdown",
   "metadata": {},
   "source": [
    "# 7. Несобственный интеграл"
   ]
  },
  {
   "cell_type": "markdown",
   "metadata": {},
   "source": [
    "# Определение 1\n",
    "\n",
    "Пусть функция $ f \\in R[a, A] \\space \\forall A > a $.  \n",
    "\n",
    "Несобственный интеграл 1-го рода у функции $ f $ на промежутке $ [a, +\\infty) $ называется выражение $ \\underset{A \\to +\\infty}{\\lim} \\int_a^A\\limits f(x)dx $ и обозначается $ \\int_a^{+\\infty}\\limits f(x)dx $. Если предел существует и конечен, то говорят, что интеграл сходится. Иначе говорят, что он расходится. Аналогично интеграл $ \\int_{-\\infty}^a\\limits f(x)dx = \\underset{A \\to +\\infty}{\\lim} \\int_{-A}^a\\limits f(x)dx $, где $ f \\in R[-A, a] \\forall A > a $. По определению  $ \\int_{-\\infty}^{+\\infty}\\limits f(x)dx = \\underset{A_1 \\to +\\infty}{\\lim} \\int_{-A_1}^a\\limits f(x)dx + \\underset{A_2 \\to +\\infty}{\\lim} \\int_a^{A_2}\\limits f(x)dx, \\space f \\in R[-A_1, A_2] \\forall A_1, A_2: \\space -A_1 \\leqslant A_2 $. Таким образом $ \\int_{-\\infty}^{+\\infty}\\limits = \\int_{-\\infty}^a f(x)dx + \\int_a^{+\\infty} f(x)dx $, причём интеграл в левой части сходится $ \\Leftrightarrow $ сходятся оба интеграла в правой части.\n",
    "\n",
    "### Пример\n",
    "\n",
    "$ \\int_0^{+\\infty} e^{-x}dx = \\underset{A \\to +\\infty}{\\lim} \\int_0^A\\limits e^{-x} = \\underset{A \\to +\\infty}{\\lim} \\left(-e^{-x} |_0^A\\right) = 1 \\Leftrightarrow \\int_0^{+\\infty} e^{-x}dx = -e^{-x}|_0^{+\\infty} = 0 + 1 = 1 $"
   ]
  },
  {
   "cell_type": "markdown",
   "metadata": {},
   "source": [
    "### Теорема 1. Замена переменной в несобственном интеграле\n",
    "\n",
    "Пусть  \n",
    "1. $ f \\in C[a, A] \\space \\forall A \\geqslant a; $\n",
    "2. $ \\phi \\in C^1[\\alpha, +\\infty); $\n",
    "3. $ \\phi $ возростает на $ [\\alpha, +\\infty); \\space \\phi(\\alpha) = a; \\underset{t \\to +\\infty}{\\lim} \\phi(t) = +\\infty $\n",
    "\n",
    "Тогда $ \\int_a^{+\\infty}\\limits f(x)dx = \\int_\\alpha^{+\\infty}\\limits f(\\phi(t))\\phi'(t)dt $, причём интегралы сходятся или расходятся одновременно.\n",
    "\n",
    "### Доказательство\n",
    "\n",
    "Пусть $ A > a. \\phi $ непрерывна, возрастает, $ \\phi(t) \\underset{t \\to +\\infty}{\\to} +\\infty \\Rightarrow \\exists! p > \\alpha: \\phi(p) = a $. Тогда по теореме о замене переменной в определённом интеграле, $ \\int_a^A\\limits f(x)dx = \\int_\\alpha^\\beta\\limits f(\\phi(t))\\phi'(t)dt $. Заметим, что $ \\alpha \\to \\infty \\Leftrightarrow \\beta \\to +\\infty $. Значит $ \\underset{A \\to +\\infty}{\\lim} \\int_a^A\\limits f(x)dx = \\underset{\\beta \\to +\\infty}{\\lim} \\int_\\alpha^\\beta f(\\phi(t))\\phi'(t)dt $.\n",
    "\n",
    "#### Замечание\n",
    "\n",
    "Можно рассмотреть случай $ \\phi \\in C^1(-\\infty, \\alpha], \\space \\phi $ убывает, $ \\phi(t) \\underset{t \\to -\\infty}{\\to} +\\infty, \\phi(\\alpha) = a $. Тогда $ \\int_a^{+\\infty}\\limits f(x)dx = \\int_\\alpha^{-\\infty}\\limits f(\\varphi(t))\\varphi'(t)dt = - \\int_{-\\infty}^\\alpha f(\\varphi(t)) \\varphi'(t)dt \\Rightarrow $ интеграл сходится $ \\Leftrightarrow p < -1 $.\n",
    "\n",
    "Например, хотим исследовать на сходимость $ \\int_1^{+\\infty} \\frac{arctg^3 \\space x}{x^4 + 5 x^2 + 100}dx $  \n",
    "$ \\forall x \\geqslant 1: |f(x)| \\leqslant \\frac{(\\frac{\\pi}{2})^3}{x^4} = c \\cdot \\frac{1}{x^4} $ (можно сказать, что $ \\underset{x \\to +\\infty}{f(x)} \\equiv \\frac{c}{x^4} $) $ | \\space p = -4 < -1 \\Rightarrow $ интеграл сходится"
   ]
  },
  {
   "cell_type": "markdown",
   "metadata": {},
   "source": [
    "### Теорема 2. Интегрирование по частям\n",
    "\n",
    "Пусть $ f, g \\in C^2[a, +\\infty) $ и $ \\exists \\underset{A \\to +\\infty}{\\lim} f(A)g(A) = L $. Тогда интеграл $ \\int_a^{+\\infty} f'(x)g(x)dx $ и $ \\int_a^{+\\infty} f(x)g'(x)dx $ сходятся и $ \\int_a^{+\\infty} f(x)g'(x)dx = f(x)g(x)|_a^{+\\infty} - \\int_a^{+\\infty} f'(x)g(x)dx $\n",
    "\n",
    "### Доказетельство\n",
    "\n",
    "По теореме об интегрировании по чатям в определённом интеграле $ \\forall A > a $  \n",
    "$ \\int_a^A\\limits f(x)g'(x)dx = f(x)g(x)|_a^A - \\int_a^{+\\infty} f'(x)g(x)dx $. Остаётся перейти к пределу в последнем соотношении.\n",
    "\n",
    "ч.т.д.\n",
    "\n",
    "#### Пример\n",
    "\n",
    "$ \\int_0^{+\\infty}\\limits \\sin x \\space e^{-x}dx = \\int_0^{+\\infty}\\limits \\sin x \\space d(e^{-x}) = -\\sin x \\space e^{-x} |_0^{+\\infty} + \\int_a^{+\\infty}\\limits e^{-x} \\cos x dx = -e^{-x}|_a^{+\\infty} + \\int_0^{+\\infty}\\limits e^{-x} (-\\sin x)dx = 1 - I \\Rightarrow I = 1 - I \\Rightarrow I = 0.5 $"
   ]
  },
  {
   "cell_type": "markdown",
   "metadata": {},
   "source": [
    "### Теорема 3. Критерий сходимости несобственного интеграла 1-го рода\n",
    "\n",
    "Пусть $ f \\in R[a, A] \\space \\forall A > a $. Интеграл $ \\int_a^{+\\infty} f(x)dx $ сходится $ \\Leftrightarrow \\forall \\varepsilon > 0, \\space \\exists B = B(\\varepsilon) > a $, т.ч. $ \\forall A_1, A_2> B: |\\int_{A_1}^{A_2}\\limits f(x)dx| < \\varepsilon $\n",
    "\n",
    "### Доказательство\n",
    "\n",
    "Обозначим $ F(A) = \\int_a^A\\limits f(x)dx $. Согласно критерию Коши существования предела функции на $ +\\infty: \\space \\exists \\underset{A \\to +\\infty}{\\lim} F(A) \\Leftrightarrow \\forall \\varepsilon > 0, \\space \\exists B = B(\\varepsilon) > a $, т.ч. $ \\forall A_1, A_2 > B: |F(A_1) - F(A_2)| < \\varepsilon $"
   ]
  },
  {
   "cell_type": "markdown",
   "metadata": {},
   "source": [
    "### Теорема 4. Признак сравнения\n",
    "\n",
    "Пусть $ f, g \\in R[a, A] \\space \\forall A > a; |f(x)| \\leqslant g(x) \\space \\forall x \\in [a, +\\infty) $. Если содится $ \\int_a^{+\\infty} g(x)dx $, то сходится и $ \\int_a^{+\\infty} f(x)dx $.\n",
    "\n",
    "### Доказеательство\n",
    "\n",
    "Возьмём $ \\varepsilon > 0. \\space \\exists B(\\varepsilon) > 0: \\space \\forall A_1, A_2, B < A_1 < A_2 \\space |\\int_{A_1}^{A_2}\\limits g(x)dx| < \\varepsilon $. Тогда $ |\\int_{A_1}^{A_2}\\limits f(x)dx| \\leqslant \\int_{A_1}^{A_2}\\limits |f(x)|dx \\leqslant \\int_{A_1}^{A_2}\\limits g(x)dx \\leqslant |\\int_{A_1}^{A_2}\\limits g(x)dx| < \\varepsilon $. Согласно критерию Коши $ \\int_a^{+\\infty}\\limits f(x)dx $ сходится.\n",
    "\n",
    "ч.т.д.\n",
    "\n",
    "### Следствие\n",
    "\n",
    "Пусть $ f, g \\in R[a, A] \\space \\forall A > 0. 0 \\leqslant f(x) \\leqslant g(x) \\space \\forall x \\in [a, +\\infty) $. Если $ \\int_a^{+\\infty}\\limits f(x)dx $ расходится, то и $ \\int_a^{+\\infty}\\limits g(x)dx $ расходится.\n",
    "\n",
    "### Доказательство\n",
    "\n",
    "Если бы сходился $ \\int_a^{+\\infty}\\limits g(x)dx $, то сходился бы $ \\int_a^{+\\infty}\\limits f(x)dx $ (по теореме 4), а это не так.\n",
    "\n",
    "ч.т.д.\n",
    "\n",
    "### Замечание\n",
    "\n",
    "Из теоремы 4 и следствия вытекает, что если $ f(x) \\geqslant 0, g(x) \\geqslant 0 \\space\\space \\forall x \\in [a, +\\infty) $ и $ \\underset{x \\to +\\infty}{\\lim} \\frac{f(x)}{g(x)} = C \\neq 0 $, то интегралы $ \\int_a^{+\\infty} f(x)dx $ и $ \\int_a^{+\\infty} g(x)dx $ сходятся или расходсятся одновременно.\n",
    "\n",
    "#### Примеры\n",
    "1. $ \\int_0^{+\\infty}\\limits \\sin x \\space e^{-x}dx $  \n",
    "   $ |\\sin x \\space e^{-x}| \\leqslant e^{-x} \\space \\forall x \\in [0, +\\infty); \\int_0^{+\\infty}\\limits e^{-x}dx $ сходится $ \\Rightarrow \\int_0^{+\\infty}\\limits \\sin x \\space e^{-x}dx $ тоже сходится\n",
    "2. $ \\int_1^{+\\infty} x^p dx = \\begin{cases} \\frac{x^{p + 1}}{p + 1}|_0^{+\\infty} &,p \\neq -1 \\newline \\ln |x||_0^{+\\infty} &,p = 1 \\end{cases} = \\begin{cases} -\\frac{1}{p + 1} &,p < -1 \\newline +\\infty &, p \\geqslant -1 \\end{cases} \\Rightarrow $ интеграл сходится тогда и только тогда, когда $ p < -1 $  \n",
    "3. $ \\int_0^{+\\infty}\\limits x^\\alpha \\sin x \\space dx $  \n",
    "   При $ \\alpha = 0 \\space \\int_0^{+\\infty}\\limits \\sin x \\space dx = -\\cos x |_0^{+\\infty} $ - расходится  \n",
    "   Пусть $ \\alpha < 0 $. Обозначим $ \\beta = -\\alpha $  \n",
    "   $ \\exists \\varepsilon = \\frac{\\sqrt 2}{2(\\beta + 1)} \\space \\forall B > 1 \\space \\exists A_{1, n} = \\frac{\\pi}{4} + 2\\pi n, \\space A_{2, n} = \\frac{\\pi}{2} + 2\\pi n $ т.ч. $ |\\int_{A_{1, n}}^{A_{2, n}}\\limits x^{\\beta} \\cdot \\sin x \\space dx| = \\int_{A_{1, n}}^{A_{2, n}}\\limits x^\\beta \\cdot \\sin x \\space dx \\geqslant \\frac{\\sqrt 2}{2} \\int_{A_{1, n}}^{A_{2, n}}\\limits x^\\beta \\space dx = \\frac{\\sqrt 2}{2} \\cdot \\frac{x^{\\beta + 1}}{\\beta + 1} |_{A_{1, n}}^{A_{2, n}} > \\varepsilon \\Rightarrow $ интеграл расходится"
   ]
  },
  {
   "cell_type": "markdown",
   "metadata": {},
   "source": [
    "### Определение 2\n",
    "\n",
    "Пусть $ f \\in R[a, A] \\space \\forall A > 0 $. Интеграл $ \\int_a^{+\\infty}\\limits f(x)dx $ сходится абсолютно, если сходится $ \\int_a^{+\\infty}\\limits |f(x)|dx $.  Он сзодится условно, если $ \\int_a^{+\\infty}\\limits f(x)dx $ сходится, а $ \\int_a^{+\\infty}\\limits |f(x)|dx $ - расходится.\n",
    "\n",
    "#### Замечание\n",
    "\n",
    "Из теоремы 4 следует, что если сходится $ \\int_a^{+\\infty}\\limits |f(x)|dx $, то и $ \\int_a^{+\\infty} f(x)dx $ сходится\n",
    "\n",
    "#### Пример\n",
    "\n",
    "Исследуем интеграл $ J(\\alpha) = \\int_1^{+\\infty} \\frac{\\sin x}{x^\\alpha} dx $. Докажем, что она расходится при $ \\alpha \\leqslant 0 $, сходится условно при $ 0 < \\alpha \\leqslant 1 $ и сходится абсолютно при $ \\alpha > 1 $.\n",
    "\n",
    "Пусть $ \\alpha > 1 $. $ |\\frac{\\sin x}{x^\\alpha}| \\leqslant \\frac{1}{x^\\alpha}, \\space p = -\\alpha < -1 \\Rightarrow  $ интеграл сходится по признаку сравнения.\n",
    "\n",
    "При $ \\alpha < 0: \\int_1^{+\\infty}\\limits \\sin x dx = - \\cos x|_1^{+\\infty} $ - расходится.\n",
    "\n",
    "Пусть $ \\alpha < 0 $. Обозначим $ \\beta = -\\alpha. \\space \\exists \\varepsilon = \\dots \\space \\forall B > 1 \\space \\exists A $\n",
    "/* Затехать ещё текст /*"
   ]
  },
  {
   "cell_type": "markdown",
   "metadata": {},
   "source": [
    "### Торема 5. Признак Дирихле сходимости несобственного интеграла 2-го рода\n",
    "\n",
    "Пусть\n",
    "1. $ f \\in C[a, +\\infty) $ и $ \\exists c > 0: \\space |\\int_a^A\\limits f(x)dx| \\leqslant C \\forall A > a $\n",
    "2. $ g \\in C^1[a, + \\infty) $\n",
    "3. $ g(x) $ монотонна на $ [a, +\\infty) $ и $ \\underset{x \\to +\\infty}{\\lim} g(x) = 0 $\n",
    "\n",
    "Тогда интеграл $ \\int_a^{+\\infty}\\limits f(x)g(x)dx $ сходится\n",
    "\n",
    "### Доказательство\n",
    "\n",
    "Заметим, что $ g(x) \\geqslant 0 $ ($ g(x) \\leqslant 0 $) $ \\forall x \\in [a, + \\infty) $. Пусть $ g(x) \\geqslant 0 $. Возьмём $ \\varepsilon > 0. \\space \\exists B = B(\\varepsilon) > 0 $, т.ч. $ \\forall x > B: \\space 0 \\leqslant g(x) \\leqslant \\frac{\\varepsilon}{2c} $. Тогда $ \\forall A_1, A_2; B < A_1 < A_2: \\space |\\int_{A_1}^{A_2}\\limits f(x)g(x)dx| = |\\int_{A_1}^{A_2}\\limits g(x)dF(x)| = |F(x)g(x)|_{A_1}^{A_2} - \\int_{A_1}^{A_2}\\limits F(x)g'(x)dx| = |F(A_2)g(A_2) - F(A_1)g(A_1) - F(\\xi) \\cdot \\int_{A_1}^{A_2}g'(x)dx| \\space (A_1 \\leqslant \\xi \\leqslant A_2) \\leqslant |F(A_2)g(A_2) - F(A_1)g(A_1)| + |F(\\xi) (g(A_1) - g(A_2))| \\leqslant c \\cdot g(A_2) + c \\cdot g(A_1) + c \\cdot (g(A_1) - g(A_2)) = 2c \\cdot g(A_1) < 2c \\frac{\\varepsilon}{2C} = \\varepsilon  \\Rightarrow $ интеграл $ \\int_a^{+\\infty}f(x)g(x)dx $ сходится по критерию Коши\n",
    "\n",
    "ч.т.д.\n",
    "\n",
    "\\* затехать пример *"
   ]
  }
 ],
 "metadata": {
  "kernelspec": {
   "display_name": "Python 3",
   "language": "python",
   "name": "python3"
  },
  "language_info": {
   "codemirror_mode": {
    "name": "ipython",
    "version": 3
   },
   "file_extension": ".py",
   "mimetype": "text/x-python",
   "name": "python",
   "nbconvert_exporter": "python",
   "pygments_lexer": "ipython3",
   "version": "3.7.4"
  }
 },
 "nbformat": 4,
 "nbformat_minor": 4
}
