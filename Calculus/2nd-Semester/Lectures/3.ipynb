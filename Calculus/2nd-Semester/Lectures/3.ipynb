{
 "cells": [
  {
   "cell_type": "markdown",
   "metadata": {},
   "source": [
    "# 3. Свойства определённых интегралов. Оценки интегралов"
   ]
  },
  {
   "cell_type": "markdown",
   "metadata": {},
   "source": [
    "1. Линейность. Если $ f, g \\in R[a, b] $, то $ (f \\pm g) \\in R[a, b] $, причём $ \\int_{a}^b\\limits (f(x) \\pm g(x))dx = \\int_a^b\\limits f(x) dx \\pm \\int_a^b\\limits g(x)dx $  \n",
    "\n",
    "   Доказательство: $ \\forall T = \\{ x_0, x_1, \\dots, x_n \\}: \\sum_{k = 1}^n\\limits (f(x_k) \\pm g(x_k))\\Delta x_k = \\sum_{k = 1}^n\\limits f(x_k)\\Delta x_k + \\sum_{k = 1}^n\\limits f(x_k) \\Delta x_k $\n",
    "2. Линейность. Пусть $ f \\in R[a, b], \\alpha \\in \\mathbb{R} $. Тогда $ \\alpha \\cdot f \\in R[a, b] $ и $ \\int_a^b\\limits\\alpha \\cdot f(x) dx = \\alpha \\cdot \\int_a^b\\limits f(x)dx $  \n",
    "   Доказательство: аналогично\n",
    "3. Если $ f, g \\in R[a, b] $, то $ (f \\circ g) \\in R[a, b] $  \n",
    "\n",
    "   Доказательство: Докажем, что если $ f \\in R[a, b] $, то $ f^2 \\in R[a, b]: $ заметим, что $ g(y) = y^2 \\in Lip[m, M] $, поскольку $ \\forall y_1, y_2 \\in [m, M]. |y_1^2 - y_2^2| \\leqslant 2 \\max \\{ |m|, |M| \\} \\cdot |y_1 - y_2| \\Rightarrow f^2(x) = g(f(x)) \\in R[a, b] $. Пусть теперь $ f, g \\in R[a, b] $. Тогда $ f \\cdot g = \\frac{1}{4}((f + g)^2 - (f - g)^2) \\in R[a, b] $  \n",
    "   \n",
    "   ч.т.д.\n",
    "4. Пусть $ f \\in R[a, b]; \\space a \\leqslant c < d \\leqslant b $. Тогда $ f \\in R[c, d] $  \n",
    "\n",
    "   Доказательство: Возьмём $ \\varepsilon > 0. \\exists T = \\{ x_0, x_1, \\dots, x_n \\} $ - разбиение $ [a, b]: S(T) - s(T) < \\varepsilon $. Обозначим $ T' = T \\cup \\{ c, d \\} $ - измельчение $ T $. Пусть  $ x_{m - 1} \\leqslant c < x_m, x_l < d \\leqslant $. Тогда $ T'' = \\{ c, x_m, x_{m + 1}, \\dots, x_{l}, d \\} $ - разбиение $ [c, d] $. При этом $ S(T'') - s(T'') = \\sum_{k = m}^n\\limits (M_k - m_k) \\cdot \\Delta x_k = S(T') - s(T') \\leqslant S(T) - s(T) < \\varepsilon \\Rightarrow f \\in R[c, d] $\n",
    "   \n",
    "   ч.т.д.\n",
    "5. Если $ a < c < b; f \\in R[a, c], f \\in R[c, b]; $ то $ f \\in R[a, b] $, причём $ \\int_a^b\\limits f(x)dx = \\int_a^c\\limits f(x)dx + \\int_c^b\\limits f(x)dx $  \n",
    "\n",
    "   Доказательство: Возьмём $ \\varepsilon > 0. f \\in R[a, c] \\Rightarrow \\exists T_1 $ - разбиение $ [a, c] $, т.ч. $ S(T_1) - s(T_1) < \\frac{\\varepsilon}{2} $. Аналогично $ \\exists T_2 $ - разбиение $ [c, b] $, т.ч. $ S(T_2) - s(T_2) < \\frac{\\varepsilon}{2} $. Тогда $ T = T_1 \\cup T_2 $ - разбиение $ [a, b] $ причём $ S(T) - s(T) = S(T_1) - s(T_1) + S(T_2) - s(T_2) < \\varepsilon $. Значит $ f \\in R[a, b] $  \n",
    "   \n",
    "   $ \\sum_{k = 1}^n\\limits f(\\xi_k) \\Delta x_k \\underset{c = x_m}{=} \\sum_{k = 1}^m\\limits f(\\xi_k) \\Delta x_k + \\sum_{k = m}^n\\limits f(\\xi_k) \\Delta x_k \\Leftrightarrow \\int_a^b\\limits f(x)dx = \\int_a^c\\limits f(x)dx + \\int_c^b\\limits f(x)dx $"
   ]
  },
  {
   "cell_type": "markdown",
   "metadata": {},
   "source": [
    "### Определение 1\n",
    "\n",
    "Пусть $ f $ определена в точке $ a $. По определению положим $ \\int_a^a\\limits f(x)dx = 0 $. Если $ f \\in R[a, b] $, то $ \\int_a^b\\limits f(x)dx = -\\int_b^a\\limits f(x)dx $"
   ]
  },
  {
   "cell_type": "markdown",
   "metadata": {},
   "source": [
    "### Упражнение \n",
    "\n",
    "Пусть $ f \\in R[A, B], a, b, c \\in [A, B] $.  \n",
    "Докажите, что $ \\int_a^b\\limits f(x)dx + \\int_b^c\\limits f(x)dx + \\int_c^a\\limits f(x)dx = 0 $"
   ]
  },
  {
   "cell_type": "markdown",
   "metadata": {},
   "source": [
    "6. Если $ f \\in R[a, b] $ и $ f(x) \\geqslant 0 \\space (\\leqslant 0) \\forall x \\in [a, b] $, то $ \\int_a^b\\limits f(x)dx \\geqslant 0 \\space (\\leqslant 0) $  \n",
    "   Доказательство:  пусть $f(x) \\geqslant 0 \\forall x \\in [a, b] $. Тогда $ \\forall T = \\{ x_0, x_1, \\dots, x_n \\} $ - разбиение $ [a, b]: m_k \\geqslant 0, \\space k = 1, \\dots, n $. Значит $ s(T) \\geqslant 0 \\Rightarrow \\int_a^b\\limits f(x)dx \\geqslant 0 $\n",
    "   ч.т.д.  \n",
    "7. Если $ f, g \\in R[a, b], f(x) \\leqslant g(x) \\space \\forall x \\in [a, b] \\space \\int\\limits_a^b f(x)dx \\leqslant \\!\\int\\limits_a^b g(x)dx $  \n",
    "   Доказтельство: из предыдущих свойств (линейности и номера 6)\n",
    "8. Пусть $ f \\in R[a, b], \\space f(x) \\geqslant 0 \\space \\forall x \\in [a, b], f $ непрерывна в точке $ x_0 \\in [a, b] $ и $ f(x_0) > 0 $. Тогда $ \\int_a^b\\limits f(x)dx > 0 $  \n",
    "   Доказательство: $ f(x_0) > 0, f $ непрерывна в точке $ x_0 \\Rightarrow \\exists \\delta > 0 $, т.ч. $ f(x) > 0 \\space \\forall xB_\\delta(x_0) \\cap [a, b] $. Положим $ \\beta = \\frac{f(x_0)}{2} $. Существует отрезок $ [c, d] \\subset [a, b] $, т.ч. $ f(x) \\geqslant \\beta > 0 \\space \\forall x \\in [c, d] $ (из определения непрерывности по Коши). Положим $ g(x) = \\begin{cases} \\beta, &x \\in [c, d] \\newline 0, &x \\not\\in [c, d] \\end{cases} $. Очевидно, что $ g \\in R[a, b]; f(x) \\geqslant g(x) \\space \\forall x \\in [a, b] $. Значит из свойства 7 следует, что $ \\int_a^b\\limits f(x)dx \\geqslant \\int_a^b\\limits g(x)dx = \\int_c^d\\limits g(x)dx = \\beta\\cdot(d - c) > 0 $  \n",
    "   ч.т.д.\n",
    "9. Пусть $ f \\in C[a, b], f(x) \\geqslant 0 \\space \\forall x \\in [a, b] $. Если $ \\int_a^b\\limits f(x)dx = 0 $, то $ f(x) = 0  \\space \\forall x \\in [a, b]$  \n",
    "   Доказательство: Предположим, что $ \\exists x_0 \\in [a, b] $, т.ч. $ f(x_0) > 0 $. $ f $ непрерывна в точке $ x_0 $ по условию $ \\Rightarrow \\int_a^b\\limits f(x)dx > 0 $. Противоречие\n",
    "   ч.т.д.\n",
    "10. Если $ f \\in R[a, b] $, то $ |f| \\in R[a, b] $, причём $ |\\int_a^b\\limits f(x)dx| \\leqslant \\int_a^b\\limits |f(x)|dx $  \n",
    "    Доказательство: заметим, что функция $ g(y) = |y| \\in Lip[m, M]: ||y_1| - |y_2|| \\leqslant |y_1 - y_2| \\space\\space -|y_1 - y_2| \\leqslant |y_1| - |y_2| \\leqslant |y_1 - y_2| $  \n",
    "    $ f \\in R[a, b], g \\in Lip[m, M] \\Rightarrow |f(x)| = g(f(x)) \\in R[a, b] $. Далее $ -|f(x)| \\leqslant f(x) \\leqslant |f(x)| \\Rightarrow -\\int_a^b |f(x)|dx \\leqslant \\int_a^b f(x)dx \\leqslant \\int_a^b |f(x)|dx \\Rightarrow |\\int_a^b f(x)dx \\leqslant| \\leqslant \\int_a^b |f(x)|dx \\leqslant $  \n",
    "    \n",
    "    Замечание: из интегрируемости функции $ |f| $  не следует интегрируемость $ f $. Например, $ f(x) = \\begin{cases} 1, &x \\in \\mathbb{Q} \\newline -1, &x \\not \\in \\mathbb{Q} \\end{cases} \\not \\in R[a, b] $, но $ |f(x)| \\equiv 1 $"
   ]
  },
  {
   "cell_type": "markdown",
   "metadata": {},
   "source": [
    "### Теорема 1. Первая теорема о среднем значении\n",
    "\n",
    "Пусть $ f, g \\in R[a, b], g(x) \\geqslant 0 \\space (\\leqslant 0) \\space \\forall x \\in [a, b] $. Обозначим $ M = \\underset{a \\leqslant x \\leqslant b}{\\sup} f(x), \\space m = \\underset{a \\leqslant x \\leqslant b}{\\inf} f(x) $. Тогда $ \\exists \\mu \\in [m, M]: \\space \\int_a^b\\limits f(x)g(x)dx = \\mu \\cdot \\int_a^b\\limits g(x)dx $. Если к тому же $ f \\in C[a, b] $, то $ \\exists \\xi \\in [a, b]: \\space \\int_a^b\\limits f(x)g(x)dx = f(\\xi)\\int_a^b\\limits g(x)dx $\n",
    "\n",
    "### Доказательство\n",
    "\n",
    "Пусть $ g(x) \\geqslant 0 $ (для $ g(x) \\leqslant 0 $ аналогично). Поскольку $ m \\leqslant f(x) \\leqslant M, \\space \\forall x \\in [a, b], \\space m \\cdot g(x) \\leqslant f(x)\\cdot g(x) $"
   ]
  },
  {
   "cell_type": "markdown",
   "metadata": {},
   "source": [
    "$ \\dots $"
   ]
  },
  {
   "cell_type": "markdown",
   "metadata": {},
   "source": [
    "### Функция Ньютона-Лейбница\n",
    "\n",
    "Пусть $ f \\in C[a, b] $, тогда $ \\int_a^b\\limits f(x)dx = \\Phi(x)|_{a}^b $, где $ \\Phi $ - любая из первообразных для $ f $ на $ [a, b] $."
   ]
  },
  {
   "cell_type": "markdown",
   "metadata": {},
   "source": [
    "### Определение 4\n",
    "\n",
    "Будем говорить, что $ f $ непрерывно диференцируема на $ [a, b] $, если $ f'(x) $ существует и непрерывна $ \\forall x \\in [a, b] $ и кроме того $ \\exists f'(a+0) $ и $ f'(b-0) $.  \n",
    "\n",
    "Обозначение: $ f \\in C'[a, b] $"
   ]
  },
  {
   "cell_type": "markdown",
   "metadata": {},
   "source": [
    "### Теорема 5. Замена переменной в определённом интеграле\n",
    "\n",
    "Пусть $ f \\in C[a, b]; \\phi \\in C'[\\alpha, \\beta] $, причём $ \\underset{\\alpha \\leqslant t \\leqslant \\beta}{\\min} \\phi(t) = \\phi(\\alpha) = a, \\underset{\\alpha \\leqslant t \\leqslant \\beta}{\\max} \\phi(t) = \\phi(\\beta) = b $. Тогда $ \\int_a^b\\limits f(x)dx = \\int\\limits_\\alpha^\\beta f(\\phi(t))\\cdot \\phi'(t)dt $\n",
    "\n",
    "### Доказательство\n",
    "\n",
    "Интегралы существуют, т.к. подынтегральные функции непрерывны. Пусть $ F'(x) = f(x) \\space \\forall x \\in [a, b] $. Тогда $ (F(\\phi(t)))' = F'(\\phi(t)) \\cdot \\phi'(t) \\space \\forall t \\in [\\alpha, \\beta] \\Rightarrow \\int_\\alpha^\\beta f(\\phi(t)) \\cdot \\phi'(t)dt = F(\\phi(t))_\\alpha^\\beta = F(\\phi(\\beta)) - F(\\phi(\\alpha)) = F(b) - F(a) = \\int_a^b\\limits f(x)dx $\n",
    "\n",
    "ч.т.д.\n",
    "\n",
    "Пример:  \n",
    "$ \\int_a^1\\limits \\sqrt{1 - x^2} = \\left| \\begin{align} x = \\sin t \\newline dx = \\cos t dt \\newline x = 0, t = 0 \\newline x = 1, t = \\frac{\\pi}{2} \\end{align} \\right| = \\int_0^\\frac{\\pi}{2}\\limits \\sqrt{\\cos^2 t}\\cos t dt = \\int_0^\\frac{\\pi}{2} \\cos^2t dt = \\dots $"
   ]
  },
  {
   "cell_type": "markdown",
   "metadata": {},
   "source": [
    "### Теорема 6. Интегрирование по частям в определённом интеграле\n",
    "\n",
    "Пусть $ f, g \\in C'[a, b] $. Тогда $ \\int_a^b\\limits f(x)g'(x) = f(x)g(x)|_a^b - \\int_a^b\\limits f'(x)\\cdot g(x) $\n",
    "\n",
    "### Доказательство\n",
    "\n",
    "Функция $ f(x)g(x) $ является первообразной для $ f'(x)g(x) + f(x)g'(x) $ на $ [a, b] $. По формуле Н-Л: $ \\int_a^b (f'(x)g(x) + f(x)g'(x))dx = f(x)d(x) |_a^b \\Rightarrow \\int_a^b\\limits f(x)g'(x) = f(x)g(x)|_a^b - \\int_a^b\\limits f'(x)\\cdot g(x) $"
   ]
  },
  {
   "cell_type": "markdown",
   "metadata": {},
   "source": [
    "### Теорема 7. Вторая теорема о средних значениях\n",
    "\n",
    "Пусть $ f, g \\in R[a, b] $  \n",
    "1. Если $ f(x) \\geqslant 0 \\space \\forall x \\in [a, b] $ и $ f $ не возрастает на $ [a, b] $, то $ \\exists \\xi \\in [a, b]: \\space \\int_a^b\\limits f(x)g(x)dx = f(a) \\int_a^\\xi\\limits g(x)dx; $\n",
    "2. Если $ f(x) \\geqslant 0 \\space \\forall x \\in [a, b]  $ и $ f $ не убывает на $ [a, b] $, то $ \\exists \\xi \\in [a, b]: \\space \\int_a^b\\limits f(x)g(x)dx = f(b) \\int_\\xi^b\\limits g(x)dx $\n",
    "3. Если $ f $ монотонна на $ [a, b] $, то $ \\exists \\xi \\in [a, b]: \\space \\int_a^b\\limits f(x)g(x)dx = f(a) \\int_a^\\xi\\limits g(x)dx + f(b)\\int_\\xi^b\\limits g(x)dx $"
   ]
  }
 ],
 "metadata": {
  "kernelspec": {
   "display_name": "Python 3",
   "language": "python",
   "name": "python3"
  },
  "language_info": {
   "codemirror_mode": {
    "name": "ipython",
    "version": 3
   },
   "file_extension": ".py",
   "mimetype": "text/x-python",
   "name": "python",
   "nbconvert_exporter": "python",
   "pygments_lexer": "ipython3",
   "version": "3.7.4"
  }
 },
 "nbformat": 4,
 "nbformat_minor": 4
}
