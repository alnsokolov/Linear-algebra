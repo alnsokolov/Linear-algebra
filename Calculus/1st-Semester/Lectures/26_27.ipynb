{
 "cells": [
  {
   "cell_type": "markdown",
   "metadata": {},
   "source": [
    "# 26. Неопределённый интеграл"
   ]
  },
  {
   "cell_type": "markdown",
   "metadata": {},
   "source": [
    "#### Определение 1\n",
    "\n",
    "Функция $ F $ первообразной (функцией) для функции $ f $ на промежутке $ (a, b) $, если $ F'(x) = f(x) \\ \\ \\forall x \\in (a, b) $"
   ]
  },
  {
   "cell_type": "markdown",
   "metadata": {},
   "source": [
    "#### Теорема 1\n",
    "\n",
    "Если $ F_1, F_2 $ - первообразные для $ f $ на $ (a, b) $ то $ F_1(x) - F_2(x) = C \\ \\ \\forall x \\in (a, b) $\n",
    "\n",
    "#### Доказательство\n",
    "\n",
    "По определению $ F_1'(x) = f(x), F_2'(x) = f(x) \\ \\ \\forall x \\in (a, b) \\Rightarrow (F_1(x) - F_2(x))' = 0 \\Rightarrow F_1(x) - F_2(x) = C \\ \\ \\forall x \\in (a, b) $ (по теоереме Лагранжа)"
   ]
  },
  {
   "cell_type": "markdown",
   "metadata": {},
   "source": [
    "Таким образом множество всех первообразных для $ f $ на $ (a, b) $ имеет вид $ \\{F + C | C \\in \\mathbb{R} \\} $, где $ F $ - любая первообразная $ f $ на $ (a, b) $."
   ]
  },
  {
   "cell_type": "markdown",
   "metadata": {},
   "source": [
    "#### Определение 2\n",
    "\n",
    "Неопределенный интеграл от фнкции $ f $ на $ (a, b) $ называется множество всех первообразных функции на данном промежутке.\n",
    "\n",
    "Обозначается как $ \\int \\! f(x) \\, \\mathrm{d}x $, где $ \\int $ - знак интеграла, $ f(x) \\, \\mathrm{d}x $ - подынтегральное выражение, $ f(x) $ подынтегральная функция, $ dx $ - дифференциал. Если $ F $ - любая первообразная для $ f $ на $ (a, b) $, то пишут $ \\in \\! f(x)dx = F + C $ - равенство понимается как равенство множеств."
   ]
  },
  {
   "cell_type": "markdown",
   "metadata": {},
   "source": [
    "#### Свойства\n",
    "\n",
    "1. $ \\int \\! af(x)dx = a \\int \\! f(x)dx $\n",
    "2. $ \\int (f(x) \\pm g(x))dx = \\int f(x)dx \\pm \\int g(x)dx $\n",
    "3. $ (\\int f(x)dx)' = (F(x) + C)' = f(x); \\ \\ d(\\int f(x)dx) = f(x)dx $\n",
    "4. $ \\int dF(x) = \\int f(x)dx = F(x) + C $"
   ]
  },
  {
   "cell_type": "markdown",
   "metadata": {},
   "source": [
    "### Таблица интегралов\n",
    "\n",
    "1. $ \\int 0dx = C; \\ \\ \\int 1dx = x + C $\n",
    "2. $ \\int x^\\alpha dx =\\frac{x^{\\alpha + 1}}{\\alpha + 1} + C  $\n",
    "3. $ \\int \\frac{1}{x}dx = ln \\ |x| + C, x \\neq 1 $  \n",
    "   При $ x < 0 $: $ (ln |x|)' = \\frac{1}{|x|} \\cdot |x|' = \\frac{1}{x} $\n",
    "4. $ \\int a^xdx = \\frac{a^x}{ln \\ a} + C $\n",
    "5. $ \\int sin \\ x \\ dx = -cos \\ x + C $\n",
    "6. $ \\int cos \\ x \\ dx = sin \\ x + C $\n",
    "7. $ \\int \\frac{1}{cos^2}dx = tg \\ x + C $\n",
    "8. $ \\int \\frac{1}{sin^2}dx = -ctg \\ x + C $\n",
    "9. $ \\int sh \\ x \\ dx = ch \\ x + C $\n",
    "10. $ \\int ch \\ x \\ dx = sh \\ x + C  $\n",
    "11. $ \\int \\frac{1}{ch^2x}dx = th \\ x + C $\n",
    "12. $ \\int \\frac{1}{sh^2}dx = -cth \\ x + C $  \n",
    "Пусть $ a > 0 $:  \n",
    "13. $ \\int \\frac{dx}{x^2 + a^2} = \\begin{cases} \\frac{1}{a}arcctg \\ \\frac{x}{a} + C \\\\ - \\frac{1}{a}arcctg \\ \\frac{x}{a} + C \\end{cases} $  \n",
    "14. $ \\int \\frac{dx}{\\sqrt{a^2 - x^2}} = \\begin{cases} arcsin \\ \\frac{x}{a} + C \\\\ - arccos \\ \\frac{x}{a} + C \\end{cases} $\n",
    "15. $ \\int \\frac{1}{x^2 - a^2}dx = \\frac{1}{2a}ln \\left|\\frac{x - a}{x + a}\\right| + C $\n",
    "16. $ \\int \\frac{1}{\\sqrt{x^2 \\pm a^2}}dx = ln |x + \\sqrt{x^2 \\pm a^2}| $, для знака \"-\": $ |x| > a $"
   ]
  },
  {
   "cell_type": "markdown",
   "metadata": {},
   "source": [
    "### Основные методы интегрирования\n",
    "\n",
    "#### Теорема 2 (замена переменной)\n",
    "\n",
    "Пусть функция $ \\varphi:T \\to X, T = (\\alpha, \\beta), \\varphi $ непрерывно дифферециируема на $ T $; $ f $ определена на $ X = (a, b) $. Если $ f $ имеет на $ X $ непрерывную $ F $, то функция $ f(\\varphi)\\varphi' $ имеет первообразную на $ T $, причём $ \\int f(x)dx = \\int f(\\varphi(t))\\varphi(t)dt $  \n",
    "\n",
    "#### Доказательство  \n",
    "\n",
    "$ F'(x) = f(x) \\ \\ \\forall x \\in X \\Rightarrow (F(\\varphi(t)))' = F'(\\varphi(t))\\varphi'(x)=f(\\varphi(t))\\varphi'(t) \\Rightarrow \\int f(\\varphi(t))\\varphi'(t)dt = F(\\varphi(t)) + C = F(x) + C = \\int f(x)dx $"
   ]
  },
  {
   "cell_type": "markdown",
   "metadata": {},
   "source": [
    "#### Теоерема 3\n",
    "\n",
    "Пусть функции $ f, g $ лифференцируемы на $ (a, b) $. Если функция $ f' \\cdot g $ имеет на $ (a, b) $ первообразную, то и $ f \\cdot g' $ имеет на $ (a, b) $ первообразную, причём  \n",
    "$ \\int f(x)g'(x)dx = f(x)g(x) - \\int f'(x)g(x)dx $ - формула интегрирования по частям\n",
    "\n",
    "#### Доказательство\n",
    "\n",
    "$ (f(x)g(x))' = f'(x)g(x) + f(x)g'(x) \\ \\ \\forall x \\int (a, b) \\Rightarrow \\int f(x)g'(x)dx = \\int (f(x)g(x))'dx - \\int f'(x)g(x)dx = f(x)g(x) - \\int f(x)g'(x)dx $"
   ]
  },
  {
   "cell_type": "markdown",
   "metadata": {},
   "source": [
    "# 27. Интегрирование рациональных дробей"
   ]
  },
  {
   "cell_type": "markdown",
   "metadata": {},
   "source": [
    "#### Определение 1\n",
    "\n",
    "Рациональной дробью называется выражение вида $ \\frac{P(x)}{Q(x)} $, где $ P, Q $ - многочлены. Рациональная дробь называется правильной, если степень $ deg \\ P < deg \\ Q $.  \n",
    "\n",
    "Легко показать, что если $ deg \\ P \\geqslant deg \\ Q $, то $ \\frac{P(x)}{Q(x)} = T(x) = \\frac{R(x)}{Q(x)} $, где $ T $ - многочлен, $ \\frac{R}{Q} $ - правильная рациональная дробь."
   ]
  },
  {
   "cell_type": "markdown",
   "metadata": {},
   "source": [
    "#### Теорема 1\n",
    "\n",
    "Пусть $ deg \\ Q(x) = n $, коэффицент при $ x^n $ равен 1. Тогда $ Q(x) = (x - \\alpha_1)^{k_1} \\cdot (x - \\alpha_2)^{k_2} \\cdot \\cdots \\cdot (x - \\alpha_i)^{k_i} \\cdot (x^2 + p_1x + q_1)^{l_1} \\cdots (x^2 + p_jx + q_j)^{l_j} $, где $ \\alpha_1, \\dots, \\alpha_i, p_1, \\dots, p_j, q_1, \\dots, q_j \\in \\mathbb{R} $"
   ]
  },
  {
   "cell_type": "markdown",
   "metadata": {},
   "source": [
    "#### Утверждение 2\n",
    "\n",
    "Пусть $ \\frac{P(x)}{Q(x)} $ - правильная рациональная дробь, причём $ Q(x) $ имеет вид (1). Тогда $ \\frac{P(x)}{Q(x)} = \\frac{A_{1}^1}{(x - \\alpha_1)^1} + \\frac{A_{1}^2}{(x - \\alpha_1)^2} + \\cdots + \\frac{A_{1}^{k_1}}{(x - \\alpha_1)^{k_1}} + \\cdots + \\frac{A_{i}^1}{(x - \\alpha_i)^1} + \\frac{A_{i}^2}{(x - \\alpha_i)^2} + \\cdots + \\frac{A_{i}^{k_1}}{(x - \\alpha_i)^{k_1}} + \\frac{}{} $"
   ]
  },
  {
   "cell_type": "markdown",
   "metadata": {},
   "source": [
    "#### Лемма 1\n",
    "\n",
    "Пусть $ \\frac{P(x)}{Q(x)} $ - правильная рациональная дробь, $ Q(x) = (x - \\alpha)^k\\cdot T(x), T(x) \\neq 0 $ (то есль $ \\alpha $ - корень многочлена $ Q(x) $ кратности $ k $), тогда $ \\exists A \\in \\mathbb{R}: \\frac{P(x)}{Q(x)} = \\frac{A}{(x - \\alpha)^k} + \\frac{R(x)}{(x - \\alpha)^m \\cdot T(x)}, m < k $.\n",
    "\n",
    "#### Доказательство\n",
    "\n",
    "Положим $ A = \\frac{P(x)}{T(x)} \\Rightarrow \\frac{P(x)}{Q(x)} - \\frac{A}{(x - \\alpha)^k} = \\frac{P(x)}{(x - \\alpha)^k \\cdot T(x)} - \\frac{A}{(x - \\alpha)^k} = \\frac{P(x) - A\\cdot T(x)}{(x - \\alpha)^k\\cdot T(x)} = \\frac{V(x)}{(x - \\alpha)^k\\cdot T(x)} = \\frac{R(x)}{(x - \\alpha)^m\\cdot T(x)} $, поскольку $ V(\\alpha) = P(\\alpha)  -\\frac{P(\\alpha)}{Q(\\alpha)}\\cdot T(\\alpha) =0 \\Rightarrow V(x) = (x - \\alpha) \\cdot U(x) $"
   ]
  },
  {
   "cell_type": "markdown",
   "metadata": {},
   "source": [
    "$ \\frac{1}{(x-1)^2(x^2 + 1)} = \\frac{A}{x - 1} + \\frac{B}{(x - 1)^2} + \\frac{Cx + D}{x^2 + 1} $  \n",
    "Умножим обе части на $ (x - \\alpha)^k $, затем подставим $ x = \\alpha $. Тогда справа получим искомый коэффицент.  \n",
    "$ \\frac{1}{x^2 + 1}|_{x=1} = B \\Rightarrow B = 1/2 $. Приведём к общему знаменателю и приравняем числители\n",
    "$ 1 = Ax^3 + Ax - Ax^3 - A + Bx^3 + B + Cx^3 \\cdots $"
   ]
  },
  {
   "cell_type": "markdown",
   "metadata": {},
   "source": [
    "Таким образом, интегрирование правильной рациональной дроби сводится к интегрированию одного из четырёх типов дробей:\n",
    "\n",
    "1. $ \\int \\! \\frac{A}{x - \\alpha}dx = A \\ ln |x - \\alpha| + C $\n",
    "2. $ \\int \\! \\frac{A}{(x - \\alpha)^k}dx = \\frac{A}{(1 - k)(x- \\alpha)^{k - 1}} + C, k \\geqslant 2 $\n",
    "3. $ \\int \\! \\frac{Bx + C}{x^2 + px + 1}dx = \\int \\! \\frac{\\frac{B}{2}(2x + p) - \\frac{Bp}{2} + C}{x^2 + px + 1}dx = \\frac{B}{2}\\int \\! \\frac{(2x + p)}{x^2 + px + 1}dx + (C - \\frac{Bp}{2}) \\int \\! \\frac{dx}{x^2 + px + q} = \\frac{B}{2} \\cdot ln(x^2 + px + q) + (C - \\frac{Bp}{2}) \\frac{2}{\\sqrt{4q - p^2}}arctg \\frac{wx + p}{\\sqrt{4q - p^2}} + C $  \n",
    "\n",
    "$ I_1 = \\int \\! \\frac{(2x + p)}{x^2 + px + 1}dx = \\cdots $  \n",
    "$ I_2 = \\int \\! \\frac{dx}{x^2 + px + q} = \\cdots $  \n",
    "\n",
    "$ m \\geqslant 2, p^2 - 4q < 0 $\n",
    "4. $ \\int \\frac{Bx + D}{(x^2 + px + 1)^m}dx = \\frac{B}{2} \\cdots I_1 + (D - \\frac{Bp}{2})I(m) = \\frac{1}{a^2}I(m - 1) + \\frac{1}{2a^2(m - 1)}(\\frac{1}{(t^2 + a^2)^{m - 1}} - I(m - 1)) $  \n",
    "$ I_1 = \\int \\! \\frac{2x + p}{(x^2 + px + 1)^m} = \\cdots = \\frac{1}{(1 - m)(x^2 + px + q)^{m - 1}} + C $  \n",
    "$ I(m) = \\int \\! \\frac{dx}{(x^2 + px + q)^m} = \\left| \\begin{align}t = x + \\frac{p}{2} \\\\ a^2 = q - p^24 \\end{align} \\right| = \\int \\! \\frac{dt}{(t^2 + a^2)^m} = \\frac{1}{a^2} \\int \\! frac{t^2 + a^2 - t^2}{(t^2 + a^2)^m}dt = \\frac{1}{a^2} I(m - 1) - \\frac{1}{2a}\\cdot \\frac{1}{1 - m} \\int \\! td \\left( \\frac{1}{(t^2 + a^2)^{m - 1}} \\right) $  \n",
    "2 способ:  \n",
    "$ t = a \\ tg \\ z $  \n",
    "$ dt = \\frac{a}{cos^2z}dz = a(1 + tg^2z)dz = a(1 + \\frac{t^2}{2})dz = \\frac{1}{a}(a^2 + t^2)dz \\Rightarrow I(m) = \\int \\! \\frac{1}{a} \\cdot \\frac{a^2 + t^2}{(a^2 + t^2)^m}dz  =\\frac{1}{a} \\int \\! \\frac{(cos \\ z)^{2m - 2}}{a^{2m - 2}}dz = \\frac{1}{a^{2m - 1}} \\int \\! (cos \\ z)^{2m - 2}dz $"
   ]
  },
  {
   "cell_type": "markdown",
   "metadata": {},
   "source": [
    "### Метод Остроградского\n",
    "\n",
    "#### Теоерма 1 (б/д)  \n",
    "\n",
    "Пусть $\\frac{P(x)}{Q(x)}$ - правильная рациональная дробь, $ Q(x) $ имеет вид $ (1) $, тогда:  \n",
    "$ \\in \\! \\frac{P(x)}{Q(x)}dx = \\int \\! \\frac{R(x)}{Q_1(x)} + \\int \\! \\frac{T(x)}{Q_2(x)}dx $  \n",
    "$ Q_2(x) = (x - \\alpha_1)(x - \\alpha_2)\\dots(x - \\alpha_i)(x^2 + p_1x + q_1)\\dots(x^2 + p_jx + q_j), Q(x) = Q_1(x) \\cdot Q_2(x) $  \n",
    "$ R(x), T(x) $ - многочлены с неопределёнными коэффицентами; $ deg \\ R(x) = deg \\ Q_1(x) - 1, deg \\ T(x) = deg \\ Q_2(x) - 1 $. Коэффиценты находятся методом лифференциального равенства (*)"
   ]
  }
 ],
 "metadata": {
  "kernelspec": {
   "display_name": "Python 3",
   "language": "python",
   "name": "python3"
  },
  "language_info": {
   "codemirror_mode": {
    "name": "ipython",
    "version": 3
   },
   "file_extension": ".py",
   "mimetype": "text/x-python",
   "name": "python",
   "nbconvert_exporter": "python",
   "pygments_lexer": "ipython3",
   "version": "3.7.3"
  }
 },
 "nbformat": 4,
 "nbformat_minor": 4
}
