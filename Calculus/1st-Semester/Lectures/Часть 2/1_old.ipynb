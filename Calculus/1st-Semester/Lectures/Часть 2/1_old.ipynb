{
 "cells": [
  {
   "cell_type": "markdown",
   "metadata": {},
   "source": [
    "# 1. Исследование функций"
   ]
  },
  {
   "cell_type": "markdown",
   "metadata": {},
   "source": [
    "#### Определение 1\n",
    "\n",
    "Пусть функция $ f $ определениа в окрестности точки $ c $ и имеет в точке $ c $ локальный максимум (минимум), если $ \\exists \\delta > 0 \\ \\ f(x) \\leqslant f(c) \\ \\ (f(x) \\geqslant f(x)) \\ \\ \\forall x \\int B_\\delta(x) $\n",
    "\n",
    "$ f $ имеет точке $ c $ строгий максимум (минимум), если $ \\exists \\delta > 0 \\ \\ f(x) < f(c) \\ \\ (f(x) > f(x)) \\ \\ \\forall x \\int B_\\delta(x) $"
   ]
  },
  {
   "cell_type": "markdown",
   "metadata": {},
   "source": [
    "### Теорема 1\n",
    "\n",
    "Пусть $ f \\in D(A, B), A < a < b < B $. Если $ f'(a)\\cdot f'(b) < 0 $, то $ \\exists c \\in (a, b): f'(c)=0 $"
   ]
  },
  {
   "cell_type": "markdown",
   "metadata": {},
   "source": [
    "### Доказательство\n",
    "\n",
    "Пусть $ f'(a) < f'(b) $. Тогда функция $ f $ убвает в точке $ a $ и возрастает в точке $ b $. $ f $ дифференцируема $ \\Rightarrow f \\in c[a, b] \\Rightarrow \\exists C \\in [a, b]: f(c)= \\underset{a \\leqslant x \\leqslant b}{inf f(x)} $. Поскольку $ f $ убывает в точке $ a $, то $ a \\neq c $ (т.к. $ \\exists \\delta > 0: f(x) < f(a)\\forall x \\in (a, a + \\delta) $). Аанлогично $ c \\neq b $, т.к.  $ f $ возрастает в точке $ c $. Значит $ c \\in (a, b). f(c) = \\underset{a \\leqslant x \\leqslant b}{inf f(x)} \\Rightarrow c $ - точка лок. минимума $ \\Rightarrow f'(c) = 0 $\n",
    "\n",
    "### Следствие (теорема Дарбу)\n",
    "\n",
    "Пусть $ f \\in D(A, B), A < a < b < B $. Пусть $ \\alpha = min\\{f'(a), f'(b)\\}, \\beta = max\\{f'(a), f'(b)\\} $. Тогда $ \\forall \\gamma \\in [\\alpha, \\beta] \\exists c \\in [a, b]: f'(x) = \\gamma $"
   ]
  },
  {
   "cell_type": "markdown",
   "metadata": {},
   "source": [
    "$ \\cdots$"
   ]
  },
  {
   "cell_type": "markdown",
   "metadata": {},
   "source": [
    "### Теорема 2 (1-е достаточное условие экстремума)\n",
    "\n",
    "Пусть $ f $ опеределена в окрестности точки $ c $ и дифференцируема в этой окрестности за исключением, возможно, самой точки. Если\n",
    "1. $ \\exists \\delta > 0 $, т.ч. $ f'(x) < 0 \\ \\forall x \\in (c - \\delta, c) $ и $ f'(x) > 0 \\forall x \\in (c, c + \\delta) $, то $ c $ - точка локального минимума\n",
    "2. $ \\exists \\delta > 0 $, т.ч. $ f'(x) > 0 \\ \\forall x \\in (c - \\delta, c) $ и $ f'(x) < 0 \\forall x \\in (c, c + \\delta) $, то $ c $ - точка локального максимума\n",
    "3. $ \\exists \\delta > 0 $, т.ч. $ f'(x) $ имеет одинаковый знак на интервалах $ (c - \\delta, c) $ и $ (c, c + \\delta) $, то экстремума в точке $ c $ нет\n",
    "\n",
    "Замечание\n",
    "\n",
    "Если $ f'(x) $ меняет знак при переходе через точку $ c $, то либо $ f'(x) $ не сузествует; либо $ f'(c) = 0 $ (теоерма 1), то если есть необходимое условие экстремума выполнено\n",
    "\n",
    "### Доказательство\n",
    "\n",
    "1) Пусть $ x \\in (c - \\delta, c) $. Тогда $ f $ удовлетворяет условию т.Лагранжа на $ [x, c] \\Rightarrow \\exists \\zeta\\in (x, c): f(c) - f(x) = f'(c)(c - x) < 0 \\Rightarrow f(c) < f(x) \\forall x \\in (c - \\delta, c) $\n",
    "Аналогично при $ x \\in (c, c + \\delta): \\exists \\zeta \\in (c, x): f(x) - f(x) = f'(x)(x - c) > 0 \\Rightarrow f(c) < f(x) \\forall x \\in (c, c + \\delta) $. Значит $ c $ - точка строгого локального минимума.\n",
    "2) Аналогично\n",
    "3) Как и в пункте 1, применяем теорему Лагранжа. Производная не меняет знак при переходе через $ c \\Rightarrow $ приращение функции меняет знак $ \\Rightarrow $ эксиремума в точке $ c $ нет."
   ]
  },
  {
   "cell_type": "markdown",
   "metadata": {},
   "source": [
    "### Теорема 3 (2-е достаточное условие экстремума)\n",
    "\n",
    "Пусть $ f $ дифференцируема в окрестностти точки $ c $ и $ \\exists f''(c) $. Если $ f'(c) = 0, f''(c) > 0 \\ ( < 0) $, то $ c $ - точка чтрогого локального минимума(максимума)\n",
    "\n",
    "### Доказательство\n",
    "Пусть $ f''(c) > 0 $. Значит $ f'(x) $ возрастает в точке $ c $. Тогда $ \\exists \\delta > 0 $, т.ч. $ f'(x) < f'(c) = 0 \\ \\forall x \\in (c - \\delta, c) $ и $ f'(x) > f'(x)=0 \\ \\forall x \\in (c, c + \\delta) \\Rightarrow c $ - точка строгого локального минимума (теоерма 2)"
   ]
  },
  {
   "cell_type": "markdown",
   "metadata": {},
   "source": [
    "### Теорема 4 (3-е достаточное условие экстремума)\n",
    "\n",
    "Пусть $ f \\ \\ \\ n - 1 $ раз дифференцируема в окрестности точки $ c $ и $ \\exists f^{(n)}(c), n $ - чётное. Если $ f'(c) = f''(c) = \\dots = f^{(n - 1)} = 0m f^{(n)} > 0 (< 0) $, то $ c $ - точка строгого локального минимума (максимума)\n",
    "\n",
    "### Доказательство\n",
    "\n",
    "Можем считать, что $ n \\geqslant 4 $. Пусть $ x $ лижимт в проколотой окрестности точки $ c $. Разложим $ f'(x) $ по формуле Тейлора: $ f'(x) = f'(c) + \\frac{f''(c)}{1!}(x - c) + \\cdots + \\frac{f^{(n - 2)}(c)}{(n - 3)!}(x - c)^{n - 3} + \\frac{f^{(n - 1)}(c)}{(n - 2)!}(x - c)^{n - 2} $. Значит, знак $ f'(x) $ совпадает со знаком $ f^{(n - 1)}(\\zeta) $.  \n",
    "\n",
    "Если $ f^{(n)} > 0, f^{(n - 1)}(x) $ возрастает в точке $ c \\Rightarrow \\exists \\delta > 0 $, т.ч. $ f^{(n - 1)}(x) < f^{(n - 1)}(c)=0 \\ \\forall x \\in (c - \\delta, c) $ и $ f^{(n - 1)}(x) > f^{(n - 1)}(c)=0 \\ \\forall x \\in (c, c + \\delta) \\Rightarrow f'(x) < 0 \\ \\forall x \\in (c - \\delta, c) $ и $ f'(x) > 0 \\ \\forall x \\in (c, c + \\delta) \\Rightarrow c $ - точка локального минимума"
   ]
  },
  {
   "cell_type": "markdown",
   "metadata": {},
   "source": [
    "#### Определение 2\n",
    "\n",
    "Пусть функция $ f \\in D(a, b) $. График функции $ y = f(x) $ имеет на интервале $ (a, b) $ выпуклость, направленную вверх (вниз), если $ \\forall x \\in (a, b) $ график на этом интервале лежит не выше (ниже) касательной, проведённой к нему в точке $ M(x_0, f(x_0)) $ "
   ]
  },
  {
   "cell_type": "code",
   "execution_count": 2,
   "metadata": {},
   "outputs": [],
   "source": [
    "%matplotlib inline"
   ]
  },
  {
   "cell_type": "code",
   "execution_count": 3,
   "metadata": {},
   "outputs": [
    {
     "data": {
      "text/plain": [
       "[<matplotlib.lines.Line2D at 0x7f54804d8320>]"
      ]
     },
     "execution_count": 3,
     "metadata": {},
     "output_type": "execute_result"
    },
    {
     "data": {
      "image/png": "[encoded data removed]",
      "text/plain": [
       "<Figure size 432x288 with 1 Axes>"
      ]
     },
     "metadata": {
      "needs_background": "dark"
     },
     "output_type": "display_data"
    }
   ],
   "source": [
    "import numpy as np\n",
    "import matplotlib.pyplot as plt\n",
    "\n",
    "x = np.linspace(-2, 1)\n",
    "y = -x**2\n",
    "\n",
    "\n",
    "\n",
    "plt.plot(x, y)"
   ]
  },
  {
   "cell_type": "markdown",
   "metadata": {},
   "source": [
    "#### Утверждение 1\n",
    "\n",
    "Если функция $ f $ выпукла вверх (вниз) на $ (a, b) $, то $ \\forall x_1, x_2 \\in (a, b), x_1 < x_2 $ график $ y = f(x) $ лежит не ниже (не выше) хорды $ A_1, A_2 $, где $ A_1(x_1, f(x_1)), A_2(x_2, f(x_2)) $\n",
    "\n",
    "#### Доказательство\n",
    "\n",
    "Пусть $ f $ - выпуклая. Возьмём $x_0 \\in (x_1, x_2) $. По определению график функции $ f $ на $ (a, b) $ лежит не выше касательной в точке $ M \\Rightarrow $ точки $ A_1, A_2 $ лежат не выше касательной в точке $ M \\Rightarrow $ тогда $ M $ лежит не ниже хорды $ A_1A_2 $. Точка $ M(x_0, f(x_0)) $, где $ x_0 $ - производная из интервала $ (x_1, x_2) $"
   ]
  },
  {
   "cell_type": "markdown",
   "metadata": {},
   "source": [
    "### Утверждение 2 (неравенство Йенсена)\n",
    "\n",
    "Пусть функция $ f $ выпукла вверх (вниз) на $ (a, b) $. Тогда $ \\forall x_1, x_2 \\in (a, b), \\forall \\lambda_1, \\lambda_2 \\in (0, 1), \\lambda_1 + \\lambda_2 = 1: f(\\lambda_1x_1 + \\lambda_2x_2) \\geqslant \\lambda_1f(x_1) + \\lambda_2f(x_2) \\ \\ \\ (f(\\lambda_1x_1 + \\lambda_2x_2) \\leqslant \\lambda_1f(x_1) + \\lambda_2f(x_2)) $\n",
    "\n",
    "### Доказательство\n",
    "\n",
    "Обозначим $ x_0 = \\lambda_1x_1 + \\lambda_2x_2 $. Пусть $ x_1 < x_2 $. Тогда $ x_0 \\in (x_1, x_2) $. Напишем уравнение хорды $ A_1A_2: \\frac{x - x_1}{x_2 - x_1} = \\frac{y - f(x_1)}{f(x_2) - f(x_1)} $. Пусть точка $ A $ лежит на хорде $ A_1A_2 $, её абсцисса $ x_0 $, наййдём ординату: $ y_0 = \\cdots = \\lambda_1f(x_1) + \\lambda_2f(x_2) $. Пусть $ f $ выпукла вверх, тогда $ f(x_0) \\geqslant y_0 $ (утверждение 1) $ \\Rightarrow f(\\lambda_1x_1 + \\lambda_2 + x_2) \\geqslant \\lambda_1f(x_1)  +\\lambda_2f(x_2) $  \n",
    "\n",
    "Если $ \\lambda_1 = \\lambda_2 \\frac{1}{2} $, то $ f(\\frac{x + y}{2}) \\geqslant \\frac{f(x) + f(y)}{2} $"
   ]
  },
  {
   "cell_type": "markdown",
   "metadata": {},
   "source": [
    "### Теорема 5 (достаточное условие выпуклости)\n",
    "\n",
    "Пусть $ f $ дважды дифференцируема на $ (a, b) $. Если $ f''(x) > 0 \\ \\ (< 0) \\forall x \\in (a, b) $, то $ f $ выпуклая вниз (вверх) на $ (a, b) $\n",
    "\n",
    "### Доказательство\n",
    "\n",
    "Пусть $ x_0 \\in (a, b) $. Тогда $\\forall x \\in (a, b), f(x) = f(x_0) + f'(x)(x - x_0) + \\frac{f''(\\zeta)}{2!}(x - x_0)^2, \\zeta $ - между $ x $ и $ x_0 $. Уравнение касательной производной в точке $ M(x_0, f(x_0)): y = f'(x_0)(x - x_0) + f(x_0) \\Rightarrow f(x) - y = \\frac{f''(\\zeta)}{x - x_0}^2 $. Если $ f''(x) > 0 $ на $ (a, b) $, то $ f(x) \\leqslant y \\Rightarrow $ график $ f $ лежит на ниже касательной $ \\Rightarrow $ функция выпукла вниз. Аналогично если $ f''(x) < 0 $, то функция выпукла вверх."
   ]
  },
  {
   "cell_type": "markdown",
   "metadata": {},
   "source": [
    "### Следствие\n",
    "\n",
    "Пусть функция $ f $ дважды дифференцируема в окрестности точки $ c \\dots $. Если $ f''(x) \\geqslant0 (\\leqslant 0) \\Rightarrow f \\cup (\\cap) $ \n",
    "\n",
    "#### Замечание\n",
    "\n",
    "Если $ f''(x) = 0 $, то $ f(x) = ax + b $ направление выпуклости можно считать произвольным/"
   ]
  },
  {
   "cell_type": "markdown",
   "metadata": {},
   "source": [
    "### Определение 3\n",
    "\n",
    "Пусть $ f \\in D(a, b), c \\in (a, b) $. Тогда $ c $ называется точкой перегиба (графика) функции $ y = f(x) $, если $ \\exists \\delta > 0 $, т.ч. функция имеет различные направления выпуклости на отрезках $ (c - \\delta, c) $ и $ (c, c + \\delta) $\n",
    "\n",
    "#### Замечание\n",
    "\n",
    "На практике это можно распространить на случай, когда $ f $ только непрерывна в точке $ c $. Например, естевственно считать, что $ x = 0 $ - точка перегиба функции $ y = \\sqrt[3]{x} $\n",
    "\n",
    "Обозначим $ r(x) = f(x) - (f'(c)(x - c) + f(c)) $\n",
    "\n",
    "### Лемма\n",
    "\n",
    "Пусть $ f $ дифференцируема в окрестности точки $ c $ и $ f'(x) $ непрерывна в точке $ c $. Если $ c $ точка перегиба, то функция $ r(x) $ монотонна в точке $ c $ (т.е. график функции $ f $ в пределах испомой окрестности лежит по разные стороны от касательной, проведённой к нему в точке $ c $)\n",
    "\n",
    "### Доказательство\n",
    "\n",
    "Пусть $ \\exists \\delta > 0, f \\cap $ на $ (c - \\delta, c) $ и $ f \\cup $ на $ (c, c + \\delta) $. Возбмём точку $ x' \\in (c - \\delta, c) $. Тогда график функции не выше касательной в точке $ x' \\Rightarrow f(x) - (f'(x')(x - x') + f(x')) \\leqslant 0 \\Rightarrow  $ (перейдём к пределу при $ x' \\to c - 0 $): $ r(x) = f(x) - (f'(c)(x - c) + f(x)) \\leqslant 0 \\forall x \\in (c - \\delta, c) $. Аналогично $ r(x) \\geqslant 0 \\forall x \\in (c, c + \\delta) $"
   ]
  },
  {
   "cell_type": "markdown",
   "metadata": {},
   "source": [
    "### Теорема 6. Необходимое условие перегиба\n",
    "\n",
    "Пусть $ f $ дифференцируема в окрестности точки $ c $ и существует $ f''(c) $. Если $ c $ - точка перегиба, то $ f''(c) = 0 $\n",
    "\n",
    "### Доказательство\n",
    "\n",
    "Предположим, что $ f''(c) \\neq 0 $. Тогда для функции $ r(x) \\ \\ r'(c) = f'(c) - f'(c) = 0, r''(c) = f''(c) \\neq  \\Rightarrow $ функция $ r(x) $ имеет строгий локальный экстремум в точке $ c $, что противоречит лемме. Значит $ f''(c) = 0 $"
   ]
  },
  {
   "cell_type": "markdown",
   "metadata": {},
   "source": [
    "### Теорема 7 (1-е лостаточное условие перегиба)\n",
    "\n",
    "Пусть $ f $ дифференцируема в окрестности точки $ c $ и дважды дифференцирема в проколотой окрестности. Если $ \\exists \\delta > 0 $, т.ч. $ f''(x) $ имеет разные знаки на $ (c - \\delta, c), (c, c + \\delta) $, то $ c $ - точка перегиба\n",
    "\n",
    "### Доказательство\n",
    "\n",
    "Из Т.5 $ \\Rightarrow f $ имеет различные направления выпуклости на $ (c - \\delta, c), (c, c + \\delta) \\Rightarrow c $ - точка перегиба"
   ]
  },
  {
   "cell_type": "markdown",
   "metadata": {},
   "source": [
    "### Теорема 8 (второе достаточное условие перегиба)\n",
    "\n",
    "Пусть $ f $ дважды дифференцируема в окрестности точки $ c $ и $ \\exists f'''(c) $. Если $ f''(x) = 0, f'''(c) \\neq 0 $, то $ c $ - точка перегиба\n",
    "\n",
    "### Доказательство\n",
    "\n",
    "$ f'''(c) \\neq 0 \\Rightarrow f''(c) $ возрастает или убывает в точке $ c $; $ f''(c) = 0 \\Rightarrow \\exists \\delta > 0 $, т.ч. $ f''(x) $ имеет разные знаки на $ (c - \\delta, c), (c, c + \\delta) \\Rightarrow c $ - точка перегиба (Т.7)"
   ]
  },
  {
   "cell_type": "markdown",
   "metadata": {},
   "source": [
    "### Теорема 9 (3-е достаточное условие перегиба)\n",
    "\n",
    "Пусть $ f \\ n - 1 $ дифференцируема в окрестности точки $ c $ и $ \\exists f^{(n)}(c), n = 2k + 1 $. Если $ f''(c) = \\dots = f^{(n - 1)}(c) = 0, f^{(n)} \\neq 0 $, то $ c $ - точка перегиба\n",
    "\n",
    "### Доказательство\n",
    "\n",
    "Разложим $ f''(x) $ по формуле Тейлора, $ x \\in \\dot{B_\\delta}(c), \\delta > 0. f''(x) = f''(c) + \\frac{f'''(x)}{1!}(x - c)^1 + \\cdots + \\frac{f^{(n - 1)}(x)}{(n - 3)!}(x - c)^{n - 3} $. Заметим, что $ f^{(n - 1)}(c) = 0, f^{(n)} \\neq 0 \\Rightarrow f^{(n  -1)}(x) $ возрастает (убывает) в точке $ c \\Rightarrow $ имеет разные знаки на интервалах $ \\Rightarrow c $ - точка перегибы (Т.7)"
   ]
  },
  {
   "cell_type": "markdown",
   "metadata": {},
   "source": [
    "### Определение 4\n",
    "\n",
    "Прямая $ y = kx + b $ называется вертикальной ассимптотой графика функции $ y = f(x) $, если $ \\underset{x \\to a - 0}{lim} f(x) = \\pm \\infty $ и/или $ \\underset{x \\to a + 0}{lim} f(x) = \\pm \\infty $"
   ]
  },
  {
   "cell_type": "markdown",
   "metadata": {},
   "source": [
    "### Определение 5\n",
    "\n",
    "Прямая $ y = kx + b $ называется наклонной ассимптотой графика $ y = f(x) $ при $ x \\to +\\infty(-\\infty) $, если $ f(x) = kx + b + \\alpha(x) $, где $ \\alpha(x) = \\overline{o}(1), x \\to +\\infty (-\\infty) $"
   ]
  },
  {
   "cell_type": "markdown",
   "metadata": {},
   "source": [
    "### Теорема 10\n",
    "\n",
    "Прямая $ y = kx + b $ является наклонной ассимптотой графика функции $ f $ при $ x \\to \\pm \\infty \\Leftrightarrow \\underset{x \\to \\pm \\infty}{lim} \\frac{f(x)}{x} = k, \\underset{x \\to \\pm \\infty}{lim} (f(x) - kx) = b $"
   ]
  },
  {
   "cell_type": "markdown",
   "metadata": {},
   "source": [
    "## Общая схема исследования функций"
   ]
  },
  {
   "cell_type": "markdown",
   "metadata": {},
   "source": [
    "1. Область определения\n",
    "2. Чётность, периодичность, другая симметрия\n",
    "3. Точки разрыва, промежутки непрерывности\n",
    "4. Нули, промежутки знакопостоянства, точка пересечения с $ Oy $\n",
    "5. Экстремумы, монотонность\n",
    "6. Перегибы, выпуклость\n",
    "7. Ассимптоты"
   ]
  },
  {
   "cell_type": "markdown",
   "metadata": {},
   "source": [
    "Пример:\n",
    "\n",
    "$ y = \\frac{(x + 1)^3}{(x - 1)^2} $\n",
    "\n",
    "1. $ X \\in \\mathbb{R} \\backslash \\{0\\} $\n",
    "2. Симметрии нет\n",
    "3. $ x = 1 $ - точка разрыва 2-го рода; непрерывна на $ (-\\infty, 1) \\cap (1, +\\infty) $\n",
    "4. $ f(x) = 0 \\Leftrightarrow x = -1; f(0) = -1 $\n",
    "5. $ f'(x) = \\frac{3(x + 1)^2(x - 1)^2 - 2(x - 1)(x + 1)^3}{(x - 1)^4} = \\frac{(x + 1)^2(x - 5)}{(x - 1)^3} $\n",
    "   $ x = 5 $ - точка локального минимума. $ f(5) = \\frac{27}{2} $\n",
    "6. $ f''(x) = \\frac{45(x + 1)}{(x - 1)^4} $\n",
    "7. $ x = 1 $ - вертикальная ассимптота  \n",
    "   $ \\underset{x \\to \\pm \\infty}{lim} \\frac{(x + 1)^3}{(x - 1)^2 \\cdot x} = 1 \\ \\ \\ $\n",
    "   $ \\underset{x \\to \\pm \\infty}{lim} \\frac{(x + 1)^3}{(x - 1)^2} - x = 5 $"
   ]
  },
  {
   "cell_type": "code",
   "execution_count": 1,
   "metadata": {},
   "outputs": [],
   "source": [
    "%matplotlib inline"
   ]
  },
  {
   "cell_type": "code",
   "execution_count": 2,
   "metadata": {},
   "outputs": [
    {
     "data": {
      "text/plain": [
       "[<matplotlib.lines.Line2D at 0x7f1a30971e80>]"
      ]
     },
     "execution_count": 2,
     "metadata": {},
     "output_type": "execute_result"
    },
    {
     "data": {
      "image/png": "[encoded data removed]",
      "text/plain": [
       "<Figure size 432x288 with 1 Axes>"
      ]
     },
     "metadata": {
      "needs_background": "dark"
     },
     "output_type": "display_data"
    }
   ],
   "source": [
    "import numpy as np\n",
    "import matplotlib.pyplot as plt\n",
    "\n",
    "x = np.linspace(-10, 10)\n",
    "x = x[x != 1]\n",
    "f = lambda x: ((x + 1)**3) / ((x - 1)**2)\n",
    "\n",
    "y = f(x)\n",
    "plt.plot(x, y)"
   ]
  }
 ],
 "metadata": {
  "kernelspec": {
   "display_name": "Python 3",
   "language": "python",
   "name": "python3"
  },
  "language_info": {
   "codemirror_mode": {
    "name": "ipython",
    "version": 3
   },
   "file_extension": ".py",
   "mimetype": "text/x-python",
   "name": "python",
   "nbconvert_exporter": "python",
   "pygments_lexer": "ipython3",
   "version": "3.7.4"
  }
 },
 "nbformat": 4,
 "nbformat_minor": 4
}
