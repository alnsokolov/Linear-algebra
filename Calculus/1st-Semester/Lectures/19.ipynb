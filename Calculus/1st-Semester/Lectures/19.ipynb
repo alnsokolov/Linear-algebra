{
 "cells": [
  {
   "cell_type": "markdown",
   "metadata": {},
   "source": [
    "# 19. Дифференцируемые функции"
   ]
  },
  {
   "cell_type": "markdown",
   "metadata": {},
   "source": [
    "Пусть $ f $ оперделена на $ (a, b), x_0 \\in (a, b) $"
   ]
  },
  {
   "cell_type": "markdown",
   "metadata": {},
   "source": [
    "### Определение 1"
   ]
  },
  {
   "cell_type": "markdown",
   "metadata": {},
   "source": [
    "Пусть $ \\Delta x \\in \\mathbb{R} $, т.ч. $ x_0 + \\Delta x \\in (a, b) $. Число $ \\Delta x $ называется приращением аргумента. Число $ \\Delta f = f(x_0 + \\Delta x) - f(x_0) $ называется приращением функции, соответствующим приращению $ \\Delta x $"
   ]
  },
  {
   "cell_type": "markdown",
   "metadata": {},
   "source": [
    "Выразение $ \\lim\\limits_{x \\to x_0} \\frac{f(x)}{\\Delta x} = \\lim\\limits_{\\Delta x \\to 0} \\frac{f(x_0 + \\Delta x) - f(x_0)}{\\Delta x} $ называется производной функции $ f $ в точке $ x_0 $ и обозначается $ \\frac{df}{dx}|_{x=x_0} $"
   ]
  },
  {
   "cell_type": "markdown",
   "metadata": {},
   "source": [
    "### Определение 2"
   ]
  },
  {
   "cell_type": "markdown",
   "metadata": {},
   "source": [
    "Левой (правой) производной функции $ f $ в точке $ x_0 $ называется выражение $ f_-'(x+0) = \\lim\\limits_{\\Delta x \\to 0 - 0} \\frac{f(x_0 + \\Delta x) - f(x_0)}{\\Delta x} $  \n",
    "\n",
    "$ f_+'(x+0) = \\lim\\limits_{\\Delta x \\to 0 + 0} \\frac{f(x_0 + \\Delta x) - f(x_0)}{\\Delta x} $"
   ]
  },
  {
   "cell_type": "markdown",
   "metadata": {},
   "source": [
    "### Утверждение 1"
   ]
  },
  {
   "cell_type": "markdown",
   "metadata": {},
   "source": [
    "$ \\exists f'(x_0) \\Leftrightarrow \\exists f_-'(x_0), f_+'(x_0), \\ f_-'(x_0) = f_+'(x_0) $"
   ]
  },
  {
   "cell_type": "markdown",
   "metadata": {},
   "source": [
    "Пример: \n",
    "\n",
    "$ y = |x| $  \n",
    "\n",
    "$ f_-'(0) = -1, f_+'(0) = 1 \\Rightarrow \\nexists f'(x) $"
   ]
  },
  {
   "cell_type": "markdown",
   "metadata": {},
   "source": [
    "### Определение 3"
   ]
  },
  {
   "cell_type": "markdown",
   "metadata": {},
   "source": [
    "Функция $ f $ называется дифференцируемой в точке $ x_0 $, если $ \\exists A \\subset X $, т.ч. $ \\Delta f = f(x_0 + \\Delta x) - f(x_0) $ представимо в виде $ \\Delta f = A \\cdot \\Delta x + a(\\Delta x)\\cdot \\Delta x $, гдe $ a(\\Delta x) \\to 0. A $ - постоянная, не зависящая от $ \\Delta x $"
   ]
  },
  {
   "cell_type": "markdown",
   "metadata": {},
   "source": [
    "### Теорема 1"
   ]
  },
  {
   "cell_type": "markdown",
   "metadata": {},
   "source": [
    "Функция $ f $ дифференцируема в точке $ x_0 \\Leftrightarrow \\exists f'(x_0) $"
   ]
  },
  {
   "cell_type": "markdown",
   "metadata": {},
   "source": [
    "$ \\Rightarrow \\Delta f  = A\\Delta x + a(\\Delta x)\\cdot \\Delta x \\Rightarrow \\lim\\limits{\\Delta x \\to 0} \\frac{\\Delta f}{\\Delta x} = \\lim\\limits{\\Delta x \\to 0} (A + a(\\Delta x)) = A \\Rightarrow \\exists f'(x_0) = A $  \n",
    "\n",
    "$ \\Leftarrow $ Пусть $ \\lim\\limits{\\Delta x \\to 0} \\frac{\\Delta f}{\\Delta x} = f'(x_0) \\Rightarrow \\left ( \\frac{\\Delta f}{\\Delta x} - f'(x_0) \\right ) \\to 0 \\Rightarrow \\frac{\\Delta f}{\\Delta x} - f'(x_0) = a(\\Delta x), $ где $ a(\\Delta x) \\to 0 \\Rightarrow \\Delta f = A \\cdot \\Delta x + a(\\Delta x)\\cdot \\Delta x $ "
   ]
  },
  {
   "cell_type": "markdown",
   "metadata": {},
   "source": [
    "Таким образом, если $ f $ дифференцируема в точке $ x_0 $, то $ \\Delta f = f(x_0)\\Delta x + a(\\Delta x)\\Delta x, a(\\Delta x) \\to 0, \\Delta x \\to 0 $"
   ]
  },
  {
   "cell_type": "markdown",
   "metadata": {},
   "source": [
    "### Утверждение 2"
   ]
  },
  {
   "cell_type": "markdown",
   "metadata": {},
   "source": [
    "Пусть $ f $ дифференцируема в точке $ x_0 $. Тогда она непрерывна в ней"
   ]
  },
  {
   "cell_type": "markdown",
   "metadata": {},
   "source": [
    "$ \\Delta f  =f(x_0 + \\Delta x) - f(x_)) = f'(x_0)\\Delta x + a(\\Delta x)\\Delta x\\to 0 \\Rightarrow f(x_0 + \\Delta x) \\to f(x_0) $, т.е. функция непрерывна в точке $ x_0 $"
   ]
  },
  {
   "cell_type": "markdown",
   "metadata": {},
   "source": [
    "### Замечение"
   ]
  },
  {
   "cell_type": "markdown",
   "metadata": {},
   "source": [
    "Из непрерывности функции в точке не следует её дифференцируемость в этой точке.\n",
    "\n",
    "Пример: $ y = |x|, |x_0| = 0 $"
   ]
  },
  {
   "cell_type": "markdown",
   "metadata": {},
   "source": [
    "### Геометрический смысл производной"
   ]
  },
  {
   "cell_type": "code",
   "execution_count": 11,
   "metadata": {},
   "outputs": [
    {
     "data": {
      "text/plain": [
       "<matplotlib.collections.PathCollection at 0x7fd0b9deaa58>"
      ]
     },
     "execution_count": 11,
     "metadata": {},
     "output_type": "execute_result"
    },
    {
     "data": {
      "image/png": "[encoded data removed]",
      "text/plain": [
       "<Figure size 432x288 with 1 Axes>"
      ]
     },
     "metadata": {
      "needs_background": "dark"
     },
     "output_type": "display_data"
    }
   ],
   "source": [
    "import numpy as np\n",
    "import matplotlib.pyplot as plt\n",
    "\n",
    "# TODO: lib for graphics in calculus lectures\n",
    "\n",
    "x = np.linspace(-2, 2, 200)\n",
    "y = np.exp(x)\n",
    "plt.plot(x, y)\n",
    "\n",
    "coefficients = np.polyfit([0, 1], np.exp((0, 1)), 1)\n",
    "polynomial = np.poly1d(coefficients)\n",
    "\n",
    "line = polynomial(x)\n",
    "\n",
    "plt.plot(x, line)\n",
    "plt.scatter((0, 1), np.exp((0, 1)))"
   ]
  },
  {
   "cell_type": "markdown",
   "metadata": {},
   "source": [
    "Обозначим $ \\phi(\\Delta x) $ угол между секущей и положительным направлением оси $O_x$. Тогда $ \\exists \\lim\\limits_{\\Delta x \\to 0} \\phi(\\Delta x) = \\phi_0 $, то $ \\phi_0 $ - угол между касательной и осью $ O_x $"
   ]
  },
  {
   "cell_type": "markdown",
   "metadata": {},
   "source": [
    "### Теорема 2 (геометрический смысл производной)"
   ]
  },
  {
   "cell_type": "markdown",
   "metadata": {},
   "source": [
    "Если $ f $ дифференцируема в точке $ x_0 $, то в точке $ M(x_0, f(x_0)) $ существует касательная к графику функции, причём $ f'(x_0)  =tg \\phi_0 $"
   ]
  },
  {
   "cell_type": "markdown",
   "metadata": {},
   "source": [
    "### Уравнение касательной"
   ]
  },
  {
   "cell_type": "markdown",
   "metadata": {},
   "source": [
    "$ y = f'(x_0) (x - x_0) + f(x_0) $"
   ]
  },
  {
   "cell_type": "markdown",
   "metadata": {},
   "source": [
    "### Замечание"
   ]
  },
  {
   "cell_type": "markdown",
   "metadata": {},
   "source": [
    "Если $ f'(x) = \\pm \\infty $, то это значит, что $ \\phi_0 = \\pm \\frac{\\pi}{2} $, т.е. касательная в точке $ x_0 $ вертикальна. Её уравнение: $ x = x_0 $  \n",
    "\n",
    "Например:  \n",
    "$ y = \\sqrt[3]{x} $ имеет в точке $ x_0 = 0 $ вертикальную касательную $ x = 0 $"
   ]
  },
  {
   "cell_type": "markdown",
   "metadata": {},
   "source": [
    "## Правила дифференцирования"
   ]
  },
  {
   "cell_type": "markdown",
   "metadata": {},
   "source": [
    "### Теорема 3 (о сложной функции)"
   ]
  },
  {
   "cell_type": "markdown",
   "metadata": {},
   "source": [
    "Пусть $ \\phi: (\\alpha, \\beta) \\to (a, b); f: (a, b) \\to X. t_0 \\in (\\alpha, \\beta), x_0 = \\phi(t_0) $. Если $ \\phi $ определена в точке $ t_0 $, $ f $ оперделена в точке $ x_0 $, то сложная функция дифференцируема в точке $ t_0 $ и $ (f(\\phi(t_0)))' = f'(x_0)\\phi'(t_0) $"
   ]
  },
  {
   "cell_type": "markdown",
   "metadata": {},
   "source": [
    "$ \\Delta t \\in \\mathbb{R}, t_0 + \\Delta t \\in (\\alpha, \\beta). $ Тогда $ \\phi(t_0 + \\Delta t) - \\phi(t_0) = \\phi(t_0)\\Delta t + \\alpha(\\Delta t)\\Delta t, \\ \\alpha(\\Delta t) \\to 0 $  \n",
    "\n",
    "Обозначим $ \\Delta x = \\phi(t_0 + \\Delta t) - \\phi(t_0) $, тогда $ x_0 + \\Delta x \\in (a, b) \\Rightarrow f(x_0 = \\Delta x) - f(x_)) = f'(x_0)\\Delta x + \\beta(\\Delta x)\\Delta x, \\ \\beta(\\Delta x) \\to 0$  \n",
    "\n",
    "$ = f'(x_0)(\\phi(t_0)\\Delta t + \\alpha(\\Delta t)\\Delta t) + \\beta(\\Delta x)(\\phi(t_0)\\Delta t + \\alpha(\\Delta t)\\Delta t) = \\dots $"
   ]
  },
  {
   "cell_type": "markdown",
   "metadata": {},
   "source": [
    "### Теорема 4 (производная обратной функции)"
   ]
  },
  {
   "cell_type": "markdown",
   "metadata": {},
   "source": [
    "Пусть функция $ f $ определанвб непрерывна и строго монотонна в $ B_\\delta(x_0) $ для некоторого $ \\delta > 0 $. Если $ \\exists f'(x_0) \\neq 0, $ то в точке $ y_0 = f(x_0) $ существует производная обратной функции: $ (f^{-1}(y))' = \\frac{1}{f'(x)} $"
   ]
  },
  {
   "cell_type": "markdown",
   "metadata": {},
   "source": [
    "Пусть $ \\Delta x \\in \\mathbb{R} \\backslash \\{0\\}, x_0 + \\Delta x = B_\\delta(x_0) $. По теореме об обратной функции в некоторой окрестности точки $ y_0 = f(x_0) $ существует обратная функция $ f^{-1}(y) $. Полодим $ \\Delta y = f(x_0 + \\Delta x) - f(x_0). $ Тогда $ \\Delta y \\neq 0 $ ( $ f $ строгомонотонна), причём $ f^{-1}(y_0 + \\Delta y) - f^{-1}(y_0) = f^{-1}(f(f(x_0) + x_0 + \\Delta x) - f(x_0)) - x_0 = f^{-1}(f(x_0 + \\Delta x)) - x_0 = x_0 + \\Delta x - x_0 = \\Delta x $  \n",
    "\n",
    "Значит $(f^{-1}(y))'_{y = y_0} = \\lim\\limits{\\Delta y \\to 0} \\frac{\\Delta x}{\\Delta y} = \\frac{1}{\\lim\\limits{\\Delta y \\to 0} \\frac{\\Delta x}{\\Delta y}} = \\frac{1}{f'(x)}$"
   ]
  },
  {
   "cell_type": "markdown",
   "metadata": {},
   "source": [
    "### Теорема 5"
   ]
  },
  {
   "cell_type": "markdown",
   "metadata": {},
   "source": [
    "Пусть $ f, g $ дифференцируемы в точке $ x_0 $. Тогда $ f(x \\pm g(x))' = f'(x) \\pm g'(x), (f(x)\\cdot g(x))' = f(x)g'(x) + f'(x)g(x) $б если $ g(x) \\neq 0, \\frac{f(x)}{g(x)}' = \\frac{f'(x)g(x) - f(x)g'(x)}{g^2(x)} $"
   ]
  },
  {
   "cell_type": "markdown",
   "metadata": {},
   "source": [
    "$ h = f \\pm g \\Rightarrow \\frac{\\Delta h}{\\Delta x} = \\frac{\\Delta f \\pm \\Delta g}{\\Delta x} = \\frac{\\Delta f}{\\Delta x} \\pm \\frac{\\Delta g}{\\Delta x} \\to f(x) \\pm g(x)$"
   ]
  },
  {
   "cell_type": "markdown",
   "metadata": {},
   "source": [
    "$ h = fg \\Rightarrow \\frac{\\Delta h}{\\Delta x} = \\frac{f(x_0 + \\Delta x)g(x_0  +\\Delta x) - f(x_0)g(x_0)}{\\Delta x} = \\frac{f(x_0 + \\Delta x)g(x_0  +\\Delta x) - f(x_0)g(x_0 + \\Delta x)}{\\Delta x} + \\frac{f(x_0)g(x_0  +\\Delta x) - f(x_0)g(x_0)}{\\Delta x} = \\frac{\\Delta f}{\\Delta x}g(x_0 + \\Delta x) + f(x_0)\\frac{\\Delta g}{\\Delta x} \\to f'(x_0)g(x_0) + f(x_0)g(x_))  $"
   ]
  }
 ],
 "metadata": {
  "kernelspec": {
   "display_name": "Python 3",
   "language": "python",
   "name": "python3"
  },
  "language_info": {
   "codemirror_mode": {
    "name": "ipython",
    "version": 3
   },
   "file_extension": ".py",
   "mimetype": "text/x-python",
   "name": "python",
   "nbconvert_exporter": "python",
   "pygments_lexer": "ipython3",
   "version": "3.7.4"
  }
 },
 "nbformat": 4,
 "nbformat_minor": 4
}
