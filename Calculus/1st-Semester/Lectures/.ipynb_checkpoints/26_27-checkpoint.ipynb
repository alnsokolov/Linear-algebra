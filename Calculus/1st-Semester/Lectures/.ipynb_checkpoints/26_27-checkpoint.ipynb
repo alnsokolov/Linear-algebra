{
 "cells": [
  {
   "cell_type": "markdown",
   "metadata": {},
   "source": [
    "# 26. Неопределённый интеграл"
   ]
  },
  {
   "cell_type": "markdown",
   "metadata": {},
   "source": [
    "#### Определение 1\n",
    "\n",
    "Функция $ F $ первообразной (функцией) для функции $ f $ на промежутке $ (a, b) $, если $ F'(x) = f(x) \\ \\ \\forall x \\in (a, b) $"
   ]
  },
  {
   "cell_type": "markdown",
   "metadata": {},
   "source": [
    "#### Теорема 1\n",
    "\n",
    "Если $ F_1, F_2 $ - первообразные для $ f $ на $ (a, b) $ то $ F_1(x) - F_2(x) = C \\ \\ \\forall x \\in (a, b) $\n",
    "\n",
    "#### Доказательство\n",
    "\n",
    "По определению $ F_1'(x) = f(x), F_2'(x) = f(x) \\ \\ \\forall x \\in (a, b) \\Rightarrow (F_1(x) - F_2(x))' = 0 \\Rightarrow F_1(x) - F_2(x) = C \\ \\ \\forall x \\in (a, b) $ (по теоереме Лагранжа)"
   ]
  },
  {
   "cell_type": "markdown",
   "metadata": {},
   "source": [
    "Таким образом множество всех первообразных для $ f $ на $ (a, b) $ имеет вид $ \\{F + C | C \\in \\mathbb{R} \\} $, где $ F $ - любая первообразная $ f $ на $ (a, b) $."
   ]
  },
  {
   "cell_type": "markdown",
   "metadata": {},
   "source": [
    "#### Определение 2\n",
    "\n",
    "Неопределенный интеграл от фнкции $ f $ на $ (a, b) $ называется множество всех первообразных функции на данном промежутке.\n",
    "\n",
    "Обозначается как $ \\int \\! f(x) \\, \\mathrm{d}x $, где $ \\int $ - знак интеграла, $ f(x) \\, \\mathrm{d}x $ - подынтегральное выражение, $ f(x) $ подынтегральная функция, $ dx $ - дифференциал. Если $ F $ - любая первообразная для $ f $ на $ (a, b) $, то пишут $ \\in \\! f(x)dx = F + C $ - равенство понимается как равенство множеств."
   ]
  },
  {
   "cell_type": "markdown",
   "metadata": {},
   "source": [
    "#### Свойства\n",
    "\n",
    "1. $ \\int \\! af(x)dx = a \\int \\! f(x)dx $\n",
    "2. $ \\int (f(x) \\pm g(x))dx = \\int f(x)dx \\pm \\int g(x)dx $\n",
    "3. $ (\\int f(x)dx)' = (F(x) + C)' = f(x); \\ \\ d(\\int f(x)dx) = f(x)dx $\n",
    "4. $ \\int dF(x) = \\int f(x)dx = F(x) + C $"
   ]
  },
  {
   "cell_type": "markdown",
   "metadata": {},
   "source": [
    "### Таблица интегралов\n",
    "\n",
    "1. $ \\int 0dx = C; \\ \\ \\int 1dx = x + C $\n",
    "2. $ \\int x^\\alpha dx =\\frac{x^{\\alpha + 1}}{\\alpha + 1} + C  $\n",
    "3. $ \\int \\frac{1}{x}dx = ln \\ |x| + C, x \\neq 1 $  \n",
    "   При $ x < 0 $: $ (ln |x|)' = \\frac{1}{|x|} \\cdot |x|' = \\frac{1}{x} $\n",
    "4. $ \\int a^xdx = \\frac{a^x}{ln \\ a} + C $\n",
    "5. $ \\int sin \\ x \\ dx = -cos \\ x + C $\n",
    "6. $ \\int cos \\ x \\ dx = sin \\ x + C $\n",
    "7. $ \\int \\frac{1}{cos^2}dx = tg \\ x + C $\n",
    "8. $ \\int \\frac{1}{sin^2}dx = -ctg \\ x + C $\n",
    "9. $ \\int sh \\ x \\ dx = ch \\ x + C $\n",
    "10. $ \\int ch \\ x \\ dx = sh \\ x + C  $\n",
    "11. $ \\int \\frac{1}{ch^2x}dx = th \\ x + C $\n",
    "12. $ \\int \\frac{1}{sh^2}dx = -cth \\ x + C $  \n",
    "Пусть $ a > 0 $:  \n",
    "13. $ \\int \\frac{dx}{x^2 + a^2} = \\begin{cases} \\frac{1}{a}arcctg \\ \\frac{x}{a} + C \\\\ - \\frac{1}{a}arcctg \\ \\frac{x}{a} + C \\end{cases} $  \n",
    "14. $ \\int \\frac{dx}{\\sqrt{a^2 - x^2}} = \\begin{cases} arcsin \\ \\frac{x}{a} + C \\\\ - arccos \\ \\frac{x}{a} + C \\end{cases} $\n",
    "15. $ \\int \\frac{1}{x^2 - a^2}dx = \\frac{1}{2a}ln \\left|\\frac{x - a}{x + a}\\right| + C $\n",
    "16. $ \\int \\frac{1}{\\sqrt{x^2 \\pm a^2}}dx = ln |x + \\sqrt{x^2 \\pm a^2}| $, для знака \"-\": $ |x| > a $"
   ]
  },
  {
   "cell_type": "markdown",
   "metadata": {},
   "source": [
    "### Основные методы интегрирования\n",
    "\n",
    "#### Теорема 2 (замена переменной)\n",
    "\n",
    "Пусть функция $ \\varphi:T \\to X, T = (\\alpha, \\beta), \\varphi $ непрерывно дифферециируема на $ T $; $ f $ определена на $ X = (a, b) $. Если $ f $ имеет на $ X $ непрерывную $ F $, то функция $ f(\\varphi)\\varphi' $ имеет первообразную на $ T $, причём $ \\int f(x)dx = \\int f(\\varphi(t))\\varphi(t)dt $  \n",
    "\n",
    "#### Доказательство  \n",
    "\n",
    "$ F'(x) = f(x) \\ \\ \\forall x \\in X \\Rightarrow (F(\\varphi(t)))' = F'(\\varphi(t))\\varphi'(x)=f(\\varphi(t))\\varphi'(t) \\Rightarrow \\int f(\\varphi(t))\\varphi'(t)dt = F(\\varphi(t)) + C = F(x) + C = \\int f(x)dx $"
   ]
  },
  {
   "cell_type": "markdown",
   "metadata": {},
   "source": [
    "#### Теоерема 3\n",
    "\n",
    "Пусть функции $ f, g $ лифференцируемы на $ (a, b) $. Если функция $ f' \\cdot g $ имеет на $ (a, b) $ первообразную, то и $ f \\cdot g' $ имеет на $ (a, b) $ первообразную, причём  \n",
    "$ \\int f(x)g'(x)dx = f(x)g(x)= \\int f'(x)g(x)dx $ - формула интегрирования по частям\n",
    "\n",
    "#### Доказательство\n",
    "\n",
    "$ (f(x)g(x))' = f'(x)g(x) + f(x)g'(x) \\ \\ \\forall x \\in (a, b) \\Rightarrow \\int f(x)g'(x)dx = \\in (f(x)g(x))'dx - \\in f'(x)g(x)dx = f(x)g(x) - \\in f(x)g'(x)dx $"
   ]
  },
  {
   "cell_type": "markdown",
   "metadata": {},
   "source": [
    "# 27. Интегрирование рациональных дробей"
   ]
  },
  {
   "cell_type": "markdown",
   "metadata": {},
   "source": [
    "#### Определение 1\n",
    "\n",
    "Рациональной дробью называется выражение вида $ \\frac{P(x)}{Q(x)} $, где $ P, Q $ - многочлены. Рациональная дробь называется правильной, если степень $ deg \\ P < deg \\ Q $.  \n",
    "\n",
    "Легко показать, что если $ deg \\ P \\geqslant deg \\ Q $, то $ \\frac{P(x)}{Q(x)} = T(x) = \\frac{R(x)}{Q(x)} $, где $ T $ - многочлен, $ \\frac{R}{Q} $ - правильная рациональная дробь."
   ]
  },
  {
   "cell_type": "markdown",
   "metadata": {},
   "source": [
    "#### Теорема 1\n",
    "\n",
    "Пусть $ deg \\ Q(x) = n $, коэффицент при $ x^a $ равен 1. Тогда $ Q(x) = (x - \\alpha_1)^{k_1} \\cdot (x - \\alpha_2)^{k_2} \\cdot \\cdots \\cdot (x - \\alpha_i)^{k_i} \\cdot (x^2 + p_1x + q_1)^{l_1} \\cdots (x^2 + p_jx + q_j)^{l_j} $, где $ \\alpha_1, \\dots, \\alpha_i, p_1, \\dots, p_j, q_1, \\dots, q_j \\in \\mathbb{R} $"
   ]
  }
 ],
 "metadata": {
  "kernelspec": {
   "display_name": "Python 3",
   "language": "python",
   "name": "python3"
  },
  "language_info": {
   "codemirror_mode": {
    "name": "ipython",
    "version": 3
   },
   "file_extension": ".py",
   "mimetype": "text/x-python",
   "name": "python",
   "nbconvert_exporter": "python",
   "pygments_lexer": "ipython3",
   "version": "3.7.3"
  }
 },
 "nbformat": 4,
 "nbformat_minor": 4
}
