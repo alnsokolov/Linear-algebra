{
 "cells": [
  {
   "cell_type": "markdown",
   "metadata": {},
   "source": [
    "$ \\lim\\limits{x \\to a} f(x) = b - 0 - f $ стремится к $ b $ в точке $ a $ снизу (сверху)"
   ]
  },
  {
   "cell_type": "markdown",
   "metadata": {},
   "source": [
    "## 18*. Открытые и закрытые множества"
   ]
  },
  {
   "cell_type": "markdown",
   "metadata": {},
   "source": [
    "Пусть $ A \\subset R $  "
   ]
  },
  {
   "cell_type": "markdown",
   "metadata": {},
   "source": [
    "### Определение 1"
   ]
  },
  {
   "cell_type": "markdown",
   "metadata": {},
   "source": [
    "Точка $ x $ назыввается внутренный точкой множества $ A $, если $ \\exists \\varepsilon > 0: B_\\varepsilon(x) \\subset A $\n",
    "\n",
    "Точка $ x $ называется внешней точкой множества $ A $, если $ \\exists \\varepsilon > 0: B_\\varepsilon(x) \\subset (\\mathbb{R} \\backslash A) $\n",
    "\n",
    "Точка $ x $ называется внешней точкой множества $ A $, если она не является ни внешней ни внутренней точкой множества $ A $  \n",
    "$ \\forall \\varepsilon > 0: B_\\varepsilon(x) \\cap A = \\emptyset $ и $ B_\\varepsilon(x) \\cap (\\mathbb{R} \\backslash A) = \\emptyset $"
   ]
  },
  {
   "cell_type": "markdown",
   "metadata": {},
   "source": [
    "Совокупность всех внутренних точек множества $ A $ называется его внутренностью и обозначается $ int \\ A $  \n",
    "\n",
    "Совокупность всех граничных точек множества $ A $ называется его границей и обозначается $  \\ A $  "
   ]
  },
  {
   "cell_type": "markdown",
   "metadata": {},
   "source": [
    "### Определение 2"
   ]
  },
  {
   "cell_type": "markdown",
   "metadata": {},
   "source": [
    "Множество $ A $ называется открытым, если все его точки - внутренние. Множество называется замкнутым, если множество $ (\\mathbb{R} \\backslash A) $ - открытое"
   ]
  },
  {
   "cell_type": "markdown",
   "metadata": {},
   "source": [
    "<u>Примеры:</u> $ (a, b), (a, +\\infty) $ - открытые множества  \n",
    "$ \\{a\\}, [a, b] $ - замкнутые множества  \n",
    "$ \\mathbb{R}, \\emptyset $ - открытые и замкнытые множества одновременно  \n",
    "$ (a, b] $ - не открытое и не замкнутое множество"
   ]
  },
  {
   "cell_type": "markdown",
   "metadata": {},
   "source": [
    "### Утверждение 1"
   ]
  },
  {
   "cell_type": "markdown",
   "metadata": {},
   "source": [
    "Следующие утверждения эквивалентны:  \n",
    "1. Множество $ A $ замкнуто\n",
    "2. Множество $ A $ содержит все свои предельные точки\n",
    "3. Множество $ A $ сожержит все свои граничные точки"
   ]
  },
  {
   "cell_type": "markdown",
   "metadata": {},
   "source": [
    "Точка $ x $ называется предельной точкой $ A $, если в любой её окрестности содержится бесконечное количество точек $ A $."
   ]
  },
  {
   "cell_type": "markdown",
   "metadata": {},
   "source": [
    "### Доказательство"
   ]
  },
  {
   "cell_type": "markdown",
   "metadata": {},
   "source": [
    "$ 1 \\Rightarrow 2 $  \n",
    "\n",
    "Пусть $ x $ - предельная точка множества $ A $. Предполодим, что $ x \\not\\in A $. Тогда $ x \\in (\\mathbb{R}\\backslash A) $ открыто $ \\Rightarrow \\exists \\varepsilon > 0: B_\\varepsilon(x) \\subset (\\mathbb{R}\\backslash A) $. Но тогда в $ B_\\varepsilon(x) $ нет ни одной точки $ A \\Rightarrow x $ не является предельной точкой ?!  \n",
    "\n",
    "$ 2 \\Rightarrow 3 $ \n",
    "\n",
    "Пусть $ x $ - предельная точка множества $ A $. Предполодим, что $ x\\not \\in A $. Тогда $ \\forall \\varepsilon > 0 B_\\varepsilon(x) \\cap A = \\emptyset $. Покажем, что $ x $ - предельная точка $ A $. Если это не так, то $ \\forall \\varepsilon > 0 $, т.ч. в $ B_\\varepsilon(x) $ содержится лишь конечное число точек множества $ A: a_1, a_2, \\dots, a_n $ и $ x \\neq a_1, x \\neq a_2, \\dots, x \\neq a_n $  \n",
    "\n",
    "Возьмём $ \\varepsilon_1 = \\min\\limits_{1 \\leqslant k \\leqslant n} \\frac{|x - a_k|}{2} $. Получим, что $ B_{\\varepsilon_1}(x) \\cap A = \\emptyset $, но этого не может быть (см. условие (\\*)) Значит $ x $ - пределльная точка $ A $, но тогда $ x \\in A $.\n",
    "\n",
    "$ 3 \\Rightarrow 1 $ \n",
    "\n",
    "Пусть $ x \\in (\\mathbb{R} \\backslash A) $. Тогда $ x $ не может быть внутренней точкой $ A $ (по определению). $ x $ не может быть граничной точкой $ A $ (по определению). Значит $ x $ - внешняя точка $ A \\Rightarrow \\exists \\varepsilon > 0: B_\\varepsilon(x) \\subset (\\mathbb{R} \\backslash A) $. Это означает, что множество $ (\\mathbb{R} \\backslash A) $ открыто"
   ]
  },
  {
   "cell_type": "markdown",
   "metadata": {},
   "source": [
    "### Утверждение 2"
   ]
  },
  {
   "cell_type": "markdown",
   "metadata": {},
   "source": [
    "Любое открытое множество $ A \\subset \\mathbb{R} $ представимо не более чем счётным объединением непересекающихся интервалов $ \\underset{n}{\\cup}(a_n, b_n) $ (возможно $ a_k =  $)"
   ]
  },
  {
   "cell_type": "markdown",
   "metadata": {},
   "source": [
    "### Определение 3"
   ]
  },
  {
   "cell_type": "markdown",
   "metadata": {},
   "source": [
    "Говорят, что множество $ A $ покрывает точку $ x $, если $ x \\in A $"
   ]
  },
  {
   "cell_type": "markdown",
   "metadata": {},
   "source": [
    "### Лемма Гейне-Бореля"
   ]
  },
  {
   "cell_type": "markdown",
   "metadata": {},
   "source": [
    "Пусть система открытых множеств $ \\{A_\\lambda\\}_{\\lambda \\in \\Lambda} $ покрывает все точки отрезка $ [a, b] $. Тогда из этой системы можно выбрать конечный набор множеств $ \\{ A_{\\lambda_1}, A_{\\lambda_2}, \\dots, A_{\\lambda_n} \\} $, которые также покрывают все точки $ [a, b] $"
   ]
  },
  {
   "cell_type": "markdown",
   "metadata": {},
   "source": [
    "### Теорема 1"
   ]
  },
  {
   "cell_type": "markdown",
   "metadata": {},
   "source": [
    "Пусть $ M \\subset \\mathbb{R} $ - ограниченное замкнутое множество. Тогда из любого открытого покрытия $ M $ пожно выбрать конечное подпокрытие."
   ]
  },
  {
   "cell_type": "markdown",
   "metadata": {},
   "source": [
    "### Доказательство"
   ]
  },
  {
   "cell_type": "markdown",
   "metadata": {},
   "source": [
    "$ M $ - ограничено $ \\Rightarrow \\exists a, b \\in \\mathbb{R} $, т.ч. $ M \\subset [a, b] $. Пусть $ \\{A_\\lambda\\}_{\\lambda \\in \\Lambda} $ - открытое покрытие множества $ M $. Тогда система $ \\{ \\{A_\\lambda\\}_{\\lambda \\in \\Lambda}, \\mathbb{R} \\backslash M \\} $ образует открытое покрытие $ M \\in [a, b] $.  \n",
    "\n",
    "Возьмём из него открытое подпокрытие $ \\{ A_1, A_2, \\dots, A_k, (\\mathbb{R} \\backslash M) \\} $ отрезка $ [a, b] $. Тогда система $ \\{ A_1, \\dots, A_k \\} $ покрывает множество M"
   ]
  },
  {
   "cell_type": "markdown",
   "metadata": {},
   "source": [
    "### Определение 4"
   ]
  },
  {
   "cell_type": "markdown",
   "metadata": {},
   "source": [
    "Множество $ K \\subset \\mathbb{R} $ называется компактным множеством (компактом), если из любого его конечного покрытия можно выделить конечное подпокрытие."
   ]
  },
  {
   "cell_type": "markdown",
   "metadata": {},
   "source": [
    "### Теореме 2"
   ]
  },
  {
   "cell_type": "markdown",
   "metadata": {},
   "source": [
    "Пусть $ K \\subset \\mathbb{R} $. Тогда следующие утверждения эквивалентны:\n",
    "\n",
    "1. $ K $ - компакт\n",
    "2. $ K $ - ограниченное замкнутое множество\n",
    "3. Из $ \\forall \\{x_n\\}, \\forall n \\in \\mathbb{N} x_n \\in K $ можно выделить водноследовательность, сходящуюся к точке $ x_0 \\subset K $"
   ]
  }
 ],
 "metadata": {
  "kernelspec": {
   "display_name": "Python 3",
   "language": "python",
   "name": "python3"
  },
  "language_info": {
   "codemirror_mode": {
    "name": "ipython",
    "version": 3
   },
   "file_extension": ".py",
   "mimetype": "text/x-python",
   "name": "python",
   "nbconvert_exporter": "python",
   "pygments_lexer": "ipython3",
   "version": "3.7.3"
  }
 },
 "nbformat": 4,
 "nbformat_minor": 4
}
