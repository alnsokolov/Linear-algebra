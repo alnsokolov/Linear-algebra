{
 "cells": [
  {
   "cell_type": "markdown",
   "metadata": {},
   "source": [
    "# 24. Раскрытие неопределённостей (правило Лопиталя)"
   ]
  },
  {
   "cell_type": "markdown",
   "metadata": {},
   "source": [
    "#### Определение 1\n",
    "\n",
    "Будем говорить, что отношение функций $ \\frac{f(x)}{g(x)} $ представляют собой неопределённость вида $ \\left[ \\frac{0}{0} \\right] (\\frac{\\infty}{\\infty}) $ при $ x \\to \\infty $, если $ \\lim\\limits_{x \\to \\infty} f(x) = 0, \\lim\\limits_{x \\to  \\infty} g(x) = 0 ( \\lim\\limits_{x \\to \\infty} f(x) = \\infty \\lim\\limits_{x \\to  \\infty} g(x) = \\infty) $"
   ]
  },
  {
   "cell_type": "markdown",
   "metadata": {},
   "source": [
    "### Теорема 1 (Первое правио Лопиталя)\n",
    "\n",
    "Пусть:\n",
    "\n",
    "1. Функции $ f, g $ определены и дифференцируемы в $ \\dot B_\\delta(a) $ для некоторого $ \\delta > 0 $\n",
    "2. $ g(x) \\neq 0 \\ \\forall x \\in \\dot B_\\delta(a) $\n",
    "3. $ \\lim\\limits_{x \\to \\infty} f(x) = 0, \\lim\\limits_{x \\to  \\infty} g(x) = 0 $\n",
    "4. $ \\exists \\frac{f'(x)}{g'(x)} = A, $ где $ A \\in \\mathbb{R} $  \n",
    "\n",
    "Тогда $ \\lim\\limits_{x \\to a}\\frac{f(x)}{g(x)} = A $"
   ]
  },
  {
   "cell_type": "markdown",
   "metadata": {},
   "source": [
    "### Доказательство\n",
    "\n",
    "Положим $ f(a) = g(a) = 0 $. Тогда $ f, g $ будут непрерывны в $ \\dot B_\\delta(a) $. Пусть $ x \\to a - 0 $ (случай для $ x \\to a + 0 $ рассматриывается аналогично).  Рассмотрим произвольную последовательность $ \\{x_n\\}, x_n \\to a, n \\to \\infty, \\ \\forall x_n < a $. Тогда $ \\exists N \\in \\mathbb{N}: \\forall n \\geqslant x_n \\in (a - \\delta, x) $. Пусть $ n \\geqslant N $. Тогда функции $ f, g $ удовлетворяют всем условиям теоремы Коши на отрезке $ [x, a] $. Значит $ \\exists c_n \\in (x_n, a) $, т.ч. $ \\frac{f(x_n) - f(a)}{g(x_n) - g(a)} = \\frac{f(c_n)}{g(c_n)} \\Rightarrow \\frac{f(x_n)}{g(x_n)} = \\frac{f'(c_n)}{g'(c_n)} $  \n",
    "\n",
    "Согласно определению предела по Гейне $ \\lim\\limits_{x \\to a - 0} \\frac{f(x)}{g(x)} = A $. Аналогично $ \\lim\\limits_{x \\to a + 0} \\frac{f(x)}{g(x)} = A \\Rightarrow \\lim\\limits_{x \\to a} \\frac{f(x)}{g(x)} = A $"
   ]
  },
  {
   "cell_type": "markdown",
   "metadata": {},
   "source": [
    "#### Пример:\n",
    "\n",
    "$ \\lim\\limits_{x \\to 0+0} x^\\alpha \\cdot ln \\ x = \\lim\\limits_{x \\to 0+0} \\frac{x^\\alpha}{\\frac{1}{ln \\ x}} = [\\frac{0}{0}] = \\lim\\limits_{x \\to 0+0} \\frac{\\alpha \\cdot x^{\\alpha - 1}}{\\frac{1}{ln^2 \\ x \\cdot x}} = \\alpha \\lim\\limits_{x \\to 0+0} x^{\\alpha} ln^2x $\n",
    "\n",
    "$ \\alpha \\lim\\limits_{x \\to 0+0} x^{\\alpha} ln^2x = \\dots $"
   ]
  },
  {
   "cell_type": "markdown",
   "metadata": {},
   "source": [
    "### Замечание\n",
    "\n",
    "$ \\lim\\limits_{x \\to a} \\frac{f(x)}{g(x)} = \\lim\\limits_{x \\to a} \\frac{1 / g(x)}{1 / f(x)} = [\\frac{0}{0}] = \\lim\\limits_{x \\to a} \\frac{(-1 / g^x(x)) g'(x)}{(-1 / f^x(x)) f'(x)} = \\lim\\limits_{x \\to a} \\frac{f^2(x)}{g^2(x)} \\cdot \\frac{g'(x)}{f'(x)} = L \\Rightarrow L = L^2 \\cdot \\frac{1}{A} \\Rightarrow L = A $"
   ]
  },
  {
   "cell_type": "markdown",
   "metadata": {},
   "source": [
    "### Теорема 2 (2-е правило Лопиталя)\n",
    "\n",
    "Пусть:\n",
    "\n",
    "1. Функции $ f, g $ определены и дифференцируемы в $ \\dot B_\\delta(a) $ для некоторого $ \\delta > 0 $\n",
    "2. $ g(x) \\neq 0 \\ \\forall x \\in \\dot B_\\delta(a) $\n",
    "3. $ \\lim\\limits_{x \\to a} f(x) = \\infty, \\ \\lim\\limits_{x \\to a} g(x) = \\infty $\n",
    "4. $ \\exists \\frac{f'(x)}{g'(x)} = A, A \\in \\mathbb{R} $ или $ A  = \\infty $  \n",
    "\n",
    "Тогда $ \\lim\\limits_{x \\to a}\\frac{f(x)}{g(x)} = A $"
   ]
  },
  {
   "cell_type": "markdown",
   "metadata": {},
   "source": [
    "### Доказательство\n",
    "\n",
    "1. Пусть $ A \\in \\mathbb{R} $. Пусть $ x \\to a - 0 $ (случай для $ x \\to a + 0 $ рассматриывается аналогично).  Рассмотрим произвольную последовательность $ \\{x_n\\}, x_n \\to a, n \\to \\infty, \\ \\forall x_n < a $. Пусть $ n, m \\geqslant N, \\ n > m $. Функции $ f, g $ удовлетворяют всем условиям теоремы Коши на отрезке между $ [x_m, x_n] \\Rightarrow $ на соответствующем интервале существует точка $ c_{mn} $ $ \\Rightarrow \\frac{f(x_n) - f(x_m)}{g_{x_n} - g{x_m}} = \\frac{f'(x_n)}{g'(x_M)} \\Rightarrow \\frac{f(x_n)}{g(x_n)} \\cdot \\frac{1 - f(x_m) / f(x_n)}{1 - g(x_m) / g(x_n)} = \\frac{f'(c_{mn})}{g'(c_{mn})} $"
   ]
  }
 ],
 "metadata": {
  "kernelspec": {
   "display_name": "Python 3",
   "language": "python",
   "name": "python3"
  },
  "language_info": {
   "codemirror_mode": {
    "name": "ipython",
    "version": 3
   },
   "file_extension": ".py",
   "mimetype": "text/x-python",
   "name": "python",
   "nbconvert_exporter": "python",
   "pygments_lexer": "ipython3",
   "version": "3.7.3"
  }
 },
 "nbformat": 4,
 "nbformat_minor": 4
}
