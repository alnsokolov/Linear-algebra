{
 "cells": [
  {
   "cell_type": "markdown",
   "metadata": {},
   "source": [
    "# 25. Формула Тейлора"
   ]
  },
  {
   "cell_type": "markdown",
   "metadata": {},
   "source": [
    "## Теорема 1 (формула Тейлора с остаточным членом в общей форме)\n",
    "\n",
    "Пусть функция $ f (n+1) $ раз дифференцируема в $ \\dot B_\\delta(a), \\delta > 0 $. Тогда $ \\forall x \\in \\dot B_\\delta(a), p > 0 \\exists \\psi \\in \\dot B_\\delta(a) $, т.ч.  \n",
    "\n",
    "$ f(x) = f(a) + \\frac{f^{(1)}(a)}{1!}(x-a) + \\frac{f^{(2)}(a)}{2!}(x-a)^2 + \\dots + \\frac{f^{(n)}(a)}{n!}(x-a)^n + R_{n + 1}(x) $, где $ R_{n + 1}(x) = \\left( \\frac{x - a}{x - \\psi} \\right)^p \\cdot \\frac{(x - \\psi)^{n + 1}}{n! \\cdot p} f^{(n + 1)}(\\psi) $\n",
    "\n",
    "$ \\dots $"
   ]
  },
  {
   "cell_type": "markdown",
   "metadata": {},
   "source": [
    "### Доказательство\n",
    "\n",
    "Пусть $ x > a $ (случай $ x < a $ доказывается аналогично). Рассмотрим функцию $ F(t) = f(x) - \\varphi_n(t, x) - (x - t)^p \\cdot Q_{n + 1}(x) $, где $ Q_{n + 1}(x) = \\frac{R_{n + 1}(x)}{(x - a)^p}, t \\in [0, x] $. Тогда $ F(x) = f(x)  -\\varphi_n(t, x) - R_{n + 1}(x) = 0 $ (в силу форсулы (1)); $ F(x) = f(x) - \\varphi_n(x, x) = 0 $  \n",
    "\n",
    "функция $ f (n+1) $ раз дифференцируема в $ \\dot B_\\delta(a), \\delta > 0 $; функция $ \\varphi_n(x, t) $ содержит $ f(t), f'(t), \\dots, f^{(n)}(t) \\Rightarrow $ функция $ \\varphi_n(x, t) $ дифференцируема как минимум один раз по $ t $ в $ \\dot B_\\delta(a), \\delta > 0 $, а значит и на отрезке $ [a, x] $. Функция $ (x - t)^t $ непрерывна на $ [a, x] $ и дифференцируема на $ (a, x) $. Значит функция $ F(t) $ удовлетворяет всем условиям теоремы Роли на отрезке $ [a, x] \\Rightarrow \\exists \\psi \\in (a, x) $, т.ч. $ 0 = F'(x) = (f(x) - f(t) - \\frac{f^{(1)}(t)}{1!} (x - t) - \\frac{f^{(2)}(t)}{2!} (x - t)^2 - \\dots - \\frac{f^{(n)}(t)}{n!} (x - t)^n - (x - t)^p \\cdot Q_{n + 1}(x))'_t = - f'(t) - \\frac{f^{(1)}(t)}{1!}(-1) - \\frac{f^{(2)}(t)}{2!} (x - t)(2) - \\dots - \\frac{f^{(n)}(t)}{n!} (x - t)^{n - 1}(n) - (p)(x - t)^{p - 1} \\cdot Q_{n + 1}(x) = -\\frac{f^{(n+1)}(\\psi)}{n!} + p(x - \\psi)^{p - 1} \\frac{R_{n + 1}(x)}{(x - a)^p} \\Rightarrow R_{n + 1}(x) = \\frac{f^{(n + 1)}(\\psi)}{n!}(x - \\psi)^n\\cdot  \\frac{(x - a)^p}{p(x - \\psi)^{p  -1}} = \\left( \\frac{x - a}{x - \\psi} \\right)^p \\cdot \\frac{(x - \\psi)^{n + 1}}{n! \\cdot p} f^{(n + 1)}(\\psi) $"
   ]
  },
  {
   "cell_type": "markdown",
   "metadata": {},
   "source": [
    "$ \\dots $"
   ]
  },
  {
   "cell_type": "markdown",
   "metadata": {},
   "source": [
    "1. $ f^{(n)}(x) = e^x \\forall n = 0, 1,.. $, то $ f^{(n)}(0) = 1 \\Rightarrow e^x = 1 + x + \\frac{x^2}{2!}  + \\frac{x^3}{3!} + \\dots + \\frac{n^2}{n!} + R_{n+1}(x) $, где $ R_{n+1}(x) = \\frac{e^{\\theta x}}{(n + 1)!} \\cdot x^{n + 1} $"
   ]
  },
  {
   "cell_type": "markdown",
   "metadata": {},
   "source": [
    "2. $ f(x) = sin (x) $ Поскольку $ (sin \\ x)' = sin (x  +\\frac{\\pi}{2}) $, то $ f^{n}(x) = \\begin{cases} 0 &, n = 2k \\newline (-1)^k &, n = 2k + 1 \\end{cases} \\Rightarrow sin \\ x = 1 - \\frac{1}{x^3} + \\frac{1}{x^5} + \\dots + \\frac{1}{x^{2n + 1}} + R_{n + 1}(x) $  \n",
    "\n",
    "   $ R_{n + 1}(x) = \\frac{x^{n + 2}}{(n + 2)!}\\sin (\\theta_1 x + \\pi + \\frac{\\pi n}{2}), \\theta \\in (0, 1) $"
   ]
  },
  {
   "cell_type": "markdown",
   "metadata": {},
   "source": [
    "3. $ f(x) = \\cos x $. Поскольку $ f^{(n)}(x) = \\cos (x + \\frac{\\pi n}{2}) $, то $ f^{(n)}(0) = \\cos(\\frac{\\pi n}{2}) = \\begin{cases} (-1)^k, &n=2k, k = 1, 2, \\dots \\newline 0, &n = 2k + 1, k = 0, 1\\dots \\end{cases} $  \n",
    "\n",
    "   $ \\cos x = 1 - \\frac{x^2}{2!} + \\frac{x^4}{4!} - \\frac{x^6}{6!} + \\dots + \\frac{(-1)^kx^{2k}}{(2k)!} + R_{n + 2}(x) $, где $ R_{n + 2}(x) = \\frac{x^{n + 2}}{(n + 2)!} \\cos (\\theta_1 x + \\pi + \\frac{\\pi n}{2}), \\theta_1 \\in (0, 1) $"
   ]
  },
  {
   "cell_type": "markdown",
   "metadata": {},
   "source": [
    "4. $ f(x) = \\ln(1 + x) $. Поскольку $ f^{(n)} = \\frac{(-1)^n (n - 1)!}{(x + 1)^n} $, то $ f(0) = 0, f^{(n)} = (-1)^n(n - 1)! $\n",
    "\n",
    "   $ \\ln(1 + x) = x - \\frac{x^2}{2} + \\frac{x^3}{3} - \\frac{x^4}{4} + \\dots + \\frac{(-1)^{n - 1}x^n}{n} + R_{n + 1}(x) $, где $ R_{n + 1}(x) = \\frac{(-1)^{n}x^{n + 1}}{(n + 1)(1 + \\theta_1 x)^{n + 1}} = \\frac{(-1)^n (1 - \\theta_2)^n x^{n + 1}}{(1 + \\theta_2 x)^{n + 1}}, \\space \\theta_1, \\theta_2 \\in (0, 1) $"
   ]
  },
  {
   "cell_type": "markdown",
   "metadata": {},
   "source": [
    "5. $ (1 + x)^\\alpha, \\alpha \\in \\mathbb{R}, -1 < x < 1 $  \n",
    "   $ f^{(n)}(x) = \\alpha (\\alpha - 1) \\cdots (\\alpha - n + 1) \\cdot (1 + x)^{\\alpha - n} \\Rightarrow f^{(n)}(x) = \\alpha (\\alpha - 1) \\cdots (\\alpha - n + 1) $  \n",
    "   $ (1 + x)^\\alpha = 1 + \\alpha x + \\frac{\\alpha (\\alpha - 1)}{2}x^2 + \\cdots + \\frac{\\alpha (\\alpha - 1) \\cdots (\\alpha - n + 1)}{n!}x^n + R_{n + 1}(x) $, где $ R_{n + 1}(x) = \\frac{\\alpha (\\alpha - 1) \\cdots (\\alpha - n) \\cdot (1 + \\theta x)^{\\alpha - n + 1} \\cdot (1 - \\theta)^{n} \\cdot x^{n + 1}}{n!} $  \n",
    "   Пусть $|x| \\leqslant a, 0 < a < 1.$ Тогда $ |R_{n + 1}(x)| \\leqslant \\frac{|\\alpha|(|\\alpha| + 1) \\cdots (|\\alpha| + n)}{n!} \\cdot |1 + \\theta|^{\\alpha - 1} \\cdot |\\frac{1 - \\theta}{1 + \\theta}|^{n} \\cdot a^{n + 1} \\leqslant \\cdots < 2C \\cdot a^{n + 1} \\cdot (n + 1)^m \\underset{n \\to +\\infty}{\\to} 0 $"
   ]
  }
 ],
 "metadata": {
  "kernelspec": {
   "display_name": "Python 3",
   "language": "python",
   "name": "python3"
  },
  "language_info": {
   "codemirror_mode": {
    "name": "ipython",
    "version": 3
   },
   "file_extension": ".py",
   "mimetype": "text/x-python",
   "name": "python",
   "nbconvert_exporter": "python",
   "pygments_lexer": "ipython3",
   "version": "3.7.4"
  }
 },
 "nbformat": 4,
 "nbformat_minor": 4
}
