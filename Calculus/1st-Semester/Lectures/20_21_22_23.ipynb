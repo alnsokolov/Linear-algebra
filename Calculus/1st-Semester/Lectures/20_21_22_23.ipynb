{
 "cells": [
  {
   "cell_type": "markdown",
   "metadata": {},
   "source": [
    "# 20. Производная основных элементарых функций"
   ]
  },
  {
   "cell_type": "markdown",
   "metadata": {},
   "source": [
    "1. $ c' = 0 $, т.к. $ \\Delta c = 0 $\n",
    "2. $ x' = 1 $, т.к. для $ f(x) = x: \\lim\\limits_{\\Delta x \\to 0} \\frac{\\Delta f}{\\Delta x} = \\lim\\limits_{\\Delta x \\to 0} \\frac{\\Delta x}{\\Delta x} = 1 $\n",
    "3. $ f(x) = e^x \\forall x \\in \\mathbb{R}. \\lim\\limits_{\\Delta x \\to 0} \\frac{f(x_0 + \\Delta x) - f(x)}{\\Delta x} = \\lim\\limits_{\\Delta x \\to 0} \\frac{e^{x_0 + \\Delta x} - e^{x_0}}{\\Delta x} = e^{x_0} \\cdot \\lim\\limits_{\\Delta x \\to 0} \\frac{e^{\\Delta x} - 1}{\\Delta x} = e^{x_0} $  \n",
    "   $ (a^x)' = (e^{x ln \\ a})' = e^{x ln \\ a}(x ln \\ a)' = a^x ln \\ a $, поскольку $ cf(x)' = c'f(x) + cf'(x) = cf'(x)) $\n",
    "4. $ (log_a x)' = \\frac{1}{(a^y)'} $ (производная обратной функции) $ = \\frac{1}{a^y \\cdot ln \\ a} = \\frac{1}{x \\cdot ln \\ a}, x > 0 $\n",
    "5. $ \\alpha \\neq 0, (x^\\alpha)' = (e^{\\alpha \\cdot ln \\ x})' = x^\\alpha \\cdot (\\alpha \\cdot ln \\ x)' = \\alpha \\cdot x^\\alpha \\cdot \\frac{1}{x} = \\alpha \\cdot x^{\\alpha - 1}, x > 0 $\n",
    "6. $ f(x) = sin(x) $. Пусть $ x_0 \\in \\mathbb{R} $, тогда $ \\lim\\limits_{\\Delta x \\to 0} \\frac{sin(x_0 + \\Delta x) - sin(x_0)}{\\Delta x} = \\lim\\limits_{\\Delta x \\to 0} \\frac{2 \\cdot sin(\\frac{\\Delta x}{2}) \\cdot sin(x_0 + \\frac{\\Delta x}{2})}{\\Delta x} = \\lim\\limits_{\\Delta x \\to 0} \\frac{sin(\\frac{\\Delta x}{2})}{\\Delta x} cos(x + \\frac{\\Delta x}{2}) = cos(x_0)$\n",
    "7. $ (cos \\ x)' = (sin(\\frac{\\pi}{2} - x))' = cos(\\frac{\\pi}{2} - x) (\\frac{\\pi}{2} - x)' = -sin(x) $\n",
    "8. $ (tg(x))' = \\frac{sin'(x)cos(x) - cos'(x)sin(x)}{cos^2 x} = \\frac{cos^2 x + sin^2 x}{xos^2 x} = \\frac{1}{cos^2 x}, x \\neq \\frac{\\pi}{2} + \\pi n, n \\in \\mathbb{Z} $\n",
    "9. $ (ctg(x))' = - \\frac{1}{sin^2 x} $\n",
    "10. $ (arcsin \\ x)' = \\frac{1}{(sin y)'} = \\frac{1}{cos \\ y} = \\frac{1}{\\sqrt{1 - x^2}} $  \n",
    "    Упр. : доказать, что производная $ arcsin \\ x $ обращается в $ \\infty $, если $ x = \\pm 1 $\n",
    "11. Т.к. $ arccos \\ x + arcsin \\ x = \\frac{\\pi}{2} $, то $ (arccos \\ x)' = (\\frac{\\pi}{2} - arcsin \\ x)' = - \\frac{1}{\\sqrt{1 - x^2}}, -1 < x < 1 $\n",
    "12. $ (arctg \\ x)' = \\frac{1}{(tg \\ x)'} = cos^2 y = \\frac{1}{1 + tg^2 x} = \\frac{1}{1 + x^2} $\n",
    "13. $ (arcctg \\ x)' = (\\frac{\\pi}{2} - arcctg \\ x)' = - \\frac{1}{1 + x^2} $\n",
    "14. $ (sh \\ x)' = (\\frac{e^x - e^{-x}}{2})' = \\frac{e^x + e^{-x}}{2} = ch \\ x $\n",
    "15. $ (ch \\ x)' = sh \\ x $\n",
    "16. $ (th \\ x)' = (\\frac{sh \\ x}{ch \\ x})' = \\frac{(sh \\ x)' ch \\ x - (ch \\ x)' sh \\ x}{ch^2 x} = \\frac{1}{ch^2 x} $\n",
    "17. $ (cth \\ x)' = (\\frac{ch \\ x}{sh \\ x})' = \\frac{(ch \\ x)' sh \\ x - (sh \\ x)' ch \\ x}{sh^2 x} = -\\frac{1}{sh^2 x} $"
   ]
  },
  {
   "cell_type": "markdown",
   "metadata": {},
   "source": [
    "# 21. Дифференциал функции"
   ]
  },
  {
   "cell_type": "markdown",
   "metadata": {},
   "source": [
    "Пусть функция $ f $ дифференцируема в точке $ x_0 $. Тогда её приращение предстваляется в виде $ \\Delta f = f'(x_0)\\Delta x + \\overline{o}(\\Delta x), \\Delta x \\to 0 $.  \n",
    "\n",
    "Определение 1. Выражение $ f'(x_0)\\Delta x $ называется дифференциалом (первым) функции $ f $ в точке $ x_0 $, соответствующим приращению аргумента $ \\Delta x $. Обозначается $ df|^{x \\to x_0} = f(x_0)\\Delta x $  \n",
    "\n",
    "Звмечание: При фиксировании значения $ x_0 $, дифференциал - это линейная функция с аргументом $ x_0 $. Говорят, что дифференциал - главная линейная часть приращения функции $ \\Delta f $ в точке $ x_0 $."
   ]
  },
  {
   "cell_type": "markdown",
   "metadata": {},
   "source": [
    "Пусть $ H $ лежит на касательной, проведённой к графику $ y = f(x) $ в точке $ M $; абсцисса точки $ H $ равна $ x_0 + \\Delta x $. Тогда ордината $ y_H = f'(x_0)(x_H - x_0) + f(x_0) = f'(x_0)\\Delta x + f(x_0) \\Rightarrow H(x_0 + \\Delta x, f'(x_0)\\Delta x + f(x_0)) $. Тогда $ NP = f(x + \\Delta x) - f(x_0) = \\Delta x $ - приращение функции. $ HP = f'(x_0)\\Delta x + f(x_0) - f(x_0) = f'(x_0) \\Delta x $ - дифференциал функции $ f $. Таким образом, геометрический дифференциал - это приращение касательной, соответсвующее приращению фргумента $ \\Delta x $."
   ]
  },
  {
   "cell_type": "markdown",
   "metadata": {},
   "source": [
    "Замечение. 1) Поскольку $ \\Delta f = df + \\overline{o}(\\Delta x), \\Delta x \\to 0 $, то $ \\frac{\\Delta f - df}{\\Delta x} = \\overline{o}(0), \\Delta x \\to 0 \\Rightarrow \\Delta f = df $ при малых $ \\Delta x $.\n",
    "\n",
    "Например, вычислим примерно $ \\sqrt[4]{1.05} $  \n",
    "$ f(x) = x^{1/4}, x_0 = 1, \\Delta x = 0.05 $. Тогда $ f(x_0 + \\Delta x) - f(x_0) = \\sqrt[4]{1.05} - 1 = df|_{x_0} = f'(x_0)\\Delta x = \\frac{1}{4} x^{-3/4}\\cdot 0.05  = 0.0125 \\Rightarrow \\sqrt[4]{1.05} = 1.0125 $"
   ]
  },
  {
   "cell_type": "markdown",
   "metadata": {},
   "source": [
    "### Теорема 1. Инвариантность формы первого дифференциала\n",
    "\n",
    "Пусть $ f $ дифференцируема в точке $ x_0 $. Её первый дифференциал имеет вид $ df|_{x = x_0} = f'(x_0)dx$б независимо от того, является $ x $ независимой переменной, или функцией аргумента $ t $."
   ]
  },
  {
   "cell_type": "markdown",
   "metadata": {},
   "source": [
    "### Доказательство\n",
    "\n",
    "Из замечания следует, что если $ x $ - независимая переменная, то $ \\delta x = df \\Rightarrow df|_{x = x_0} = f'(x_0)\\Delta x = f'(x_0)dx $.\n",
    "\n",
    "Пусть теперь $ x = \\phi(t) $, $ \\phi $ дифференцируема в точке $ t_0, \\phi(t_0) = x_0 $. Тогда $ df|_{x=x_0} = (f(\\phi(t)))'|_{t = t_0} \\cdot \\Delta t = f'(x_0)\\phi(t_0) \\Delta t = f'(x_0)dx $"
   ]
  },
  {
   "cell_type": "markdown",
   "metadata": {},
   "source": [
    "# 22. Производные и дифференциалы высших порядков"
   ]
  },
  {
   "cell_type": "markdown",
   "metadata": {},
   "source": [
    "Пусть $ f $ определена на $ (a, b), x_0 \\in (a, b) $"
   ]
  },
  {
   "cell_type": "markdown",
   "metadata": {},
   "source": [
    "Определение 1. Пусть $ f $ определена в каждой точкке отрезка $ (a, b) $, тогда на $ (a, b) $ определена функция $ f'(x) $. Если функция $ f'(x) $ дифференцируема в точке $ x_0 $, то её производная в этой точке называется второй производной (производной второго порядка) функции $ f $ в точке $ x_0 $. Пишут $ f''(x_0) = (f'(x_0)'|_{x = x_0}) $ или $ \\frac{d^2f}{dx^2}|_{x = x_0} $\n",
    "\n",
    "Замечание: Из теоремы об инфвариантнойсти функции первого дифференциала видно, что обозначение для первой производной: $ f'(x_0) = \\frac{df}{dx}|_{x = x_0} $ - не просто обозначаение, а отношение дифференциалов.  "
   ]
  },
  {
   "cell_type": "markdown",
   "metadata": {},
   "source": [
    "Аналогично $ n $-ая производная функции $ f $ (производная $n$-го порядка) в точке $ x_0  f^{(n)}(x_0) = (f^{(n - 1)})'|_{x=x_0} $. Обозначается также $ \\frac{d^nf}{dx^n}|_{x = x_0} $\n",
    "\n",
    "Замечание:  \n",
    "1) Если функция $ f $ имеет все производные по порядка $ n $ вклюсительно в точке $ x_0 $ (на множестве $ A $), то будем говорить, что $ f n $ раз дифференцируема в точке $ x_0 $ (на множестве $ A $)  \n",
    "\n",
    "2) По определению полодим $ f^{(0)}(x) = f(x) $"
   ]
  },
  {
   "cell_type": "markdown",
   "metadata": {},
   "source": [
    "### Производные высших порядков некоторых элементарных функций"
   ]
  },
  {
   "cell_type": "markdown",
   "metadata": {},
   "source": [
    "1. $ (e^x)^{(n)} = e^x; (a^x)^{(n)} = (ln \\ a)^{(n)} \\cdot a^x $  \n",
    "\n",
    "2. $ (x^\\alpha)^{(n)} = \\alpha \\cdot (\\alpha - 1) \\dots (\\alpha - n + n) x^{\\alpha - n} $. В частности, пусть $ m \\in \\mathbb{N} $. Тогда $$ (x^m)^{(n)} = \\begin{cases} \\frac{m!}{(n - m)!}x^{m - n} &, n \\leqslant m \\\\ 0 &, n > m \\end{cases} $$  \n",
    "\n",
    "3. $ (ln \\ x)^{(n)} = \\frac{(-1)^{n - 1} (n - 1)!}{x^n} $  \n",
    "$ \\dots $"
   ]
  },
  {
   "cell_type": "markdown",
   "metadata": {},
   "source": [
    "### Формула Лейбница\n",
    "\n",
    "Пусть $ f, g $ дифференцируемы в точке $ x_0 $. Тогда $ (f \\cdot g)^{(n)}|_{x = x_0} = \\sum\\limits_{k = 0}^n C_n^k f^{(k - k)}(x_o)g^{(k)}(x_0) $"
   ]
  },
  {
   "cell_type": "markdown",
   "metadata": {},
   "source": [
    "### Доказательство\n",
    "\n",
    "$ (f \\cdot g)|_{x = x_0} = C_1^0 f'(x_0)g(x_0) + c_1^1 f(x_0)g(x_0)= f'(x_0)g(x_0) + f(x_0)g'(x_0) $\n",
    "\n",
    "Пусть верно для $ n $, докажем для $ n + 1 $:\n",
    "\n",
    "$ (C^0_n f^{(n)}(x_0)g^{(0)}(x_0) + C^1_n f^{(n - 1)}(x_0)g^{(1)}(x_0) + \\dots + C^n_n f^{(0)}(x_0)g^{(n)}(x_0))' = \\dots = \\\\ C^0_{n + 2} f^{(n + 1)}(x_0)g^{(0)}(x_0) + (C^0_n + C^1_n) f^{(n)}(x_0)g^{(0)}(x_0) + \\dots + C^n_n f^{(0)}(x_0)g^{(0)}(x_0) = \\sum\\limits_{k = 0}^n C_n^k f^{(k - k)}(x_o)g^{(k)}(x_0) $"
   ]
  },
  {
   "cell_type": "markdown",
   "metadata": {},
   "source": [
    "Определение 2. Пусть функция $ f $ дифференцируема на интервале $ (a, b), x_0 \\in (a, b) $. Положим в формуле для первого дифференциала: $ \\Delta x = h $, тогда функция $ df= f'(x) \\cdot h $ определена на $ (a, b) $. Если функция $ f $ дважды дифференцируема в точке $ x_0 $, то функция $ df $ дифференцируема в точке $ x_0 $, причём $ d(df)|_{x=x_0} = f''(x_0)h \\Delta x $. Положим $ \\Delta x = h = dx $, тогда полученное выражение $ d^2 f |_{x = x_0} = d(df) |_{x = x_0} = f''(x_0)dx^2$ называется вторым дифференциалом функции $ f $ в точке $ x_0 $.  \n",
    "\n",
    "Замечание:  \n",
    "\n",
    "$ d^2 x $ - второй дифференциал функции $ x $  \n",
    "$ dx^2 = (dx)^2 $ - $ dx $ в квадрате, т.е. $ dx \\cdot dx $"
   ]
  },
  {
   "cell_type": "markdown",
   "metadata": {},
   "source": [
    "Аналогично, если $ f n $ раз дифференцируема в точке $ x_0 $, то $ d^nf|_{x = x_0} = d(d^{n - 1}f)|_{x=x_0} = f^{n}(x_0)dx_n $ - дифференциал $n$-го порядка функции $ f $ в точке $ x_0 $  \n",
    "\n",
    "Замечание:  \n",
    "\n",
    "1) Дифференциалы порядка $ n \\geqslant 2 $ уже не обладают, вообще говоря, свойством инвариантности формы.  \n",
    "    Пусть $ x = \\phi(t) $, тогда $ d^2f = d(df) = d(f'(x)\\phi(t)dt) = (f'(x) \\cdot \\phi(t)dt)'_tdt = \\dots = f''(x)dx^2 + f'(x)d^2x $  \n",
    "    Если $ x $ - независимая переменная, то $ d^2x = 0 $\n",
    "\n",
    "2) Пусть $ f, g n $ раз дифференцируемы в точке $ x_0 $, $ x $ - независимая переменная. Тогда $ d''(fg)|_{x = x_0} = (fg)^n|_{x = x_0}dx^n = \\sum\\limits_{k = 0}^n C_n^k f^{(n - k)}(x_0)g^{(k)}(x_0) dx^n = \\sum\\limits_{k = 0}^n C_n^k f^{(n - k)}(x_0) dx^{n  -k} \\ g^{(k)}(x_0) dx^k = \\sum\\limits_{k = 0}^n C_n^k d^{n - k}f|_{x_0} \\ d^k g|_{x_0}$"
   ]
  },
  {
   "cell_type": "markdown",
   "metadata": {},
   "source": [
    "### Произведение функций, заданных параметрически.\n",
    "\n",
    "Определение 1. ПУсть $ \\phi: T \\to X, \\psi: T \\to Y $. Если $ \\phi $ - биекция, то $ \\exists \\phi^{-1}: X \\to T $. Тогда нужно положить $ f = \\phi(\\phi^{-1}): X \\to Y $. В таком случае говорят, что функция $ f $ задана параметрически: $ \\begin{cases} x = \\phi(t) \\\\ y = \\phi(t) \\end{cases}, t \\ in T $"
   ]
  },
  {
   "cell_type": "markdown",
   "metadata": {},
   "source": [
    "Пример: $ \\begin{cases} x = \\cos(t) \\\\ y = \\sin(t) \\end{cases}, t \\ in [0, \\pi] $"
   ]
  },
  {
   "cell_type": "code",
   "execution_count": 3,
   "metadata": {},
   "outputs": [
    {
     "data": {
      "image/png": "[encoded data removed]",
      "text/plain": [
       "<Figure size 432x288 with 1 Axes>"
      ]
     },
     "metadata": {
      "needs_background": "dark"
     },
     "output_type": "display_data"
    }
   ],
   "source": [
    "import numpy as np\n",
    "import matplotlib.pyplot as plt\n",
    "\n",
    "t = np.linspace(0, np.pi, 200)\n",
    "x = np.cos(t)\n",
    "y = np.sin(t)\n",
    "\n",
    "plt.plot(x, y)\n",
    "plt.show()"
   ]
  },
  {
   "cell_type": "markdown",
   "metadata": {},
   "source": [
    "### Теорема 2\n",
    "\n",
    "Пусть функции $ \\phi(t), \\psi(t) $ дважды дифференцируемы в точке $ t_0, \\phi'(t_0) \\neq 0 $. Тогда функция $ f: \\begin{cases} x = \\phi(t) \\\\ y = \\phi(t) \\end{cases}$ дважды дифференцруема в точке $ x_0 = \\phi(t_0) $, причём $ f'(x_0) = \\frac{\\psi'(t_0)}{\\phi'(t_0)}, f''(x_0) = \\frac{\\psi''(t_0)\\phi'(t_0) - \\psi'(t_0)\\phi''(t_0)}{(\\phi'(t_0))^3} $"
   ]
  },
  {
   "cell_type": "markdown",
   "metadata": {},
   "source": [
    "### Доказательство\n",
    "\n",
    "$ f'(x_0) = \\frac{df}{dx}|_{x = x_0} = \\frac{\\psi'(t_0)dt}{\\phi'(t_0)dt} = \\frac{\\psi'(t_0)}{\\phi'(t_0)} $  \n",
    "\n",
    "$ f''(x_0) = (f'(x))' |_{x = x_0} = (\\frac{\\psi'(t_0)}{\\phi'(t_0)})' |_{x = x_0} = (\\frac{\\psi'(t_0)}{\\phi'(t_0)})_t' \\cdot t_x'|_{x = x_0} = \\frac{\\psi''(t_0)\\phi'(t_0) - \\psi'(t_0)\\phi''(t_0)}{(\\phi'(t_0))^2} \\cdot \\frac{1}{\\phi'(x)} = \\frac{\\psi''(t_0)\\phi'(t_0) - \\psi'(t_0)\\phi''(t_0)}{(\\phi'(t_0))^3}$"
   ]
  },
  {
   "cell_type": "markdown",
   "metadata": {},
   "source": [
    "# 23. Очевидные теоремы о дифференцируемых функциях"
   ]
  },
  {
   "cell_type": "markdown",
   "metadata": {},
   "source": [
    "Пусть $ f $ определена в окрестности ирчки $ x_0 $."
   ]
  },
  {
   "cell_type": "markdown",
   "metadata": {},
   "source": [
    "Определение 1. Функция $ f $ возрастает (убывает) в точке $ x_0 $, если $ \\exists \\delta > 0: $ $ f(x) < f(x_0) \\forall x \\in (x_0 - \\delta, x_0) \\\\ f(x) > f(x_0) \\forall x \\in (x_0, x_0 + \\delta) $ (наоборот для убываения).  \n",
    "\n",
    "$ f $ не убывает (не возрастает) в точке $ x_0 $, если знаки в соответствующих неравенствах нестрогие."
   ]
  },
  {
   "cell_type": "markdown",
   "metadata": {},
   "source": [
    "Определение 2. $ f $ имеет в точке $ x_0 $ локальный максимум (минимум), если $ \\exists \\delta > 0: f'(x_0) \\geqslant f(x) (f'(x_0) \\leqslant f(x)) \\forall x \\in \\dot B_\\sigma(x_0) $. Такие точки назваются точками локального экстремума.  \n",
    "\n",
    "Если $ f(x_0) > f(x) \\forall x \\in \\dot B_\\delta(x_0) $, то экстремум строгий."
   ]
  },
  {
   "cell_type": "markdown",
   "metadata": {},
   "source": [
    "### Теорема 1 - достаточное условие возрастания\n",
    "\n",
    "Если $ f $ дифференцируема в точке $ x_0 $, и $ f'(x_0) > 0 (< 0) $, то $ f $ возрастает (убывает) в точке $ x_0 $"
   ]
  },
  {
   "cell_type": "markdown",
   "metadata": {},
   "source": [
    "### Доказательство\n",
    "\n",
    "Пусть $ f'(x_0) > 0 $. Полодим в определение производной через предел $ \\varepsilon = \\frac{f'(x_0)}{2} $. Тогда $ \\exists \\sigma > 0, \\forall x \\in \\dot B_\\delta (x_0): |\\frac{f(x) - f(x_0)}{x - x_0}  -f'(x_0)| < \\frac{f'(x_0)}{2} \\Rightarrow \\frac{f(x) - f(x_0)}{x - x_0} > frac{f'(x_0)}{2} > 0 \\forall x \\in \\dot B_\\sigma(x_0) $/. Значит $ f(x) - f(x_0) $ и $ x - x_0 $ имеют одинаковый знак и $ f $ возрастает в точке $ x_0 $."
   ]
  },
  {
   "cell_type": "markdown",
   "metadata": {},
   "source": [
    "### Теорема 2 - Ферма, необходимое условие экстремума\n",
    "\n",
    "Пусть $ x_0 $ - точка локального экстремума функции $ f $. Если $ f $ дифференцируема в точке $ x_0 $, то $ f'(x_0) = 0 $"
   ]
  },
  {
   "cell_type": "markdown",
   "metadata": {},
   "source": [
    "### Доказательство\n",
    "\n",
    "Если $ f'(x_0) > 0 (< 0)  $, то $ f $ возрастает (убывает) в точке $ x_0 \\Rightarrow $ это - не точка экстремума"
   ]
  }
 ],
 "metadata": {
  "kernelspec": {
   "display_name": "Python 3",
   "language": "python",
   "name": "python3"
  },
  "language_info": {
   "codemirror_mode": {
    "name": "ipython",
    "version": 3
   },
   "file_extension": ".py",
   "mimetype": "text/x-python",
   "name": "python",
   "nbconvert_exporter": "python",
   "pygments_lexer": "ipython3",
   "version": "3.7.4"
  }
 },
 "nbformat": 4,
 "nbformat_minor": 4
}
