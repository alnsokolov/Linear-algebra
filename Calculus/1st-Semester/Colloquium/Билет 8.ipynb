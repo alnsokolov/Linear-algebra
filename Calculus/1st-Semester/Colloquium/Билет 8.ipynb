{
 "cells": [
  {
   "cell_type": "markdown",
   "metadata": {},
   "source": [
    "# Билет 8"
   ]
  },
  {
   "cell_type": "code",
   "execution_count": 1,
   "metadata": {},
   "outputs": [],
   "source": [
    "import numpy as np\n",
    "import matplotlib.pyplot as plt\n",
    "import matplotlib"
   ]
  },
  {
   "cell_type": "markdown",
   "metadata": {},
   "source": [
    "### Задача 1"
   ]
  },
  {
   "cell_type": "markdown",
   "metadata": {},
   "source": [
    "#### Понятие непрерывности функции в точке и на множестве. Арифметические операции над непрерывными функциями. Классификация точек разрыва."
   ]
  },
  {
   "cell_type": "markdown",
   "metadata": {},
   "source": [
    "Функция является непрерывной в точке $ a $, если $ \\lim\\limits_{x \\to a} f(x) = f(a) $  \n",
    "Функция является непрерывной на множестве $ A $, если $ \\forall a \\in A \\ \\lim\\limits_{x \\to a} f(x) = f(a) $  \n",
    "Пусть $ f, g $ - непрерывны в точке $ a $ . Тогда $ f \\pm g, f \\cdot g, \\frac{f}{g} \\ (g(a) != 0) $ являются непрерывными в точке $ a $  \n",
    "\n",
    "Устранимый разрыв в точке $ a $: $ \\exists \\lim\\limits_{x \\to a} f(x) \\not = f(a) $  \n",
    "Разрыв 1-го рода в точке $ a $: $ \\exists \\lim\\limits_{x \\to x - a} f(x), \\lim\\limits_{x \\to x + a} f(x), \\lim\\limits_{x \\to x - a} f(x) \\not = \\lim\\limits_{x \\to x + a} f(x) $  \n",
    "Разрыв 2-го рода в точке $ a $: хотя бы один из пределов $ a - 0, a + 0 $ не существует или равен $ \\infty $"
   ]
  },
  {
   "cell_type": "markdown",
   "metadata": {},
   "source": [
    "### Задача 2"
   ]
  },
  {
   "cell_type": "markdown",
   "metadata": {},
   "source": [
    "#### Определение, свойства и график функции $ y=arcctg \\ x $"
   ]
  },
  {
   "cell_type": "markdown",
   "metadata": {},
   "source": [
    "Тестовый LaTeX\n",
    "\n",
    "$ X = \\mathbb{R}, Y = [-\\frac{\\pi}{2}, \\frac{\\pi}{2}] $\n",
    "\n",
    "Функция непериодическая  \n",
    "\n",
    "Убывает на $ \\mathbb{X} $\n",
    "\n",
    "Функция прерывается в точке $ 0 $"
   ]
  },
  {
   "cell_type": "code",
   "execution_count": 2,
   "metadata": {},
   "outputs": [
    {
     "data": {
      "image/png": "[encoded data removed]",
      "text/plain": [
       "<Figure size 864x288 with 2 Axes>"
      ]
     },
     "metadata": {
      "needs_background": "dark"
     },
     "output_type": "display_data"
    }
   ],
   "source": [
    "x = np.linspace(- 2 * np.pi, 2 * np.pi, 200)\n",
    "x[np.abs(x) < 0.05] = np.nan\n",
    "y = np.arctan(1 / x)\n",
    "\n",
    "matplotlib.rcParams.update({'font.size': 18})\n",
    "\n",
    "fig, axs = plt.subplots(1, 2, figsize=(12, 4))\n",
    "axs[0].set_ylim([-7, 7])\n",
    "axs[0].plot(x, y)\n",
    "axs[0].set_title('$ y=arcctg \\ x $')\n",
    "\n",
    "axs[1].axis('off')\n",
    "axs[1].text(0, 0.02, r\"\"\"\n",
    "$ X = \\mathbb{R}, Y = [-\\frac{\\pi}{2}, \\frac{\\pi}{2}] $\n",
    "\n",
    "Функция непериодическая  \n",
    "\n",
    "Убывает на $ X $\n",
    "\n",
    "Функция прерывается в точке $ 0 $\n",
    "\"\"\")\n",
    "plt.show()"
   ]
  },
  {
   "cell_type": "markdown",
   "metadata": {},
   "source": [
    "### Задача 3"
   ]
  },
  {
   "cell_type": "markdown",
   "metadata": {},
   "source": [
    "#### Определение бесконечно малой (не бесконечно малой) числовой последовательности."
   ]
  },
  {
   "cell_type": "markdown",
   "metadata": {},
   "source": [
    "Последовательность называется бесконечно малой, если $ \\forall \\varepsilon \\ \\exists N(\\varepsilon): \\forall n \\geqslant N \\  |x_n| < \\varepsilon $  \n",
    "\n",
    "Последовательность называется не бесконечно малой, если $ \\exists \\varepsilon \\ \\forall N(\\varepsilon): \\forall n \\geqslant N \\  |x_n| \\geqslant \\varepsilon $"
   ]
  },
  {
   "cell_type": "markdown",
   "metadata": {},
   "source": [
    "### Задача 4"
   ]
  },
  {
   "cell_type": "markdown",
   "metadata": {},
   "source": [
    "Дать определение по Коши: неверно, что $ \\lim\\limits_{x \\to a} f(x) = \\infty $"
   ]
  },
  {
   "cell_type": "markdown",
   "metadata": {},
   "source": [
    "$ \\lim\\limits_{x \\to a} f(x) \\not = \\infty \\Leftrightarrow \\exists \\varepsilon > 0 \\ \\forall \\delta(\\varepsilon) > 0: \\exists x \\in (a - \\delta, a + \\delta), |f(x)| < \\varepsilon $"
   ]
  },
  {
   "cell_type": "markdown",
   "metadata": {},
   "source": [
    "### Задача 5"
   ]
  },
  {
   "cell_type": "markdown",
   "metadata": {},
   "source": [
    "#### Определение функции, непрерывной в точке $ a $ справа."
   ]
  },
  {
   "cell_type": "markdown",
   "metadata": {},
   "source": [
    "Пусть $ a \\in X $. Функция $ f $ непрерывна в точке $ a $ справа, если $ \\lim\\limits_{x \\to a + 0} f(x) = f(a) $"
   ]
  }
 ],
 "metadata": {
  "kernelspec": {
   "display_name": "Python 3",
   "language": "python",
   "name": "python3"
  },
  "language_info": {
   "codemirror_mode": {
    "name": "ipython",
    "version": 3
   },
   "file_extension": ".py",
   "mimetype": "text/x-python",
   "name": "python",
   "nbconvert_exporter": "python",
   "pygments_lexer": "ipython3",
   "version": "3.7.3"
  }
 },
 "nbformat": 4,
 "nbformat_minor": 4
}
