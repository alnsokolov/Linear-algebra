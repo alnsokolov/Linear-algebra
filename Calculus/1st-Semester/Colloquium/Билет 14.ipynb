{
 "cells": [
  {
   "cell_type": "markdown",
   "metadata": {},
   "source": [
    "# Билет 14"
   ]
  },
  {
   "cell_type": "code",
   "execution_count": 1,
   "metadata": {},
   "outputs": [],
   "source": [
    "import numpy as np\n",
    "import matplotlib.pyplot as plt\n",
    "import matplotlib"
   ]
  },
  {
   "cell_type": "markdown",
   "metadata": {},
   "source": [
    "### Задача 1"
   ]
  },
  {
   "cell_type": "markdown",
   "metadata": {},
   "source": [
    "#### Понятие сходящейся последовательности. Единственность предела сходящейся последовательности, ограниченность сходящейся последовательности."
   ]
  },
  {
   "cell_type": "markdown",
   "metadata": {},
   "source": [
    "Последовательность $ \\{x_n\\} $ является сходящейся, если $ \\exists A: \\{x_n - A\\} $ - бесконечно малая последовательность.  \n",
    "\n",
    "Последовательность $ \\{x_n\\} $ является сходящейся, если $ \\exists A $, т.ч.  $ \\forall \\varepsilon > 0 \\exists N(\\varepsilon) \\in \\mathbb{N}: \\forall n \\geqslant N |x_n - A| < \\varepsilon $"
   ]
  },
  {
   "cell_type": "markdown",
   "metadata": {},
   "source": [
    "#### (Теорема о единственности предела) Если $ \\lim\\limits_{n \\to \\infty} x_n = a, \\lim\\limits_{n \\to \\infty} x_n = b $, то $ a = b $"
   ]
  },
  {
   "cell_type": "markdown",
   "metadata": {},
   "source": [
    "(Доказательство) По определению $ x_n = a + \\alpha_n = b + \\beta_n $, где $ \\{\\alpha_n\\}, \\{\\beta_n\\} $ - БМП. $ a + \\alpha_n = b + \\beta_n \\Leftrightarrow a - b = \\beta_n - \\alpha_n = 0 $ (по свойствам БМП) $ \\Rightarrow a = b $"
   ]
  },
  {
   "cell_type": "markdown",
   "metadata": {},
   "source": [
    "#### (Теорема об ограниченности сходящейся последовательности) Если послодовательность сходится, то она ограничена"
   ]
  },
  {
   "cell_type": "markdown",
   "metadata": {},
   "source": [
    "(Доказательство) Пусть $ \\lim\\limits_{n \\to \\infty} x_n = a \\Rightarrow x_n = a + \\alpha_n $, где $ \\{\\alpha_n\\} $ - БМП. Любая БМП является ограниченной $ \\Rightarrow \\exists c > 0: \\forall n \\in \\mathbb{N} \\ \\ |\\alpha_n| \\leqslant c \\Rightarrow \\forall n \\in \\mathbb{N} \\ \\ |a  + \\alpha_n| = |x_n| \\leqslant A = a + c \\Rightarrow $ последовательность $ \\{x_n\\} $ ограничена"
   ]
  },
  {
   "cell_type": "markdown",
   "metadata": {},
   "source": [
    "### Задача 2"
   ]
  },
  {
   "cell_type": "markdown",
   "metadata": {},
   "source": [
    "#### Определение $ e^x $ для произвольного вещественного $ x $. Доказательство того, что $ e^x \\cdot e^y = e^{x + y} $"
   ]
  },
  {
   "cell_type": "markdown",
   "metadata": {},
   "source": [
    "$ x \\in \\mathbb{R}, n \\to \\infty \\Rightarrow \\frac{n}{x} \\to \\infty \\Rightarrow \\lim\\limits_{\\frac{n}{x} \\to \\infty} \\left ( 1 + \\frac{1}{\\frac{n}{x}} \\right )^\\frac{n}{x} =\n",
    "\\lim\\limits_{\\frac{n}{x} \\to \\infty} \\left (1 + \\frac{x}{n} \\right )^\\frac{n}{x} =\n",
    "\\lim\\limits_{n \\to \\infty} \\left (1 + \\frac{x}{n} \\right )^\\frac{n}{x} = e$  \n",
    "$ \\Rightarrow \\left ( \\lim\\limits_{n \\to \\infty} \\left (1 + \\frac{x}{n} \\right )^\\frac{n}{x} \\right )^x = e^x =  \\lim\\limits_{n \\to \\infty} \\left (1 + \\frac{x}{n} \\right )^n$  \n",
    "\n",
    "$ \\lim\\limits_{n \\to \\infty} \\left (1 + \\frac{x}{n} \\right )^n = e^x $"
   ]
  },
  {
   "cell_type": "markdown",
   "metadata": {},
   "source": [
    "$ e^x \\cdot e^y = e^{x + y} \\forall x, y \\in \\mathbb{R}$  \n",
    "\n",
    "Возьмём $ \\varepsilon > 0, \\forall \\delta > 0 \\ \\exists r_1', r_1'', r_2', r_2'' \\in \\mathbb{Q} $, т.ч. $ r_1' \\leqslant x_1 \\leqslant r_1'' \\leqslant [x_1] + 1, r_2' \\leqslant x_2 \\leqslant r_2'' \\leqslant [x_2] + 1, r_1'' - r_1' < \\delta, r_2'' - r_2' < \\delta $.  \n",
    "\n",
    "Тогда $ r_1' + r_2' \\leqslant x_1 + x_2 \\leqslant r_1'' + r_2'' \\leqslant [x_1] + [x_2] + 2 \\\\\n",
    "\\Rightarrow e^{r_1'} \\leqslant e^{x_1} \\leqslant e^{r_1''} \\leqslant e^{[x_1] + 1},\n",
    "e^{r_2'} \\leqslant e^{x_2} \\leqslant e^{r_2''} \\leqslant e^{[x_2] + 1} \\\\\n",
    "\\Rightarrow e^{r_1'}e^{r_2'} \\leqslant e^{x_1}e^{x_2} \\leqslant e^{r_1''}e^{r_2''}, \\ \\ e^{r_1' + r_2'} \\leqslant e^{x_1 + x_2} \\leqslant e^{r_1'' + r_2''} \\leqslant e^{[x_1] + [x_2] + 2} $\n",
    "\n",
    "Далее $ e^{r_1'' + r_2''} - e^{r_1' + r_2'} = e^{r_1' + r_2'}(e^{r_1'' - r_1' + r_2'' - r_2'} - 1) < e^{[x_1] + [x_2] + 2} \\cdot \\frac{2\\delta}{1 - 2\\delta} = \\varepsilon $  \n",
    "\n",
    "$ |e^xe^y - e^{x + y}| < \\varepsilon \\ \\forall \\varepsilon > 0 \\Rightarrow e^xe^y = e^{x + y} $"
   ]
  },
  {
   "cell_type": "markdown",
   "metadata": {},
   "source": [
    "### Задача 3"
   ]
  },
  {
   "cell_type": "markdown",
   "metadata": {},
   "source": [
    "#### Функция $ f(x) $ удовлетворяет (не удовлетворяет) условию Коши при стремлении $ x $ к $ a - 0 $"
   ]
  },
  {
   "cell_type": "markdown",
   "metadata": {},
   "source": [
    "Функция $ f(x) $ удовлетворяет условию Коши при стремлении $ x $ к $ a - 0 $, если $ \\forall \\varepsilon > 0 \\ \\ \\exists \\delta(\\varepsilon) > 0: \\forall x_n, x_m \\in (a - \\delta, a) \\ \\ |f(x_n) - f(x_m)| < \\varepsilon $  \n",
    "\n",
    "Функция $ f(x) $ не удовлетворяет условию Коши при стремлении $ x $ к $ a - 0 $, если $ \\exists \\varepsilon > 0 \\ \\ \\forall \\delta(\\varepsilon) > 0: \\forall x_n, x_m \\in (a - \\delta, a) \\ \\ |f(x_n) - f(x_m)| \\geqslant \\varepsilon $"
   ]
  },
  {
   "cell_type": "markdown",
   "metadata": {},
   "source": [
    "### Задача 4"
   ]
  },
  {
   "cell_type": "markdown",
   "metadata": {},
   "source": [
    "#### Дать определение по Гейне: неверно, что $ \\lim\\limits_{x \\to a + 0} f(x) = -\\infty $"
   ]
  },
  {
   "cell_type": "markdown",
   "metadata": {},
   "source": [
    "$ \\lim\\limits_{x \\to a + 0} f(x) \\neq -\\infty \\Leftrightarrow \\exists \\{x_n\\} $, т.ч. $ \\lim\\limits_{n \\to \\infty} x_n = a, \\forall n \\in \\mathbb{N} \\ \\ x_n > a, \\lim\\limits_{n \\to \\infty} f(x_n) \\neq -\\infty $"
   ]
  },
  {
   "cell_type": "markdown",
   "metadata": {},
   "source": [
    "### Задача 5"
   ]
  },
  {
   "cell_type": "markdown",
   "metadata": {},
   "source": [
    "#### Сформулировать теорему о непрерывности сложной функции."
   ]
  },
  {
   "cell_type": "markdown",
   "metadata": {},
   "source": [
    "Пусть функция $ \\varphi $ непрерывна в точке $ t_0 \\in T $, а функция $ y $ непрерывна в точке $ x_0 = \\varphi(t_0) $. Тогда сложная функция $ y(\\varphi(t)) $ непрерывна в точчке $ t_0 $"
   ]
  }
 ],
 "metadata": {
  "kernelspec": {
   "display_name": "Python 3",
   "language": "python",
   "name": "python3"
  },
  "language_info": {
   "codemirror_mode": {
    "name": "ipython",
    "version": 3
   },
   "file_extension": ".py",
   "mimetype": "text/x-python",
   "name": "python",
   "nbconvert_exporter": "python",
   "pygments_lexer": "ipython3",
   "version": "3.7.3"
  }
 },
 "nbformat": 4,
 "nbformat_minor": 4
}
