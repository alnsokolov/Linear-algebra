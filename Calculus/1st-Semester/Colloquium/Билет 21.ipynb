{
 "cells": [
  {
   "cell_type": "markdown",
   "metadata": {},
   "source": [
    "# Билет 21"
   ]
  },
  {
   "cell_type": "code",
   "execution_count": 1,
   "metadata": {},
   "outputs": [],
   "source": [
    "import numpy as np\n",
    "import matplotlib.pyplot as plt\n",
    "import matplotlib"
   ]
  },
  {
   "cell_type": "markdown",
   "metadata": {},
   "source": [
    "### Задача 1"
   ]
  },
  {
   "cell_type": "markdown",
   "metadata": {},
   "source": [
    "#### Критерий непрерывности монотонной функции"
   ]
  },
  {
   "cell_type": "markdown",
   "metadata": {},
   "source": [
    "Пусть $ f(x) $ опеределена на $ [a, b] $. Тогда $ \\forall \\gamma \\in [\\alpha, \\beta] \\exists c \\in [a, b]: f(x) = \\gamma $, где $ \\alpha = min\\{ f(a), f(b) \\}, \\beta = max\\{ f(a), f(b) \\} $"
   ]
  },
  {
   "cell_type": "markdown",
   "metadata": {},
   "source": [
    "#### Доказательство\n",
    "\n",
    "#### Необходимость\n",
    "\n",
    "Доказывается без монотонности.\n",
    "\n",
    "#### Необходимость\n",
    "\n",
    "Пусть $ f(x) $ - неубывающая. Предположим $ \\exists c \\in [a, b], c $ - точка разрыва $ f $. По теореме о разрыве монотонной функции в точке $ x_0 $ функция имеет точку разрыва I рода. Из условия монотонности следует, что $ f(x_0 - 0) < f(x_0 + 0) $. То есть $ \\forall x < x_0: f(x) \\leqslant f(x_0 - 0), \\forall x > x_0: f(x) \\geqslant f(x_0 + 0) $. Возьмём $ \\gamma \\in (f(x_0 - 1), f(x_0 + 0)), \\gamma \\neq f(x_0) $. Тогда $ \\not \\exists x \\in [a, b]: f(x) = \\gamma $. Противоречие"
   ]
  },
  {
   "cell_type": "markdown",
   "metadata": {},
   "source": [
    "### Задача 2"
   ]
  },
  {
   "cell_type": "markdown",
   "metadata": {},
   "source": [
    "#### Основное логарифмическое тождество. Формула перехода к новому основанию."
   ]
  },
  {
   "cell_type": "markdown",
   "metadata": {},
   "source": [
    "$ a^{log_ab} = b $ - основное логарифмическое тождество  \n",
    "\n",
    "$ \\frac{log_a c}{log_a b} = log_b c$ - формула перехода к новому основанию логарифма"
   ]
  },
  {
   "cell_type": "markdown",
   "metadata": {},
   "source": [
    "### Задача 3"
   ]
  },
  {
   "cell_type": "markdown",
   "metadata": {},
   "source": [
    "#### Определение точки разрыва функции I рода."
   ]
  },
  {
   "cell_type": "markdown",
   "metadata": {},
   "source": [
    "Разрыв 1-го рода в точке $ a $: $ \\exists \\lim\\limits_{x \\to x - a} f(x), \\lim\\limits_{x \\to x + a} f(x), \\lim\\limits_{x \\to x - a} f(x) \\not = \\lim\\limits_{x \\to x + a} f(x) $  "
   ]
  },
  {
   "cell_type": "markdown",
   "metadata": {},
   "source": [
    "### Задача 4"
   ]
  },
  {
   "cell_type": "markdown",
   "metadata": {},
   "source": [
    "#### Дать определение по Гейне: $ \\lim\\limits_{x \\to \\infty} f(x) = +\\infty $"
   ]
  },
  {
   "cell_type": "markdown",
   "metadata": {},
   "source": [
    "$ \\lim\\limits_{x \\to \\infty} f(x) = +\\infty \\Leftrightarrow \\forall \\{x_n\\}, \\lim\\limits_{n \\to \\infty} x_n = \\infty: \\lim\\limits_{n \\to \\infty} f(x_n) = +\\infty$"
   ]
  },
  {
   "cell_type": "markdown",
   "metadata": {},
   "source": [
    "### Задача 5"
   ]
  },
  {
   "cell_type": "markdown",
   "metadata": {},
   "source": [
    "#### Определение точной нижней грани функции на множестве $ \\{x\\} $"
   ]
  },
  {
   "cell_type": "markdown",
   "metadata": {},
   "source": [
    "$ M $ - ТНГ $ \\{x\\} $, если $ \\forall x \\in \\{x\\} \\ \\ x \\leqslant M, \\forall \\varepsilon \\in \\mathbb{R} \\ \\ x - \\varepsilon < M $"
   ]
  }
 ],
 "metadata": {
  "kernelspec": {
   "display_name": "Python 3",
   "language": "python",
   "name": "python3"
  },
  "language_info": {
   "codemirror_mode": {
    "name": "ipython",
    "version": 3
   },
   "file_extension": ".py",
   "mimetype": "text/x-python",
   "name": "python",
   "nbconvert_exporter": "python",
   "pygments_lexer": "ipython3",
   "version": "3.7.3"
  }
 },
 "nbformat": 4,
 "nbformat_minor": 4
}
