{
 "cells": [
  {
   "cell_type": "markdown",
   "metadata": {},
   "source": [
    "# Билет 18"
   ]
  },
  {
   "cell_type": "code",
   "execution_count": 3,
   "metadata": {},
   "outputs": [],
   "source": [
    "import numpy as np\n",
    "import matplotlib.pyplot as plt\n",
    "import matplotlib"
   ]
  },
  {
   "cell_type": "markdown",
   "metadata": {},
   "source": [
    "### Задача 1"
   ]
  },
  {
   "cell_type": "markdown",
   "metadata": {},
   "source": [
    "#### Основные свойства бесконечно малых последовательностей."
   ]
  },
  {
   "cell_type": "markdown",
   "metadata": {},
   "source": [
    "1. Беcконечно малая последовательность ограничена\n",
    "\n",
    "2. Сумма бесконечно малых последовательностей есть бесконечно малая последовательность\n",
    "\n",
    "3. Произведение бесконечно малой последовательности на ограниченную последовательность есть бесконечно малая последовательность\n",
    "\n",
    "4. Если все элементы бесконечно малой последовательности равны одному и тому же числу $ C $, то $ C = 0 $"
   ]
  },
  {
   "cell_type": "markdown",
   "metadata": {},
   "source": [
    "### Задача 2"
   ]
  },
  {
   "cell_type": "markdown",
   "metadata": {},
   "source": [
    "#### Определение, свойства и график функции $ y = \\log_a x $"
   ]
  },
  {
   "cell_type": "markdown",
   "metadata": {},
   "source": [
    "$ y = \\log_a x $ - обратная к $ x = a^y \\Rightarrow $ она имеет тот же порядок монотонности, что и $ x = a^y $\n",
    "\n",
    "$ X = (0, +\\infty), Y = \\mathbb{R}  $  \n",
    "\n",
    "Возрастает на $ \\mathbb{X} $\n",
    "\n",
    "Функция непрерывна на $ \\mathbb{X} $"
   ]
  },
  {
   "cell_type": "code",
   "execution_count": 15,
   "metadata": {},
   "outputs": [
    {
     "data": {
      "image/png": "[encoded data removed]",
      "text/plain": [
       "<Figure size 864x288 with 2 Axes>"
      ]
     },
     "metadata": {
      "needs_background": "dark"
     },
     "output_type": "display_data"
    }
   ],
   "source": [
    "x = np.linspace(0.01, 10, 200)\n",
    "y = np.log(x) / np.log(2)\n",
    "\n",
    "matplotlib.rcParams.update({'font.size': 18})\n",
    "\n",
    "fig, axs = plt.subplots(1, 2, figsize=(12, 4))\n",
    "axs[0].plot(x, y)\n",
    "axs[0].set_title('$ y=log_2 x $')\n",
    "\n",
    "axs[1].axis('off')\n",
    "axs[1].text(0, 0.02, r\"\"\"\n",
    "$ y = \\log_a x $ - обратная к $ x = a^y $  \n",
    "$ \\Rightarrow $ она имеет тот же порядок монотонности, что и $ x = a^y $\n",
    "\n",
    "$ X = (0, +\\infty), Y = \\mathbb{R}  $  \n",
    "\n",
    "Возрастает на $ \\mathbb{X} $\n",
    "\n",
    "Функция непрерывна на $ \\mathbb{X} $\n",
    "\"\"\")\n",
    "plt.show()"
   ]
  },
  {
   "cell_type": "markdown",
   "metadata": {},
   "source": [
    "### Задача 3"
   ]
  },
  {
   "cell_type": "markdown",
   "metadata": {},
   "source": [
    "#### Определение ограниченной (не ограниченной) функции на множестве $ \\{x\\} $"
   ]
  },
  {
   "cell_type": "markdown",
   "metadata": {},
   "source": [
    "Функция $ f(x) $ называется ограниченной на множестве $ \\{x\\} $, если $ \\forall x \\in \\{x\\} \\ \\exists M > 0: |f(x)| < M $"
   ]
  },
  {
   "cell_type": "markdown",
   "metadata": {},
   "source": [
    "### Задача 4"
   ]
  },
  {
   "cell_type": "markdown",
   "metadata": {},
   "source": [
    "#### Дать определение по Гейне: неверно, что $ \\lim\\limits_{x \\to a - 0} f(x) = \\infty $"
   ]
  },
  {
   "cell_type": "markdown",
   "metadata": {},
   "source": [
    "$ \\lim\\limits_{x \\to a - 0} f(x) \\neq \\infty \\Leftrightarrow \\exists \\{x_n\\}: \\lim\\limits_{n \\to \\infty} x_n = a, \\forall n \\in \\mathbb{N} \\ x_n < a, \\lim\\limits_{n \\to \\infty} f(x_n) \\neq \\infty  $"
   ]
  },
  {
   "cell_type": "markdown",
   "metadata": {},
   "source": [
    "### Задача 5"
   ]
  },
  {
   "cell_type": "markdown",
   "metadata": {},
   "source": [
    "#### Дать определение $ \\phi(x) = O(\\psi(x)), x \\to a $"
   ]
  },
  {
   "cell_type": "markdown",
   "metadata": {},
   "source": [
    "$ \\phi(x) = O(\\psi(x)), x \\to a $ если $ \\exists c > 0: |f(x)| \\leqslant c|g(x)| $"
   ]
  }
 ],
 "metadata": {
  "kernelspec": {
   "display_name": "Python 3",
   "language": "python",
   "name": "python3"
  },
  "language_info": {
   "codemirror_mode": {
    "name": "ipython",
    "version": 3
   },
   "file_extension": ".py",
   "mimetype": "text/x-python",
   "name": "python",
   "nbconvert_exporter": "python",
   "pygments_lexer": "ipython3",
   "version": "3.7.3"
  }
 },
 "nbformat": 4,
 "nbformat_minor": 4
}
