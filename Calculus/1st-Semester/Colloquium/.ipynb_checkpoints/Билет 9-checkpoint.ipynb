{
 "cells": [
  {
   "cell_type": "markdown",
   "metadata": {},
   "source": [
    "# Билет 9"
   ]
  },
  {
   "cell_type": "code",
   "execution_count": 1,
   "metadata": {},
   "outputs": [],
   "source": [
    "import numpy as np\n",
    "import matplotlib.pyplot as plt\n",
    "import matplotlib"
   ]
  },
  {
   "cell_type": "markdown",
   "metadata": {},
   "source": [
    "### Задача 1"
   ]
  },
  {
   "cell_type": "markdown",
   "metadata": {},
   "source": [
    "#### Счетные множества. Их свойства. Доказательство того, что множества целых и рациональных чисел являются счетными."
   ]
  },
  {
   "cell_type": "markdown",
   "metadata": {},
   "source": [
    "Множества, эквивалентные множеству $ \\mathbb{N} $ называются счётными $ (\\exists f: \\mathbb{N} \\rightarrow A, f $ - биекция  $ \\Rightarrow A $ - счётное множество $ ) $  \n",
    "\n",
    "Зададим следующий порядок для множества целых чисел: $ \\mathbb{Z} = \\{ 0, -1, 1, -2, 2, \\dots \\} $. Мы можем пронумеровать всё элементы множества целых чисел $ \\Rightarrow $ оно счётное\n",
    "\n",
    "Зададим следующий порядок для множества рациональных чисел: $ \\mathbb{R} = \\{0, \\frac{1}{1}, -\\frac{1}{1}, \\frac{2}{1}, -\\frac{2}{1}, \\frac{1}{2}, -\\frac{1}{2}, \\frac{1}{3}, -\\frac{1}{3}, \\frac{2}{2}, -\\frac{2}{2}, \\frac{3}{1}, -\\frac{3}{1}, \\frac{4}{1}, -\\frac{4}{1}, \\dots\\} $. Оно содержит все элементы множества рациональных чисел и все его элементы можно пронумеровать $ \\Rightarrow $ оно счётное"
   ]
  },
  {
   "cell_type": "markdown",
   "metadata": {},
   "source": [
    "### Задача 2"
   ]
  },
  {
   "cell_type": "markdown",
   "metadata": {},
   "source": [
    "#### Выделение полного квадрата. Формула корней квадратного уравнения."
   ]
  },
  {
   "cell_type": "markdown",
   "metadata": {},
   "source": [
    "$ ax^2 + bx + c = 0 $  \n",
    "\n",
    "$ ax^2 + 2 \\cdot a \\cdot (\\frac{b}{2a}) \\cdot x + a (\\frac{b}{2a})^2 - \\frac{b^2}{4a} + c = 0 $  \n",
    "\n",
    "$ a(x + \\frac{b}{2a})^2 = \\frac{b^2}{4a} - c | \\times a $  \n",
    "\n",
    "$ a^2(x + \\frac{b}{2a})^2 = \\frac{b^2 - 4ac}{4} $  \n",
    "\n",
    "$ (x + \\frac{b}{2a}) = \\pm \\frac{\\sqrt{b^2 - 4ac}}{2a} $  \n",
    "\n",
    "$ x = \\frac{-b \\pm \\sqrt{b^2 - 4ac}}{2a} $"
   ]
  },
  {
   "cell_type": "markdown",
   "metadata": {},
   "source": [
    "### Задача 3"
   ]
  },
  {
   "cell_type": "markdown",
   "metadata": {},
   "source": [
    "#### Определение бесконечно большой (не бесконечно большой) числовой последовательности."
   ]
  },
  {
   "cell_type": "markdown",
   "metadata": {},
   "source": [
    "Последовательность называется бесконечно большой, если $ \\forall A \\ \\exists N(A): \\forall n \\geqslant N \\  |x_n| > A $  \n",
    "Последовательность называется не бесконечно большой, если $ \\exists A \\ \\forall N(A): \\forall n \\geqslant N \\  |x_n| \\leqslant A $  "
   ]
  },
  {
   "cell_type": "markdown",
   "metadata": {},
   "source": [
    "### Задача 4"
   ]
  },
  {
   "cell_type": "markdown",
   "metadata": {},
   "source": [
    "#### Дать определение по Гейне: $ \\lim\\limits_{x \\to a + 0} f(x) = +\\infty $"
   ]
  },
  {
   "cell_type": "markdown",
   "metadata": {},
   "source": [
    "$ \\lim\\limits_{x \\to a + 0} f(x) = +\\infty \\Leftrightarrow \\forall \\{x_n\\} \\lim\\limits_{n \\to \\infty} x_n = a \\ \\forall x_n > a: \\lim\\limits_{n \\to \\infty} f(x_n) = +\\infty $"
   ]
  },
  {
   "cell_type": "markdown",
   "metadata": {},
   "source": [
    "### Задача 5"
   ]
  },
  {
   "cell_type": "markdown",
   "metadata": {},
   "source": [
    "#### Определение функции, непрерывной в точке $ a $ слева."
   ]
  },
  {
   "cell_type": "markdown",
   "metadata": {},
   "source": [
    "Пусть $ a \\in X $. Функция $ f $ непрерывна в точке $ a $, если $ \\lim\\limits_{x \\to a + 0} f(x) = f(a) $"
   ]
  }
 ],
 "metadata": {
  "kernelspec": {
   "display_name": "Python 3",
   "language": "python",
   "name": "python3"
  },
  "language_info": {
   "codemirror_mode": {
    "name": "ipython",
    "version": 3
   },
   "file_extension": ".py",
   "mimetype": "text/x-python",
   "name": "python",
   "nbconvert_exporter": "python",
   "pygments_lexer": "ipython3",
   "version": "3.7.3"
  }
 },
 "nbformat": 4,
 "nbformat_minor": 4
}
