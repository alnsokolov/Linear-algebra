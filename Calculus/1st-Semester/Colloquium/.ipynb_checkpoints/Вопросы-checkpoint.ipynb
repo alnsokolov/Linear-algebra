{
 "cells": [
  {
   "cell_type": "markdown",
   "metadata": {},
   "source": [
    "# Вопросы"
   ]
  },
  {
   "cell_type": "markdown",
   "metadata": {},
   "source": [
    "### 1. Выделение полного квадрата. Формула корней квадратного уравнения. Бином Ньютона, неравенство Бернулли."
   ]
  },
  {
   "cell_type": "markdown",
   "metadata": {},
   "source": [
    "### Выделение полного квадрата. Формула корней квадратного уравнения."
   ]
  },
  {
   "cell_type": "markdown",
   "metadata": {},
   "source": [
    "$ ax^2 + bx + c = 0 $  \n",
    "\n",
    "$ ax^2 + 2 \\cdot a \\cdot (\\frac{b}{2a}) \\cdot x + a (\\frac{b}{2a})^2 - \\frac{b^2}{4a} + c = 0 $  \n",
    "\n",
    "$ a(x + \\frac{b}{2a})^2 = \\frac{b^2}{4a} - c | \\times a $  \n",
    "\n",
    "$ a^2(x + \\frac{b}{2a})^2 = \\frac{b^2 - 4ac}{4} $  \n",
    "\n",
    "$ (x + \\frac{b}{2a}) = \\pm \\frac{\\sqrt{b^2 - 4ac}}{2a} $  \n",
    "\n",
    "$ x = \\frac{-b \\pm \\sqrt{b^2 - 4ac}}{2a} $"
   ]
  },
  {
   "cell_type": "markdown",
   "metadata": {},
   "source": [
    "### Бином Ньютона"
   ]
  },
  {
   "cell_type": "markdown",
   "metadata": {},
   "source": [
    "$ (a + b)^n = \\sum\\limits_{i = 0}^n C_n^i a^{n - i}b^i $"
   ]
  },
  {
   "cell_type": "markdown",
   "metadata": {},
   "source": [
    "Докажем, что $ C_n^{k - 1} + C_n^k = C_{n + 1}^k $"
   ]
  },
  {
   "cell_type": "markdown",
   "metadata": {},
   "source": [
    "### Неравенство Бернулли"
   ]
  },
  {
   "cell_type": "markdown",
   "metadata": {},
   "source": [
    "$ (1 + a)^b \\geqslant 1 + ab \\ \\ \\ \\forall a > 0 $"
   ]
  },
  {
   "cell_type": "markdown",
   "metadata": {},
   "source": [
    "### 2. Вещественные числа и правила их сравнения. Теорема о существовании точной верхней (нижней) грани у ограниченного сверху (снизу) множества вещественных чисел."
   ]
  },
  {
   "cell_type": "markdown",
   "metadata": {},
   "source": [
    "### Вещественные числа и правила их сравнения"
   ]
  },
  {
   "cell_type": "markdown",
   "metadata": {},
   "source": [
    "Вещественным числом нызовём бесконечную дробь вида $ \\pm a_0,a_1a_2a_3\\dots, a_0 \\in \\mathbb{N} \\cap \\{0\\}, a_j \\in \\{0, \\dots, 9\\} \\ \\forall j \\in \\mathbb{N} $"
   ]
  },
  {
   "cell_type": "markdown",
   "metadata": {},
   "source": [
    "Пусть $ a  = a_0,a_1a_2a_3\\dots, b = b_0,b_1b_2b_3\\dots $  \n",
    "\n",
    "Числа $ a $ и $ b $ называютя раными, если они совпадают поразрядно.  \n",
    "Пишут $ a = b $  \n",
    "\n",
    "Пусть $ a \\neq b $. Тогда $ \\exists k \\in \\mathbb{N} \\cap \\{0\\}: a_0 = b_0, a_1 = b_1, \\dots, a_k \\neq b_k $\n",
    "Тогда если $ a_k < b_k, $ то $ a < b $, если $ a_k > b_k, $ то $ a > b $\n",
    "\n",
    "Модулем числа $ a  = \\pm a_0,a_1a_2a_3\\dots \\in \\mathbb{R} $ называется число $ a  = a_0,a_1a_2a_3\\dots \\in \\mathbb{R} $, выраженное той же дробью, но всегда со знаком $ \"+\" $.\n",
    "\n",
    "Пусть $ a < 0, b < 0 $. Тогда $ a < b, $ если $ |a| > |b| $ и $ a > b, $ если $ |a| < |b| $"
   ]
  },
  {
   "cell_type": "markdown",
   "metadata": {},
   "source": [
    "### 3. Приближение вещественных чисел рациональными. Арифметические операции над вещественными числами. Свойства вещественных чисел."
   ]
  },
  {
   "cell_type": "markdown",
   "metadata": {},
   "source": [
    "### 4. Счетные множества и множества мощности континуум. Неэквивалентность множества мощности континуум счетному множеству."
   ]
  },
  {
   "cell_type": "markdown",
   "metadata": {},
   "source": [
    "### 5. Ограниченные и неограниченные последовательности. Бесконечно большие и бесконечно малые последовательности. Их основные свойства."
   ]
  },
  {
   "cell_type": "markdown",
   "metadata": {},
   "source": [
    "### 6. Понятие сходящейся последовательности. Основные теоремы о сходящихся последовательностях (единственность предела, ограниченность сходящейся последовательности, арифметические операции над сходящимися последовательностями)."
   ]
  },
  {
   "cell_type": "markdown",
   "metadata": {},
   "source": [
    "### 7. Предельный переход в неравенствах. Теорема о пределе монотонной ограниченной последовательности. Число е."
   ]
  },
  {
   "cell_type": "markdown",
   "metadata": {},
   "source": [
    "### 8. Понятие предельной точки последовательности. Теорема о существовании верхнего и нижнего пределов у ограниченной последовательности. Теорема Больцано-Вейерштрасса."
   ]
  },
  {
   "cell_type": "markdown",
   "metadata": {},
   "source": [
    "### 9. Необходимое и достаточное условие сходимости последовательности (критерий Коши)."
   ]
  },
  {
   "cell_type": "markdown",
   "metadata": {},
   "source": [
    "### 10. Два определения предельного значения функции (по Гейне и по Коши) и доказательство их эквивалентности. Критерий Коши существования предельного значения функции."
   ]
  }
 ],
 "metadata": {
  "kernelspec": {
   "display_name": "Python 3",
   "language": "python",
   "name": "python3"
  },
  "language_info": {
   "codemirror_mode": {
    "name": "ipython",
    "version": 3
   },
   "file_extension": ".py",
   "mimetype": "text/x-python",
   "name": "python",
   "nbconvert_exporter": "python",
   "pygments_lexer": "ipython3",
   "version": "3.7.3"
  }
 },
 "nbformat": 4,
 "nbformat_minor": 4
}
