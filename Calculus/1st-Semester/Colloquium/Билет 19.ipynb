{
 "cells": [
  {
   "cell_type": "markdown",
   "metadata": {},
   "source": [
    "# Билет 19"
   ]
  },
  {
   "cell_type": "code",
   "execution_count": 1,
   "metadata": {},
   "outputs": [],
   "source": [
    "import numpy as np\n",
    "import matplotlib.pyplot as plt\n",
    "import matplotlib"
   ]
  },
  {
   "cell_type": "markdown",
   "metadata": {},
   "source": [
    "### Задача 1"
   ]
  },
  {
   "cell_type": "markdown",
   "metadata": {},
   "source": [
    "#### Определения разности и частного двух вещественных чисел; доказательство их корректности."
   ]
  },
  {
   "cell_type": "markdown",
   "metadata": {},
   "source": [
    "По свойствам децствительных чисел $ \\exists! (-c): c + (-c) = 0, \\exists! c': c \\cdot c' = 1 \\Rightarrow $ доказательство корректности определения разности и частного можно свести к доказательству корректности определения суммы $ a + (-b) $ и произведения $ a \\cdot b' $ (см. [билет №1](http://localhost:8888/lab/tree/University/Math/Calculus/Colloquium/%D0%91%D0%B8%D0%BB%D0%B5%D1%82%201.ipynb))"
   ]
  },
  {
   "cell_type": "markdown",
   "metadata": {},
   "source": [
    "### Задача 2"
   ]
  },
  {
   "cell_type": "markdown",
   "metadata": {},
   "source": [
    "#### Определение, свойства и график функции $ y = x^a $"
   ]
  },
  {
   "cell_type": "markdown",
   "metadata": {},
   "source": [
    "$ X = (0, +\\infty), Y = (0, +\\infty)  $  \n",
    "\n",
    "Возрастает на $ \\mathbb{X}, a > 0 $  \n",
    "\n",
    "Убывает на $ \\mathbb{X}, a < 0 $\n",
    "\n",
    "Функция непрерывна на $ \\mathbb{X} $"
   ]
  },
  {
   "cell_type": "code",
   "execution_count": 11,
   "metadata": {},
   "outputs": [
    {
     "data": {
      "image/png": "[encoded data removed]",
      "text/plain": [
       "<Figure size 864x288 with 2 Axes>"
      ]
     },
     "metadata": {
      "needs_background": "dark"
     },
     "output_type": "display_data"
    }
   ],
   "source": [
    "x = np.linspace(0, 10, 200)\n",
    "y = x ** 2.5\n",
    "\n",
    "matplotlib.rcParams.update({'font.size': 18})\n",
    "\n",
    "fig, axs = plt.subplots(1, 2, figsize=(12, 4))\n",
    "axs[0].plot(x, y)\n",
    "axs[0].set_title('$ y=x^{2.5} $')\n",
    "\n",
    "axs[1].axis('off')\n",
    "axs[1].text(0, 0.02, r\"\"\"\n",
    "$ X = (0, +\\infty), Y = (0, +\\infty)  $  \n",
    "\n",
    "Возрастает на $ \\mathbb{X}, a > 0 $  \n",
    "\n",
    "Убывает на $ \\mathbb{X}, a < 0 $\n",
    "\n",
    "Функция непрерывна на $ \\mathbb{X} $\n",
    "\"\"\")\n",
    "plt.show()"
   ]
  },
  {
   "cell_type": "markdown",
   "metadata": {},
   "source": [
    "### Задача 3"
   ]
  },
  {
   "cell_type": "markdown",
   "metadata": {},
   "source": [
    "#### Определение точной нижней грани функции на множестве $ \\{x\\} $"
   ]
  },
  {
   "cell_type": "markdown",
   "metadata": {},
   "source": [
    "Точная нижняя граница множества $ \\{x\\} \\ (inf \\{x\\}) $ - такое число $ m \\in \\mathbb{R} $, что $ \\forall x \\in \\{x\\} \\ \\ x > m $"
   ]
  },
  {
   "cell_type": "markdown",
   "metadata": {},
   "source": [
    "### Задача 4"
   ]
  },
  {
   "cell_type": "markdown",
   "metadata": {},
   "source": [
    "#### Дать определение по Коши: $ \\lim\\limits_{x \\to a - 0} f(x) = \\infty $"
   ]
  },
  {
   "cell_type": "markdown",
   "metadata": {},
   "source": [
    "$ \\lim\\limits_{x \\to a - 0} f(x) = \\infty \\Leftrightarrow \\forall \\varepsilon > 0 \\exists \\delta(\\varepsilon): \\forall x \\in (a - \\delta, a) \\ |f(x)| > \\varepsilon $"
   ]
  },
  {
   "cell_type": "markdown",
   "metadata": {},
   "source": [
    "### Задача 5"
   ]
  },
  {
   "cell_type": "markdown",
   "metadata": {},
   "source": [
    "#### Определение - число M не является точной верхней гранью множества $ \\{x\\} $"
   ]
  },
  {
   "cell_type": "markdown",
   "metadata": {},
   "source": [
    "$ M \\neq sup \\{x\\} \\Leftrightarrow \\exists n \\in \\mathbb{N}: x_n > M $"
   ]
  }
 ],
 "metadata": {
  "kernelspec": {
   "display_name": "Python 3",
   "language": "python",
   "name": "python3"
  },
  "language_info": {
   "codemirror_mode": {
    "name": "ipython",
    "version": 3
   },
   "file_extension": ".py",
   "mimetype": "text/x-python",
   "name": "python",
   "nbconvert_exporter": "python",
   "pygments_lexer": "ipython3",
   "version": "3.7.3"
  }
 },
 "nbformat": 4,
 "nbformat_minor": 4
}
