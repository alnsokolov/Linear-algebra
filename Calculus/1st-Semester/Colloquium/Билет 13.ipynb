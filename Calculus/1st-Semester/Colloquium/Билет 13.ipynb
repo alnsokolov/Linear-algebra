{
 "cells": [
  {
   "cell_type": "markdown",
   "metadata": {},
   "source": [
    "# Билет 13"
   ]
  },
  {
   "cell_type": "code",
   "execution_count": 1,
   "metadata": {},
   "outputs": [],
   "source": [
    "import numpy as np\n",
    "import matplotlib.pyplot as plt\n",
    "import matplotlib"
   ]
  },
  {
   "cell_type": "markdown",
   "metadata": {},
   "source": [
    "### Задача 1"
   ]
  },
  {
   "cell_type": "markdown",
   "metadata": {},
   "source": [
    "#### Два определения предельного значения функции (по Гейне и по Коши) и доказательство их эквивалентности"
   ]
  },
  {
   "cell_type": "markdown",
   "metadata": {},
   "source": [
    "Число $ b \\in \\mathbb{R} $ называется предельным значением фунции (или пределом функции) $ f(x) $, если  \n",
    "1. $ \\forall \\varepsilon > 0 \\ \\ \\exists \\delta(\\varepsilon) > 0: \\forall x \\in \\dot B_\\delta(a) \\ \\ |f(x) - b| < \\varepsilon$ - по Коши  \n",
    "\n",
    "2. $ \\forall \\{x_n\\}, \\lim\\limits_{n \\to \\infty} x_n = a, x_n \\neq a: \\lim\\limits_{n \\to \\infty} f(x_n) = a  $ - по Гейне\n",
    "\n",
    "Доказать, что $ 1 \\sim 2 $"
   ]
  },
  {
   "cell_type": "markdown",
   "metadata": {},
   "source": [
    "#### Доказательство"
   ]
  },
  {
   "cell_type": "markdown",
   "metadata": {},
   "source": [
    "Пусть верно по Коши.\n",
    "\n",
    "$ \\exists \\delta(\\varepsilon) > 0 $, т.ч. $ \\forall x \\in \\dot B_\\delta(x) \\cap X: |f(x) - b| < \\varepsilon $.  \n",
    "Пусть $ \\{x_n\\} $ - произвольная последовательноть аргументов, т.ч. $ x_n \\to a, x_n \\neq a $. Значит $ \\exists N = N(\\delta(\\varepsilon)) $, т.ч. $ \\forall n \\geqslant N: x_n \\in \\dot B_\\delta (a) \\cap X \\Rightarrow |f(x_n) - b| < \\varepsilon $. Это и означает, что $ \\lim\\limits_{n \\to \\infty} f(x_n) = b $, т.е. выполенено по Гейне  \n",
    "\n",
    "Пусть не верно по Коши.\n",
    "\n",
    "Значит $ \\exists \\varepsilon > 0 $, т.ч. $ \\forall n \\in \\mathbb{N} \\ \\ \\exists x_n \\in \\dot B_{\\frac{1}{n}}(a) \\cap X, $ т.ч. $ |f(x_n) - b| \\geqslant \\varepsilon $. Получим последовательность $ x_n \\to a, x_n \\neq a $, а при этом $ f(x_n) \\not\\to b \\Rightarrow $ по Гейне не верно."
   ]
  },
  {
   "cell_type": "markdown",
   "metadata": {},
   "source": [
    "### Задача 2"
   ]
  },
  {
   "cell_type": "markdown",
   "metadata": {},
   "source": [
    "#### Определение $ e^x $ для произвольного вещественного $ x $. Монотонность функции $ e^x $"
   ]
  },
  {
   "cell_type": "markdown",
   "metadata": {},
   "source": [
    "$ x \\in \\mathbb{R}, n \\to \\infty \\Rightarrow \\frac{n}{x} \\to \\infty \\Rightarrow \\lim\\limits_{\\frac{n}{x} \\to \\infty} \\left ( 1 + \\frac{1}{\\frac{n}{x}} \\right )^\\frac{n}{x} =\n",
    "\\lim\\limits_{\\frac{n}{x} \\to \\infty} \\left (1 + \\frac{x}{n} \\right )^\\frac{n}{x} =\n",
    "\\lim\\limits_{n \\to \\infty} \\left (1 + \\frac{x}{n} \\right )^\\frac{n}{x} = e$  \n",
    "$ \\Rightarrow \\left ( \\lim\\limits_{n \\to \\infty} \\left (1 + \\frac{x}{n} \\right )^\\frac{n}{x} \\right )^x = e^x =  \\lim\\limits_{n \\to \\infty} \\left (1 + \\frac{x}{n} \\right )^n$  \n",
    "\n",
    "$ \\lim\\limits_{n \\to \\infty} \\left (1 + \\frac{x}{n} \\right )^n = e^x $"
   ]
  },
  {
   "cell_type": "markdown",
   "metadata": {},
   "source": [
    "$ e^x $ возрастает:  \n",
    "\n",
    "Пусть $ x_1 < x_2 $. Тогда $ \\exists r_1, r_2 \\in \\mathbb{Q}: x_1 < r_1 < r_2 < x_2 $ (по свойствам вещественных чисел) $ \\Rightarrow e^{x_1} \\leqslant e^{r_1} < e^{r_2} \\leqslant e^{x_2} $ (по свойствам рациональной степени) $ \\Rightarrow e^{x_1} < e^{x_2} $"
   ]
  },
  {
   "cell_type": "markdown",
   "metadata": {},
   "source": [
    "### Задача 3"
   ]
  },
  {
   "cell_type": "markdown",
   "metadata": {},
   "source": [
    "#### Функция $ f(x) $ удовлетворяет (не удовлетворяет) условию Коши при стремлении $ x $ к $ a + 0 $"
   ]
  },
  {
   "cell_type": "markdown",
   "metadata": {},
   "source": [
    "Функция $ f(x) $ удовлетворяет условию Коши при стремлении $ x $ к $ a + 0 $, если $ \\forall \\varepsilon > 0 \\ \\ \\exists \\delta(\\varepsilon) > 0: \\forall x_n, x_m \\in (a, a + \\delta) \\ \\ |f(x_n) - f(x_m)| < \\varepsilon $  \n",
    "\n",
    "Функция $ f(x) $ не удовлетворяет условию Коши при стремлении $ x $ к $ a + 0 $, если $ \\exists \\varepsilon > 0 \\ \\ \\forall \\delta(\\varepsilon) > 0: \\forall x_n, x_m \\in (a, a + \\delta) \\ \\ |f(x_n) - f(x_m)| \\geqslant \\varepsilon $"
   ]
  },
  {
   "cell_type": "markdown",
   "metadata": {},
   "source": [
    "### Задача 4"
   ]
  },
  {
   "cell_type": "markdown",
   "metadata": {},
   "source": [
    "#### Дать определение по Гейне: $ \\lim\\limits_{x \\to a + 0} f(x) = -\\infty $"
   ]
  },
  {
   "cell_type": "markdown",
   "metadata": {},
   "source": [
    "$ \\lim\\limits_{x \\to a + 0} f(x) = -\\infty \\Leftrightarrow \\forall \\{x_n\\} $, т.ч. $ \\lim\\limits_{n \\to \\infty} x_n = a, \\forall n \\in \\mathbb{N} \\ \\ x_n > a, \\lim\\limits_{n \\to \\infty} f(x_n) = -\\infty $"
   ]
  },
  {
   "cell_type": "markdown",
   "metadata": {},
   "source": [
    "### Задача 5"
   ]
  },
  {
   "cell_type": "markdown",
   "metadata": {},
   "source": [
    "#### Сформулировать теорему о монотонной и ограниченной последовательности"
   ]
  },
  {
   "cell_type": "markdown",
   "metadata": {},
   "source": [
    "Если последовательность монотонно возрастает и ограничена, то она имеет конечный предел, равный ТВГ.\n",
    "\n",
    "Если последовательность монотонно убывает и ограничена, то она имеет конечный предел, равный ТНГ."
   ]
  }
 ],
 "metadata": {
  "kernelspec": {
   "display_name": "Python 3",
   "language": "python",
   "name": "python3"
  },
  "language_info": {
   "codemirror_mode": {
    "name": "ipython",
    "version": 3
   },
   "file_extension": ".py",
   "mimetype": "text/x-python",
   "name": "python",
   "nbconvert_exporter": "python",
   "pygments_lexer": "ipython3",
   "version": "3.7.3"
  }
 },
 "nbformat": 4,
 "nbformat_minor": 4
}
