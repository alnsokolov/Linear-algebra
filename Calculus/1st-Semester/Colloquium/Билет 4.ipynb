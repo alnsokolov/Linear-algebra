{
 "cells": [
  {
   "cell_type": "markdown",
   "metadata": {},
   "source": [
    "# Билет 4"
   ]
  },
  {
   "cell_type": "code",
   "execution_count": 1,
   "metadata": {},
   "outputs": [],
   "source": [
    "import numpy as np\n",
    "import matplotlib.pyplot as plt\n",
    "import matplotlib"
   ]
  },
  {
   "cell_type": "markdown",
   "metadata": {},
   "source": [
    "### Задача 1"
   ]
  },
  {
   "cell_type": "markdown",
   "metadata": {},
   "source": [
    "#### Необходимое и достаточное условие сходимости последовательности (критерий Коши)"
   ]
  },
  {
   "cell_type": "markdown",
   "metadata": {},
   "source": [
    "Последовательность является фундаментальной, если $ \\forall \\varepsilon > 0 \\ \\exists N(\\varepsilon) \\in \\mathbb{N}: \\forall \\ n \\geqslant N, p > 0 \\ | x_{N + p} - x_{n} | < \\varepsilon $.\n",
    "\n",
    "Последовательность сходится, если она является фундаментальной."
   ]
  },
  {
   "cell_type": "markdown",
   "metadata": {},
   "source": [
    "$ \\Rightarrow $ Пусть $ \\lim\\limits_{n \\to \\infty} x_n = x \\Rightarrow \\forall \\varepsilon > 0 \\ \\exists N(\\varepsilon) \\in \\mathbb{N} $, т.ч. $ \\forall n \\geqslant N: | x_n - x | < \\frac{\\varepsilon}{2} $. Тогда $ \\forall p > 0 | x_{n + p} - x | < \\frac{\\varepsilon}{2}. \\Rightarrow \\forall n \\geqslant N \\forall p > 0: |x_{n + p} - x_n| = |x_{n + p} - x + x - x_n| \\leqslant |x_{n + p} - x| + |x_n - x| \\leqslant \\varepsilon $  \n",
    "\n",
    "$ \\Leftarrow  $ Пусть последовательность $ \\{x_n\\} $ - фундаментальная. Тогда она ограницена (по лемме 2). По теореме Больцано-Вейерштрасса выберем сходящуюсю подпоследовательность $ \\{x_{k_n}\\} $. Пусть $ \\lim\\limits_{n \\to \\infty} x_{k_n} = x $. Докажем, что $ x = \\lim\\limits_{n \\to \\infty} x_n $ Возьмём $ \\varepsilon > 0 \\ \\exists N_1(\\varepsilon) \\in \\mathbb{N}: \\forall n \\geqslant N_1 |x_{k_n} - x| < \\frac{\\varepsilon}{2} $. Поскольку  $ \\{x_n\\} $ - фундаментальная последовательность, $ \\exists N_2(\\varepsilon) \\in \\mathbb{N}: \\forall n \\geqslant N, p \\in \\mathbb{N} |x_{n + p} - x_n| < \\frac{\\varepsilon}{2}. N = max\\{N_1, N_2\\} $. Тогда $ \\forall n \\geqslant N |x_n - x| = |x_n - x_{k_n} + x_{k_n} - x| \\leqslant |x_{n_k} - x_n| + |x_{n_k} - x| = |x_{n+p} - x_n| + |x_{n_k} - x| < \\varepsilon \\Rightarrow \\lim\\limits_{n \\to \\infty} x_n = x $"
   ]
  },
  {
   "cell_type": "markdown",
   "metadata": {},
   "source": [
    "### Задача 2"
   ]
  },
  {
   "cell_type": "markdown",
   "metadata": {},
   "source": [
    "#### Определение, свойства и график функции $ y=ctg x $"
   ]
  },
  {
   "cell_type": "markdown",
   "metadata": {},
   "source": [
    "Тестовый LaTeX\n",
    "\n",
    "$ X = (2\\pi k, \\pi + 2\\pi k) \\ k \\in \\mathbb{Z} $, $ Y = \\mathbb{R} $  \n",
    "\n",
    "Функция нечётная, периодическая ($ T = \\pi $).  \n",
    "\n",
    "Убывает на $ \\mathbb{X} $\n",
    "\n",
    "Функция непрерывна на $ \\mathbb{X} $"
   ]
  },
  {
   "cell_type": "code",
   "execution_count": 2,
   "metadata": {},
   "outputs": [
    {
     "data": {
      "image/png": "[encoded data removed]",
      "text/plain": [
       "<Figure size 864x288 with 2 Axes>"
      ]
     },
     "metadata": {
      "needs_background": "dark"
     },
     "output_type": "display_data"
    }
   ],
   "source": [
    "x = np.linspace(- 2 * np.pi, 2 * np.pi, 200)\n",
    "y = 1 / np.tan(x)\n",
    "threshold = 10\n",
    "y[y>threshold] = np.inf\n",
    "y[y<-threshold] = np.inf\n",
    "\n",
    "matplotlib.rcParams.update({'font.size': 18})\n",
    "\n",
    "fig, axs = plt.subplots(1, 2, figsize=(12, 4))\n",
    "axs[0].set_ylim([-7, 7])\n",
    "axs[0].plot(x, y)\n",
    "axs[0].set_title('$ y=ctg \\ x $')\n",
    "\n",
    "axs[1].axis('off')\n",
    "axs[1].text(0, 0.02, r\"\"\"\n",
    "$ X = (2\\pi k, \\pi + 2\\pi k) \\ k \\in \\mathbb{Z} $, $ Y = \\mathbb{R} $  \n",
    "\n",
    "Функция нечётная, периодическая ($ T = \\pi $).  \n",
    "\n",
    "Убывает на $ X $\n",
    "\n",
    "Функция непрерывна на $ X $\n",
    "\"\"\")\n",
    "plt.show()"
   ]
  },
  {
   "cell_type": "markdown",
   "metadata": {},
   "source": [
    "### Задача 3"
   ]
  },
  {
   "cell_type": "markdown",
   "metadata": {},
   "source": [
    "#### Определение - число $ M $ не является точной верхней гранью множества $ \\{x\\} $"
   ]
  },
  {
   "cell_type": "markdown",
   "metadata": {},
   "source": [
    "Число $ M $ не является точной верхней границей множества $ \\{x\\} $, если $ \\exists \\ x \\in \\{x\\}: x > M $"
   ]
  },
  {
   "cell_type": "markdown",
   "metadata": {},
   "source": [
    "### Задача 4"
   ]
  },
  {
   "cell_type": "markdown",
   "metadata": {},
   "source": [
    "#### Дать определение по Коши: неверно, что $ \\lim\\limits_{x \\to -\\infty} f(x) = b $"
   ]
  },
  {
   "cell_type": "markdown",
   "metadata": {},
   "source": [
    "$ \\lim\\limits_{x \\to -\\infty} f(x) \\not = b \\Leftrightarrow \\exists \\varepsilon > 0 \\ \\forall \\delta = \\delta(\\varepsilon) > 0 \\ \\forall x \\in X: x < -\\delta \\Rightarrow |f(x) - b| > \\varepsilon $"
   ]
  },
  {
   "cell_type": "markdown",
   "metadata": {},
   "source": [
    "### Задача 5"
   ]
  },
  {
   "cell_type": "markdown",
   "metadata": {},
   "source": [
    "#### Дать определение: $ \\phi(x) = \\bar{o}(\\psi(x)), x \\to a $"
   ]
  },
  {
   "cell_type": "markdown",
   "metadata": {},
   "source": [
    "Если $ \\exists \\lim\\limits_{x \\to a} \\frac{\\phi(x)}{\\psi(x)} = 0 $, то $ \\phi(x) = \\bar{o}(\\psi(x)), x \\to a $"
   ]
  }
 ],
 "metadata": {
  "kernelspec": {
   "display_name": "Python 3",
   "language": "python",
   "name": "python3"
  },
  "language_info": {
   "codemirror_mode": {
    "name": "ipython",
    "version": 3
   },
   "file_extension": ".py",
   "mimetype": "text/x-python",
   "name": "python",
   "nbconvert_exporter": "python",
   "pygments_lexer": "ipython3",
   "version": "3.7.3"
  }
 },
 "nbformat": 4,
 "nbformat_minor": 4
}
