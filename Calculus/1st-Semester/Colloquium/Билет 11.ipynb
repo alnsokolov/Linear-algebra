{
 "cells": [
  {
   "cell_type": "markdown",
   "metadata": {},
   "source": [
    "# Билет 11"
   ]
  },
  {
   "cell_type": "code",
   "execution_count": 1,
   "metadata": {},
   "outputs": [],
   "source": [
    "import numpy as np\n",
    "import matplotlib.pyplot as plt\n",
    "import matplotlib"
   ]
  },
  {
   "cell_type": "markdown",
   "metadata": {},
   "source": [
    "### Задача 1"
   ]
  },
  {
   "cell_type": "markdown",
   "metadata": {},
   "source": [
    "#### Число $ e $"
   ]
  },
  {
   "cell_type": "markdown",
   "metadata": {},
   "source": [
    "$ \\lim\\limits_{n \\to \\infty} \\left( 1 + \\frac{1}{n} \\right)^n = e = \\lim\\limits_{n \\to \\infty} \\left( 1 + \\frac{1}{n} \\right)^{n + 1} $ \n",
    "\n",
    "$ \\left( 1 + \\frac{1}{n} \\right)^n < e < \\left( 1 + \\frac{1}{n} \\right)^{n + 1} \\ \\forall n \\in \\mathbb{N}$\n",
    "\n"
   ]
  },
  {
   "cell_type": "markdown",
   "metadata": {},
   "source": [
    "### Задача 2"
   ]
  },
  {
   "cell_type": "markdown",
   "metadata": {},
   "source": [
    "#### Свойства степени с рациональным показателем"
   ]
  },
  {
   "cell_type": "markdown",
   "metadata": {},
   "source": [
    "$ a^r, r \\in \\mathbb{R} \\Rightarrow r = \\frac{m}{n}, m \\in \\mathbb{Z}, n \\in \\mathbb{N} $\n",
    "$ a ^ {\\frac{m}{n}} = \\sqrt[n]{a^m} $\n",
    "1. $ a^p \\cdot a^q = a^{p + q} $\n",
    "2. $ a^p \\div a^q = a^{p - q} $\n",
    "3. $ (a^p)^q = a^{pq} $\n",
    "4. $ (ab)^p = a^p \\cdot b^p $\n",
    "5. $ (\\frac{a}{b})^p = \\frac{a^p}{b^p} $"
   ]
  },
  {
   "cell_type": "markdown",
   "metadata": {},
   "source": [
    "### Задача 3"
   ]
  },
  {
   "cell_type": "markdown",
   "metadata": {},
   "source": [
    "#### Определение фундаментальной последовательности"
   ]
  },
  {
   "cell_type": "markdown",
   "metadata": {},
   "source": [
    "Последовательность $ \\{x_n\\} $ является фундаментальной, если $ \\forall \\varepsilon > 0 \\ \\exists N(\\varepsilon): \\forall n, m > N |x_n - x_m| < \\varepsilon $"
   ]
  },
  {
   "cell_type": "markdown",
   "metadata": {},
   "source": [
    "### Задача 4"
   ]
  },
  {
   "cell_type": "markdown",
   "metadata": {},
   "source": [
    "#### Дать определение по Коши: $ \\lim\\limits_{x \\to a + 0} f(x) = +\\infty $"
   ]
  },
  {
   "cell_type": "markdown",
   "metadata": {},
   "source": [
    "$ \\lim\\limits_{x \\to a + 0} f(x) = +\\infty \\Leftrightarrow \\forall \\varepsilon > 0 \\ \\exists \\delta(\\varepsilon) > 0: \\forall x \\in (a, a + \\delta) \\ f(x) > \\varepsilon $"
   ]
  },
  {
   "cell_type": "markdown",
   "metadata": {},
   "source": [
    "### Задача 5"
   ]
  },
  {
   "cell_type": "markdown",
   "metadata": {},
   "source": [
    "#### Определение точки устранимого разрыва функции"
   ]
  },
  {
   "cell_type": "markdown",
   "metadata": {},
   "source": [
    "Если предел функции существует и конечен, но функция не определена в этой точке, либо предел не совпадает со значением функции в данной точке - $ \\exists \\lim\\limits_{x \\to a} f(x) \\not = f(a) $, - то точка $ a $ называется точкой устранимого разрыва функции $ f $"
   ]
  }
 ],
 "metadata": {
  "kernelspec": {
   "display_name": "Python 3",
   "language": "python",
   "name": "python3"
  },
  "language_info": {
   "codemirror_mode": {
    "name": "ipython",
    "version": 3
   },
   "file_extension": ".py",
   "mimetype": "text/x-python",
   "name": "python",
   "nbconvert_exporter": "python",
   "pygments_lexer": "ipython3",
   "version": "3.7.3"
  }
 },
 "nbformat": 4,
 "nbformat_minor": 4
}
