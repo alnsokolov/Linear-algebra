{
 "cells": [
  {
   "cell_type": "markdown",
   "metadata": {},
   "source": [
    "# Билет 6"
   ]
  },
  {
   "cell_type": "code",
   "execution_count": 2,
   "metadata": {},
   "outputs": [],
   "source": [
    "import numpy as np\n",
    "import matplotlib.pyplot as plt\n",
    "import matplotlib"
   ]
  },
  {
   "cell_type": "markdown",
   "metadata": {},
   "source": [
    "### Задача 1"
   ]
  },
  {
   "cell_type": "markdown",
   "metadata": {},
   "source": [
    "#### Предельный переход в неравенствах для последовательностей."
   ]
  },
  {
   "cell_type": "markdown",
   "metadata": {},
   "source": [
    "$ \\lim\\limits_{n \\to \\infty} x_n = a. $ Если $ \\exists N \\in \\mathbb{N}, $ т.ч. $ \\forall n \\geqslant N: x_n \\geqslant b \\ (x_n \\leqslant b), a \\geqslant b $"
   ]
  },
  {
   "cell_type": "markdown",
   "metadata": {},
   "source": [
    "Допустим $ a < b $. Положим $ \\varepsilon = b - a > 0 $. Тогда $ \\exists N_1(\\varepsilon) \\in \\mathbb{N}: \\forall n \\geqslant N_1 |x_n - a| < \\varepsilon \\Leftrightarrow -\\varepsilon < x_n - a < \\varepsilon \\Rightarrow x_n < b $. Положим $ N = max\\{N_1, N_2\\} $ Тогда $ \\forall n \\geqslant N \\begin{cases} x_n \\geqslant b \\\\  x_n < b \\end{cases} \\space \\space $ Противоречие"
   ]
  },
  {
   "cell_type": "markdown",
   "metadata": {},
   "source": [
    "### Задача 2"
   ]
  },
  {
   "cell_type": "markdown",
   "metadata": {},
   "source": [
    "#### Определение, свойства и график функции $ y=arccos x $"
   ]
  },
  {
   "cell_type": "markdown",
   "metadata": {},
   "source": [
    "Тестовый LaTeX\n",
    "\n",
    "$ X = [-1, 1] $, $ Y = [0, \\pi] $  \n",
    "\n",
    "Функция непериодическая\n",
    "\n",
    "Убывает на $ \\mathbb{X} $\n",
    "\n",
    "Функция непрерывна на $ \\mathbb{X} $"
   ]
  },
  {
   "cell_type": "code",
   "execution_count": 3,
   "metadata": {},
   "outputs": [
    {
     "data": {
      "image/png": "[encoded data removed]",
      "text/plain": [
       "<Figure size 864x288 with 2 Axes>"
      ]
     },
     "metadata": {
      "needs_background": "dark"
     },
     "output_type": "display_data"
    }
   ],
   "source": [
    "x = np.linspace(-1, 1, 200)\n",
    "y = np.arccos(x)\n",
    "\n",
    "matplotlib.rcParams.update({'font.size': 18})\n",
    "\n",
    "fig, axs = plt.subplots(1, 2, figsize=(12, 4))\n",
    "axs[0].plot(x, y)\n",
    "axs[0].set_title('$ y=tg x $')\n",
    "\n",
    "axs[1].axis('off')\n",
    "axs[1].text(0, 0.02, r\"\"\"\n",
    "$ X = [-1, 1] $, $ Y = [0, \\pi] $  \n",
    "\n",
    "Функция чётная, непериодическая\n",
    "\n",
    "Возрастает на $ X $\n",
    "\n",
    "Функция непрерывна на $ X $\n",
    "\"\"\")\n",
    "plt.show()"
   ]
  },
  {
   "cell_type": "markdown",
   "metadata": {},
   "source": [
    "### Задача 3"
   ]
  },
  {
   "cell_type": "markdown",
   "metadata": {},
   "source": [
    "#### Определение предела числовой последовательности."
   ]
  },
  {
   "cell_type": "markdown",
   "metadata": {},
   "source": [
    "Предел числовой последовательности - число $ a $, в окрестности которого бесконечно много элементов последовательности.  \n",
    "\n",
    "$ \\lim\\limits_{n \\to \\infty} x_n = a \\Leftrightarrow \\forall \\varepsilon > 0 \\ \\exists N(\\varepsilon) \\in \\mathbb{N}: \\forall n \\geqslant N |x_n - a| < \\varepsilon $"
   ]
  },
  {
   "cell_type": "markdown",
   "metadata": {},
   "source": [
    "### Задача 4"
   ]
  },
  {
   "cell_type": "markdown",
   "metadata": {},
   "source": [
    "#### Дать определение по Гейне: неверно, что $ \\lim\\limits_{x \\to a} f(x) = \\infty $"
   ]
  },
  {
   "cell_type": "markdown",
   "metadata": {},
   "source": [
    "$ \\lim\\limits_{x \\to a} f(x) \\not = \\infty \\Leftrightarrow \\exists \\ \\{x\\}_{n=1}^\\infty: \\lim\\limits_{n \\to \\infty} x_n=\\infty \\Rightarrow \\lim\\limits_{n \\to \\infty} f(x_n) \\not = \\infty $"
   ]
  },
  {
   "cell_type": "markdown",
   "metadata": {},
   "source": [
    "### Задача 5"
   ]
  },
  {
   "cell_type": "markdown",
   "metadata": {},
   "source": [
    "#### Дать определение: $ \\phi(x) \\sim \\psi(x), x \\to a - 0 $"
   ]
  },
  {
   "cell_type": "markdown",
   "metadata": {},
   "source": [
    "Если $ \\exists \\lim\\limits_{x \\to a - 0} \\frac{\\phi(x)}{\\psi(x)} = 1 $, то $ \\phi(x) \\sim \\psi(x), x \\to a - 0 $"
   ]
  }
 ],
 "metadata": {
  "kernelspec": {
   "display_name": "Python 3",
   "language": "python",
   "name": "python3"
  },
  "language_info": {
   "codemirror_mode": {
    "name": "ipython",
    "version": 3
   },
   "file_extension": ".py",
   "mimetype": "text/x-python",
   "name": "python",
   "nbconvert_exporter": "python",
   "pygments_lexer": "ipython3",
   "version": "3.7.3"
  }
 },
 "nbformat": 4,
 "nbformat_minor": 4
}
