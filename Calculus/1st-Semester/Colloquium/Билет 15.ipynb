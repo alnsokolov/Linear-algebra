{
 "cells": [
  {
   "cell_type": "markdown",
   "metadata": {},
   "source": [
    "# Билет 15"
   ]
  },
  {
   "cell_type": "code",
   "execution_count": 1,
   "metadata": {},
   "outputs": [],
   "source": [
    "import numpy as np\n",
    "import matplotlib.pyplot as plt\n",
    "import matplotlib"
   ]
  },
  {
   "cell_type": "markdown",
   "metadata": {},
   "source": [
    "### Задача 1"
   ]
  },
  {
   "cell_type": "markdown",
   "metadata": {},
   "source": [
    "#### Пример несчетного множества (с доказательством несчетности). Мощность континуума."
   ]
  },
  {
   "cell_type": "markdown",
   "metadata": {},
   "source": [
    "Множесто $ H $ всех бесконечных наборов $ \\{h_1, h_2, \\dots, h_n, \\dots \\} $, где $ \\forall n \\in \\mathbb{N} \\ \\ h_n \\in \\{0, 1\\} $  \n",
    "\n",
    "(Доказательство) Занумеруем его элементы:  \n",
    "$ H = \\{a_1, a_2, \\dots, a_n, \\dots \\} $  \n",
    "\n",
    "$\n",
    "\\begin{align}\n",
    "a_1 &= \\{h_{11}, h_{12}, \\dots, h_{1n}, \\dots \\} \\\\\n",
    "a_2 &= \\{h_{21}, h_{22}, \\dots, h_{2n}, \\dots \\} \\\\\n",
    "\\cdots \\\\ \n",
    "a_n &= \\{h_{n1}, h_{n2}, \\dots, h_{nn}, \\dots \\} \\\\\n",
    "\\cdots\n",
    "\\end{align}\n",
    "$  \n",
    "\n",
    "Рассмотрим бесконечную строку $ a = \\{\\overline{h_{11}}, \\overline{h_{22}}, \\dots, \\overline{h_{nn}}, \\dots \\} $\n",
    "Тогда $ a \\in H $, но строки в списке нет, т.к. иначе $ \\exists m \\in \\mathbb{N}, a = a_m \\Rightarrow h_{mm} = \\overline{h_{mm}} $, что невозможно"
   ]
  },
  {
   "cell_type": "markdown",
   "metadata": {},
   "source": [
    "Множества, эквивалентные множеству точек на отрезке $ [0, 1] $ имеют мощность континуум"
   ]
  },
  {
   "cell_type": "markdown",
   "metadata": {},
   "source": [
    "### Задача 2"
   ]
  },
  {
   "cell_type": "markdown",
   "metadata": {},
   "source": [
    "#### Определение $ e^x $ для произвольного вещественного $ x $. Непрерывность функции $ e^x $"
   ]
  },
  {
   "cell_type": "markdown",
   "metadata": {},
   "source": [
    "$ x \\in \\mathbb{R}, n \\to \\infty \\Rightarrow \\frac{n}{x} \\to \\infty \\Rightarrow \\lim\\limits_{\\frac{n}{x} \\to \\infty} \\left ( 1 + \\frac{1}{\\frac{n}{x}} \\right )^\\frac{n}{x} =\n",
    "\\lim\\limits_{\\frac{n}{x} \\to \\infty} \\left (1 + \\frac{x}{n} \\right )^\\frac{n}{x} =\n",
    "\\lim\\limits_{n \\to \\infty} \\left (1 + \\frac{x}{n} \\right )^\\frac{n}{x} = e$  \n",
    "$ \\Rightarrow \\left ( \\lim\\limits_{n \\to \\infty} \\left (1 + \\frac{x}{n} \\right )^\\frac{n}{x} \\right )^x = e^x =  \\lim\\limits_{n \\to \\infty} \\left (1 + \\frac{x}{n} \\right )^n$  \n",
    "\n",
    "$ \\lim\\limits_{n \\to \\infty} \\left (1 + \\frac{x}{n} \\right )^n = e^x $"
   ]
  },
  {
   "cell_type": "markdown",
   "metadata": {},
   "source": [
    "Непрерывность $ e^x $\n",
    "\n",
    "Пусть $ x_0 \\in \\mathbb{R}, \\varepsilon > 0 $. Покажем, что $ \\exists \\delta(\\varepsilon) > 0$, т.ч. $ \\forall x \\in (x_0, x_0 + \\delta): e^x - e^{x_0} < \\varepsilon; \\exists r \\in \\mathbb{Q} $, т.ч. $ 0 < x - x_0 < r < \\delta \\Rightarrow 0 < e^x - e^{x_0} = e^{x_0}(e^{x - x_0} - 1) < e^{x_0}(e^r - 1) < e^{x_0}\\frac{r}{1 - r} < e^{x_0}\\frac{\\delta}{1 - \\delta} = \\varepsilon $"
   ]
  },
  {
   "cell_type": "markdown",
   "metadata": {},
   "source": [
    "### Задача 3"
   ]
  },
  {
   "cell_type": "markdown",
   "metadata": {},
   "source": [
    "#### Функция $ f(x) $ удовлетворяет (не удовлетворяет) условию Коши при стремлении $ x $ к $ a $"
   ]
  },
  {
   "cell_type": "markdown",
   "metadata": {},
   "source": [
    "Функция $ f(x) $ удовлетворяет условию Коши при стремлении $ x $ к $ a $, если $ \\forall \\varepsilon > 0 \\ \\ \\exists \\delta(\\varepsilon) > 0: \\forall x_n, x_m \\in \\dot B_\\delta(a) \\ \\ |f(x_n) - f(x_m)| < \\varepsilon $  \n",
    "\n",
    "Функция $ f(x) $ не удовлетворяет условию Коши при стремлении $ x $ к $ a $, если $ \\exists \\varepsilon > 0 \\ \\ \\forall \\delta(\\varepsilon) > 0: \\forall x_n, x_m \\in \\dot B_\\delta(a) \\ \\ |f(x_n) - f(x_m)| \\geqslant \\varepsilon $"
   ]
  },
  {
   "cell_type": "markdown",
   "metadata": {},
   "source": [
    "### Задача 4"
   ]
  },
  {
   "cell_type": "markdown",
   "metadata": {},
   "source": [
    "#### Дать определение по Коши: $ \\lim\\limits_{x \\to a + 0} f(x) = -\\infty $"
   ]
  },
  {
   "cell_type": "markdown",
   "metadata": {},
   "source": [
    "$ \\lim\\limits_{x \\to a + 0} f(x) = -\\infty \\Leftrightarrow \\forall \\varepsilon > 0 \\ \\ \\exists \\delta(\\varepsilon) > 0: \\forall x_n \\in (a, a + \\delta) \\ \\ f(x_n) < -\\varepsilon $"
   ]
  },
  {
   "cell_type": "markdown",
   "metadata": {},
   "source": [
    "### Задача 5"
   ]
  },
  {
   "cell_type": "markdown",
   "metadata": {},
   "source": [
    "#### Сформулировать теорему Больцано-Вейрштрасса."
   ]
  },
  {
   "cell_type": "markdown",
   "metadata": {},
   "source": [
    "Из любой ограниченной последовательности можно выделить сходящуюся подпоследовательность"
   ]
  }
 ],
 "metadata": {
  "kernelspec": {
   "display_name": "Python 3",
   "language": "python",
   "name": "python3"
  },
  "language_info": {
   "codemirror_mode": {
    "name": "ipython",
    "version": 3
   },
   "file_extension": ".py",
   "mimetype": "text/x-python",
   "name": "python",
   "nbconvert_exporter": "python",
   "pygments_lexer": "ipython3",
   "version": "3.7.3"
  }
 },
 "nbformat": 4,
 "nbformat_minor": 4
}
