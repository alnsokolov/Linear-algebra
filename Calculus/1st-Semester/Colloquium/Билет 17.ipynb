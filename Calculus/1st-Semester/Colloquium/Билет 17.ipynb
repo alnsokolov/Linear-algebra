{
 "cells": [
  {
   "cell_type": "markdown",
   "metadata": {},
   "source": [
    "# Билет 17"
   ]
  },
  {
   "cell_type": "code",
   "execution_count": 1,
   "metadata": {},
   "outputs": [],
   "source": [
    "import numpy as np\n",
    "import matplotlib.pyplot as plt\n",
    "import matplotlib"
   ]
  },
  {
   "cell_type": "markdown",
   "metadata": {},
   "source": [
    "### Задача 1"
   ]
  },
  {
   "cell_type": "markdown",
   "metadata": {},
   "source": [
    "#### Приближение вещественных чисел рациональными (3 леммы)"
   ]
  },
  {
   "cell_type": "markdown",
   "metadata": {},
   "source": [
    "1. $ \\forall a, b \\in \\mathbb{R}, a < b \\exists d \\in \\mathbb{Q}: a < d < b $\n",
    "\n",
    "2. Пусть $ d \\in \\mathbb{R}. \\forall \\varepsilon \\in \\mathbb{Q}, \\varepsilon > 0 \\ \\exists \\alpha, \\beta \\in \\mathbb{Q}: d \\leqslant \\alpha \\leqslant \\beta, \\beta - d < \\varepsilon $\n",
    "\n",
    "3. Пусть $ a, b \\in \\mathbb{R} $. Если $ \\varepsilon > 0, \\varepsilon \\in \\mathbb{Q} $, то $ \\exists \\alpha_1, \\alpha_2 \\in \\mathbb{Q} $, т.ч. $ \\alpha_1 \\leqslant a \\leqslant \\alpha_2, \\alpha_1 \\leqslant b \\leqslant \\alpha_2, \\alpha_2 - \\alpha_1 < \\varepsilon $, то $ a = b $"
   ]
  },
  {
   "cell_type": "markdown",
   "metadata": {},
   "source": [
    "### Задача 2"
   ]
  },
  {
   "cell_type": "markdown",
   "metadata": {},
   "source": [
    "#### Определение, свойства и график функции $ y = a^x $"
   ]
  },
  {
   "cell_type": "markdown",
   "metadata": {},
   "source": [
    "$ y = a^x \\Leftrightarrow y = e^{x\\ln{a}} \\Rightarrow $ она имеет те же свойства, что и экспонента\n",
    "\n",
    "$ X = \\mathbb{R}, Y = {0, +\\infty}  $\n",
    "\n",
    "Возрастает на $ \\mathbb{X} $\n",
    "\n",
    "Функция непрерывна на $ \\mathbb{X} $"
   ]
  },
  {
   "cell_type": "code",
   "execution_count": 13,
   "metadata": {},
   "outputs": [
    {
     "data": {
      "image/png": "[encoded data removed]",
      "text/plain": [
       "<Figure size 864x288 with 2 Axes>"
      ]
     },
     "metadata": {
      "needs_background": "dark"
     },
     "output_type": "display_data"
    }
   ],
   "source": [
    "x = np.linspace(-3, 3, 200)\n",
    "a = 2\n",
    "y = a ** x\n",
    "\n",
    "matplotlib.rcParams.update({'font.size': 18})\n",
    "\n",
    "fig, axs = plt.subplots(1, 2, figsize=(12, 4))\n",
    "# axs[0].set_xlim([-2, 2])\n",
    "# axs[0].set_ylim([-2, 2])\n",
    "axs[0].plot(x, y)\n",
    "axs[0].set_title('$ y= 2^x $')\n",
    "\n",
    "axs[1].axis('off')\n",
    "axs[1].text(0, 0.02, r\"\"\"\n",
    "$ y = a^x \\Leftrightarrow y = e^{x\\ln{a}} \\Rightarrow $ она имеет те же свойства, что и экспонента\n",
    "\n",
    "$ X = \\mathbb{R}, Y = {0, +\\infty}  $\n",
    "\n",
    "Возрастает на $ \\mathbb{X}, a > 1 $\n",
    "Убывает на $ \\mathbb{X}, a < 1 $\n",
    "\n",
    "Функция непрерывна на $ \\mathbb{X} $\n",
    "\"\"\")\n",
    "plt.show()"
   ]
  },
  {
   "cell_type": "markdown",
   "metadata": {},
   "source": [
    "### Задача 3"
   ]
  },
  {
   "cell_type": "markdown",
   "metadata": {},
   "source": [
    "#### Функция $ f(x) $ удовлетворяет (не удовлетворяет) условию Коши при стремлении $ x $ к $ -\\infty $"
   ]
  },
  {
   "cell_type": "markdown",
   "metadata": {},
   "source": [
    "Функция $ f(x) $ удовлетворяет условию Коши при стремлении $ x $ к $ a $, если  \n",
    "$ \\forall \\varepsilon > 0 \\ \\ \\exists \\delta(\\varepsilon) > 0: \\forall x_n, x_m < -\\delta \\ |f(x_n) - f(x_m)| < \\varepsilon $  \n",
    "\n",
    "Функция $ f(x) $ не удовлетворяет условию Коши при стремлении $ x $ к $ a $, если  \n",
    "$ \\exists \\varepsilon > 0 \\ \\ \\forall \\delta(\\varepsilon) > 0: \\forall x_n, x_m < -\\delta \\ |f(x_n) - f(x_m)| \\geqslant \\varepsilon $"
   ]
  },
  {
   "cell_type": "markdown",
   "metadata": {},
   "source": [
    "### Задача 4"
   ]
  },
  {
   "cell_type": "markdown",
   "metadata": {},
   "source": [
    "#### Дать определение по Гейне: $ \\lim\\limits_{x \\to a - 0} f(x) = \\infty $"
   ]
  },
  {
   "cell_type": "markdown",
   "metadata": {},
   "source": [
    "$ \\lim\\limits_{x \\to a - 0} f(x) = \\infty \\Leftrightarrow \\forall \\{x_n\\}: \\lim\\limits_{n \\to \\infty} x_n = a, \\forall n \\in \\mathbb{N} \\ x_n < a, \\lim\\limits_{n \\to \\infty} f(x_n) = \\infty  $"
   ]
  },
  {
   "cell_type": "markdown",
   "metadata": {},
   "source": [
    "### Задача 5"
   ]
  },
  {
   "cell_type": "markdown",
   "metadata": {},
   "source": [
    "#### Дать определение $ \\phi(x) = \\overline{o}(\\psi(x)), x \\to a $"
   ]
  },
  {
   "cell_type": "markdown",
   "metadata": {},
   "source": [
    "$ \\phi(x) = \\overline{o}(\\psi(x)), x \\to a \\Leftrightarrow \\phi(x) = \\delta(x)\\psi(x), \\ \\delta(x) = \\overline{o}(1) $"
   ]
  }
 ],
 "metadata": {
  "kernelspec": {
   "display_name": "Python 3",
   "language": "python",
   "name": "python3"
  },
  "language_info": {
   "codemirror_mode": {
    "name": "ipython",
    "version": 3
   },
   "file_extension": ".py",
   "mimetype": "text/x-python",
   "name": "python",
   "nbconvert_exporter": "python",
   "pygments_lexer": "ipython3",
   "version": "3.7.3"
  }
 },
 "nbformat": 4,
 "nbformat_minor": 4
}
