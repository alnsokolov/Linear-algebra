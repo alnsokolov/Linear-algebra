{
 "cells": [
  {
   "cell_type": "markdown",
   "metadata": {},
   "source": [
    "# Билет 7"
   ]
  },
  {
   "cell_type": "code",
   "execution_count": 2,
   "metadata": {},
   "outputs": [],
   "source": [
    "import numpy as np\n",
    "import matplotlib.pyplot as plt\n",
    "import matplotlib"
   ]
  },
  {
   "cell_type": "markdown",
   "metadata": {},
   "source": [
    "### Задача 1"
   ]
  },
  {
   "cell_type": "markdown",
   "metadata": {},
   "source": [
    "#### Критерий Коши существования предельного значения функции."
   ]
  },
  {
   "cell_type": "markdown",
   "metadata": {},
   "source": [
    "$ \\exists \\lim\\limits_{x \\to a} \\not = \\infty \\Leftrightarrow \\forall \\varepsilon > 0 \\ \\exists \\delta(\\varepsilon) > 0 \\ \\forall x', x'' \\in \\overset{\\circ}{B}_\\delta(a): |f(x') - f(x'')| < \\varepsilon $"
   ]
  },
  {
   "cell_type": "markdown",
   "metadata": {},
   "source": [
    "### Задача 2"
   ]
  },
  {
   "cell_type": "markdown",
   "metadata": {},
   "source": [
    "#### Определение, свойства и график функции $ y=arctg x $"
   ]
  },
  {
   "cell_type": "markdown",
   "metadata": {},
   "source": [
    "Тестовый LaTeX\n",
    "\n",
    "$ X = \\mathbb{R} $, $ Y = [-\\frac{\\pi}{2}, \\frac{\\pi}{2}] $  \n",
    "\n",
    "Функция нечётная, непериодическая.  \n",
    "\n",
    "Убывает на $ \\mathbb{X} $\n",
    "\n",
    "Функция непрерывна на $ \\mathbb{X} $"
   ]
  },
  {
   "cell_type": "code",
   "execution_count": 3,
   "metadata": {},
   "outputs": [
    {
     "data": {
      "image/png": "[encoded data removed]",
      "text/plain": [
       "<Figure size 864x288 with 2 Axes>"
      ]
     },
     "metadata": {
      "needs_background": "dark"
     },
     "output_type": "display_data"
    }
   ],
   "source": [
    "x = np.linspace(-5, 5, 200)\n",
    "y = np.arctan(x)\n",
    "threshold = 10\n",
    "y[y>threshold] = np.inf\n",
    "y[y<-threshold] = np.inf\n",
    "\n",
    "matplotlib.rcParams.update({'font.size': 18})\n",
    "\n",
    "fig, axs = plt.subplots(1, 2, figsize=(12, 4))\n",
    "axs[0].set_ylim([-7, 7])\n",
    "axs[0].plot(x, y)\n",
    "axs[0].set_title('$ y=arctg \\ x $')\n",
    "\n",
    "axs[1].axis('off')\n",
    "axs[1].text(0, 0.02, r\"\"\"\n",
    "$ X = \\mathbb{R} $, $ Y = [-\\frac{\\pi}{2}, \\frac{\\pi}{2}] $  \n",
    "\n",
    "Функция нечётная, непериодическая.  \n",
    "\n",
    "Убывает на $ X $\n",
    "\n",
    "Функция непрерывна на $ X $\n",
    "\"\"\")\n",
    "plt.show()"
   ]
  },
  {
   "cell_type": "markdown",
   "metadata": {},
   "source": [
    "### Задача 3"
   ]
  },
  {
   "cell_type": "markdown",
   "metadata": {},
   "source": [
    "#### Определение ограниченной (неограниченной) последовательности."
   ]
  },
  {
   "cell_type": "markdown",
   "metadata": {},
   "source": [
    "Ограниченная последовательность - последовательность, для которой $ \\exists A: \\forall x \\in \\{x_n\\} \\ |x_n| \\leqslant A $  \n",
    "Неограниенная последовательность - последовательность, для которой $ \\forall A: \\exists x \\in \\{x_n\\} \\ |x_n| > A $"
   ]
  },
  {
   "cell_type": "markdown",
   "metadata": {},
   "source": [
    "### Задача 4"
   ]
  },
  {
   "cell_type": "markdown",
   "metadata": {},
   "source": [
    "Дать определение по Коши: $ \\lim\\limits_{x \\to a} f(x) = \\infty $"
   ]
  },
  {
   "cell_type": "markdown",
   "metadata": {},
   "source": [
    "$ \\lim\\limits_{x \\to a} f(x) = \\infty \\Leftrightarrow \\forall \\varepsilon > 0 \\ \\exists \\delta(\\varepsilon) > 0: \\forall x \\in (a - \\delta, a + \\delta), |f(x)| > \\varepsilon $"
   ]
  },
  {
   "cell_type": "markdown",
   "metadata": {},
   "source": [
    "### Задача 5"
   ]
  },
  {
   "cell_type": "markdown",
   "metadata": {},
   "source": [
    "#### Определение функции, непрерывной в точке $ a $."
   ]
  },
  {
   "cell_type": "markdown",
   "metadata": {},
   "source": [
    "Пусть $ a \\in X $. Функция $ f $ непрерывна в точке $ a $, если $ \\lim\\limits_{x \\to a} f(x) = f(a) $"
   ]
  }
 ],
 "metadata": {
  "kernelspec": {
   "display_name": "Python 3",
   "language": "python",
   "name": "python3"
  },
  "language_info": {
   "codemirror_mode": {
    "name": "ipython",
    "version": 3
   },
   "file_extension": ".py",
   "mimetype": "text/x-python",
   "name": "python",
   "nbconvert_exporter": "python",
   "pygments_lexer": "ipython3",
   "version": "3.7.3"
  }
 },
 "nbformat": 4,
 "nbformat_minor": 4
}
