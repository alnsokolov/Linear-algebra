{
 "cells": [
  {
   "cell_type": "markdown",
   "metadata": {},
   "source": [
    "# Билет 20"
   ]
  },
  {
   "cell_type": "code",
   "execution_count": 1,
   "metadata": {},
   "outputs": [],
   "source": [
    "import numpy as np\n",
    "import matplotlib.pyplot as plt\n",
    "import matplotlib"
   ]
  },
  {
   "cell_type": "markdown",
   "metadata": {},
   "source": [
    "### Задача 1"
   ]
  },
  {
   "cell_type": "markdown",
   "metadata": {},
   "source": [
    "#### Арифметические операции над функциями, имеющими предельное значение. Предельный переход в неравенствах для функций."
   ]
  },
  {
   "cell_type": "markdown",
   "metadata": {},
   "source": [
    "Пусть функции $ f(x), g(x) $ заданы на множестве $ \\{x\\} $ и $ \\exists \\lim\\limits_{x \\to a} f(x) = b, \\lim\\limits_{x \\to a} g(x) = b $. Тогда $ \\exists \\lim\\limits_{x \\to a} f(x) + g(x) = b + c, \\lim\\limits_{x \\to a} f(x) - g(x) = b - c, \\lim\\limits_{x \\to a} f(x) \\cdot g(x) = b \\cdot c, \\forall g(x) \\neq 0 \\lim\\limits_{x \\to a} \\frac{f(x)}{g(x)} = \\frac{b}{c} $"
   ]
  },
  {
   "cell_type": "markdown",
   "metadata": {},
   "source": [
    "Доказывается по Гейне."
   ]
  },
  {
   "cell_type": "markdown",
   "metadata": {},
   "source": [
    "Пусть для $ f(x), g(x) $, определённых на $ \\dot B_\\delta(x), f(x) \\leqslant g(x) $. Если $ \\exists \\lim\\limits_{x \\to a} f(x) = A, \\lim\\limits_{x \\to a} g(x) = B $, то $ A \\leqslant B $"
   ]
  },
  {
   "cell_type": "markdown",
   "metadata": {},
   "source": [
    "Доказывается по Гейне."
   ]
  },
  {
   "cell_type": "markdown",
   "metadata": {},
   "source": [
    "### Задача 2"
   ]
  },
  {
   "cell_type": "markdown",
   "metadata": {},
   "source": [
    "#### Основное логарифмическое тождество. Логарифмы произведения, частного, степени."
   ]
  },
  {
   "cell_type": "markdown",
   "metadata": {},
   "source": [
    "$ a^{log_ab} = b $ - основное логарифмическое тождество  \n",
    "\n",
    "$ log_a{bc} = log_a{b} + log_a{c} $\n",
    "\n",
    "$ log_a\\frac{b}{c} = log_a{b} - log_a{c} $  \n",
    "\n",
    "$ log_a{b^c} = c \\cdot log_a{b} $\n",
    "\n",
    "$ log_{a^c}{b} = \\frac{1}{c} \\cdot log_a{b} $"
   ]
  },
  {
   "cell_type": "markdown",
   "metadata": {},
   "source": [
    "### Задача 3"
   ]
  },
  {
   "cell_type": "markdown",
   "metadata": {},
   "source": [
    "#### Определение фундаментальной последовательности."
   ]
  },
  {
   "cell_type": "markdown",
   "metadata": {},
   "source": [
    "$ \\{x\\} $ - фундаментальная последовательность $ \\Leftrightarrow \\forall \\varepsilon > 0 \\exists N(\\varepsilon): \\forall n \\geqslant N, p > 0, p, n \\in \\mathbb{N} \\ |x_{n + p} - x_n| < \\varepsilon $"
   ]
  },
  {
   "cell_type": "markdown",
   "metadata": {},
   "source": [
    "### Задача 4"
   ]
  },
  {
   "cell_type": "markdown",
   "metadata": {},
   "source": [
    "#### Дать определение по Коши: неверно, что $ \\lim\\limits_{x \\to a - 0} f(x) = \\infty $"
   ]
  },
  {
   "cell_type": "markdown",
   "metadata": {},
   "source": [
    "$ \\lim\\limits_{x \\to a - 0} f(x) \\neq \\infty \\Leftrightarrow \\exists \\varepsilon > 0 \\forall \\delta(\\varepsilon): \\forall x \\in (a - \\delta, a) \\ |f(x)| \\leqslant \\varepsilon $"
   ]
  },
  {
   "cell_type": "markdown",
   "metadata": {},
   "source": [
    "### Задача 5"
   ]
  },
  {
   "cell_type": "markdown",
   "metadata": {},
   "source": [
    "#### Определение точки устранимого разрыва функции"
   ]
  },
  {
   "cell_type": "markdown",
   "metadata": {},
   "source": [
    "Если предел функции существует и конечен, но функция не определена в этой точке, либо предел не совпадает со значением функции в данной точке - $ \\lim\\limits_{x \\to a} f(x) \\neq f(a) $, - то точка $ a $ называется точкой устранимого разрыва функции $ f $"
   ]
  }
 ],
 "metadata": {
  "kernelspec": {
   "display_name": "Python 3",
   "language": "python",
   "name": "python3"
  },
  "language_info": {
   "codemirror_mode": {
    "name": "ipython",
    "version": 3
   },
   "file_extension": ".py",
   "mimetype": "text/x-python",
   "name": "python",
   "nbconvert_exporter": "python",
   "pygments_lexer": "ipython3",
   "version": "3.7.3"
  }
 },
 "nbformat": 4,
 "nbformat_minor": 4
}
