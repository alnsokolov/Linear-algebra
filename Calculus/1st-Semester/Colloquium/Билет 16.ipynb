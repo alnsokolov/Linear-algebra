{
 "cells": [
  {
   "cell_type": "markdown",
   "metadata": {},
   "source": [
    "# Билет 16"
   ]
  },
  {
   "cell_type": "code",
   "execution_count": 1,
   "metadata": {},
   "outputs": [],
   "source": [
    "import numpy as np\n",
    "import matplotlib.pyplot as plt\n",
    "import matplotlib"
   ]
  },
  {
   "cell_type": "markdown",
   "metadata": {},
   "source": [
    "### Задача 1"
   ]
  },
  {
   "cell_type": "markdown",
   "metadata": {},
   "source": [
    "#### Бесконечно малые и бесконечно большие (в данной точке) функции и принципы их сравнения."
   ]
  },
  {
   "cell_type": "markdown",
   "metadata": {},
   "source": [
    "$ f(x) $ называется бесконечно малой в точке $ a $ (при $ x \\to a $), если $ \\lim\\limits_{x \\to a} f(x) = 0 $. Обозначается $ f(x) = \\overline{o}(1) $\n",
    "\n",
    "$ g(x) $ называется бесконечно большой в точке $ a $ (при $ x \\to a $), если $ \\lim\\limits_{x \\to a} g(x) = \\infty $"
   ]
  },
  {
   "cell_type": "markdown",
   "metadata": {},
   "source": [
    "Пусть $ \\alpha(x) = \\overline{o}(1), x \\to a, \\beta(x) = \\overline{o}(1), x \\to a $. Функция $ \\alpha(x) $ является в точке $ a $ БМФ более высокого роста, чем $ \\beta(x) $ если  \n",
    "$ \\alpha(x) = \\omega(x)\\beta(x), \\omega(x) = \\overline{o}(1), x \\to a $"
   ]
  },
  {
   "cell_type": "markdown",
   "metadata": {},
   "source": [
    "Пусть $ \\alpha(x) = \\overline{o}(1), x \\to a, \\beta(x) = \\overline{o}(1), x \\to a $. Они имеют одинаковый порядок малости в точке $ a $ если  \n",
    "$ \\alpha(x) = (c + \\omega(x))\\beta(x), \\omega(x) = \\overline{o}(1), x \\to a, c \\neq 0 $"
   ]
  },
  {
   "cell_type": "markdown",
   "metadata": {},
   "source": [
    "Пусть $ A(x), B(x) $ - ББФ. Говорят, что $ B(x) $ имеет более высокий порядок роста, чем $ A(x) $ в точке $ a $, если $ \\lim\\limits_{x \\to a} \\left|\\frac{B(x)}{A(x)} \\right| = +\\infty $"
   ]
  },
  {
   "cell_type": "markdown",
   "metadata": {},
   "source": [
    "### Задача 2"
   ]
  },
  {
   "cell_type": "markdown",
   "metadata": {},
   "source": [
    "#### Определение $ e^x $ для произвольного вещественного $ x $. Множество значений функции $ y = e^x $"
   ]
  },
  {
   "cell_type": "markdown",
   "metadata": {},
   "source": [
    "$ x \\in \\mathbb{R}, n \\to \\infty \\Rightarrow \\frac{n}{x} \\to \\infty \\Rightarrow \\lim\\limits_{\\frac{n}{x} \\to \\infty} \\left ( 1 + \\frac{1}{\\frac{n}{x}} \\right )^\\frac{n}{x} =\n",
    "\\lim\\limits_{\\frac{n}{x} \\to \\infty} \\left (1 + \\frac{x}{n} \\right )^\\frac{n}{x} =\n",
    "\\lim\\limits_{n \\to \\infty} \\left (1 + \\frac{x}{n} \\right )^\\frac{n}{x} = e$  \n",
    "$ \\Rightarrow \\left ( \\lim\\limits_{n \\to \\infty} \\left (1 + \\frac{x}{n} \\right )^\\frac{n}{x} \\right )^x = e^x =  \\lim\\limits_{n \\to \\infty} \\left (1 + \\frac{x}{n} \\right )^n$  \n",
    "\n",
    "$ \\lim\\limits_{n \\to \\infty} \\left (1 + \\frac{x}{n} \\right )^n = e^x $"
   ]
  },
  {
   "cell_type": "markdown",
   "metadata": {},
   "source": [
    "$ \\forall n \\in \\mathbb{N} \\ \\exists x_0 > n \\Rightarrow \\forall x > x_0: e^x > e^n = (1 + e - 1)^n \\geqslant 1 + n(e - 1) \\underset{n \\to +\\infty}{\\to} +\\infty \\Rightarrow e^x \\underset{x \\to +\\infty}{\\to} +\\infty $  \n",
    "\n",
    "$ \\forall n \\in \\mathbb{N} \\ \\exists x_0 < -n \\Rightarrow \\forall x < x_0: e^x < e^{-n} = \\frac{1}{(1 + e - 1)^n} \\leqslant \\frac{1}{1 + n(e - 1)}  \\underset{n \\to +\\infty}{\\to} 0 \\Rightarrow e^x \\underset{x \\to -\\infty}{\\to} 0 $"
   ]
  },
  {
   "cell_type": "markdown",
   "metadata": {},
   "source": [
    "Покажем, что $ \\forall \\overline{y} \\in (0, +\\infty) \\exists \\overline{x} \\in \\mathbb{R} $, т.ч. $ e^{\\overline{x}} = \\overline{y}. e^x \\underset{x \\to +\\infty}{\\to} +\\infty \\Rightarrow \\exists b \\in \\mathbb{R}$, т.ч. $ e^b > \\overline{y} $  \n",
    "\n",
    "$ e^{x} \\underset{x \\to -\\infty} 0 \\Rightarrow \\exists a \\in \\mathbb{R}: e^a < \\overline{y} $  \n",
    "\n",
    "Функция $ e^x $ напрерывна и монотонна на $ [a, b] \\Rightarrow \\exists \\overline{x} = [a, b] $, т.ч. $ e^{\\overline{x}} = \\overline{y} $ (соответственно критериям монотонности функции). Значит множество значений $ Y = (0, +\\infty) $"
   ]
  },
  {
   "cell_type": "markdown",
   "metadata": {},
   "source": [
    "### Задача 3"
   ]
  },
  {
   "cell_type": "markdown",
   "metadata": {},
   "source": [
    "#### Функция $ f(x) $ удовлетворяет (не удовлетворяет) условию Коши при стремлении $ x $ к $ +\\infty $"
   ]
  },
  {
   "cell_type": "markdown",
   "metadata": {},
   "source": [
    "Функция $ f(x) $ удовлетворяет условию Коши при стремлении $ x $ к $ a $, если $ \\forall \\varepsilon > 0 \\ \\ \\exists \\delta(\\varepsilon) > 0: \\forall x_n, x_m > \\delta \\ |f(x_n) - f(x_m)| < \\varepsilon $  \n",
    "\n",
    "Функция $ f(x) $ не удовлетворяет условию Коши при стремлении $ x $ к $ a $, если $ \\exists \\varepsilon > 0 \\ \\ \\forall \\delta(\\varepsilon) > 0: \\forall x_n, x_m > \\delta \\ |f(x_n) - f(x_m)| \\geqslant \\varepsilon $"
   ]
  },
  {
   "cell_type": "markdown",
   "metadata": {},
   "source": [
    "### Задача 4"
   ]
  },
  {
   "cell_type": "markdown",
   "metadata": {},
   "source": [
    "#### Дать определение по Коши: неверно, что $ \\lim\\limits_{x \\to a + 0} f(x) = -\\infty $"
   ]
  },
  {
   "cell_type": "markdown",
   "metadata": {},
   "source": [
    "$ \\lim\\limits_{x \\to a + 0} f(x) \\neq -\\infty \\Leftrightarrow \\exists \\varepsilon > 0 \\ \\forall \\delta(\\varepsilon) > 0: \\forall x_n \\in (a, a + \\delta) \\ \\ f(x_n) \\geqslant -\\varepsilon $"
   ]
  },
  {
   "cell_type": "markdown",
   "metadata": {},
   "source": [
    "### Задача 5"
   ]
  },
  {
   "cell_type": "markdown",
   "metadata": {},
   "source": [
    "#### Дать определение $ \\phi(x) = O^*(\\psi(x)), x \\to a $"
   ]
  },
  {
   "cell_type": "markdown",
   "metadata": {},
   "source": [
    "$ \\phi(x) = O^*(\\psi(x)), x \\to a $ если $ \\exists c > 0: \\lim\\limits_{x \\to a}\\frac{\\phi(x)}{\\psi(x)} = c, c \\neq 0 $"
   ]
  }
 ],
 "metadata": {
  "kernelspec": {
   "display_name": "Python 3",
   "language": "python",
   "name": "python3"
  },
  "language_info": {
   "codemirror_mode": {
    "name": "ipython",
    "version": 3
   },
   "file_extension": ".py",
   "mimetype": "text/x-python",
   "name": "python",
   "nbconvert_exporter": "python",
   "pygments_lexer": "ipython3",
   "version": "3.7.3"
  }
 },
 "nbformat": 4,
 "nbformat_minor": 4
}
