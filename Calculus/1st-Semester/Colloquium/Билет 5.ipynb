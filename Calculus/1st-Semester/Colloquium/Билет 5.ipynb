{
 "cells": [
  {
   "cell_type": "markdown",
   "metadata": {},
   "source": [
    "# Билет 5"
   ]
  },
  {
   "cell_type": "code",
   "execution_count": 2,
   "metadata": {},
   "outputs": [],
   "source": [
    "import numpy as np\n",
    "import matplotlib.pyplot as plt\n",
    "import matplotlib"
   ]
  },
  {
   "cell_type": "markdown",
   "metadata": {},
   "source": [
    "### Задача 1"
   ]
  },
  {
   "cell_type": "markdown",
   "metadata": {},
   "source": [
    "#### Теорема о точках разрыва монотонной функции."
   ]
  },
  {
   "cell_type": "markdown",
   "metadata": {},
   "source": [
    "Если функция $ f $ определена на отрезке $ (a, b) $ и монотонна, то она может иметь внутри этого отрезка точки разрыва 1-го рода, и число точек либо конечно, либо счётно."
   ]
  },
  {
   "cell_type": "markdown",
   "metadata": {},
   "source": [
    "Пусть $ f(x) $ не убывает на $ X $. Возьмём любую точку  $ x \\in X $, не совпадающую с $ a $. При $ x \\to a - 0, f(x) $ не убывает и ограничена сверху, поскольку $ f(x) \\leqslant f(x), x < a $  \n",
    "\n",
    "По теореме о пределе монотонной функции $ \\exists \\lim\\limits_{x \\to a} f(x) \\Rightarrow f(a - 0) \\leqslant f(a) $  \n",
    "\n",
    "Если $ f(a - 0) = f(a) $ то $ f(x) $ непрерывна в точке $ a $ слева. Аналогично убеждаемся, что в каждой точке $ a \\in X $, несовпадающей с правым концом $ X,f(x) $ либо непрерывна справа, либо имеет конечный предел $ f(a+0)> f(a) $."
   ]
  },
  {
   "cell_type": "markdown",
   "metadata": {},
   "source": [
    "### Задача 2"
   ]
  },
  {
   "cell_type": "markdown",
   "metadata": {},
   "source": [
    "#### Определение, свойства и график функции $ y=arcsin \\ x $"
   ]
  },
  {
   "cell_type": "markdown",
   "metadata": {},
   "source": [
    "Тестовый LaTeX\n",
    "\n",
    "$ X = [-1, 1], Y = [-\\frac{\\pi}{2}, \\frac{\\pi}{2}]  $  \n",
    "\n",
    "Функция нечётная, непериодическая\n",
    "\n",
    "Возрастает на $ \\mathbb{X} $\n",
    "\n",
    "Функция непрерывна на $ \\mathbb{X} $"
   ]
  },
  {
   "cell_type": "code",
   "execution_count": 4,
   "metadata": {},
   "outputs": [
    {
     "data": {
      "image/png": "[encoded data removed]",
      "text/plain": [
       "<Figure size 864x288 with 2 Axes>"
      ]
     },
     "metadata": {
      "needs_background": "dark"
     },
     "output_type": "display_data"
    }
   ],
   "source": [
    "x = np.linspace(-1, 1, 200)\n",
    "y = np.arcsin(x)\n",
    "\n",
    "matplotlib.rcParams.update({'font.size': 18})\n",
    "\n",
    "fig, axs = plt.subplots(1, 2, figsize=(12, 4))\n",
    "axs[0].plot(x, y)\n",
    "axs[0].set_title('$ y=arcsin \\ x $')\n",
    "\n",
    "axs[1].axis('off')\n",
    "axs[1].text(0, 0.02, r\"\"\"\n",
    "$ X = [-1, 1], Y = [-\\frac{\\pi}{2}, \\frac{\\pi}{2}]  $  \n",
    "\n",
    "Функция нечётная, непериодическая\n",
    "\n",
    "Возрастает на $ X $\n",
    "\n",
    "Функция непрерывна на $ X $\n",
    "\"\"\")\n",
    "plt.show()"
   ]
  },
  {
   "cell_type": "markdown",
   "metadata": {},
   "source": [
    "### Задача 3"
   ]
  },
  {
   "cell_type": "markdown",
   "metadata": {},
   "source": [
    "#### Определение - число $ M $ не является точной нижней гранью множества $ \\{x\\} $"
   ]
  },
  {
   "cell_type": "markdown",
   "metadata": {},
   "source": [
    "Число $ M $ не является точной нижней границей множества $ \\{x\\} $, если $ \\exists \\ x \\in \\{x\\}: x < M $"
   ]
  },
  {
   "cell_type": "markdown",
   "metadata": {},
   "source": [
    "### Задача 4"
   ]
  },
  {
   "cell_type": "markdown",
   "metadata": {},
   "source": [
    "#### Дать определение по Гейне: $ \\lim\\limits_{x \\to a} f(x) = \\infty $"
   ]
  },
  {
   "cell_type": "markdown",
   "metadata": {},
   "source": [
    "$ \\lim\\limits_{x \\to a} f(x) = \\infty \\Leftrightarrow \\forall \\ \\{x\\}_{n=1}^\\infty: \\lim\\limits_{n \\to \\infty} x_n=\\infty \\Rightarrow \\lim\\limits_{n \\to \\infty} f(x_n) = \\infty $"
   ]
  },
  {
   "cell_type": "markdown",
   "metadata": {},
   "source": [
    "### Задача 5"
   ]
  },
  {
   "cell_type": "markdown",
   "metadata": {},
   "source": [
    "#### Дать определение: $ \\phi(x) = \\bar{o}(\\psi(x)), x \\to a + 0 $"
   ]
  },
  {
   "cell_type": "markdown",
   "metadata": {},
   "source": [
    "Если $ \\exists \\lim\\limits_{x \\to a + 0} \\frac{\\phi(x)}{\\psi(x)} = 0 $, то $ \\phi(x) = \\bar{o}(\\psi(x)), x \\to a + 0 $"
   ]
  }
 ],
 "metadata": {
  "kernelspec": {
   "display_name": "Python 3",
   "language": "python",
   "name": "python3"
  },
  "language_info": {
   "codemirror_mode": {
    "name": "ipython",
    "version": 3
   },
   "file_extension": ".py",
   "mimetype": "text/x-python",
   "name": "python",
   "nbconvert_exporter": "python",
   "pygments_lexer": "ipython3",
   "version": "3.7.3"
  }
 },
 "nbformat": 4,
 "nbformat_minor": 4
}
