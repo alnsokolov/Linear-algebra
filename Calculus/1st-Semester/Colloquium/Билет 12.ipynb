{
 "cells": [
  {
   "cell_type": "markdown",
   "metadata": {},
   "source": [
    "# Билет 12"
   ]
  },
  {
   "cell_type": "code",
   "execution_count": 1,
   "metadata": {},
   "outputs": [],
   "source": [
    "import numpy as np\n",
    "import matplotlib.pyplot as plt\n",
    "import matplotlib"
   ]
  },
  {
   "cell_type": "markdown",
   "metadata": {},
   "source": [
    "### Задача 1"
   ]
  },
  {
   "cell_type": "markdown",
   "metadata": {},
   "source": [
    "#### Вещественные числа и правила их сравнения"
   ]
  },
  {
   "cell_type": "markdown",
   "metadata": {},
   "source": [
    "Вещественным числом нызовём бесконечную дробь вида $ \\pm a_0,a_1a_2a_3\\dots, a_0 \\in \\mathbb{N} \\cap \\{0\\}, a_j \\in \\{0, \\dots, 9\\} \\ \\forall j \\in \\mathbb{N} $"
   ]
  },
  {
   "cell_type": "markdown",
   "metadata": {},
   "source": [
    "Пусть $ a  = a_0,a_1a_2a_3\\dots, b = b_0,b_1b_2b_3\\dots $  \n",
    "\n",
    "Числа $ a $ и $ b $ называютя раными, если они совпадают поразрядно.  \n",
    "Пишут $ a = b $  \n",
    "\n",
    "Пусть $ a \\neq b $. Тогда $ \\exists k \\in \\mathbb{N} \\cap \\{0\\}: a_0 = b_0, a_1 = b_1, \\dots, a_k \\neq b_k $\n",
    "Тогда если $ a_k < b_k, $ то $ a < b $, если $ a_k > b_k, $ то $ a > b $\n",
    "\n",
    "Модулем числа $ a  = \\pm a_0,a_1a_2a_3\\dots \\in \\mathbb{R} $ называется число $ a  = a_0,a_1a_2a_3\\dots \\in \\mathbb{R} $, выраженное той же дробью, но всегда со знаком $ \"+\" $.\n",
    "\n",
    "Пусть $ a < 0, b < 0 $. Тогда $ a < b, $ если $ |a| > |b| $ и $ a > b, $ если $ |a| < |b| $"
   ]
  },
  {
   "cell_type": "markdown",
   "metadata": {},
   "source": [
    "### Задача 2"
   ]
  },
  {
   "cell_type": "markdown",
   "metadata": {},
   "source": [
    "#### Доказательство неравенства $ e^r < 1 + \\frac{r}{1 - r}, r \\in \\mathbb{Q}, 0 < r < 1 $"
   ]
  },
  {
   "cell_type": "markdown",
   "metadata": {},
   "source": [
    "$ n = \\frac{1}{r}, 1 < n < \\infty $  \n",
    "\n",
    "$ e^{\\frac{1}{n}} < 1 + \\frac{1}{n - 1} $  \n",
    "\n",
    "$ (e^{\\frac{1}{n}})^n < (1 + \\frac{1}{n - 1})^n $  \n",
    "\n",
    "$ e < (1 + \\frac{1}{n - 1})^n $\n",
    "\n",
    "По определению $ \\lim\\limits_{n \\to \\infty} \\ (1 + \\frac{1}{n - 1})^n = e $ и $ f(n) = (1 + \\frac{1}{n - 1})^n $ - монотонно убывающая функция $ \\Rightarrow e < (1 + \\frac{1}{n - 1})^n \\Rightarrow e^r < 1 + \\frac{r}{1 - r}, r \\in \\mathbb{Q}, 0 < r < 1 $"
   ]
  },
  {
   "cell_type": "markdown",
   "metadata": {},
   "source": [
    "### Задача 3"
   ]
  },
  {
   "cell_type": "markdown",
   "metadata": {},
   "source": [
    "#### Последовательность удовлетворяет (не удовлтворяет) условию Коши"
   ]
  },
  {
   "cell_type": "markdown",
   "metadata": {},
   "source": [
    "Последовательность удовлетворяет условию Коши, если $ \\forall \\varepsilon \\ \\exists N(\\varepsilon) \\in \\mathbb{N}: \\forall n \\geqslant N, p > 0 \\ \\ |x_{n + p} - x_p| < \\varepsilon $  \n",
    "\n",
    "Последовательномть не удовлетворяет условию Коши, если $ \\exists \\varepsilon \\ \\forall N \\in \\mathbb{N}: \\forall n \\geqslant N, p > 0 \\ \\ |x_{n + p} - x_p| \\geqslant \\varepsilon $"
   ]
  },
  {
   "cell_type": "markdown",
   "metadata": {},
   "source": [
    "### Задача 4"
   ]
  },
  {
   "cell_type": "markdown",
   "metadata": {},
   "source": [
    "#### Дать определение по Коши: неверно, что $ \\lim\\limits_{x \\to a + 0} f(x) = +\\infty $"
   ]
  },
  {
   "cell_type": "markdown",
   "metadata": {},
   "source": [
    "$ \\lim\\limits_{x \\to a + 0} f(x) = +\\infty \\Leftrightarrow \\exists \\varepsilon > 0 \\ \\forall \\delta(\\varepsilon) > 0: \\forall x \\in (a, a + \\delta) \\ f(x) < \\varepsilon $"
   ]
  },
  {
   "cell_type": "markdown",
   "metadata": {},
   "source": [
    "### Задача 5"
   ]
  },
  {
   "cell_type": "markdown",
   "metadata": {},
   "source": [
    "#### Определение точки разрыва функции II рода"
   ]
  },
  {
   "cell_type": "markdown",
   "metadata": {},
   "source": [
    "Разрыв 2-го рода в точке $ a $: хотя бы один из пределов $ a - 0, a + 0 $ не существует или равен $ \\infty $"
   ]
  }
 ],
 "metadata": {
  "kernelspec": {
   "display_name": "Python 3",
   "language": "python",
   "name": "python3"
  },
  "language_info": {
   "codemirror_mode": {
    "name": "ipython",
    "version": 3
   },
   "file_extension": ".py",
   "mimetype": "text/x-python",
   "name": "python",
   "nbconvert_exporter": "python",
   "pygments_lexer": "ipython3",
   "version": "3.7.3"
  }
 },
 "nbformat": 4,
 "nbformat_minor": 4
}
