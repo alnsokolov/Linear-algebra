{
 "cells": [
  {
   "cell_type": "markdown",
   "metadata": {},
   "source": [
    "# 27. Обобщенная формула конечных приращений (формула Коши)."
   ]
  },
  {
   "cell_type": "markdown",
   "metadata": {},
   "source": [
    "### Формула Коши\n",
    "\n",
    "Пусть $ f, g \\in c[a, b], \\space\\space f, g \\in d(a, b), \\space\\space g(x) \\neq 0 \\space \\forall x \\in (a, b) $. Тогда $ \\exists \\xi \\in (a, b) $\n",
    "\n",
    "$$ \\frac{f(b) - f(a)}{g(b) - g(a)} = \\frac{f'(\\xi)}{g'(\\xi)} $$\n",
    "\n",
    "### Доказательство\n",
    "\n",
    "Покажем, что $ g(a) \\neq g(b) $. Действительно, если $ g(a) = g(b) $, то функция $ g $ удовлетворяет всем условиям теоремы Ролля, следовательно на промежутке $ [a, b] \\space\\space \\exists \\xi: f'(\\xi) = 0 $. Введём вспомогатьльную функцию $ F(x) = f(x) - f(a) - \\frac{f(b) - f(a)}{g(b) - g(a)}(g(x) - g(a)) $. $ F \\in c(a, b), \\space F \\in d(a, b) $ как линейная комбинация функций $ f(x) $ и $ g(x) $. Кроме того, $ f(a) = f(b) = 0 \\Rightarrow \\exists \\xi \\in (a, b): \\space F'(\\xi) = 0 = f'(\\xi) - \\frac{f(b) - f(a)}{g(b) - g(a)}g'(\\xi) \\Rightarrow \\frac{f(b) - f(a)}{g(b) - g(a)} = \\frac{f'(\\xi)}{g'(\\xi)} $"
   ]
  },
  {
   "cell_type": "markdown",
   "metadata": {},
   "source": [
    "Данная формула нызвается обобщённой формулой конечных приращений или формулой Кошию Формула Лагранжа яляется её частным случаем, при $ g(x) = x $. Геометрический её смысл заключается в следующем: если рассмотреть параметрически заданную кривую $ x = g(t), y = f(t) $, то при выполнении условий теоремы, то на отрезке между $ g(a), g(b) $ найдётся точка, касательная в которой параллельна секущей, соединяющей точки $ A(g(a), f(a)) $ и $ B(g(b), f(b)) $. Кроме того, если в теореме Коши дополнительно потребовать, чтобы $ g(a) \\neq g(b) $, то условие $ g'(x) \\neq 0 $ можно заменить более жёстким условием $ (f'(x))^2 + (g'(x))^2 > 0 \\space\\space\\space\\space \\forall x \\in (a, b) $."
   ]
  }
 ],
 "metadata": {
  "kernelspec": {
   "display_name": "Python 3",
   "language": "python",
   "name": "python3"
  },
  "language_info": {
   "codemirror_mode": {
    "name": "ipython",
    "version": 3
   },
   "file_extension": ".py",
   "mimetype": "text/x-python",
   "name": "python",
   "nbconvert_exporter": "python",
   "pygments_lexer": "ipython3",
   "version": "3.7.4"
  }
 },
 "nbformat": 4,
 "nbformat_minor": 4
}
