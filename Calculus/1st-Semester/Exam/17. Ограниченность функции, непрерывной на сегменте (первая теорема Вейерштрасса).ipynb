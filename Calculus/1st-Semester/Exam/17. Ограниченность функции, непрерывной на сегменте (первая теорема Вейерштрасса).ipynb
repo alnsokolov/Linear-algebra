{
 "cells": [
  {
   "cell_type": "markdown",
   "metadata": {},
   "source": [
    "# 17. Ограниченность функции, непрерывной на сегменте (первая теорема Вейерштрасса)."
   ]
  },
  {
   "cell_type": "markdown",
   "metadata": {},
   "source": [
    "### Первая теорема Вейерштрасса\n",
    "\n",
    "Пусть $ f \\in c[a, b] $. Тогда $ f $ ограничена на $ [a, b] $\n",
    "\n",
    "### Доказательство\n",
    "\n",
    "Предположим противное: $ f \\in [a, b] $ не ограничена на отрезке. Значит $ \\forall n \\in \\mathbb{N} \\space\\space \\exists x_n \\in [a, b]: \\space |f(x_n)| > n $. Рассмотрим последовательность $ \\{ x_n \\} $. Она ограничена ($ a \\leqslant x_n \\leqslant b $), значит из неё можно выделить сходящуюся подпоследовательность (по теореме Больцано-Вейерштрасса) $ \\{ x_{k_n} \\} $. Пусть $ x_0 = \\lim_{n \\to \\infty}\\limits x_{k_n} $. Посольку $ a \\leqslant x_{k_n} \\leqslant b \\space \\forall n \\in \\mathbb{N} $, то $ a \\leqslant x_0 \\leqslant b $, то есть $ x_ 0 \\in [a, b] $. Значит $ f $ непрерывна в точке $ x_0 $. Согласно определению по Гейне $ \\lim_{n \\to \\infty}\\limits f(x_{k_n}) = f(x_n) $. Но по построению $ |f(x_{k_n})| > k_n \\geqslant n \\Rightarrow \\lim_{n \\to \\infty}\\limits x_{n} = \\infty $. Противоречие. Значит $ f $ ограничена на $ [a, b] $\n",
    "\n",
    "Замечание: в теореме 2 нельзя заменить отрезок на луч, интервал или полуинтервал: $ f(x) = x^2 $ непрерывна на $ [0, +\\infty) $, но не ограничена; $ f(x) = \\frac{1}{x} $ непрерывна на $ (0, 1] $, но не ограничена."
   ]
  }
 ],
 "metadata": {
  "kernelspec": {
   "display_name": "Python 3",
   "language": "python",
   "name": "python3"
  },
  "language_info": {
   "codemirror_mode": {
    "name": "ipython",
    "version": 3
   },
   "file_extension": ".py",
   "mimetype": "text/x-python",
   "name": "python",
   "nbconvert_exporter": "python",
   "pygments_lexer": "ipython3",
   "version": "3.7.4"
  }
 },
 "nbformat": 4,
 "nbformat_minor": 4
}
