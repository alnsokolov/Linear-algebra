{
 "cells": [
  {
   "cell_type": "markdown",
   "metadata": {},
   "source": [
    "# 4. Ограниченные и неограниченные последовательности. Бесконечно большие и бесконечно малые последовательности. Их основные свойства."
   ]
  },
  {
   "cell_type": "markdown",
   "metadata": {},
   "source": [
    "### Определение 1\n",
    "\n",
    "Последовательность $ \\{ x_n \\} $ называется ограниченной сверху (снизу), если $ \\exists M \\in \\mathbb{R}: \\space x_n \\leqslant M \\space(x_N \\geqslant m) \\space\\space \\forall n \\in \\mathbb{N} $\n",
    "\n",
    "Последовательность $ \\{ x_n \\} $ ограничена если она ограничена сверху и снизу, или же (что эквивалентно) если $ \\exists A \\in \\mathbb{R}: \\space |x_n| \\leqslant A \\space \\forall n \\in \\mathbb{N} $\n",
    "\n",
    "### Определение 2\n",
    "\n",
    "Последовательность $ \\{ x_n \\} $ называется неограниченной, если она не является ограниченной, или же (что эквивалентно) $ \\forall A > 0 \\space\\space \\exists n \\in \\mathbb{N}: \\space |x_n| > A $\n",
    "\n",
    "### Определение 3\n",
    "\n",
    "Последовательность $ \\{ x_n \\} $ называется бесконечно большой последовательностью (ББП), если $ \\forall A > 0 \\space\\space \\exists N(A) \\in \\mathbb{N}: \\space \\forall n \\geqslant N \\space |x_n| > A $\n",
    "\n",
    "Замечание: любая ББП является ограниченной. Обратное не верно.\n",
    "\n",
    "### Определение 4\n",
    "\n",
    "Последовательность $ \\{ \\alpha_n \\} $ называется бесконечно малой последовательностью (БМП), если $ \\forall \\varepsilon > 0 \\space \\exists N (\\varepsilon) \\in \\mathbb{N}: \\space \\forall n \\geqslant N \\space |x_n| < \\varepsilon $"
   ]
  },
  {
   "cell_type": "markdown",
   "metadata": {},
   "source": [
    "### Теорема 1\n",
    "\n",
    "Пусть $ \\{\\alpha_n\\}, \\{\\beta_n\\} $ - БМП. Тогда $ \\forall a, b \\in \\mathbb{R} \\space \\{ a \\cdot \\alpha_n + b \\cdot \\beta_n \\} $ - тоже БМП.\n",
    "\n",
    "### Доказательство\n",
    "\n",
    "Строится подбиранием эпсилона для каждой последовательности, так чтобы сумма в любом случае была равна эпсилону, и выбором максимального $ N $ из $ N $ для каждой из последовательностей."
   ]
  },
  {
   "cell_type": "markdown",
   "metadata": {},
   "source": [
    "### Теорема 2\n",
    "\n",
    "Пусть $ \\{ x_n \\} $ - ограниченная последовательность, а $ \\{ \\alpha_n \\} $ - БМП. Тогда $ \\{ x_n \\cdot \\alpha_n \\} $ - БМП"
   ]
  },
  {
   "cell_type": "markdown",
   "metadata": {},
   "source": [
    "### Теорема 3\n",
    "\n",
    "Пусть $ \\{ \\alpha_n \\} $ - БМП. Тогда она ограничена.\n",
    "\n",
    "### Следствие\n",
    "\n",
    "Если $ \\{ \\alpha_n \\}, \\{ \\beta_n \\} $ - БМП, то $ \\{ \\alpha_n \\cdot \\beta_n \\} $ - тоже БМП."
   ]
  },
  {
   "cell_type": "markdown",
   "metadata": {},
   "source": [
    "### Теорема 4\n",
    "\n",
    "Если $ \\{ \\alpha_n \\} $ - БМП, причём $ \\exists N \\in \\mathbb{N}: \\space \\forall n \\geqslant N \\space \\alpha_n = c $, то $ c = 0 $."
   ]
  },
  {
   "cell_type": "markdown",
   "metadata": {},
   "source": [
    "### Теорема 5\n",
    "\n",
    "1. Пусть $ \\{ \\alpha_n \\} $ - БМП. Тогда $ \\{ \\frac{1}{\\alpha_n} \\} $ - ББП.\n",
    "2. Пусть $ \\{ x_n \\} $ - ББП. Тогда $ \\exists N \\in \\mathbb{N}: \\space \\forall n \\geqslant N \\space x_n \\neq 0 $ и $ \\{ \\frac{1}{x_n} \\} $ - БМП"
   ]
  },
  {
   "cell_type": "markdown",
   "metadata": {},
   "source": [
    "Ввиду простоты для экономии времени (всё как я люблю) доказательства были опущены."
   ]
  }
 ],
 "metadata": {
  "kernelspec": {
   "display_name": "Python 3",
   "language": "python",
   "name": "python3"
  },
  "language_info": {
   "codemirror_mode": {
    "name": "ipython",
    "version": 3
   },
   "file_extension": ".py",
   "mimetype": "text/x-python",
   "name": "python",
   "nbconvert_exporter": "python",
   "pygments_lexer": "ipython3",
   "version": "3.7.4"
  }
 },
 "nbformat": 4,
 "nbformat_minor": 4
}
