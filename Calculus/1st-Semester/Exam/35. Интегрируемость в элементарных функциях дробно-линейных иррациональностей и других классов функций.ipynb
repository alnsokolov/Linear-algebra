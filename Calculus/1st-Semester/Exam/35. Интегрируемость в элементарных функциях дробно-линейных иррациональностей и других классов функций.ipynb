{
 "cells": [
  {
   "cell_type": "markdown",
   "metadata": {},
   "source": [
    "# 35. Интегрируемость в элементарных функциях дробно-линейных иррациональностей и других классов функций."
   ]
  },
  {
   "cell_type": "markdown",
   "metadata": {},
   "source": [
    "### Тригонометрические выражения"
   ]
  },
  {
   "cell_type": "markdown",
   "metadata": {},
   "source": [
    "1. $ \\int \\! cos^n x \\ sin ^m x \\ dx; n, m \\in \\mathbb{Z} $\n",
    "    - $ n = 2k + 1 $. Тогда $ I = \\int \\! cos^{n - 1}x \\ sin^m x \\cdot cos \\ x \\ dx = |sin \\ x = t| = \\int \\! (1 - t^2)^{\\frac{n - 1}{2}}t^m \\ dt = \\int \\! R(t)dt, R(t) $ - рациональная дробь\n",
    "    - $ m = 2k + 1 \\Rightarrow cos \\ x = t $\n",
    "    - $ n + m = 2k \\Rightarrow tg \\ x = t \\Rightarrow x = arctg \\ t, dx = \\frac{dt}{1 + t^2}, I = \\int \\! tg^m x\\cdot cos^{n + m}x \\ dx = \\int \\! \\frac{t^m}{(1 + t^2)^\\frac{n + m}{2} + 1}dx = \\int \\! R(t)dt $"
   ]
  },
  {
   "cell_type": "markdown",
   "metadata": {},
   "source": [
    "#### Определение 1\n",
    "\n",
    "Рациональлной дробью двух переменных $ u, v $ будем называть $$ R(u, v) = \\frac{a_{n,0}u^n  +a_{n - 1, 1}u^{n - 1}v + \\dots + a_{0n}v^n + \\dots + a_{00}}{b_{m,0}u^m  +b_{m - 1, 1}u^{m - 1}v + \\dots + b_{0m}v^m + \\dots + b_{00}} $$"
   ]
  },
  {
   "cell_type": "markdown",
   "metadata": {},
   "source": [
    "2. Универсальной тригономерическая подстановка $ I = \\int \\! R(sin \\ x, cos \\ x)dx $  \n",
    "   Подставим $ tg \\frac{x}{2} = t (x \\neq \\pi + 2\\pi k, k \\in \\mathbb{Z}) $  \n",
    "   Тогда $ sin \\ x = \\frac{2t}{1 + t^2}, cos \\ x = \\frac{1 - t^2}{1 + t^2}, dx = \\frac{2dt}{1 + t^2} \\Rightarrow I = \\int \\! R(t)dt $\n",
    "3. (без доказательства)  \n",
    "   а) Если $ R(-sin \\ x, cos \\ x) = -R(sin \\ x, cos \\ x) $, то можно делать замену $ cos \\ x = t $. Получим $ I = \\int \\! R(t)dt, t = cos \\ x $  \n",
    "   б) Если $ R(sin \\ x, -cos \\ x) = R(sin \\ x, cos \\ x) $, то $ sin \\ x = t $  \n",
    "   в) Если $ R(-sin \\ x, -cos \\ x) = R(sin \\ x, cos \\ x) $, то $ tx \\ x - t (x \\neq \\pi / 2 + \\pi k, k \\in \\mathbb{Z}) $\n",
    "\n",
    "Пример:  \n",
    "$ \\int \\! \\frac{dx}{sin \\ x + sin^3x} = \\left| \\begin{align} cos \\ x = t \\\\ -sin \\ x \\ dx = dt \\end{align} \\right| = -\\int \\! \\frac{dt}{sin^2x + sin^4x} = -\\int \\! \\frac{dt}{1 - t^2 + (1 - t^2)^2} = -\\int \\! \\frac{dt}{(t^2 - 1)(t^2 - 2)} =- \\int \\! \\frac{dt}{t^2 - 2} + \\int \\! \\frac{dt}{t^2 - 1} = \\cdots$"
   ]
  },
  {
   "cell_type": "markdown",
   "metadata": {},
   "source": [
    "### Иррациональные выражения\n",
    "\n",
    "1. $ I = \\int \\! R(x, \\sqrt[m]{\\frac{\\alpha x + \\beta}{\\gamma x + \\delta}})dx, $ где $ \\begin{align} &\\alpha, \\beta, \\gamma, \\delta \\in \\mathbb{R} \\\\ &\\alpha \\delta - \\beta \\gamma \\neq 0 \\end{align} $  \n",
    "\n",
    "   Заменим $ \\sqrt[m]{\\frac{\\alpha x + \\beta}{\\gamma x + \\delta}} = t \\Rightarrow \\frac{\\alpha x + \\beta}{\\gamma x + \\delta} = t^m \\Rightarrow x = \\frac{\\delta t^m - \\beta}{\\alpha - \\gamma t^m} $ - рациональная дробь, $ dx $ - тоже рациональная дробь $ \\Rightarrow I = \\int \\! R(t)dt $\n",
    "\n",
    "Пример:  \n",
    "$ I = \\int \\frac{dx}{x + \\sqrt{\\frac{x - 1}{x + 1}}} = |t^2 = \\frac{t^2 + 1}{1 - t^2}, dt = \\frac{4tdt}{(1 - t^2)^2}| = \\int \\! \\frac{4t \\ dt}{(1 - t^2)^2 (\\frac{t^2 + 1}{1 - t^2} + t)} = \\int \\! R(t)dt $  \n",
    "2. $ \\int \\! R(x, \\sqrt{ax^2 + bx + c}) \\ dx, a \\neq 0 $  \n",
    "   I. Подстановка Эйлера:  \n",
    "      а) $ a > 0 \\Rightarrow \\sqrt{ax^2 + bx + c} = \\pm \\sqrt{a}x + t, \\ \\ \\ ax^2 + bx + c = ax^2 \\pm b \\sqrt{a}x + t^2 \\Rightarrow x = \\frac{t^2 - c}{b \\pm 2\\sqrt{a}t} $ - рациональная дробь $ \\Rightarrow \\sqrt{ax^2 + bx + c} $ - рациональная дробь от переменной $ t, dx =  $ (рациональная дробь) $ dt \\Rightarrow I = \\int \\! R(t)dt $  \n",
    "      б) $ c > 0 \\Rightarrow \\sqrt{ax^2 + bx + c} = tx \\pm \\sqrt{c}, ax^2 + bx + c = t^2 x^2 \\pm 2\\sqrt{c}tx + c, ax + b = t^2x \\pm 2\\sqrt{c}t \\Rightarrow x $ - рациональная дробь $ \\Rightarrow I = \\int \\! R(t)dt $  \n",
    "      в) $ D \\geqslant 0 \\Rightarrow ax^2 + bx + c = a(x - x_1)(x - x_2) $. Тогда $ \\sqrt{ax^2 + bx + c} - t(x - x_1), a(x - x_1)(x - x_2) = t^2(x - x_1)^2, ax - ax_2 = t^2x - t^2x_1 \\Rightarrow I = \\int \\! R(t)dt $\n",
    "\n",
    "Замечачние:  \n",
    "\n",
    "Хотя бы одна из трёх подстановок всегда возможна, так как если $ a < 0, c < 0, D < 0 $, то $ ax^2 + bx + c < 0 \\ \\forall x \\in \\mathbb{R} $ и подынтегральная функция не определена ни в одной точке.  \n",
    "\n",
    "   II. Выделение полных квадратов и тригонометрическая (гиперболичекая) подстановка  \n",
    "   $ \\sqrt{ax^2 + bx + c} = \\sqrt{a(x + \\frac{b}{2a})^2 + c - \\frac{b^2}{4a}} = |x + \\frac{b}{2a} = y| = \\sqrt{ay^2 + c - \\frac{b^2}{4a}} $  \n",
    "   Имеем один из трёх типов: \n",
    "   1. $ \\sqrt{y^2 + p^2} = |y = p \\ tg \\ z| = \\frac{p}{cos \\ t} \\Rightarrow \\int \\! R(sin z, cos z)tz $  \n",
    "   2. $ \\sqrt{y^2 - p^2} = |y = p \\ ch \\ z| = sh \\ z $  \n",
    "   3. $ \\sqrt{p^2 - y^2} = |y = p \\ sin \\ z| = cos \\ z $"
   ]
  }
 ],
 "metadata": {
  "kernelspec": {
   "display_name": "Python 3",
   "language": "python",
   "name": "python3"
  },
  "language_info": {
   "codemirror_mode": {
    "name": "ipython",
    "version": 3
   },
   "file_extension": ".py",
   "mimetype": "text/x-python",
   "name": "python",
   "nbconvert_exporter": "python",
   "pygments_lexer": "ipython3",
   "version": "3.7.4"
  }
 },
 "nbformat": 4,
 "nbformat_minor": 4
}
