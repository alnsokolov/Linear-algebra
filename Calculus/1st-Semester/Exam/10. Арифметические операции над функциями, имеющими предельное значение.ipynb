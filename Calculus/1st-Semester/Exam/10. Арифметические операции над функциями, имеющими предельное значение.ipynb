{
 "cells": [
  {
   "cell_type": "markdown",
   "metadata": {},
   "source": [
    "# 10. Арифметические операции над функциями, имеющими предельное значение. Предельный переход в неравенствах. Бесконечно малые и бесконечно большие (в данной точке) функции и принципы их сравнения."
   ]
  },
  {
   "cell_type": "markdown",
   "metadata": {},
   "source": [
    "### Теорема 1 (об арифметическихоперациях)\n",
    "\n",
    "Пусть $ f, g $ определены на множестве $ X $, $ a $ - предельная точка $ X: \\lim_{x \\to a}\\limits f(x) = b, \\lim_{x \\to a}\\limits g(x) = c $. Тогда:  \n",
    "1. $ \\lim_{x \\to a}\\limits (f(x) \\pm g(x)) = b \\pm c $\n",
    "2. $ \\lim_{x \\to a}\\limits f(x)g(x) = bc $\n",
    "3. Если $ c \\neq 0 $, то $ \\lim_{x \\to a}\\limits \\frac{f(x)}{g(x)} = \\frac{b}{c} $\n",
    "\n",
    "### Доказательство\n",
    "\n",
    "Рассмотрим произвольную последовательность аргументов $ \\{ x_n \\} $, такую, что $ \\lim_{n \\to \\infty}\\limits x_n = a, x_n \\neq a $. Тогда из определения по Гейне $ \\lim_{n \\to \\infty}\\limits f(x_n) = b, \\lim_{n \\to \\infty}\\limits g(x_n) = c $. Из теоремы об арифметических операция над сходящимися последовательностями $ \\lim_{n \\to \\infty}\\limits (f(x_n) \\pm g(x_n)) = b \\pm c, \\lim_{n \\to \\infty}\\limits f(x_n)g(x_N) = bc $ и, если $ c \\neq 0 $, то $ \\lim_{n \\to \\infty}\\limits \\frac{f(x_n)}{g(x_n)} = \\frac{b}{c} $. Отсюда и из определения по Гейне следует утверждение теоремы."
   ]
  },
  {
   "cell_type": "markdown",
   "metadata": {},
   "source": [
    "### Теорема 2 (предельный переход в неравенствах)\n",
    "\n",
    "Пусть $ f, g $ определены на множестве $ X $, $ a $ - предельная точка $ X: \\lim_{x \\to a}\\limits f(x) = b, \\lim_{x \\to a}\\limits g(x) = c $. Если $ \\exists \\delta > 0 $, такая что $ f(x) \\geqslant g(x) \\space \\forall x \\in \\dot B_\\delta(a) \\cap X $, то $ b \\geqslant c $\n",
    "\n",
    "### Доказательство\n",
    "\n",
    "Как и в предыдущем случае, строим сходящуюся последовательноть значений функции и доказываем из определения по Гейне и по свойствам сходящихся последовательностей."
   ]
  },
  {
   "cell_type": "markdown",
   "metadata": {},
   "source": [
    "## Бесконечно малые и бесконечно большие функции"
   ]
  },
  {
   "cell_type": "markdown",
   "metadata": {},
   "source": [
    "Пусть $ A = \\dot B_\\delta(a) \\cap X $"
   ]
  },
  {
   "cell_type": "markdown",
   "metadata": {},
   "source": [
    "### Определение 1\n",
    "\n",
    "Функция $ \\alpha(x) $ называется бесконечно малой функцией (БМФ) в $ a $ (при $ x \\to a $), если $ \\lim_{x \\to a}\\limits \\alpha(x) = 0 $\n",
    "\n",
    "Класс бесконечно малых функций обозначается $ \\overline{o}(1), x \\to a $ (о малое от единицы в точке $ a $)\n",
    "Пишут: $ \\alpha(x) = \\overline{o}(1), x \\to a $\n",
    "\n",
    "### Определение 2\n",
    "\n",
    "Пусть $ \\alpha(x) = \\overline{o}(1), \\beta(x) = \\overline{o}(1), x \\to a, a \\in A $. Функция $ \\beta(x) $ является в точке $ a $ БМФ более высокого порядка, чем $ \\alpha(x) $, если $ \\beta(x) = \\gamma(x) \\cdot \\alpha(x), \\gamma(x) = \\overline{o}(1), x \\to a, a \\in A $\n",
    "\n",
    "Если $ \\alpha(x) \\neq 0 $ при $ x \\to a $, то последнее соответствует $ \\lim_{x \\to a}\\limits \\frac{\\beta(x)}{\\alpha(x)} = 0 $.  \n",
    "Пишут: $ \\beta(x) = \\overline{o}(\\alpha(x)), x \\to a $  \n",
    "$ \\space\\space\\space\\space\\space\\space\\space\\space\\space\\space\\space\\space \\beta(x) = \\alpha(x) \\cdot \\overline{o}(1), x \\to a $\n",
    "\n",
    "### Определение 3\n",
    "\n",
    "Пусть $ \\alpha(x) = \\overline{o}(1), \\beta(x) = \\overline{o}(1), x \\to a, a \\in A $. Они имеют одинаковый порядок малости в точке $ a $, если $ \\beta(x) = \\alpha(x) (c + \\gamma(x)), c \\neq 0, \\gamma(x) = \\overline{o}(1), x \\to a $. Если $ \\alpha(x) \\neq 0 $ при $ x \\in A $, то последнее соотношение эквивалентно $  \\lim_{x \\to a}\\limits \\frac{\\beta(x)}{\\alpha(x)} = c \\neq 0 $\n",
    "\n",
    "### Определение 4\n",
    "\n",
    "Если в предыдущем определении $ c = 1 $, то говорят, что функции $ \\alpha(x) $ и $ \\beta(x) $ эквивалентны в точке $ a $ и пишут $ \\alpha(x) \\sim \\beta(x), x \\to a $\n",
    "\n",
    "### Определение 5\n",
    "\n",
    "Функция $ A(x) $ называется бесконечно большой функцией (ББФ) в точке $ a $, если $  \\lim_{x \\to a}\\limits |A(x)| = +\\infty $\n",
    "\n",
    "Пусть $ A(x), B(x) $ - ББФ в точке $ a $. Говорят, что $ B(x) $ имеет более высокий порядок роста в точке $ a $ чем $ A(x) $, если $  \\lim_{x \\to a}\\limits |\\frac{B(x)}{A(x)}| = +\\infty $\n",
    "\n",
    "Функции $ A(x), B(x) $ имеют в точке $ a $ одинаковый порядок роста, если $  \\lim_{x \\to a}\\limits \\frac{B(x)}{A(x)} = c \\neq 0 $\n",
    "\n",
    "Замечаение: определения 1-5 можно перевести на случай, когда $ x \\to a + 0 $ или $ x \\to a - 0 $\n",
    "\n",
    "Если $ \\lim_{x \\to a}\\limits \\frac{f(x)}{g(x)} = c \\neq 0 $, то пишут $ f(x) = \\underline O^*(g(x)), x \\to a $"
   ]
  }
 ],
 "metadata": {
  "kernelspec": {
   "display_name": "Python 3",
   "language": "python",
   "name": "python3"
  },
  "language_info": {
   "codemirror_mode": {
    "name": "ipython",
    "version": 3
   },
   "file_extension": ".py",
   "mimetype": "text/x-python",
   "name": "python",
   "nbconvert_exporter": "python",
   "pygments_lexer": "ipython3",
   "version": "3.7.4"
  }
 },
 "nbformat": 4,
 "nbformat_minor": 4
}
