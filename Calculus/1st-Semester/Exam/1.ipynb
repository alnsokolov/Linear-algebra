{
 "cells": [
  {
   "cell_type": "markdown",
   "metadata": {},
   "source": [
    "# 1. Вещественные числа и правила их сравнения. Теорема о существовании точной верхней (нижней) грани у ограниченного сверху (снизу) множества"
   ]
  },
  {
   "cell_type": "markdown",
   "metadata": {},
   "source": [
    "## Вещественные числа"
   ]
  },
  {
   "cell_type": "markdown",
   "metadata": {},
   "source": [
    "Обозначение: $ R $ - множество вещественных чисел"
   ]
  },
  {
   "cell_type": "markdown",
   "metadata": {},
   "source": [
    "### Аксиомы\n",
    "\n",
    "1. $ \\forall a, b \\in \\mathbb{R}: a > b $ или $ a < b $ или $ a = b $ (упорядоченность)  \n",
    "   $ a > b \\Leftrightarrow b < a $\n",
    "2. $ a = b, b = c \\Rightarrow a = c \\space; \\space a < b, b < c \\Rightarrow a < c $ (транщитивность операции сравнения)\n",
    "3. $ \\forall a, b \\in \\mathbb{R} \\space \\exists! c \\in \\mathbb{R}: c = a + b $ (корректность операции сложения)\n",
    "4. $ \\forall a, b \\in \\mathbb{R} \\space \\exists! c \\in \\mathbb{R}: c = a \\cdot b $ (корректность операции умножения)\n",
    "5. $ \\forall a, b \\in \\mathbb{R}: a + b = b + a $ (коммутативность операции сложения)\n",
    "6. $ \\forall a, b, c \\in \\mathbb{R}: (a + b) + c = a + (b + c) $ (ассоциативность)\n",
    "7. $ \\exists! 0 \\in \\mathbb{R}: 0 + a = a + 0 = a \\space\\space \\forall a \\in \\mathbb{R} $\n",
    "8. $ \\forall a \\in \\mathbb{R} \\space \\exists! a' \\in \\mathbb{R}: a + a' = a' + a = 0 $\n",
    "9. $ \\forall a, b \\in \\mathbb{R}: a \\cdot b = b \\cdot a $ (коммутативность операции умножения)\n",
    "10. $ \\forall a, b, c \\in \\mathbb{R}: (a \\cdot b) \\cdot c = a \\cdot (b \\cdot c) $ (ассоциативность)\n",
    "11. $ \\exists! 1 \\in \\mathbb{R}: 1 \\cdot a = a \\cdot 1 = a \\space\\space \\forall a \\in \\mathbb{R} $\n",
    "12. $ \\forall a \\in \\mathbb{R}, a \\neq 0 \\space \\exists! a' \\in \\mathbb{R}: a \\cdot a' = a' \\cdot a = 1 $\n",
    "13. $ \\forall a, b, c \\in \\mathbb{R}: a \\cdot (b + c) = a \\cdot b + a \\cdot c $\n",
    "14. $ \\forall a, b, c \\in \\mathbb{R} \\space a < b \\Rightarrow a + c < b + c $\n",
    "15. $ \\forall a, b, c \\in \\mathbb{R} \\space a < b \\Rightarrow a \\cdot c < b \\cdot c $\n",
    "16. Аксиома Архимеда:\n",
    "    $ \\forall a \\in \\mathbb{R} \\space \\exists n \\in \\mathbb{N}: n > a $"
   ]
  },
  {
   "cell_type": "markdown",
   "metadata": {},
   "source": [
    "## Понятие вещественного числа"
   ]
  },
  {
   "cell_type": "markdown",
   "metadata": {},
   "source": [
    "Зададим на плоскости отрезок $ OM $, длина которого равна 1. Теперь возьмём любую точку $ A $. Сопоставим ей десятичную дробь по следующему правилу:\n",
    "1. Смотрим, сколько раз отрезок $ Om $ умещается в отрезок $ OA $:\n",
    "   - Целое число $ a_0 $ раз без остатка. Тогда:  \n",
    "     $ A = a_0,000\\dots$\n",
    "   - $ a_0 $ раз с остатком $ O_1A, |O_1A| < |OA| $. Тогда выясним сколько раз $ \\frac{1}{10} $ отрезка $ OM $ умещается в $ O_1A $. И так до бесконечности\n",
    "\n",
    "В итоге получаем $ A = a_0,a_1a_2a_3\\dots $ Если точка лежит слева от точки $ O $, то отрезки откладываются влево и перед дробью стоит знак $ \"-\" $."
   ]
  },
  {
   "cell_type": "markdown",
   "metadata": {},
   "source": [
    "### Определение 1. \n",
    "Вещественными числами называются дроби вида $ \\pm a_0,a_1a_2\\dots $, где $ a_0 \\in \\mathbb{N} \\cup \\{ 0 \\}, a_j \\in \\{ 0, \\dots, 9 \\}, j \\in \\mathbb{N} $.  \n",
    "Поскольку дробям вида $ a_0, a_1\\dots a_n99\\dots $ и $ a_0, a_1\\dots (a_n + 1) $ соответсвует одно и то же число, будем считать, что дробей вида $ a_0, a_1\\dots a_n99\\dots $ в множестве вещественных чисел нет."
   ]
  },
  {
   "cell_type": "markdown",
   "metadata": {},
   "source": [
    "### Определение 2.\n",
    "\n",
    "Пусть $ a = a_0, a_1 a_2 \\dots, b = b_0, b_1 b_2 \\dots $. Числа $ a $ и $ b $ называются равными, если $ \\forall n \\in \\mathbb{N} \\cup \\{0\\} \\space a_n = b_n $ и они имеют один знак. Пишут $ a = b $\n",
    "\n",
    "Пусть $ a \\neq b $. Тогда $ \\exists k \\in \\mathbb{N} \\cup \\{0\\}: a_0 = b_0, \\dots, a_{k - 1} = b_{k - 1}, a_k \\neq b_k $.  \n",
    "Тогда если $ a_k < b_k $, то пишут $ a < b $  \n",
    "$ \\space\\space\\space\\space\\space\\space\\space\\space\\space $если $ a_k > b_k $, то пишут $ a > b $ (если $ a > 0, b > 0 $)\n",
    "\n",
    "Модулем числа $ c = \\pm c_0, c_1c_2\\dots \\mathbb{R} $ называется число $ |c| = c_0, c_1c_2\\dots $, выраженное той же дробью со знаком $ \"+\" $\n",
    "\n",
    "Пусть $ a < b, b < 0, a \\neq 0 $.  \n",
    "Тогда если $ |a| < |b| $, то $ a > b $  \n",
    "$ \\space\\space\\space\\space\\space\\space\\space\\space $ если $ |a| > |b| $, то $ a < b $"
   ]
  },
  {
   "cell_type": "markdown",
   "metadata": {},
   "source": [
    "## Ограниченное множество вещественных чисел"
   ]
  },
  {
   "cell_type": "markdown",
   "metadata": {},
   "source": [
    "### Определение 1\n",
    "\n",
    "Множество $ A \\subset \\mathbb{R} $ называются ограниченными, если $ \\exists m, M \\in \\mathbb{R}: m \\leqslant a \\leqslant M \\forall a \\in A $. Числа $ m, M $ называются нижней и верхней границами множества $ A $ соответственно."
   ]
  },
  {
   "cell_type": "markdown",
   "metadata": {},
   "source": [
    "### Определение 2\n",
    "\n",
    "Число $ M' $ называется точной верхней границей (ТВГ) множества $ A $, если:\n",
    "1. $ a \\leqslant M' \\space \\forall a \\in A $\n",
    "2. $ \\forall x \\in \\mathbb{R}, x < M' \\space \\exists a \\in A: x < a $\n",
    "\n",
    "Число $ m' $ называется точной нижней границей (ТНГ) множества $ A $, если:\n",
    "1. $ a \\geqslant m' \\space \\forall a \\in A $\n",
    "2. $ \\forall x \\in \\mathbb{R}, x > M' \\space \\exists a \\in A: x > a $\n",
    "\n",
    "Обозначение: $ m' = \\inf A, M' = \\sup A $"
   ]
  },
  {
   "cell_type": "markdown",
   "metadata": {},
   "source": [
    "### Теорема 1 (принцип полноты Вейерштрасса)\n",
    "\n",
    "Пусть $ A \\subset R, A $ ограничено. Тогда у $ A $ существует ТПГ и ТВГ и они также являются вещественными числами.\n",
    "\n",
    "### Доказательство\n",
    "\n",
    "1. Пусть $ \\exists a \\in A: a \\geqslant 0 $. Рассмотрим множество $ A_1 = \\{ a \\in A | a \\geqslant 0 \\} $  \n",
    "    Очевидно, что $ \\sup A_1 = \\sup A $  \n",
    "    Пусть $ a = a_0, a_1\\dots \\in A_1 $. Множество $ A_1 $ ограничено $ \\Rightarrow \\exists \\overline{a_0} = \\max\\{a_0 | a_0,a_1\\dots \\in A_1\\} $. Рассмотрим элементы, у которых целая часть максимальна.  Обозначим $ A_2 = \\max\\{ \\overline{a_0}, a_1a_2\\dots | a_0, a_1 a_2\\dots \\in A_1 \\} $. Теперь обозначим $ \\overline{a_1} = \\max\\{ a_1 | \\overline{a_0}, a_1 a_2\\dots \\in A_2 \\} $ и т.д.  \n",
    "    Получим число $ \\overline{a} = \\overline{a_0}, \\overline{a_1}\\overline{a_2}\\dots\\overline{a_n}\\dots $\n",
    "\n",
    "1) $ a \\leqslant \\overline{a} \\forall a \\in A $ по построению  \n",
    "2) Пусть $ x \\in \\mathbb{R}, x < \\overline{a}, x = x_0, x_1x_2\\dots x_k < \\overline{a_k} $  \n",
    "   По построению $ \\overline{a} \\exists a' \\in A: a' > x $. Значит $ \\overline{a} = \\sup A $\n",
    "   \n",
    "2. Если $ a < 0 $, то на каждом множестве выбираем наименьшее значение в каждом разояде, а перед разультатом ставим $ \"-\" $\n",
    "\n",
    "ч.т.д."
   ]
  }
 ],
 "metadata": {
  "kernelspec": {
   "display_name": "Python 3",
   "language": "python",
   "name": "python3"
  },
  "language_info": {
   "codemirror_mode": {
    "name": "ipython",
    "version": 3
   },
   "file_extension": ".py",
   "mimetype": "text/x-python",
   "name": "python",
   "nbconvert_exporter": "python",
   "pygments_lexer": "ipython3",
   "version": "3.7.4"
  }
 },
 "nbformat": 4,
 "nbformat_minor": 4
}
