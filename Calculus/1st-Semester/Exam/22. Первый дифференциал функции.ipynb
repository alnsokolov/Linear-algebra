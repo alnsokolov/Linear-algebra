{
 "cells": [
  {
   "cell_type": "markdown",
   "metadata": {},
   "source": [
    "# 22. Первый дифференциал функции. Инвариантность его формы. Использование дифференциала для приближенного вычисления приращения функции."
   ]
  },
  {
   "cell_type": "markdown",
   "metadata": {},
   "source": [
    "Пусть функция $ f $ дифференцируема в точке $ x_0 $. Тогда её приращение предстваляется в виде $ \\Delta f = f'(x_0)\\Delta x + \\overline{o}(\\Delta x), \\Delta x \\to 0 $.  \n",
    "\n",
    "### Определение 1\n",
    "\n",
    "Выражение $ f'(x_0)\\Delta x $ называется дифференциалом (первым) функции $ f $ в точке $ x_0 $, соответствующим приращению аргумента $ \\Delta x $. Обозначается $ df|_{x \\to x_0} = f(x_0)\\Delta x $  \n",
    "\n",
    "Замечание: При фиксировании значения $ x_0 $, дифференциал - это линейная функция с аргументом $ x_0 $. Говорят, что дифференциал - главная линейная часть приращения функции $ \\Delta f $ в точке $ x_0 $.\n",
    "\n",
    "### Определение 2\n",
    "\n",
    "Пусть $ H $ лежит на касательной, проведённой к графику $ y = f(x) $ в точке $ M $; абсцисса точки $ H $ равна $ x_0 + \\Delta x $. Тогда ордината $ y_H = f'(x_0)(x_H - x_0) + f(x_0) = f'(x_0)\\Delta x + f(x_0) \\Rightarrow H(x_0 + \\Delta x, f'(x_0)\\Delta x + f(x_0)) $. Тогда $ NP = f(x + \\Delta x) - f(x_0) = \\Delta f $ - приращение функции. $ HP = f'(x_0)\\Delta x + f(x_0) - f(x_0) = f'(x_0) \\Delta x $ - дифференциал функции $ f $. Таким образом, геометрический дифференциал - это приращение касательной, соответсвующее приращению фргумента $ \\Delta x $.\n",
    "\n",
    "Замечение: 1) Поскольку $ \\Delta f = df + \\overline{o}(\\Delta x), \\Delta x \\to 0 $, то $ \\frac{\\Delta f - df}{\\Delta x} = \\overline{o}(0), \\Delta x \\to 0 \\Rightarrow \\Delta f = df $ при малых $ \\Delta x $."
   ]
  },
  {
   "cell_type": "markdown",
   "metadata": {},
   "source": [
    "### Теорема 1. Инвариантность формы первого дифференциала\n",
    "\n",
    "Пусть $ f $ дифференцируема в точке $ x_0 $. Её первый дифференциал имеет вид $ df|_{x = x_0} = f'(x_0)dx$ независимо от того, является $ x $ независимой переменной, или функцией аргумента $ t $.\n",
    "\n",
    "### Доказательство\n",
    "\n",
    "Из замечания следует, что если $ x $ - независимая переменная, то $ dy = df \\Rightarrow df|_{x = x_0} = f'(x_0)\\Delta x = f'(x_0)dx $.\n",
    "\n",
    "Пусть теперь $ x = \\phi(t) $, $ \\phi $ дифференцируема в точке $ t_0, \\phi(t_0) = x_0 $. Тогда $ df|_{x=x_0} = (f(\\phi(t)))'|_{t = t_0} \\cdot \\Delta t = f'(x_0)\\phi(t_0) \\Delta t = f'(x_0)dx $"
   ]
  },
  {
   "cell_type": "markdown",
   "metadata": {},
   "source": [
    "Например, вычислим примерно $ \\sqrt[4]{1.05} $  \n",
    "$ f(x) = x^{1/4}, x_0 = 1, \\Delta x = 0.05 $. Тогда $ f(x_0 + \\Delta x) - f(x_0) = \\sqrt[4]{1.05} - 1 = df|_{x_0} = f'(x_0)\\Delta x = \\frac{1}{4} x^{-3/4}\\cdot 0.05  = 0.0125 \\Rightarrow \\sqrt[4]{1.05} \\approx 1.0125 $"
   ]
  }
 ],
 "metadata": {
  "kernelspec": {
   "display_name": "Python 3",
   "language": "python",
   "name": "python3"
  },
  "language_info": {
   "codemirror_mode": {
    "name": "ipython",
    "version": 3
   },
   "file_extension": ".py",
   "mimetype": "text/x-python",
   "name": "python",
   "nbconvert_exporter": "python",
   "pygments_lexer": "ipython3",
   "version": "3.7.4"
  }
 },
 "nbformat": 4,
 "nbformat_minor": 4
}
