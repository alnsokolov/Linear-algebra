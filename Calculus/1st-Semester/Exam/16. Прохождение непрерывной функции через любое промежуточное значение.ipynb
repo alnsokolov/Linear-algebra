{
 "cells": [
  {
   "cell_type": "markdown",
   "metadata": {},
   "source": [
    "# 16. Прохождение непрерывной функции через любое промежуточное значение."
   ]
  },
  {
   "cell_type": "markdown",
   "metadata": {},
   "source": [
    "Будем говорить, что $ f $ непрерывна на отрезке $ [a, b] $, если она непрерывна в любом $ x \\in (a, b) $ и, кроме того, непрерывна в точке $ a $ справа и в точке $ b $ слева.\n",
    "\n",
    "Обозначение: $ f \\in c[a, b] $"
   ]
  },
  {
   "cell_type": "markdown",
   "metadata": {},
   "source": [
    "### Теорема 1\n",
    "\n",
    "Пусть $ f \\in c[a, b], f(a)f(b) < 0 $. Тогда $ \\exists c \\in (a, b): \\space f(c) = 0 $\n",
    "\n",
    "### Доказательство\n",
    "\n",
    "Рассмотрим случай $ f(a) < 0, f(b) > 0 $ (второй случай доказывается аналогично). Обозначим $ A = \\{ x \\in [a, b] | f(x) < 0 \\}, A \\neq \\emptyset $, т.к. $ a \\in A $. $ A $ ограничено сверху (например точкой $ b $). Тогда $ \\exists c = \\sup A $. Покажем, что $ f(c) = 0 $. Предположим, что $ f(x) < 0 $. Тогда $ c \\neq b $ (т.к. $ f(b) > 0 $). По теореме о сохранении знака ($ f $ непрерывна в точке $ c $) $ \\exists \\delta > 0 $, т.ч. $ f(x) < 0 \\space \\forall x \\in (c, c + \\delta) $ (считаем, что $ c + \\delta < b $). Значи, точки интервала $ (c, c + \\delta) $ принадлежат $ A \\Rightarrow c \\neq \\sup A $. Противоречие. Значит $ f(c) \\geqslant 0 $  \n",
    "\n",
    "Предположим, что $ f(c) > 0 $. Тогда $ c \\neq a $ (т.к. $ f(a) < 0 $). Тогда $ \\exists \\delta > 0: \\space c - \\delta < a, f(x) > 0 \\space\\space \\forall x \\in (c - \\delta, c) $. Значит $ f(x) > 0 \\space\\space \\forall x \\in (c - \\delta, b] $. Тогда $ c - \\delta $ - верхняя грань множества $ A $. Значит $ c $ не является точной гранью. Противоречие. Значит $ c = 0 $."
   ]
  },
  {
   "cell_type": "markdown",
   "metadata": {},
   "source": [
    "### Следствие (прохождение непрерывной функции через все промежуточные значения)\n",
    "\n",
    "Пусть $ f \\in c[a, b] $. Обозначим $ \\alpha = \\min \\{ f(a), f(b) \\}, \\beta = \\max \\{ f(a), f(b) \\} $. Тогда $ \\forall \\gamma \\in [\\alpha, \\beta] \\space\\space \\exists c \\in [a, b]: \\space f(c) = \\gamma $\n",
    "\n",
    "### Доказательство\n",
    "\n",
    "Если $ \\gamma = \\alpha $ или $ \\gamma = \\beta $, то это очевидно.\n",
    "\n",
    "Пусть $ \\alpha < \\gamma < \\beta $. Тогда рассмотрим функцию $ y(x) = f(x) - \\gamma $. Очевидно, что $ y \\in [a, b], y(a) \\cdot y(b) = (\\alpha - \\gamma) (\\beta - \\gamma) < 0 \\Rightarrow \\exists c \\in (a, b): \\space\\space y(c) = 0 \\Leftrightarrow f(c) = \\gamma $"
   ]
  }
 ],
 "metadata": {
  "kernelspec": {
   "display_name": "Python 3",
   "language": "python",
   "name": "python3"
  },
  "language_info": {
   "codemirror_mode": {
    "name": "ipython",
    "version": 3
   },
   "file_extension": ".py",
   "mimetype": "text/x-python",
   "name": "python",
   "nbconvert_exporter": "python",
   "pygments_lexer": "ipython3",
   "version": "3.7.4"
  }
 },
 "nbformat": 4,
 "nbformat_minor": 4
}
