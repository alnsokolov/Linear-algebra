{
 "cells": [
  {
   "cell_type": "markdown",
   "metadata": {},
   "source": [
    "# 6. Предельный переход в неравенствах. Теорема о пределе монотонной ограниченной последовательности. Число $ e $."
   ]
  },
  {
   "cell_type": "markdown",
   "metadata": {},
   "source": [
    "### Теорема 1 (предельный переход в неравенствах)\n",
    "\n",
    "Пусть $ \\lim_{n \\to \\infty}\\limits x_n = a $. Если $ \\exists N \\in \\mathbb{N}: \\space \\forall n \\geqslant N \\space x_n \\geqslant b \\space (\\leqslant b) $, то $ a \\geqslant b \\space (a \\leqslant b) $\n",
    "\n",
    "### Доказательство\n",
    "\n",
    "Проведём для $ x_n \\geqslant b \\space \\forall n \\geqslant N $\n",
    "\n",
    "Предположим обратное: $ a < b $. Положим в определении предела $ \\varepsilon = b - a > 0 $. Тогда $ \\exists N_1(\\varepsilon) \\in \\mathbb{N} $, т.ч. $ \\forall n \\geqslant N_1 \\space |x_n - a| < \\varepsilon \\Leftrightarrow -\\varepsilon < x_n - a < \\varepsilon \\Leftrightarrow x_n < b \\space \\forall n \\geqslant N $. Обозначим $ N_2 = \\max \\{N, N_1\\} $. Тогда $ \\forall n \\geqslant N_2 \\begin{cases}x_n \\geqslant b \\newline x_n < b \\end{cases} $. Значит $ a \\geqslant b $\n",
    "\n",
    "### Замечание\n",
    "\n",
    "Строго неравенство в предел может перейти в равенство: $ \\frac{1}{n} > 0 $, но $ \\lim_{n \\to \\infty}\\limits \\frac{1}{n} = 0 $\n",
    "\n",
    "### Следствие\n",
    "\n",
    "Пусть $ \\lim_{n \\to \\infty}\\limits x_n = a, \\lim_{n \\to \\infty}\\limits y_n = b $. Если $ \\exists N \\in \\mathbb{N} $, т.ч $ \\forall n \\geqslant N \\space x_n \\leqslant y_n $, то $ a \\leqslant b $\n",
    "\n",
    "### Доказательство\n",
    "\n",
    "$ y_n - x_n \\geqslant 0 \\space \\space \\forall n \\geqslant N \\Rightarrow 0 \\leqslant \\lim_{n \\to \\infty}\\limits (y_n - x_n) = b - a \\Rightarrow a \\leqslant b $"
   ]
  },
  {
   "cell_type": "markdown",
   "metadata": {},
   "source": [
    "## Монотонные последовательности"
   ]
  },
  {
   "cell_type": "markdown",
   "metadata": {},
   "source": [
    "### Определение 1\n",
    "\n",
    "Последовательность $ \\{x_n\\} $ называется возрастающей (убывающей), если $ x_{n + 1} > x_n \\space (x_{n + 1} < x_n) \\space \\forall n \\in \\mathbb{N} $. Такие последовательности называются строго монотонными.  \n",
    "Последовательность $ \\{x_n\\} $ называется неубывающей (невозрастающей), если $ x_{n + 1} \\geqslant x_n \\space (x_{n + 1} \\leqslant x_n) \\space \\forall n \\in \\mathbb{N} $. Такие последовательности называются монотонными.\n",
    "\n",
    "Очевидно, что любая строго монотонная последовательность является монотоной."
   ]
  },
  {
   "cell_type": "markdown",
   "metadata": {},
   "source": [
    "### Теорема 1\n",
    "\n",
    "Если $ \\{x_n\\} $ является неубывающей и ограниченной сверху (невозрастающей и ограниченной снизу), то она сходится.  \n",
    "Эквивалентная формулировка: любая монотонная ограниченная последовательность сходится.\n",
    "\n",
    "### Доказательство\n",
    "\n",
    "Пусть $ x_{n + 1} \\geqslant x_n \\space \\forall n \\in \\mathbb{N}, \\space \\exists M \\in \\mathbb{R} $, т.ч. $ x_n \\leqslant M \\space \\forall n \\in \\mathbb{R} \\Rightarrow \\exists \\overline{x} = \\sup \\{x_n\\} $. Покажем что $ \\overline{x_n} = \\lim_{n \\to \\infty} \\limits x_n $  \n",
    "Возьмём $ \\varepsilon > 0 $. По определению супремума $ \\exists N \\in \\mathbb{N} $, т.ч. $ \\overline{x} - \\varepsilon < x_n \\leqslant \\overline{x} $. В силу монотонности $ \\{ x_n \\} $ для $ \\forall n \\geqslant N: \\overline{x} - \\varepsilon < x_n \\leqslant \\overline{x} < \\overline{x} + \\varepsilon \\Leftrightarrow |x_n - \\overline{x}| < \\varepsilon \\space \\forall n \\geqslant N \\Leftrightarrow \\overline{x_n} = \\lim_{n \\to \\infty} \\limits x_n $"
   ]
  },
  {
   "cell_type": "markdown",
   "metadata": {},
   "source": [
    "### Лемма 1 (неравенство Бернулли)\n",
    "\n",
    "$ \\forall x > -1 \\space \\space \\forall n \\in \\mathbb{N}: (1 + x)^n \\geqslant 1 + nx $\n",
    "\n",
    "### Лемма 2 (бином Ньютона)\n",
    "\n",
    "$ (a + b)^n = \\sum_{k = 0}^n \\limits C_n^k \\space a^kb^{n - k} $"
   ]
  },
  {
   "cell_type": "markdown",
   "metadata": {},
   "source": [
    "## Число $ e $"
   ]
  },
  {
   "cell_type": "markdown",
   "metadata": {},
   "source": [
    "Рассмотрим $ \\{x_n\\} = \\left( 1 + \\frac{1}{n} \\right)^n $. Докажем, что она возрастающая и ограниченная сверху.\n",
    "\n",
    "$ (1 + \\frac{1}{n})^n = 1 + \\frac{n!}{(n - 1)!1!}\\frac{1}{n^1} + \\frac{n!}{(n - 2)!2!}\\frac{1}{n^2} + \\dots + \\frac{n!}{n!}\\frac{1}{n^n} = 2 + \\frac{1}{2!}(1 - \\frac{1}{n}) + \\frac{1}{3!}(1 - \\frac{1}{n})(1 - \\frac{2}{n}) + \\dots + \\frac{1}{n!}(1 - \\frac{1}{n}) (1 - \\frac{2}{n}) \\dots (1 - \\frac{n - 1}{n})) < 2 + \\frac{1}{2!} + \\frac{1}{3!} + \\dots + \\frac{1}{n!} < 2 + \\frac{1}{2} + \\frac{1}{2^2} + \\dots + \\frac{1}{2^n} < 3 $\n",
    "\n",
    "Итак, $ x_n < 3 $. С другой стороны $ x_n \\geqslant 2 \\space \\forall n \\in \\mathbb{N} $\n",
    "\n",
    "$ \\frac{x_{n + 1}}{x_n} = \\frac{(1 + \\frac{1}{n + 1})^{n + 1}}{(1 + \\frac{1}{n})^n} = \\frac{(n + 2)^{n + 1}n^n}{(n + 1)^{2n + 1}} = \\frac{n + 2}{n + 1} (1 - \\frac{1}{(n + 1)^2})^n \\geqslant \\frac{n + 2}{n + 1} \\frac{n^2 + n + 1}{ (n + 1)^2 } = \\frac{n^3 + 3n^2 + 3n + 2}{n^3 + 3n^2 + 3n + 1} > 1 $\n",
    "\n",
    "Значит $ \\forall n \\in \\mathbb{N} \\space x_{n + 1} > x_n \\Rightarrow \\{ x_n \\} $ - возрастающая и ограниченная, значит она сходится\n",
    "\n",
    "Положим $ \\lim_{n \\to \\infty}\\limits (1 + \\frac{1}{n})^n = e $\n",
    "\n",
    "Пока знаем, что $ e < 3, e > (1 + \\frac{1}{n})^n \\space\\space \\forall n \\in \\mathbb{N} $"
   ]
  },
  {
   "cell_type": "markdown",
   "metadata": {},
   "source": [
    "Пусть $ \\{ y_n \\} = (1 + \\frac{1}{n})^{n + 1} $. $ \\lim_{n \\to \\infty}\\limits y_n = e $  \n",
    "Аналогично предыдущему случаю доказывается, что $ \\forall n \\in \\mathbb{N} \\space y_{n + 1} < y_n $, т.е. $ \\{y_n\\} $ убывает  \n",
    "Значит $ (1 + \\frac{1}{n})^n < e < (1 + \\frac{1}{n})^{n + 1} \\space\\space \\forall n \\in \\mathbb{N} $"
   ]
  }
 ],
 "metadata": {
  "kernelspec": {
   "display_name": "Python 3",
   "language": "python",
   "name": "python3"
  },
  "language_info": {
   "codemirror_mode": {
    "name": "ipython",
    "version": 3
   },
   "file_extension": ".py",
   "mimetype": "text/x-python",
   "name": "python",
   "nbconvert_exporter": "python",
   "pygments_lexer": "ipython3",
   "version": "3.7.4"
  }
 },
 "nbformat": 4,
 "nbformat_minor": 4
}
