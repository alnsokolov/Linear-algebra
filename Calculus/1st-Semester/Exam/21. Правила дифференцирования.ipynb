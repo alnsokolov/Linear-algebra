{
 "cells": [
  {
   "cell_type": "markdown",
   "metadata": {},
   "source": [
    "# 21. Правила дифференцирования суммы, произведения и частного двух функций, сложной функции и обратной функции. Формулы дифференцирования простейших элементарных функций."
   ]
  },
  {
   "cell_type": "markdown",
   "metadata": {},
   "source": [
    "### Теорема 1\n",
    "\n",
    "Пусть $ f, g $ дифференцируемы в точке $ x_0 $. Тогда $ f(x \\pm g(x))' = f'(x) \\pm g'(x), (f(x)\\cdot g(x))' = f(x)g'(x) + f'(x)g(x) $б если $ g(x) \\neq 0, \\left(\\frac{f(x)}{g(x)}\\right)' = \\frac{f'(x)g(x) - f(x)g'(x)}{g^2(x)} $\n",
    "\n",
    "### Доказательство\n",
    "\n",
    "$$ h = f \\pm g \\Rightarrow \\frac{\\Delta h}{\\Delta x} = \\frac{\\Delta f \\pm \\Delta g}{\\Delta x} = \\frac{\\Delta f}{\\Delta x} \\pm \\frac{\\Delta g}{\\Delta x} \\to f(x) \\pm g(x)$$\n",
    "\n",
    "$$ h = fg \\Rightarrow \\frac{\\Delta h}{\\Delta x} = \\frac{f(x_0 + \\Delta x)g(x_0  +\\Delta x) - f(x_0)g(x_0)}{\\Delta x} = \\frac{f(x_0 + \\Delta x)g(x_0  +\\Delta x) - f(x_0)g(x_0 + \\Delta x)}{\\Delta x} + \\frac{f(x_0)g(x_0  +\\Delta x) - f(x_0)g(x_0)}{\\Delta x} = \\frac{\\Delta f}{\\Delta x}g(x_0 + \\Delta x) + f(x_0)\\frac{\\Delta g}{\\Delta x} \\to f'(x_0)g(x_0) + f(x_0)g(x_))  $$\n",
    "\n",
    "$$ h = \\frac{f}{g} \\Rightarrow \\frac{\\Delta h}{\\Delta x} = \\frac{\\frac{f(x_0 + \\Delta x)}{g(x_0 + \\Delta x)} - \\frac{f(x_0)}{g(x_0)}}{\\Delta x} = \\frac{f(x_0 + \\Delta x) g(x_0) - f(x_0) g(x_0 + \\Delta x)}{g(x_0 + \\Delta x) g(x_0) \\Delta x} = \\frac{1}{g(x_0 + \\Delta x) g(x_0)} \\left( \\frac{f(x_0 + \\Delta x) g(x_0) - f(x_0)g(x_0)}{\\Delta x} - \\frac{f(x_0) g(x_0 + \\Delta x) - f(x_0)g(x_0)}{\\Delta x} \\right) \\to \\frac{1}{g^2(x_0)} \\left( f'(x_0)g(x_0) - g'(x_0)f(x_0) \\right) = \\frac{f'(x_0)g(x_0) - f(x_0)g'(x_0)}{g^2(x_0)} $$"
   ]
  },
  {
   "cell_type": "markdown",
   "metadata": {},
   "source": [
    "### Теорема 2 (о сложной функции)\n",
    "\n",
    "Пусть $ \\phi: (\\alpha, \\beta) \\to (a, b); f: (a, b) \\to X. t_0 \\in (\\alpha, \\beta), x_0 = \\phi(t_0) $. Если $ \\phi $ определена в точке $ t_0 $, $ f $ оперделена в точке $ x_0 $, то сложная функция дифференцируема в точке $ t_0 $ и $ (f(\\phi(t_0)))' = f'(x_0)\\phi'(t_0) $\n",
    "\n",
    "### Доказательство\n",
    "\n",
    "$ \\Delta t \\in \\mathbb{R}, t_0 + \\Delta t \\in (\\alpha, \\beta). $ Тогда $ \\phi(t_0 + \\Delta t) - \\phi(t_0) = \\phi(t_0)\\Delta t + \\alpha(\\Delta t)\\Delta t, \\ \\alpha(\\Delta t) \\to 0 $  \n",
    "\n",
    "Обозначим $ \\Delta x = \\phi(t_0 + \\Delta t) - \\phi(t_0) $, тогда $ x_0 + \\Delta x \\in (a, b) \\Rightarrow f(x_0 = \\Delta x) - f(x_)) = f'(x_0)\\Delta x + \\beta(\\Delta x)\\Delta x, \\ \\beta(\\Delta x) \\to 0$  \n",
    "\n",
    "$ = f'(x_0)(\\phi(t_0)\\Delta t + \\alpha(\\Delta t)\\Delta t) + \\beta(\\Delta x)(\\phi(t_0)\\Delta t + \\alpha(\\Delta t)\\Delta t) = \\dots $"
   ]
  },
  {
   "cell_type": "markdown",
   "metadata": {},
   "source": [
    "### Теорема 3 (производная обратной функции)\n",
    "\n",
    "Пусть функция $ f $ определена, непрерывна и строго монотонна в $ B_\\delta(x_0) $ для некоторого $ \\delta > 0 $. Если $ \\exists f'(x_0) \\neq 0, $ то в точке $ y_0 = f(x_0) $ существует производная обратной функции: $ (f^{-1}(y))' = \\frac{1}{f'(x)} $\n",
    "\n",
    "### Доказательство\n",
    "\n",
    "Пусть $ \\Delta x \\in \\mathbb{R} \\backslash \\{0\\}, x_0 + \\Delta x = B_\\delta(x_0) $. По теореме об обратной функции в некоторой окрестности точки $ y_0 = f(x_0) $ существует обратная функция $ f^{-1}(y) $. Полодим $ \\Delta y = f(x_0 + \\Delta x) - f(x_0) $ю Тогда $ \\Delta y \\neq 0 $ ( $ f $ строгомонотонна), причём $ f^{-1}(y_0 + \\Delta y) - f^{-1}(y_0) = f^{-1}(f(x_0) +f( x_0 + \\Delta x) - f(x_0) - x_0 = f^{-1}(f(x_0 + \\Delta x)) - x_0 = x_0 + \\Delta x - x_0 = \\Delta x $  \n",
    "\n",
    "Значит $(f^{-1}(y))'_{y = y_0} = \\lim\\limits_{\\Delta y \\to 0} \\frac{\\Delta x}{\\Delta y} = \\frac{1}{\\lim\\limits_{\\Delta y \\to 0} \\frac{\\Delta y}{\\Delta x}} = \\frac{1}{f'(x)}$"
   ]
  },
  {
   "cell_type": "markdown",
   "metadata": {},
   "source": [
    "### Производные элементарных функций\n",
    "\n",
    "1. $ c' = 0 $, т.к. $ \\Delta c = 0 $\n",
    "2. $ x' = 1 $, т.к. для $ f(x) = x: \\lim\\limits_{\\Delta x \\to 0} \\frac{\\Delta f}{\\Delta x} = \\lim\\limits_{\\Delta x \\to 0} \\frac{\\Delta x}{\\Delta x} = 1 $\n",
    "3. $ f(x) = e^x \\forall x \\in \\mathbb{R}. \\lim\\limits_{\\Delta x \\to 0} \\frac{f(x_0 + \\Delta x) - f(x)}{\\Delta x} = \\lim\\limits_{\\Delta x \\to 0} \\frac{e^{x_0 + \\Delta x} - e^{x_0}}{\\Delta x} = e^{x_0} \\cdot \\lim\\limits_{\\Delta x \\to 0} \\frac{e^{\\Delta x} - 1}{\\Delta x} = e^{x_0} $  \n",
    "   $ (a^x)' = (e^{x ln \\ a})' = e^{x ln \\ a}(x ln \\ a)' = a^x ln \\ a $, поскольку $ cf(x)' = c'f(x) + cf'(x) = cf'(x)) $\n",
    "4. $ (log_a x)' = \\frac{1}{(a^y)'} $ (производная обратной функции) $ = \\frac{1}{a^y \\cdot ln \\ a} = \\frac{1}{x \\cdot ln \\ a}, x > 0 $\n",
    "5. $ \\alpha \\neq 0, (x^\\alpha)' = (e^{\\alpha \\cdot ln \\ x})' = x^\\alpha \\cdot (\\alpha \\cdot ln \\ x)' = \\alpha \\cdot x^\\alpha \\cdot \\frac{1}{x} = \\alpha \\cdot x^{\\alpha - 1}, x > 0 $\n",
    "6. $ f(x) = sin(x) $. Пусть $ x_0 \\in \\mathbb{R} $, тогда $ \\lim\\limits_{\\Delta x \\to 0} \\frac{sin(x_0 + \\Delta x) - sin(x_0)}{\\Delta x} = \\lim\\limits_{\\Delta x \\to 0} \\frac{2 \\cdot sin(\\frac{\\Delta x}{2}) \\cdot sin(x_0 + \\frac{\\Delta x}{2})}{\\Delta x} = \\lim\\limits_{\\Delta x \\to 0} \\frac{sin(\\frac{\\Delta x}{2})}{\\Delta x} cos(x + \\frac{\\Delta x}{2}) = cos(x_0)$\n",
    "7. $ (cos \\ x)' = (sin(\\frac{\\pi}{2} - x))' = cos(\\frac{\\pi}{2} - x) (\\frac{\\pi}{2} - x)' = -sin(x) $\n",
    "8. $ (tg(x))' = \\frac{sin'(x)cos(x) - cos'(x)sin(x)}{cos^2 x} = \\frac{cos^2 x + sin^2 x}{xos^2 x} = \\frac{1}{cos^2 x}, x \\neq \\frac{\\pi}{2} + \\pi n, n \\in \\mathbb{Z} $\n",
    "9. $ (ctg(x))' = - \\frac{1}{sin^2 x} $\n",
    "10. $ (arcsin \\ x)' = \\frac{1}{(sin y)'} = \\frac{1}{cos \\ y} = \\frac{1}{\\sqrt{1 - x^2}} $  \n",
    "    Упр. : доказать, что производная $ arcsin \\ x $ обращается в $ \\infty $, если $ x = \\pm 1 $\n",
    "11. Т.к. $ arccos \\ x + arcsin \\ x = \\frac{\\pi}{2} $, то $ (arccos \\ x)' = (\\frac{\\pi}{2} - arcsin \\ x)' = - \\frac{1}{\\sqrt{1 - x^2}}, -1 < x < 1 $\n",
    "12. $ (arctg \\ x)' = \\frac{1}{(tg \\ x)'} = cos^2 y = \\frac{1}{1 + tg^2 x} = \\frac{1}{1 + x^2} $\n",
    "13. $ (arcctg \\ x)' = (\\frac{\\pi}{2} - arcctg \\ x)' = - \\frac{1}{1 + x^2} $\n",
    "14. $ (sh \\ x)' = (\\frac{e^x - e^{-x}}{2})' = \\frac{e^x + e^{-x}}{2} = ch \\ x $\n",
    "15. $ (ch \\ x)' = sh \\ x $\n",
    "16. $ (th \\ x)' = (\\frac{sh \\ x}{ch \\ x})' = \\frac{(sh \\ x)' ch \\ x - (ch \\ x)' sh \\ x}{ch^2 x} = \\frac{1}{ch^2 x} $\n",
    "17. $ (cth \\ x)' = (\\frac{ch \\ x}{sh \\ x})' = \\frac{(ch \\ x)' sh \\ x - (sh \\ x)' ch \\ x}{sh^2 x} = -\\frac{1}{sh^2 x} $"
   ]
  }
 ],
 "metadata": {
  "kernelspec": {
   "display_name": "Python 3",
   "language": "python",
   "name": "python3"
  },
  "language_info": {
   "codemirror_mode": {
    "name": "ipython",
    "version": 3
   },
   "file_extension": ".py",
   "mimetype": "text/x-python",
   "name": "python",
   "nbconvert_exporter": "python",
   "pygments_lexer": "ipython3",
   "version": "3.7.4"
  }
 },
 "nbformat": 4,
 "nbformat_minor": 4
}
