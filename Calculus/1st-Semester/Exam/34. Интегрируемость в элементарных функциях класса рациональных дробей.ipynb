{
 "cells": [
  {
   "cell_type": "markdown",
   "metadata": {},
   "source": [
    "# 34. Интегрируемость в элементарных функциях класса рациональных дробей (с вещественными коэффициентами)."
   ]
  },
  {
   "cell_type": "markdown",
   "metadata": {},
   "source": [
    "#### Определение 1\n",
    "\n",
    "Рациональной дробью называется выражение вида $ \\frac{P(x)}{Q(x)} $, где $ P, Q $ - многочлены. Рациональная дробь называется правильной, если степень $ deg \\ P < deg \\ Q $.  \n",
    "\n",
    "Легко показать, что если $ deg \\ P \\geqslant deg \\ Q $, то $ \\frac{P(x)}{Q(x)} = T(x) = \\frac{R(x)}{Q(x)} $, где $ T $ - многочлен, $ \\frac{R}{Q} $ - правильная рациональная дробь."
   ]
  },
  {
   "cell_type": "markdown",
   "metadata": {},
   "source": [
    "#### Теорема 1\n",
    "\n",
    "Пусть $ \\deg Q(x) = n $, коэффицент при $ x^n $ равен 1. Тогда $ Q(x) = (x - \\alpha_1)^{k_1} \\cdot (x - \\alpha_2)^{k_2} \\cdot \\cdots \\cdot (x - \\alpha_i)^{k_i} \\cdot (x^2 + p_1x + q_1)^{l_1} \\cdots (x^2 + p_jx + q_j)^{l_j} $, где $ \\alpha_1, \\dots, \\alpha_i, p_1, \\dots, p_j, q_1, \\dots, q_j \\in \\mathbb{R} $"
   ]
  },
  {
   "cell_type": "markdown",
   "metadata": {},
   "source": [
    "#### Утверждение 2\n",
    "\n",
    "Пусть $ \\frac{P(x)}{Q(x)} $ - правильная рациональная дробь, причём $ Q(x) $ имеет вид (1). Тогда $ \\frac{P(x)}{Q(x)} = \\frac{A_{1}^1}{(x - \\alpha_1)^1} + \\frac{A_{1}^2}{(x - \\alpha_1)^2} + \\cdots + \\frac{A_{1}^{k_1}}{(x - \\alpha_1)^{k_1}} + \\cdots + \\frac{A_{i}^1}{(x - \\alpha_i)^1} + \\frac{A_{i}^2}{(x - \\alpha_i)^2} + \\cdots + \\frac{A_{i}^{k_1}}{(x - \\alpha_i)^{k_1}} + \\dots $"
   ]
  },
  {
   "cell_type": "markdown",
   "metadata": {},
   "source": [
    "#### Лемма 1\n",
    "\n",
    "Пусть $ \\frac{P(x)}{Q(x)} $ - правильная рациональная дробь, $ Q(x) = (x - \\alpha)^k\\cdot T(x), T(x) \\neq 0 $ (то есль $ \\alpha $ - корень многочлена $ Q(x) $ кратности $ k $), тогда $ \\exists A \\in \\mathbb{R}: \\frac{P(x)}{Q(x)} = \\frac{A}{(x - \\alpha)^k} + \\frac{R(x)}{(x - \\alpha)^m \\cdot T(x)}, m < k $.\n",
    "\n",
    "#### Доказательство\n",
    "\n",
    "Положим $ A = \\frac{P(x)}{T(x)} \\Rightarrow \\frac{P(x)}{Q(x)} - \\frac{A}{(x - \\alpha)^k} = \\frac{P(x)}{(x - \\alpha)^k \\cdot T(x)} - \\frac{A}{(x - \\alpha)^k} = \\frac{P(x) - A\\cdot T(x)}{(x - \\alpha)^k\\cdot T(x)} = \\frac{V(x)}{(x - \\alpha)^k\\cdot T(x)} = \\frac{R(x)}{(x - \\alpha)^m\\cdot T(x)} $, поскольку $ V(\\alpha) = P(\\alpha)  -\\frac{P(\\alpha)}{Q(\\alpha)}\\cdot T(\\alpha) =0 \\Rightarrow V(x) = (x - \\alpha) \\cdot U(x) $"
   ]
  },
  {
   "cell_type": "markdown",
   "metadata": {},
   "source": [
    "$ \\frac{1}{(x-1)^2(x^2 + 1)} = \\frac{A}{x - 1} + \\frac{B}{(x - 1)^2} + \\frac{Cx + D}{x^2 + 1} $  \n",
    "Умножим обе части на $ (x - \\alpha)^k $, затем подставим $ x = \\alpha $. Тогда справа получим искомый коэффицент.  \n",
    "$ \\frac{1}{x^2 + 1}|_{x=1} = B \\Rightarrow B = 1/2 $. Приведём к общему знаменателю и приравняем числители\n",
    "$ 1 = Ax^3 + Ax - Ax^3 - A + Bx^3 + B + Cx^3 \\cdots $"
   ]
  },
  {
   "cell_type": "markdown",
   "metadata": {},
   "source": [
    "Таким образом, интегрирование правильной рациональной дроби сводится к интегрированию одного из четырёх типов дробей:\n",
    "\n",
    "1. $ \\int \\! \\frac{A}{x - \\alpha}dx = A \\ ln |x - \\alpha| + C $\n",
    "   \n",
    "2. $ \\int \\! \\frac{A}{(x - \\alpha)^k}dx = \\frac{A}{(1 - k)(x- \\alpha)^{k - 1}} + C, k \\geqslant 2 $\n",
    "   \n",
    "3. $ \\int \\! \\frac{Bx + C}{x^2 + px + q}dx = \\int \\! \\frac{\\frac{B}{2}(2x + p) - \\frac{Bp}{2} + C}{x^2 + px + q}dx = \\frac{B}{2}\\int \\! \\frac{(2x + p)}{x^2 + px + q}dx + (C - \\frac{Bp}{2}) \\int \\! \\frac{dx}{x^2 + px + q} = \\frac{B}{2} \\cdot ln(x^2 + px + q) + (C - \\frac{Bp}{2}) \\frac{2}{\\sqrt{4q - p^2}}arctg \\frac{2x + p}{\\sqrt{4q - p^2}} + C $  \n",
    "   \n",
    "4. $ \\int \\frac{Bx + D}{(x^2 + px + 1)^m}dx = \\frac{B}{2}I_1 + (D - \\frac{Bp}{2})I_2(m)$  \n",
    "\n",
    "   $ I_1 = \\int \\! \\frac{2x + p}{(x^2 + px + q)^m} = \\cdots = \\frac{1}{(1 - m)(x^2 + px + q)^{m - 1}} + C $  \n",
    "   \n",
    "   $ I_2(m) = \\int \\! \\frac{dx}{(x^2 + px + q)^m} = \\left| \\begin{align}t = x + \\frac{p}{2} \\newline a^2 = 4q - p^2 \\end{align} \\right| = \\int \\! \\frac{dt}{(t^2 + a^2)^m} = \\frac{1}{a^2} \\int \\! \\frac{t^2 + a^2 - t^2}{(t^2 + a^2)^m}dt = \\frac{1}{a^2} I_2(m - 1) - \\frac{1}{a^2}\\int \\! t d \\left( \\frac{1}{2(1 - m)}  \\frac{1}{(t^2 + a^2)^{m - 1}} \\right) =  $\n",
    "   \n",
    "   $ = \\frac{1}{a^2} I_2(m - 1) + \\frac{t}{2a^2(m - 1)(a^2 + t^2)^{m - 1}} - \\frac{1}{2(m - 1)a^2} \\int \\frac{dt}{(t^2 + a^2)^{m - 1}} = \\frac{t}{2a^2(m - 1)(a^2 + t^2)^{m - 1}} + \\frac{2m - 3}{2a^2(m - 1)} I_2(m - 1) $\n",
    "   \n",
    "   Зная, что $ I_2(1) = \\frac{1}{a}arctg \\frac{t}{a} + C $, можно вычислить любой интеграл $ I_2(m) $"
   ]
  }
 ],
 "metadata": {
  "kernelspec": {
   "display_name": "Python 3",
   "language": "python",
   "name": "python3"
  },
  "language_info": {
   "codemirror_mode": {
    "name": "ipython",
    "version": 3
   },
   "file_extension": ".py",
   "mimetype": "text/x-python",
   "name": "python",
   "nbconvert_exporter": "python",
   "pygments_lexer": "ipython3",
   "version": "3.7.4"
  }
 },
 "nbformat": 4,
 "nbformat_minor": 4
}
