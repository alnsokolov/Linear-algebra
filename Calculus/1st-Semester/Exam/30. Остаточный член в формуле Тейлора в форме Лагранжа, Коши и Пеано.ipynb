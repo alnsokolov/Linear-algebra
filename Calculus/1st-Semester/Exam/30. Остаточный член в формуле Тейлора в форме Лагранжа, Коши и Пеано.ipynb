{
 "cells": [
  {
   "cell_type": "markdown",
   "metadata": {},
   "source": [
    "# 30. Остаточный член в формуле Тейлора в форме Лагранжа, Коши и Пеано. Его оценка."
   ]
  },
  {
   "cell_type": "markdown",
   "metadata": {},
   "source": [
    "### Формула Тейлора с остаточным членом в форме Лагранжа\n",
    "\n",
    "Пусть функция $ f \\space\\space (n+1) $ раз дифференцируема в $ \\dot B_\\delta(a), \\delta > 0 $. Тогда $ \\exists \\theta \\in (0, 1) $, т.ч.  $ f(x) = \\varphi_n(x, a) + R_{n + 1}(x) $ где \n",
    "\n",
    "$$ R_{n + 1}(x) = \\frac{(x - a)^{n + 1}}{(n + 1)!}f^{(n + 1)}(a + \\theta(x - a)) $$\n",
    "\n",
    "### Доказательство\n",
    "\n",
    "Положим в теореме о формуле Тейлора с остаточным членом в общей форме $ p = n + 1 $. Тогда формула для остаточного члена примет вид \n",
    "\n",
    "$$ R_{n + 1}(x) = \\left(\\frac{x - a}{x - \\xi}\\right)^{n + 1} \\cdot \\frac{(x - \\xi)^{n + 1}}{n!(n + 1)} f^{(n + 1)}(\\xi) = $$\n",
    "\n",
    "$$ \\frac{(x - a)^{n + 1}}{(n + 1)!}f^{(n + 1)}(a + \\theta(x - a)) $$\n",
    "\n",
    "где $ a + \\theta (x - a) = \\xi $. Так как $ \\xi $ лежимт между $ a $ и $ x $, $ \\theta \\in (0, 1) $"
   ]
  },
  {
   "cell_type": "markdown",
   "metadata": {},
   "source": [
    "### Формула Тейлора с остаточным членом в форме Коши\n",
    "\n",
    "Пусть функция $ f \\space\\space (n + 1) $ раз дифференцируема в $ B_\\delta(a), \\space \\delta > 0, \\space x \\in B_\\delta(a) $. Тогда $ \\exists \\theta \\in (0, 1): \\space f(x) = \\varphi_n(x, a) + R_{n + 1}(x) $, где\n",
    "\n",
    "$$ R_{n + 1}(x) = \\frac{(x - a)^{n + 1}(1 - \\theta)^n}{n!}f^{(n + 1)}(a + \\theta (x - a)) $$\n",
    "\n",
    "### Доказательство\n",
    "\n",
    "Положим в теореме о формуле Тейлора с остаточным членом в общей форме $ p = 1 $. Тогда формула для остаточного члена примет вид \n",
    "\n",
    "$$ R_{n + 1}(x) = \\left( \\frac{x - a}{x - \\xi} \\right) \\cdot \\frac{(x - \\xi)^{n + 1}}{n!} f^{(n + 1)}(\\xi) = (x - a) \\frac{(x - (a + \\theta(x - a)))^n}{n!} f^{(n + 1)}(a + \\theta(x - a)) = $$\n",
    "\n",
    "$$ = \\frac{(x - a)^{n + 1}(1 - \\theta)^n}{n!}f^{(n + 1)}(a + \\theta (x - a)) $$\n",
    "\n",
    "где $ a + \\theta(x - a) = \\xi $. Так как $ \\xi $ лежит между $ a $ и $ x $, $ \\theta \\in (0, 1) $."
   ]
  },
  {
   "cell_type": "markdown",
   "metadata": {},
   "source": [
    "### Формула Тейлора с остаточным членов в форме Пеано\n",
    "\n",
    "Пусть функция $ y = f(x) \\space\\space (n - 1) $ дифференцируема в $ \\dot B_\\delta(a) $ и $ n $ раз дифференцируема в самой точке $ a $. Пусть $ x \\in B_\\delta(a) $. Тогда\n",
    "\n",
    "$$ f(x) = f(a) + \\frac{f^{(1)}(a)}{1!}(x-a) + \\frac{f^{(2)}(a)}{2!}(x-a)^2 + \\dots + \\frac{f^{(n)}(a)}{n!}(x-a)^n + \\overline{o}((x - a)^n), \\space\\space\\space\\space x \\to a $$\n",
    "\n",
    "### Доказательство\n",
    "\n",
    "Пусть $ R_{n + 1}(x) = f(x) - \\varphi_n(x, a) $. Докажем, что $ R_{n + 1}(x) = \\overline{o}((x - a)^n), \\space\\space\\space\\space x \\to a $. Воспользуемся формулами для производной: $ R_{n + 1}(a) = f(a) - \\varphi_n(a, a) = 0, \\space\\space R_{n + 1}'(a) = f'(a) - \\varphi_n'(a, a) = 0, \\space\\space, \\dots, R_{n + 1}^{(n)}(a) = f^{(n)}(a) - \\varphi_n^{(n)}(a, a) = 0, \\space\\space $. Вычислим предел $ \\lim_{x \\to a}\\limits\\frac{R_{n + 1}(x)}{(x - a)^n} $, применив $ n - 1 $ раз правило Лопиталя: \n",
    "\n",
    "$$ \\lim_{x \\to a}\\limits\\frac{R_{n + 1}(x)}{(x - a)^n} = \\lim_{x \\to a}\\limits\\frac{R_{n + 1}'(x)}{n(x - a)^{n  -1}} = \\dots = \\lim_{x \\to a}\\limits\\frac{R_{n + 1}^{(n - 1)}(x)}{n!(x - a)} $$\n",
    "\n",
    "Последний предел вычисли другим способом (воспользуемся тем, что $ R_{n + 1}^{(n - 1)}(a) = 0 $):\n",
    "\n",
    "$$ \\lim_{x \\to a}\\limits\\frac{R_{n + 1}^{(n - 1)}(x)}{n!(x - a)} = \\lim_{x \\to a}\\limits\\frac{R_{n + 1}^{(n - 1)}(x) - R_{n + 1}^{(n - 1)}(a)}{n!(x - a)} = \\lim_{x \\to a}\\limits \\frac{1}{n!}(R_{n + 1}^{(n - 1)}(x))'|_x = a = \\frac{1}{n!} R_{n + 1}^{(n)}(a) = 0 $$\n",
    "\n",
    "Получили, что $ \\lim_{x \\to a}\\limits\\frac{R_{n + 1}(x)}{(x - a)^n} = 0 $, то есть действительно $ R_{n + 1}(x) = \\overline{o}((x - a)^n) $ при $ x \\to a $"
   ]
  },
  {
   "cell_type": "markdown",
   "metadata": {},
   "source": [
    "## Оценка остаточного члена"
   ]
  },
  {
   "cell_type": "markdown",
   "metadata": {},
   "source": [
    "Оценим для произвольной функции $ f(x) $ остаточный член, взятый в форме Лагранжа в окрестности $ x = 0 $. Предположим, что рассмотриваемая функция обладает следующим свойством: $ \\exists M \\in \\mathbb{R}: \\forall n \\in \\mathbb{N}, x \\in B_\\delta(0) $ справедливо неравенство\n",
    "$$ |f^{(n)}(x)| \\leqslant M $$\n",
    "Функцию, обладающую данным свойством, будем называть функцией, совокупность производных которой ограничена в окрестности точки $ x = 0 $. Из этого неравенства  вытекает, что\n",
    "$$ |R_{n + 1}(x)| = \\left|\\frac{x^{n + 1}}{(n + 1)!}f^{(n + 1)}(\\theta_1 x) \\right| \\leqslant \\frac{M \\delta^{n + 1}}{(n + 1)!} $$\n",
    "Итак, мы получили унивверсальную оценку остаточного члена для функции, совокупность всех производных которой ограничена числом $ M $ в окрестности точки $ x = 0 $"
   ]
  }
 ],
 "metadata": {
  "kernelspec": {
   "display_name": "Python 3",
   "language": "python",
   "name": "python3"
  },
  "language_info": {
   "codemirror_mode": {
    "name": "ipython",
    "version": 3
   },
   "file_extension": ".py",
   "mimetype": "text/x-python",
   "name": "python",
   "nbconvert_exporter": "python",
   "pygments_lexer": "ipython3",
   "version": "3.7.4"
  }
 },
 "nbformat": 4,
 "nbformat_minor": 4
}
