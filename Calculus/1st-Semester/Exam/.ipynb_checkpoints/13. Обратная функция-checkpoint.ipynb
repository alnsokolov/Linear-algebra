{
 "cells": [
  {
   "cell_type": "markdown",
   "metadata": {},
   "source": [
    "# 13. Обратная функция. Условия непрерывности монотонных функций и обратных функций."
   ]
  },
  {
   "cell_type": "markdown",
   "metadata": {},
   "source": [
    "### Определение 1\n",
    "\n",
    "Пусть функция $ f $ определена на отрезке $ [a, b] $. Она не убывает (не возрастает) на этом отрезке, если $ \\forall x_1, x_2 \\in [a, b] $, таких, что $ x_1 < x_2 \\space (x_1 > x_2), \\space\\space f(x_1) < f(x_2) $. Такие функции называются строго монотонными.\n",
    "\n",
    "Пусть $ f $ монотонна на $ [a, b], c \\in [a, b] $. Обозначим $ F_c^+ = \\{ f(x) | c < x \\leqslant b \\} \\space (c \\neq b); F_c^- = \\{ f(x) | a \\leqslant x < c \\} \\space (a \\neq c) $"
   ]
  },
  {
   "cell_type": "markdown",
   "metadata": {},
   "source": [
    "### Теорема 1 (о точках разрыва монотонной функции)\n",
    "\n",
    "Пусть $ f $ определена на $ [a, b] $ и не убывает (не возрастает) на нём. Тогда она может иметь на этом отрезке только только разрывы первого рода.\n",
    "\n",
    "### Доказательство\n",
    "\n",
    "Проведём для случая, когда $ f $ не убывает (аналогично для случая, когда она не возрастает). Пусть $ c \\in [a, b], c $ - точка разрыва. Пусть $ c \\neq a $. Рассмотрим $ F_c^- = \\{ f(x) | a \\leqslant x < c \\}. F_c^- \\neq \\emptyset \\space (f(a) \\in F_c^-) $ и оно ограниченно сверху (например $ f(c) $ в силу монотонности). Значит $ \\exists \\sup F_c^- = l_1 $. Покажем, что $ l_1 = \\lim_{x \\to c - 0}\\limits f(x). \\space\\space \\forall \\varepsilon > 0 \\space \\exists x' \\in [a, c) $, т.ч. $ f(x') > l_1 - \\varepsilon $. В силу монотонности $ \\forall x \\in (x', c) \\space\\space l_1 - \\varepsilon < f(x') \\leqslant f(x') \\leqslant f(x) \\leqslant l_1 \\Rightarrow l_1 =  \\lim_{x \\to c - 0}\\limits f(x) $\n",
    "\n",
    "Далее заметим, что $ f(c) $ - верхняя грань $ F_c^-; l_1 $ - частная верхняя грань, следовательно $ l_1 \\leqslant f(c) $. Аналогично, если $ c \\neq b $, то можно доказать, что $  \\lim_{x \\to c + 0}\\limits f(x) = l_2 = \\inf F_c^+, \\space f(c) \\leqslant l_2 $. Значит $ \\exists f(c - 0), f(c + 0) $, при чём $ f(c - 0) \\leqslant f(c) \\leqslant f(c + 0) $. Если $ l_1 = l_2 $, то $ l_1  = f(c) = l_2 \\Rightarrow c $ - точка непрерывности. Следовательно, если $ c $ - точка разрыва, то это разрыв первого рода."
   ]
  },
  {
   "cell_type": "markdown",
   "metadata": {},
   "source": [
    "### Теорема 2 (критерий непрерывности монотонной функции)\n",
    "\n",
    "Пусть $ f $ определена и монотонна на $ [a, b], f: [a, b] \\to [\\alpha, \\beta], f \\in c[a, b] $ ($ f $ непрерывна на $ [a, b] $) $ \\Leftrightarrow \\forall \\gamma \\in [\\alpha, \\beta] \\space\\space \\exists c \\in [a, b] $, т.ч. $ f(c) = \\gamma $, где $ \\alpha = \\min \\{ f(a), f(b) \\}, \\beta  = \\max \\{ f(a), f(b) \\} $\n",
    "\n",
    "### Доказательство\n",
    "\n",
    "$ \\Rightarrow | $ Доказано даже без условия монотонности\n",
    "\n",
    "$ \\Leftarrow |  $ Пусть $ f $ неубывающая (невозрастающая). Предположим $ \\exists c \\in [a, b], c $ - точка разрыва $ f $. Из теоремы 1 следует, что $ l_1 \\leqslant f(c) \\leqslant l_2 $ (если $ c = a $, то $ l_1 = f(a) $, если $ c = b $, то $ l_2 = f(b) $). Поскольку $ c $ - точка разрыва, то $ l_1 < l_2, l_1 = \\sup F_c^- \\Rightarrow \\forall x < c \\space\\space f(x) \\leqslant l_1, \\space l_2 = \\inf F_c^+ \\Rightarrow \\forall x > c \\space\\space f(x) \\geqslant l_2 $. Возьмём $ \\gamma \\in (l_1, l_2), \\gamma \\neq f(c) $. Тогда $ \\nexists x \\in [a, b] $, т.ч. $ f(x) = \\gamma $. Противорчие. Значит $ f \\in c[a, b] $"
   ]
  },
  {
   "cell_type": "markdown",
   "metadata": {},
   "source": [
    "### Теорема 3 (об обратной функции)\n",
    "\n",
    "Пусть $ f $ определена и строго монотонна на $ [a, b], f: [a, b] \\to [\\alpha, \\beta] \\space\\space(\\alpha = \\min \\{ f(a), f(b) \\}, \\beta  = \\max \\{ f(a), f(b) \\}) $. Если $ f \\in c[a, b] $, то $ \\exists f^{-1} :[\\alpha, \\beta] \\to [a, b]$, причём $ f^{-1} \\in [\\alpha, \\beta], f^{-1} $ - строго монотонна и характер монотонности у неё тот же, что и у $ f $.\n",
    "\n",
    "### Доказательство\n",
    "\n",
    "Рассмотрим случай, когда $ f $ - возрастающая (аналогично для случая, когда $ f $ - убывающая). Она непрерывна, а значит принимает все промежуточные значения отрезка $ [\\alpha, \\beta] $ (по теореме 2). Следовательно $ f $ - сюрьекция. Следовательно $ \\forall y \\in [\\alpha, \\beta] \\space\\space \\exists x \\in [a, b]: \\space f(x) = y $, при этом если $ x_1 \\neq x_2 $, то $ y_1 \\neq y_2 $ в силу строгой монотонности $ \\Rightarrow f $ - инъекция, т.е. $ \\forall y \\in [\\alpha, \\beta] \\space \\exists! x \\in [a, b]: \\space f(x) = y \\Rightarrow $ на $ [\\alpha, \\beta] $ определена обратная функция $ f^{-1} $. Пусть $ y_1 < y_2 $. Если $ f^{-1}(y_1) \\geqslant f^{-1}(y_2) $, то $ y_1 \\geqslant y_2 $, что неверно $ \\Rightarrow f^{-1}(y_1) \\leqslant f^{-1}(y_2) \\Rightarrow f^{-1} $ возрастает на $ [a, b] $. Она принимает все значения из $ [a, b] $ (т.к. является биекцией). Значит она непрерывна (по теореме 2)"
   ]
  }
 ],
 "metadata": {
  "kernelspec": {
   "display_name": "Python 3",
   "language": "python",
   "name": "python3"
  },
  "language_info": {
   "codemirror_mode": {
    "name": "ipython",
    "version": 3
   },
   "file_extension": ".py",
   "mimetype": "text/x-python",
   "name": "python",
   "nbconvert_exporter": "python",
   "pygments_lexer": "ipython3",
   "version": "3.7.4"
  }
 },
 "nbformat": 4,
 "nbformat_minor": 4
}
