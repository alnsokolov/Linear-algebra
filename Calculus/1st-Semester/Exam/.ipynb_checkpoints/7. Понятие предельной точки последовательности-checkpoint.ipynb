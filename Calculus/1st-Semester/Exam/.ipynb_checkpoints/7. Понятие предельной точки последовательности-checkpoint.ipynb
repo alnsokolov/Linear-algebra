{
 "cells": [
  {
   "cell_type": "markdown",
   "metadata": {},
   "source": [
    "# 7. Понятие предельной точки последовательности. Теорема о существовании верхнего и нижнего пределов у ограниченной последовательности. Теорема Больцано-Вейерштрасса."
   ]
  },
  {
   "cell_type": "markdown",
   "metadata": {},
   "source": [
    "### Определение 1\n",
    "\n",
    "Пусть $ k_1, k_2, \\dots, k_n, \\dots \\in \\mathbb{N}, k_1 < k_2 < \\dots< k_n < \\dots $ Последовательность $ \\{ x_{k_n} \\}_{n=1}^{+\\infty} $ называется подпоследовательностью последовательности $ \\{x_n\\}_{n=1}^{+\\infty} $\n",
    "\n",
    "### Определение 2\n",
    "\n",
    "Число $ x \\in \\mathbb{R} $ называется частичным пределом (предельной точкой), если $ \\exists \\{x_{k_n}\\} $, т.ч. $  x_{k_n} = x $. Очевидно, что если $ \\lim_{n \\to \\infty}\\limits x_n = x $, то $ x $ является и частиным пределом $ \\{ x_n \\} $."
   ]
  },
  {
   "cell_type": "markdown",
   "metadata": {},
   "source": [
    "### Утверждение 1\n",
    "\n",
    "Если $ \\exists \\lim_{n \\to \\infty}\\limits x_n = x $, то $ x = \\lim_{n \\to \\infty}\\limits x_{k_n} \\space \\space \\forall k $\n",
    "\n",
    "### Доказательство\n",
    "\n",
    "$ \\varepsilon > 0, \\space \\exists N \\in \\mathbb{N} $, т.ч. $ \\forall n \\geqslant N \\space |x_n - x| < \\varepsilon $. Пусть $ \\{x_{k_n}\\} $ - подпоследовательность. Поскольку $ k_n \\geqslant n \\space \\forall n \\in \\mathbb{N}, \\space \\forall k_n \\geqslant N \\space |x_{k_n} - x| < \\varepsilon \\Rightarrow \\lim_{n \\to \\infty}\\limits x_{k_n} = x $"
   ]
  },
  {
   "cell_type": "markdown",
   "metadata": {},
   "source": [
    "### Утверждение 2\n",
    "\n",
    "Если любая подпоследовательность сходится, то все они сходятся к одному пределу.\n",
    "\n",
    "### Доказательство\n",
    "\n",
    "Так как сама последовательность является своей подпоследовательностью, то она тоже сходится. Тогда по утверждению 1, все подпоследовательности сходятся к её пределу."
   ]
  },
  {
   "cell_type": "markdown",
   "metadata": {},
   "source": [
    "### Определение 3\n",
    "\n",
    "Число $ x \\in \\mathbb{R} $ называется предельной точкой (частичным пределом) $ \\{x_n\\} $, если $ \\forall \\varepsilon > 0 $ в $ \\varepsilon $-окрестности $ x $ лежит бесконечно много элементов $ \\{x_n\\} $."
   ]
  },
  {
   "cell_type": "markdown",
   "metadata": {},
   "source": [
    "### Утверждение 3\n",
    "\n",
    "Определение 2 эквивалентно определению 3"
   ]
  },
  {
   "cell_type": "markdown",
   "metadata": {},
   "source": [
    "### Утверждение 4\n",
    "\n",
    "Если $ \\{x_n\\} $ можно представить в виде непересекающихся подпоследовательностей, каждая из которых сходится к какому-то пределу, то это пределы являются частичными пределами $ \\{x_n\\} $ и других частичных пределов нет.\n",
    "\n",
    "Замечание: для бесконечного числа подпоследовательностей это уверждение не верно."
   ]
  },
  {
   "cell_type": "markdown",
   "metadata": {},
   "source": [
    "### Определение 4\n",
    "\n",
    "Наибольший (наименьший) из пределов называется верхним (нижним) пределом и обозначается $ \\overline{\\lim}_{n \\to \\infty}\\limits x_n \\space (\\underline{\\lim}_{n \\to \\infty}\\limits x_n) $"
   ]
  },
  {
   "cell_type": "markdown",
   "metadata": {},
   "source": [
    "### Теорема 1\n",
    "\n",
    "Любая ограниченная последовательность имеет верхний и нижний пределы и, в частности, хотя бы одну предельную точку.\n",
    "\n",
    "Замечание: если множество частичных пределов не ограничено сверху (снизу), то пишут $ \\overline{\\lim}_{n \\to \\infty}\\limits x_n \\space (\\underline{\\lim}_{n \\to \\infty}\\limits x_n) $. В теореме важно, что последовательность ограничена и сверху, и снизу. Например, для последовательности $ \\{x_n\\}, x_n = -n $ это не верно.\n",
    "\n",
    "### Доказательство\n",
    "\n",
    "По условию $ \\exists m, M \\in \\mathbb{R}: m \\leqslant x_n \\leqslant M \\space \\forall n \\in \\mathbb{N} $. Рассмотрим множество $ A \\subset \\mathbb{R} $, т.ч. $ a \\in A \\Leftrightarrow $ правее точки $ a $ на числовой оси конечное число элементов $ \\{x_n\\} $. Заметим, что $ A \\neq \\emptyset \\space (M \\in A); A $ ограничено снизу (например, числом $ m $). Значит, $ \\exists \\inf A = \\overline{x} $. Докажем, что $ \\overline{x} = \\overline{\\lim}_{n \\to \\infty}\\limits x_n $  \n",
    "Возьмём $ \\varepsilon > 0 $. По определению ТНГ $ \\exists a' \\in A $, т.ч. $ a' < \\overline{x} + \\varepsilon $. Значит, правее $ a' $ лежит не боле чем конечное число элементов. С другой стороны, $ \\overline{x} - \\varepsilon \\not\\in A \\Rightarrow $ правее $ \\overline{x} - \\varepsilon $ ледит бесконечное число элементов. Значит, бесконечное число элемнтов лежит в $ (\\overline{x} - \\varepsilon, a') \\subset B_\\varepsilon(\\overline{x}) $. Значит $ \\overline{x} $ - предел $ \\{x_n\\} $ Покажем, что он наибольший.  \n",
    "\n",
    "Пусть $ \\exists x^*: x^* > \\overline{x} $. Положим $ \\varepsilon = \\frac{x^* - \\overline{x}}{2} $. Тогда $ B_\\varepsilon(\\overline{x}) \\cap B_\\varepsilon(x^*) \\neq \\emptyset $. По доказанному выше, правее $ x + \\varepsilon $ лежит не более чем конечное число элементов последовательности $ \\Rightarrow  $ в $ B_\\varepsilon(x^*) $ не более чем конечное число элементов $ \\{x_n\\} \\Rightarrow x^* $ - не верхний предел $ \\{x_n\\} \\Rightarrow \\overline{x} = \\overline{\\lim}_{n \\to \\infty}\\limits x_n $"
   ]
  },
  {
   "cell_type": "markdown",
   "metadata": {},
   "source": [
    "### Следствие 1 (теорема Больцано-Вейерштрасса)\n",
    "\n",
    "Из любой сзодящейся последовательности можно выделить сходящуюся подпоследовательность.\n",
    "\n",
    "### Следствие 2\n",
    "\n",
    "Пусть $ \\{x_n\\} $ - ограниченная последовательность; $ \\overline{x} = \\overline{\\lim}_{n \\to \\infty}\\limits x_n, \\underline{x} = \\underline{\\lim}_{n \\to \\infty}\\limits x_n $. Тогда $ \\forall \\varepsilon > 0 $ на интервале $ (\\underline{x} - \\varepsilon, \\overline{x} + \\varepsilon) $ лежат все элементы последовательность, начиная с какого-то $ n $.\n",
    "\n",
    "### Доказательство\n",
    "\n",
    "Следует из того, что $ \\forall \\varepsilon > 0 $ на числовой оси правее $ \\overline{x} + \\varepsilon $ лежит конечное число элементов последовательности.\n",
    "\n",
    "### Следствие 3\n",
    "\n",
    "То, что последовательность схожится, эквивалентно тому, что она ограничена и $ \\overline{\\lim}_{n \\to \\infty}\\limits x_n = \\underline{\\lim}_{n \\to \\infty}\\limits x_n( = x)$\n",
    "\n",
    "### Доказательство\n",
    "\n",
    "$ \\Rightarrow $ уже доказано (свойство сходимости последовательности и следствие из утверждения 2)\n",
    "$ \\Leftarrow $ Из предыдущего следствия следует, что $ \\forall \\varepsilon > 0 $ на интервале $ (x - \\varepsilon, x + \\varepsilon) $ лежат все элементы $ \\{x_n\\} $, начиная с некоторого $ n $. Это охначает, что $ \\lim_{n \\to \\infty}\\limits x_n = x $"
   ]
  }
 ],
 "metadata": {
  "kernelspec": {
   "display_name": "Python 3",
   "language": "python",
   "name": "python3"
  },
  "language_info": {
   "codemirror_mode": {
    "name": "ipython",
    "version": 3
   },
   "file_extension": ".py",
   "mimetype": "text/x-python",
   "name": "python",
   "nbconvert_exporter": "python",
   "pygments_lexer": "ipython3",
   "version": "3.7.4"
  }
 },
 "nbformat": 4,
 "nbformat_minor": 4
}
