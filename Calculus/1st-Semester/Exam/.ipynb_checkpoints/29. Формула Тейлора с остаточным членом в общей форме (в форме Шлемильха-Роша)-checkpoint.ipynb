{
 "cells": [
  {
   "cell_type": "markdown",
   "metadata": {},
   "source": [
    "# 29. Формула Тейлора с остаточным членом в общей форме (в форме Шлемильха-Роша)."
   ]
  },
  {
   "cell_type": "markdown",
   "metadata": {},
   "source": [
    "## Формула Тейлора с остаточным членом в общей форме\n",
    "\n",
    "Пусть функция $ f \\space\\space (n+1) $ раз дифференцируема в $ \\dot B_\\delta(a), \\delta > 0 $. Тогда $ \\forall x \\in \\dot B_\\delta(a), p > 0 \\space\\space \\exists \\xi \\in \\dot B_\\delta(a) $, т.ч.  \n",
    "\n",
    "$$ f(x) = f(a) + \\frac{f^{(1)}(a)}{1!}(x-a) + \\frac{f^{(2)}(a)}{2!}(x-a)^2 + \\dots + \\frac{f^{(n)}(a)}{n!}(x-a)^n + R_{n + 1}(x) \\space\\space\\space\\space (*) $$  \n",
    "\n",
    "где  \n",
    "\n",
    "$$ R_{n + 1}(x) = \\left( \\frac{x - a}{x - \\xi} \\right)^p \\cdot \\frac{(x - \\xi)^{n + 1}}{n! \\cdot p} f^{(n + 1)}(\\xi) \\space\\space\\space\\space(**) $$\n",
    "\n",
    "Формула $ (*) $ называется формулой Тейлора с центром в точке $ a $; выражение $ R_{n + 1}(x) $ - остаточный член формулы Тейлора, а остаточный член вида $ (**) $ называется отстаточным членом в общей форме или в форме Шлемильха-Роша."
   ]
  },
  {
   "cell_type": "markdown",
   "metadata": {},
   "source": [
    "### Доказательство\n",
    "\n",
    "Обозначим $ \\varphi_n(x, a) = f(a) + \\frac{f'(a)}{1!}(x - a) + \\frac{f''(a)}{2!}(x - a)^2 + \\dots + \\frac{f^{(n)}(a)}{n!}(x - a)^n $\n",
    "\n",
    "Тогда $ R_{n + 1}(x) = f(x) - \\varphi_n(x, a) $\n",
    "\n",
    "Пусть $ x \\in [a, a + \\delta) $ (случай $ x < a $ доказывается аналогично). Рассмотрим функцию  \n",
    "\n",
    "$$ F(t) = f(x) - \\varphi_n(t, x) - (x - t)^p \\cdot Q_{n + 1}(x), \\space\\space\\space\\space a \\leqslant t \\leqslant x $$\n",
    "\n",
    "где $ Q_{n + 1}(x) = \\frac{R_{n + 1}(x)}{(x - a)^p} $, так как  \n",
    "\n",
    "$$ \\varphi_n(x, t) = f(t) + \\frac{f'(t)}{1!}(x - t) + \\frac{f''(t)}{2!}(x - t)^2 + \\dots + \\frac{f^{(n)}(t)}{n!}(x - t)^n $$\n",
    "\n",
    "а все функции $ f^{(k)}(t), k = \\overline{1, n} $ дифференцируемы на промежутке $ [a, a + \\delta) $, то можем утверждать, что функция $ \\psi(t) $ непрерывна и дифференцируема на сегменте $ [a, x] $ (как композиция дифференцируемых функций и многочленов). Кроме того, $ \\psi(a) = f(x) - \\varphi_n(x, a) - R_{n + 1}(x) = 0; \\space\\space \\psi(x) = f(x) - \\varphi_n(x, x) = f(x) - f(x) = 0 \\Rightarrow \\exists \\xi = \\xi(x, p) \\in (a, x): \\space \\psi'(x) = 0 $ (по теореме Ролля). Вычислим: \n",
    "\n",
    "$$ \\psi'(x) = -(\\varphi_n(x, t))|_{t = \\xi} + p(x - \\xi)^{n + 1}Q(x) = $$\n",
    "\n",
    "$$ = -\\left( f'(\\xi) - \\frac{f'(\\xi)}{1!} + \\frac{f''(\\xi)}{1!}(x - \\xi) - \\frac {f''(\\xi)}{2!} \\cdot 2(x - \\xi) + \\frac {f'''(\\xi)}{2!} \\cdot (x - \\xi)^2 - \\frac {f'''(\\xi)}{3!} \\cdot 3 (x - \\xi)^2 + \\dots + \\frac {f^{(n + 1)}(\\xi)}{n!} \\cdot (x - \\xi)^n \\right) + $$\n",
    "\n",
    "$$ p(x - \\xi)^{p - 1}Q(x) = -\\frac{f^{(n + 1)}(\\xi)}{n!}(x - \\xi)^n + p(x - \\xi)^{p - 1}Q(x) $$\n",
    "\n",
    "Так как $ \\psi'(x) = 0 $, то получаем, что \n",
    "\n",
    "$$ Q(x) = \\frac{f^{(n + 1)}(\\xi)}{n!p} \\frac{(x - \\xi)^n}{(x - \\xi)^{p - 1}} $$\n",
    "\n",
    "Отсюда следует, что \n",
    "\n",
    "$$ R_{n + 1}(x) = Q(x)(x - a)^p = \\frac{f^{(n + 1)}(\\xi)}{n! \\cdot p} \\cdot \\left( \\frac{x - a}{x - \\xi} \\right)^p (x - \\xi)^{n + 1} $$"
   ]
  },
  {
   "cell_type": "markdown",
   "metadata": {},
   "source": [
    "### Определение\n",
    "\n",
    "Многочлен $ \\varphi_n(x, a) = f(a) + \\frac{f'(a)}{1!}(x - a) + \\frac{f''(a)}{2!}(x - a)^2 + \\dots + \\frac{f^{(n)}(a)}{n!}(x - a)^n $ называется многочленом Тейлора степени $ n $ функции $ f(x) $ в точке $ a $."
   ]
  },
  {
   "cell_type": "markdown",
   "metadata": {},
   "source": [
    "### Замечания\n",
    "\n",
    "1. Пусть функция $ y = f(x) \\space\\space n $ раз дифференцируема в точке $ a $. Тогда\n",
    "   $$ \\varphi_n(a, a) = f(a), \\varphi_n'(a, a) = f'(a), \\dots, \\varphi_n^{(n)}(a, a) = f^{(n)}(a) $$\n",
    "2. Пусть $ f(x) = P(x) $ - многочлен $ n $-ой степени, то $ P^{(n + 1)} \\equiv 0 $ и формула $ (*) $ принимает вид $ P(x) = \\sum_{k = 0}^n\\limits \\frac{P^{(k)}(a)}{k!}(x - a)^k $ - формула Тейлора для многочленов."
   ]
  }
 ],
 "metadata": {
  "kernelspec": {
   "display_name": "Python 3",
   "language": "python",
   "name": "python3"
  },
  "language_info": {
   "codemirror_mode": {
    "name": "ipython",
    "version": 3
   },
   "file_extension": ".py",
   "mimetype": "text/x-python",
   "name": "python",
   "nbconvert_exporter": "python",
   "pygments_lexer": "ipython3",
   "version": "3.7.4"
  }
 },
 "nbformat": 4,
 "nbformat_minor": 4
}
