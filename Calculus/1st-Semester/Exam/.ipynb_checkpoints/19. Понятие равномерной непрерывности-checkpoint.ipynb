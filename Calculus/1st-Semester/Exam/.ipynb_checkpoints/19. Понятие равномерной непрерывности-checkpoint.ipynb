{
 "cells": [
  {
   "cell_type": "markdown",
   "metadata": {},
   "source": [
    "# 19. Понятие равномерной непрерывности. Теорема Кантора."
   ]
  },
  {
   "cell_type": "markdown",
   "metadata": {},
   "source": [
    "Пусть функция $ f $ определена на множестве $ X $, таком, что каждая его точка является предельной."
   ]
  },
  {
   "cell_type": "markdown",
   "metadata": {},
   "source": [
    "### Определение 1\n",
    "\n",
    "Функция $ f $ является равномерно-непрерывной на множестве $ X $, если $ \\forall \\varepsilon > 0 \\space \\exists \\delta(\\varepsilon) > 0 $, т.ч. $ \\forall x', x'' \\in X \\space |x' - x''| < \\delta \\Rightarrow |f(x') - f(x'')| < \\varepsilon $\n",
    "\n",
    "### Замечание\n",
    "\n",
    "Если $ f $ равномерно непрерывна на $ X $, то она непрерывна на $ X $: пусть $ x_0 \\in X $, полодим в определении 1 $ x_0 = x'' $. Получим $ \\forall \\varepsilon > 0 \\space \\exists \\delta(\\varepsilon) > 0: \\space \\forall x' \\in X \\space |x' - x_0| < \\delta \\Rightarrow |f(x') - f(x_0)| < \\varepsilon $, т.е. $ f $ непрерывна в точке $ x_0 $."
   ]
  },
  {
   "cell_type": "markdown",
   "metadata": {},
   "source": [
    "### Теорема Кантора\n",
    "\n",
    "Если $ f \\in c[a, b] $, то $ f $ равномерно непрерына на $ [a, b] $\n",
    "\n",
    "### Доказательство\n",
    "\n",
    "Пусть $ f \\in c[a, b] $. Предположим, что $ f $ не является равномерно непрерывной на $ [a, b] $. Тогда $ \\exists \\varepsilon > 0: \\forall n \\in \\mathbb{N} \\space x_n', x_n'' \\in [a, b] \\space\\space\\space\\space |x_n' - x_n''| < \\frac{1}{n} $, но $ |f(x_n') - f(x_n'')| \\geqslant \\varepsilon (**) $  \n",
    "Рассмотрим последовательность $ \\{x_n'\\} $. Она ограничена, следовательно из неё можно выделить сходящуюся подпоследовательность $ \\{x_{k_n}'\\} $ (по теореме Б-В). Пусть $ \\lim_{n \\to +\\infty}\\limits x_{k_n}' = x_0 $  \n",
    "По теореме о переходе к пределу в неравенстве, $ x_0 \\in [a, b] $. Тогда $ f $ непрерывна в точке $ x_0 $. Значит $ \\lim_{n \\to +\\infty}\\limits f(x_{k_n}') = f(x_0) $. Рассмотрим теперь последовательность $ \\{ x_{k_n}'' \\} $. Поскольку $ |x_{k_n}' - x_{k_n}''| < \\frac{1}{k_n} $, то $ \\lim_{n \\to +\\infty}\\limits x_{k_n}'' = x_0 \\Rightarrow \\lim_{n \\to +\\infty}\\limits f(x_{k_n}'') = f(x_0) $. Получим, что $ \\lim_{n \\to +\\infty}\\limits (f(x_{k_n}') - f(x_{k_n}'')) = 0 $, но это противоречит неравенству $ (**) $. Значит $ f $ равномерно непрерывна на $ [a, b] $"
   ]
  }
 ],
 "metadata": {
  "kernelspec": {
   "display_name": "Python 3",
   "language": "python",
   "name": "python3"
  },
  "language_info": {
   "codemirror_mode": {
    "name": "ipython",
    "version": 3
   },
   "file_extension": ".py",
   "mimetype": "text/x-python",
   "name": "python",
   "nbconvert_exporter": "python",
   "pygments_lexer": "ipython3",
   "version": "3.7.4"
  }
 },
 "nbformat": 4,
 "nbformat_minor": 4
}
