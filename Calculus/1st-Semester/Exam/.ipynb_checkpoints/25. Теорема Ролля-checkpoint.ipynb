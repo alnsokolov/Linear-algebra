{
 "cells": [
  {
   "cell_type": "markdown",
   "metadata": {},
   "source": [
    "# 25. Теорема о нуле производной (теорема Ролля) и ее геометрический смысл."
   ]
  },
  {
   "cell_type": "markdown",
   "metadata": {},
   "source": [
    "### Теорема Ролля\n",
    "\n",
    "Если вещественная функция $ f \\in c[a, b] $, $ f \\in d(a, b) $ и $ f(a) = f(b) $, то $ \\exists c \\in (a, b): \\space f'(c) = 0 $\n",
    "\n",
    "### Доказательство\n",
    "\n",
    "Если функция постоянна, то её производная равна $ 0 $ на всём отрезке $ [a, b] $.\n",
    "\n",
    "Иначе, т.к. значения функции на концах интервала равны, по второй теореме Вейертрасса, она примимает в какой-то точке этого интервала своё наибольшее и наименьшее значания, то есть имеет точки локального экстремума, в которых, по теореме Ферма, производная равна $ 0 $."
   ]
  },
  {
   "cell_type": "markdown",
   "metadata": {},
   "source": [
    "С геометрической точки зрения, это значит что если ординаты обоих концов гладкой кривой равны, то на кривой найдется точка, в которой касательная к кривой параллельна оси абсцисс."
   ]
  }
 ],
 "metadata": {
  "kernelspec": {
   "display_name": "Python 3",
   "language": "python",
   "name": "python3"
  },
  "language_info": {
   "codemirror_mode": {
    "name": "ipython",
    "version": 3
   },
   "file_extension": ".py",
   "mimetype": "text/x-python",
   "name": "python",
   "nbconvert_exporter": "python",
   "pygments_lexer": "ipython3",
   "version": "3.7.4"
  }
 },
 "nbformat": 4,
 "nbformat_minor": 4
}
