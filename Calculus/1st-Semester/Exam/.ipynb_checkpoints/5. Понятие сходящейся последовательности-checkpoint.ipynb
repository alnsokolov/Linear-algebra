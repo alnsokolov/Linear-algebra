{
 "cells": [
  {
   "cell_type": "markdown",
   "metadata": {},
   "source": [
    "# 5. Понятие сходящейся последовательности. Основные теоремы о сходящихся последовательностях (единственность предела, ограниченность сходящейся последовательности, арифметические операции над сходящимися последовательностями)."
   ]
  },
  {
   "cell_type": "markdown",
   "metadata": {},
   "source": [
    "### Определение 1\n",
    "\n",
    "Последовательность $ \\{x_n\\} $ назыавется сходящейся, если $ \\exists a \\in \\mathbb{R} $ (предел) для которого справедливо $ \\forall \\varepsilon > 0 \\space \\space \\exists N(\\varepsilon) \\in \\mathbb{N}: \\forall n \\geqslant N \\space |x_n - a| < \\varepsilon $\n",
    "\n",
    "Эквивалентное определение: последовательность $ \\{x_n\\} $ называется сходащейся к числу $ a $, если $ \\{x_n - a\\} $ - БМП\n",
    "\n",
    "Пишут: $ \\lim_{n \\to \\infty}\\limits x_n = a $ или $ x_n \\underset{n \\to \\infty}{\\to} a $\n",
    "\n",
    "Пусть $ \\lim_{n \\to \\infty} \\limits = a $ обозначим $ \\alpha_n = x_n - a $ по определению $ \\{\\alpha_n\\} $ - БМП. Следовательно последовательность $ \\{ x_n \\} $ можно представить в виде $ x_n = \\alpha_n + a $, где $ \\alpha_n $ - БМП. Заметим, что $ |x_n - a| < \\varepsilon \\Leftrightarrow x_n \\in (a - \\varepsilon , a + \\varepsilon) $"
   ]
  },
  {
   "cell_type": "markdown",
   "metadata": {},
   "source": [
    "### Определение 2\n",
    "\n",
    "Интервал $ (a - \\varepsilon, a + \\varepsilon), \\varepsilon > 0 $ будем называть $ \\varepsilon $ - окрестностью точки $ a $ и обозначать $ B_\\varepsilon(a) $\n",
    "\n",
    "Число $ a $ называется пределом последовательности $ \\{x_n\\} \\Leftrightarrow \\forall \\space \\varepsilon > 0 $ в $ \\varepsilon $-окрестности $ a $ содержатся все элементы этой последовательности, начиная с какого-то $ N $ (зависит от $ \\varepsilon $).  \n",
    "\n",
    "Если последовательность не сходится, то она расходится."
   ]
  },
  {
   "cell_type": "markdown",
   "metadata": {},
   "source": [
    "### Определение 3\n",
    "\n",
    "Будем говорить, что $ \\{ x_n \\} $ стремится к $ +\\infty \\space (-\\infty) $, если $ \\forall A > 0 \\space \\exists N(A) \\in \\mathbb{N}: \\forall n \\geqslant N \\space x_n > A \\space (x_n < -A) $. Пишут $ \\lim_{n \\to \\infty} \\limits x = \\infty $\n",
    "\n",
    "Последовательность $ \\{x_n\\} $ стремится к $ \\infty $, если $ \\forall A > 0 \\space \\exists N(A) \\in \\mathbb{N} $, т.ч. $ \\forall n \\geqslant N \\space |x_n| > A $ (т.е. $ \\{x_n\\} $ - ББП).\n",
    "\n",
    "Пример: $ \\{x_n\\} = \\{1, -1, 2, -2, \\dots\\} $"
   ]
  },
  {
   "cell_type": "markdown",
   "metadata": {},
   "source": [
    "### Теорема 1 (единственность предела)\n",
    "\n",
    "Если $ \\lim_{n \\to \\infty} \\limits x_n = a, \\lim_{n \\to \\infty} \\limits x_n = b $, то $ a = b $\n",
    "\n",
    "### Доказательство\n",
    "\n",
    "ПО определению $ x_n = a + \\alpha_n, x_n = b + \\beta_n $, где $ \\{ \\alpha_n \\}, \\{ \\beta_n \\} $ - БМП. Следовательно $ a + \\alpha_n = b + \\beta_n \\Rightarrow a - b = \\beta_n - \\alpha_n = 0 $ (свойство БМП) $ \\Rightarrow a = b $"
   ]
  },
  {
   "cell_type": "markdown",
   "metadata": {},
   "source": [
    "### Теорема 2 (ограниченность сходящейся последовательности)\n",
    "\n",
    "Если последовательность является сходящейся, то она ограничена\n",
    "\n",
    "### Доказетельство\n",
    "\n",
    "Пусть $ \\lim_{n \\to \\infty} \\limits x_n = a $. Тогда $ x_n = a + \\alpha_n $, где $ \\{ \\alpha_n \\} $ - БМП. Любая БМП является ограниченной $ \\Rightarrow \\space \\exists c > 0: |\\alpha_n| \\leqslant c $. Тогда $ |x_n| \\leqslant A \\space \\forall n \\in \\mathbb{N}, A = |a| + c $\n",
    "\n",
    "Заметим, что не любая ограниченная последовательность сходится."
   ]
  },
  {
   "cell_type": "markdown",
   "metadata": {},
   "source": [
    "### Теорема 3 (арифметические операции над сзодящимися последовательностями)\n",
    "\n",
    "Пусть $ \\lim_{n \\to \\infty} \\limits x_n = a, \\lim_{n \\to \\infty} \\limits y_n = b $. Тогда\n",
    "1. $ \\lim_{n \\to \\infty} \\limits (x_n \\pm y_n) = a \\pm b $\n",
    "2. $ \\lim_{n \\to \\infty} \\limits x_n y_n = ab $\n",
    "3. Если $ b \\neq 0 $, то $ \\lim_{n \\to \\infty} \\limits \\frac{x_n}{y_n} = \\frac{a}{b} $\n",
    "\n",
    "### Доказательство\n",
    "\n",
    "По определению $ x_n = a + \\alpha_n, y_n = b + \\beta_n $, где $ \\{\\alpha_n\\}, \\{\\beta_n\\} $ - БМП\n",
    "\n",
    "1. $ (x_n \\pm y_n) - (a \\pm b) = \\alpha_n \\pm \\beta_n $ - БМП $ \\Rightarrow \\lim_{n \\to \\infty} \\limits (x_n \\pm y_n) = a \\pm b $\n",
    "2. $ x_ny_n - ab = a_n \\alpha_n + b_n \\beta_n + \\alpha_n \\beta_n $ - БМП $ \\Rightarrow \\lim_{n \\to \\infty} \\limits x_n y_n = ab $\n",
    "3. Пусть $ \\lim_{n \\to \\infty} \\limits y_n = b \\neq 0 $. Покажем, что $ \\exists N \\in \\mathbb{N} $, т.ч. $ \\forall n \\geqslant N y_n \\neq 0 \\space $ и последовательность $ \\left\\{\\frac{1}{y_n} \\right\\}_{n = N}^{+\\infty} $ ограничена. Положим в определении предела $ \\varepsilon = \\frac{|b|}{2} > 0 \\Leftrightarrow b - \\frac{|b|}{2} < y_n < b + \\frac{|b|}{2} \\Rightarrow |y_n| > \\frac{|b|}{2} \\Rightarrow y_n \\neq 0 \\space \\forall n \\geqslant N $, кроме того $ \\frac{1}{y_n} < \\frac{2}{|b|} \\space \\forall n \\geqslant N \\Rightarrow $ поледовательность $ \\{\\frac{1}{y_n}\\}_{n = N}^{+\\infty} $ ограничена.\n",
    "   Пусть $ n \\geqslant N $. Тогда $ \\frac{x_n}{y_n} - \\frac{a}{b} = \\frac{x_n b - y_n a}{y_n b} = \\frac{(a + \\alpha_n) b - (b + \\beta_n) a}{y_n b} = \\frac{\\alpha_n b - \\beta_n a}{y_n b} = \\frac{1}{y_n} (\\alpha_n - \\frac{a}{b}\\beta_n) = \\gamma_n = \\{\\gamma_n\\} $ - БМП $ \\Rightarrow \\lim_{n \\to \\infty} \\limits \\frac{x_n}{y_n} = \\frac{a}{b} $\n",
    "   \n",
    "### Замечание\n",
    "\n",
    "Случай $ b = 0 $. Если $ b = 0, a \\neq 0 $, то $ \\{\\frac{x_n}{y_n}\\} $ - ББП. В случае $ a = b = 0 $ возможны разные варианты"
   ]
  }
 ],
 "metadata": {
  "kernelspec": {
   "display_name": "Python 3",
   "language": "python",
   "name": "python3"
  },
  "language_info": {
   "codemirror_mode": {
    "name": "ipython",
    "version": 3
   },
   "file_extension": ".py",
   "mimetype": "text/x-python",
   "name": "python",
   "nbconvert_exporter": "python",
   "pygments_lexer": "ipython3",
   "version": "3.7.4"
  }
 },
 "nbformat": 4,
 "nbformat_minor": 4
}
