{
 "cells": [
  {
   "cell_type": "markdown",
   "metadata": {},
   "source": [
    "# 33. Простейшие методы интегрирования (замена переменной, интегрирование по частям)."
   ]
  },
  {
   "cell_type": "markdown",
   "metadata": {},
   "source": [
    "### Основные методы интегрирования\n",
    "\n",
    "#### Замена переменной\n",
    "\n",
    "Пусть функция $ \\varphi:T \\to X, T = (\\alpha, \\beta), \\varphi $ непрерывно дифферециируема на $ T $; $ f $ определена на $ X = (a, b) $. Если $ f $ имеет на $ X $ непрерывную $ F $, то функция $ f(\\varphi)\\varphi' $ имеет первообразную на $ T $, причём $ \\int f(x)dx = \\int f(\\varphi(t))\\varphi(t)dt $  \n",
    "\n",
    "#### Доказательство  \n",
    "\n",
    "$ F'(x) = f(x) \\ \\ \\forall x \\in X \\Rightarrow (F(\\varphi(t)))' = F'(\\varphi(t))\\varphi'(x)=f(\\varphi(t))\\varphi'(t) \\Rightarrow \\int f(\\varphi(t))\\varphi'(t)dt = F(\\varphi(t)) + C = F(x) + C = \\int f(x)dx $"
   ]
  },
  {
   "cell_type": "markdown",
   "metadata": {},
   "source": [
    "#### Интегрирование по частям\n",
    "\n",
    "Пусть функции $ f, g $ лифференцируемы на $ (a, b) $. Если функция $ f' \\cdot g $ имеет на $ (a, b) $ первообразную, то и $ f \\cdot g' $ имеет на $ (a, b) $ первообразную, причём  \n",
    "$ \\int f(x)g'(x)dx = f(x)g(x) - \\int f'(x)g(x)dx $ - формула интегрирования по частям\n",
    "\n",
    "#### Доказательство\n",
    "\n",
    "$ (f(x)g(x))' = f'(x)g(x) + f(x)g'(x) \\ \\ \\forall x \\int (a, b) \\Rightarrow \\int f(x)g'(x)dx = \\int (f(x)g(x))'dx - \\int f'(x)g(x)dx = f(x)g(x) - \\int f(x)g'(x)dx $"
   ]
  },
  {
   "cell_type": "markdown",
   "metadata": {},
   "source": [
    "### Примеры\n",
    "\n",
    "1. $$ \\int a^x dx = \\int e^{x \\ln a} dx = |t = x \\ln a, \\space x = \\frac{t}{\\ln a}, dx = \\frac{dt}{\\ln a}| = \\int \\frac{e^t \\cdot dt}{\\ln a} = \\frac{1}{\\ln a} \\int e^tdt = \\frac{e^t}{\\ln a} + c = \\frac{a^x}{\\ln a} + C $$\n",
    "2. $$ \\int \\ln x dx = |\\ln x = u, dx = dv| = x \\ln x - \\int \\frac{x}{x}dx = x \\ln x - x + C $$"
   ]
  }
 ],
 "metadata": {
  "kernelspec": {
   "display_name": "Python 3",
   "language": "python",
   "name": "python3"
  },
  "language_info": {
   "codemirror_mode": {
    "name": "ipython",
    "version": 3
   },
   "file_extension": ".py",
   "mimetype": "text/x-python",
   "name": "python",
   "nbconvert_exporter": "python",
   "pygments_lexer": "ipython3",
   "version": "3.7.4"
  }
 },
 "nbformat": 4,
 "nbformat_minor": 4
}
