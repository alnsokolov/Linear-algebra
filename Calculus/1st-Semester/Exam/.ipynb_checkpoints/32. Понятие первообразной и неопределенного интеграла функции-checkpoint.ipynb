{
 "cells": [
  {
   "cell_type": "markdown",
   "metadata": {},
   "source": [
    "# 32. Понятие первообразной и неопределенного интеграла функции. Простейшие свойства неопределенного интеграла. Таблица неопределенных интегралов."
   ]
  },
  {
   "cell_type": "markdown",
   "metadata": {},
   "source": [
    "#### Определение 1\n",
    "\n",
    "Функция $ F $ первообразной (функцией) для функции $ f $ на промежутке $ (a, b) $, если $ F'(x) = f(x) \\ \\ \\forall x \\in (a, b) $"
   ]
  },
  {
   "cell_type": "markdown",
   "metadata": {},
   "source": [
    "#### Теорема 1\n",
    "\n",
    "Если $ F_1, F_2 $ - первообразные для $ f $ на $ (a, b) $ то $ F_1(x) - F_2(x) = C \\space\\space \\forall x \\in (a, b) $\n",
    "\n",
    "#### Доказательство\n",
    "\n",
    "По определению $ F_1'(x) = f(x), F_2'(x) = f(x) \\space\\space \\forall x \\in (a, b) \\Rightarrow (F_1(x) - F_2(x))' = 0 \\Rightarrow F_1(x) - F_2(x) = C \\space\\space \\forall x \\in (a, b) $ (по теореме Лагранжа)"
   ]
  },
  {
   "cell_type": "markdown",
   "metadata": {},
   "source": [
    "Таким образом множество всех первообразных для $ f $ на $ (a, b) $ имеет вид $ \\{F + C | C \\in \\mathbb{R} \\} $, где $ F $ - любая первообразная $ f $ на $ (a, b) $."
   ]
  },
  {
   "cell_type": "markdown",
   "metadata": {},
   "source": [
    "#### Определение 2\n",
    "\n",
    "Неопределенный интеграл от функции $ f $ на $ (a, b) $ называется множество всех первообразных функции на данном промежутке.\n",
    "\n",
    "Обозначается как $ \\int \\! f(x) \\, \\mathrm{d}x $, где $ \\int $ - знак интеграла, $ f(x) \\, \\mathrm{d}x $ - подынтегральное выражение, $ f(x) $ подынтегральная функция, $ dx $ - дифференциал. Если $ F $ - любая первообразная для $ f $ на $ (a, b) $, то пишут $ \\int \\! f(x)dx = F + C $ - равенство понимается как равенство множеств."
   ]
  },
  {
   "cell_type": "markdown",
   "metadata": {},
   "source": [
    "#### Свойства\n",
    "\n",
    "1. $ \\int \\! af(x)dx = a \\int \\! f(x)dx $\n",
    "2. $ \\int (f(x) \\pm g(x))dx = \\int f(x)dx \\pm \\int g(x)dx $\n",
    "3. $ (\\int f(x)dx)' = (F(x) + C)' = f(x); \\ \\ d(\\int f(x)dx) = f(x)dx $\n",
    "4. $ \\int dF(x) = \\int f(x)dx = F(x) + C $"
   ]
  },
  {
   "cell_type": "markdown",
   "metadata": {},
   "source": [
    "### Таблица интегралов\n",
    "\n",
    "1. $ \\int 0dx = C; \\ \\ \\int 1dx = x + C $\n",
    "2. $ \\int x^\\alpha dx =\\frac{x^{\\alpha + 1}}{\\alpha + 1} + C  $\n",
    "3. $ \\int \\frac{1}{x}dx = ln \\ |x| + C, x \\neq 1 $  \n",
    "   При $ x < 0 $: $ (ln |x|)' = \\frac{1}{|x|} \\cdot |x|' = \\frac{1}{x} $\n",
    "4. $ \\int a^xdx = \\frac{a^x}{ln \\ a} + C $\n",
    "5. $ \\int sin \\ x \\ dx = -cos \\ x + C $\n",
    "6. $ \\int cos \\ x \\ dx = sin \\ x + C $\n",
    "7. $ \\int \\frac{1}{cos^2}dx = tg \\ x + C $\n",
    "8. $ \\int \\frac{1}{sin^2}dx = -ctg \\ x + C $\n",
    "9. $ \\int sh \\ x \\ dx = ch \\ x + C $\n",
    "10. $ \\int ch \\ x \\ dx = sh \\ x + C  $\n",
    "11. $ \\int \\frac{1}{ch^2x}dx = th \\ x + C $\n",
    "12. $ \\int \\frac{1}{sh^2}dx = -cth \\ x + C $  \n",
    "Пусть $ a > 0 $:  \n",
    "13. $ \\int \\frac{dx}{x^2 + a^2} = \\begin{cases} \\frac{1}{a}arcctg \\ \\frac{x}{a} + C \\\\ - \\frac{1}{a}arcctg \\ \\frac{x}{a} + C \\end{cases} $  \n",
    "14. $ \\int \\frac{dx}{\\sqrt{a^2 - x^2}} = \\begin{cases} arcsin \\ \\frac{x}{a} + C \\\\ - arccos \\ \\frac{x}{a} + C \\end{cases} $\n",
    "15. $ \\int \\frac{1}{x^2 - a^2}dx = \\frac{1}{2a}ln \\left|\\frac{x - a}{x + a}\\right| + C $\n",
    "16. $ \\int \\frac{1}{\\sqrt{x^2 \\pm a^2}}dx = ln |x + \\sqrt{x^2 \\pm a^2}| $, для знака \"-\": $ |x| > a $"
   ]
  }
 ],
 "metadata": {
  "kernelspec": {
   "display_name": "Python 3",
   "language": "python",
   "name": "python3"
  },
  "language_info": {
   "codemirror_mode": {
    "name": "ipython",
    "version": 3
   },
   "file_extension": ".py",
   "mimetype": "text/x-python",
   "name": "python",
   "nbconvert_exporter": "python",
   "pygments_lexer": "ipython3",
   "version": "3.7.4"
  }
 },
 "nbformat": 4,
 "nbformat_minor": 4
}
