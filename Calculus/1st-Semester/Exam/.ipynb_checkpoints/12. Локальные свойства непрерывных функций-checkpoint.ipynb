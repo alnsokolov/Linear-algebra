{
 "cells": [
  {
   "cell_type": "markdown",
   "metadata": {},
   "source": [
    "# 12. Локальные свойства непрерывных функций. Непрерывность сложной функции."
   ]
  },
  {
   "cell_type": "markdown",
   "metadata": {},
   "source": [
    "### Теорема 1 (об арифметических операциях)\n",
    "\n",
    "Пусть $ f, g $ определены на множестве $ X $ и непрерывны в точке $ a \\in X $. Тогда $ f(x) \\pm g(x), f(x)g(x), \\frac{f(x)}{g(x)} $ (если $ g(x) \\neq 0 $) являются непрерывными в точке $ a $.\n",
    "\n",
    "### Доказательство\n",
    "\n",
    "Сразу следует из теоремы об арифметических операциях на функциях, имеющих предел в точке."
   ]
  },
  {
   "cell_type": "markdown",
   "metadata": {},
   "source": [
    "Пусть $ x = \\phi(t), \\space \\varphi: T \\to X $ - функция, $ y = f(x), f: X \\to Y $ - функция. $ T \\subset \\mathbb{R}, X \\subset \\mathbb{R}, Y \\subset \\mathbb{R} $.  Тогда отображение $ f(\\varphi): T \\to Y, y = f(\\varphi(t)), t \\in T $ называется сложной функцией или композицией функций $ f $ и $ \\phi $. Пишут $ f \\circ \\varphi $"
   ]
  },
  {
   "cell_type": "markdown",
   "metadata": {},
   "source": [
    "### Теорема 2 (о непрерывности сложной функции)\n",
    "\n",
    "Пусть функция $ \\varphi $ непрерывна в точке $ t_0 \\in T $, а функция $ f $ - в точке $ x_0 = \\varphi(t_0) $. Тогда сложная функция $ f \\circ \\varphi $ непрерывна в точке $ t_0 $.\n",
    "\n",
    "### Доказательство\n",
    "\n",
    "Пусть $ \\{t_n\\} $ - последовательность точек множества $ T $, такая, что $ \\lim_{n \\to \\infty}\\limits t_n = t_0 $. В силу непрерывности функции $ \\varphi $ в точке $ t_0, \\lim_{n \\to \\infty}\\limits \\varphi(t_n) = \\varphi(t_0) = x_0 $. Обозначим $ x_n = \\varphi(t_n) $. Тогда $ x_n \\in X, \\lim_{n \\to \\infty}\\limits x_n = x_0 \\Rightarrow $ в силу непрерывности функции $ f $ в точке $ x_0, \\lim_{n \\to \\infty}\\limits f(x_n) = f(x_0) $. Получаем, что для любой последовательности аргументов $ \\{ t_n \\} $ функции $ f(\\varphi) $, такой что $ \\lim_{n \\to \\infty}\\limits t_n = t_0, \\space\\space \\lim_{n \\to \\infty}\\limits f(\\varphi(t_n)) = f(\\varphi(t_0)) $. Согласно определению по Гейне, функция $ f(\\varphi) $ непрерывна в точке $ t_0 $\n",
    "\n",
    "ч.т.д."
   ]
  },
  {
   "cell_type": "markdown",
   "metadata": {},
   "source": [
    "### Теорема 3 (о локальной ограниченности)\n",
    "\n",
    "Пусть $ f $ непрерывна в точке $ a $. Тогда она ограничена на множестве $ B_\\delta(a) \\cap X $\n",
    "\n",
    "### Доказательство\n",
    "\n",
    "Сразу следует из теоремы о локальной ограниченности функции, имеющей конечный предел в точке $ a $."
   ]
  },
  {
   "cell_type": "markdown",
   "metadata": {},
   "source": [
    "### Теорема 4 (о сохранении знака непрерывной функции)\n",
    "\n",
    "Пусть $ f $ определена в окрестности точки $ a $ и она непрерывна в точке $ a $. Если $ f(a) > 0 \\space (<0) $, то $ \\exists \\delta > 0: \\space f(x) > 0 \\space (<0) \\space \\forall x \\in B_\\delta(a) $\n",
    "\n",
    "### Доказательство\n",
    "\n",
    "Положим в определении непрерывности по Коши $ \\varepsilon = \\frac{|f(a)|}{2} > 0 $. Тогда $ \\exists \\delta > 0: \\forall x \\in B_\\delta(a) \\space\\space |f(x) - f(a) < \\frac{|f(a)|}{2}| \\Leftrightarrow f(a) - \\frac{|f(a)|}{2} < f(x) < f(a) + \\frac{|f(a)|}{2} \\space \\forall x \\in B_\\delta(a) $  \n",
    "Если $ f(a) > 0 $, то $ f(x) > \\frac{f(a)}{2} > 0 \\space\\space\\space \\forall x \\in B_\\delta(a) $  \n",
    "Если $ f(a) < 0 $, то $ f(x) < \\frac{f(a)}{2} < 0 \\space\\space\\space \\forall x \\in B_\\delta(a) $\n",
    "\n",
    "ч.т.д."
   ]
  }
 ],
 "metadata": {
  "kernelspec": {
   "display_name": "Python 3",
   "language": "python",
   "name": "python3"
  },
  "language_info": {
   "codemirror_mode": {
    "name": "ipython",
    "version": 3
   },
   "file_extension": ".py",
   "mimetype": "text/x-python",
   "name": "python",
   "nbconvert_exporter": "python",
   "pygments_lexer": "ipython3",
   "version": "3.7.4"
  }
 },
 "nbformat": 4,
 "nbformat_minor": 4
}
