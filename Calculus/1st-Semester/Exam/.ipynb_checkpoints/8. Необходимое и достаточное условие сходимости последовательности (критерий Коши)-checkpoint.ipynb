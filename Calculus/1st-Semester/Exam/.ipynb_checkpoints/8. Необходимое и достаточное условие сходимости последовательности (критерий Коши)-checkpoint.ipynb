{
 "cells": [
  {
   "cell_type": "markdown",
   "metadata": {},
   "source": [
    "# 8. Необходимое и достаточное условие сходимости последовательности (критерий Коши)."
   ]
  },
  {
   "cell_type": "markdown",
   "metadata": {},
   "source": [
    "### Определение 1\n",
    "\n",
    "Последовательность $ \\{x_n\\} $ называется последовательностью Коши (фундаментальной последовательностью), если $ \\forall \\varepsilon > 0 \\exists N(\\varepsilon) \\in \\mathbb{N} $, т.ч. $ \\forall n \\geqslant N \\space \\forall p \\in \\mathbb{N} \\space |x_{n + p} - x_{p}| < \\varepsilon $"
   ]
  },
  {
   "cell_type": "markdown",
   "metadata": {},
   "source": [
    "### Лемма 1\n",
    "\n",
    "Пусть $ \\{x_n\\} $ - фундаментальная последовательность. Тогда $ \\forall \\varepsilon > 0 \\exists N(\\varepsilon) \\in \\mathbb{N} $, т.ч. $ \\forall n \\geqslant N \\space x_n \\in (x_n - \\varepsilon, x_n + \\varepsilon) $\n",
    "\n",
    "### Доказательство\n",
    "\n",
    "Положим в определнии фундаментальной последовательности $ n = N \\Rightarrow \\forall p \\in \\mathbb{N} \\space |x_{n + p} - x_n| < \\varepsilon \\Leftrightarrow x_{n + p} \\in (x_n - \\varepsilon, x_n + \\varepsilon) $. Обозначим $ n = N + p $, когда $ n \\geqslant N $. Значит $ \\forall n \\geqslant N \\space x_n \\in (x_N - \\varepsilon, x_N - \\varepsilon) $"
   ]
  },
  {
   "cell_type": "markdown",
   "metadata": {},
   "source": [
    "### Лемма 2\n",
    "\n",
    "Пусть $ \\{x_n\\} $ - фундаментальная последовательность. Тогда она ограничена.\n",
    "\n",
    "### Доказательство\n",
    "\n",
    "Выберем в лемме 1 $ \\varepsilon = 1. \\space \\exists N \\in \\mathbb{N}: \\space \\forall n \\geqslant N \\space | x_n - x_N | < 1 \\Rightarrow |x_n| < |x_N| + 1 $. Положим $ A = \\max \\{ |x_1|, |x_2|, \\dots, |x_{N - 1}|, |x_N| + 1 \\} $. Тогда $ |x_n| \\leqslant A \\space \\forall n \\in \\mathbb{N} $"
   ]
  },
  {
   "cell_type": "markdown",
   "metadata": {},
   "source": [
    "### Теорема 1 (притерий Коши сходимости последовательности)\n",
    "\n",
    "Последовательность сходится $ \\Leftrightarrow $ она фундаментальна\n",
    "\n",
    "### Доказательство\n",
    "\n",
    "$ \\Rightarrow| $ Пусть $ \\lim_{n \\to \\infty}\\limits x_n = x $. Возьмём $ \\varepsilon > 0. \\space \\exists N(\\varepsilon) \\in \\mathbb{N}: \\forall n \\geqslant N \\space |x_n - x| < \\frac{\\varepsilon}{2} $. Тогда тем более $ \\forall n \\geqslant N, \\forall p \\in \\mathbb{N} \\space |x_{n + p} - x| < \\frac{\\varepsilon}{2} $. Значит $ \\forall n \\geqslant N, \\forall p \\in \\mathbb{N} \\space |x_{n + p} - x_n| = |x_{n + p} - x + x - x_n| \\geqslant |x_{n + p} - x| + |x_n - x| < \\frac{\\varepsilon}{2} + \\frac{\\varepsilon}{2} = \\varepsilon $\n",
    "\n",
    "$ \\Leftarrow | $ Пусть последовательность $ \\{x_n\\} $ - фундаментальная последовательность. Тогда она ограничена (по лемме 2). Выберем из неё сходящуюся подпоследовательность $ \\{x_{k_n}\\} $ (по теореме Больцано-Вейерштрасса). Пусть $ \\lim_{n \\to \\infty}\\limits x_{k_n} = x $. Докажем, что $ x = \\lim_{n \\to \\infty}\\limits x_n $. Возьмём $ \\varepsilon > 0 \\space \\exists N_1(\\varepsilon) \\in \\mathbb{N}: \\forall n \\geqslant N_1 \\space |x_{k_n} - x| < \\frac{\\varepsilon}{2} $. Поскольку $ \\{x_n\\} $ - фундаментальная последовательность, то $ \\exists N_2(\\varepsilon) \\in \\mathbb{N}: \\forall n \\geqslant N_2, \\forall p \\in \\mathbb{N} \\space |x_{n + p} - x_n| < \\frac{\\varepsilon}{2} $. Положим $ n = \\max \\{N_1, N_2\\} $. Тогда $ \\forall n \\geqslant N \\space |x_n - x| = |x_n - x_{k_n} + x_{k_n} - x| \\geqslant |x_{k_n} - x_n| + |x_{k_n} - x| < \\frac{\\varepsilon}{2} + \\frac{\\varepsilon}{2} = \\varepsilon \\Rightarrow \\lim_{n \\to \\infty}\\limits x_n = x $\n",
    "\n",
    "Следствие: $ x_n $ расходится $ \\Leftrightarrow \\exists \\varepsilon > 0: \\forall N \\in \\mathbb{N} \\space \\exists n \\geqslant N, \\exists p \\in \\mathbb{N} \\space |x_{n + p} - x_n| \\geqslant \\varepsilon $ "
   ]
  }
 ],
 "metadata": {
  "kernelspec": {
   "display_name": "Python 3",
   "language": "python",
   "name": "python3"
  },
  "language_info": {
   "codemirror_mode": {
    "name": "ipython",
    "version": 3
   },
   "file_extension": ".py",
   "mimetype": "text/x-python",
   "name": "python",
   "nbconvert_exporter": "python",
   "pygments_lexer": "ipython3",
   "version": "3.7.4"
  }
 },
 "nbformat": 4,
 "nbformat_minor": 4
}
