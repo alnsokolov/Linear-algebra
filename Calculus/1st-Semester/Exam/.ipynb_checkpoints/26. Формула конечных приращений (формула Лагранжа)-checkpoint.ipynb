{
 "cells": [
  {
   "cell_type": "markdown",
   "metadata": {},
   "source": [
    "# 26. Формула конечных приращений (формула Лагранжа). Следствия из теоремы Лагранжа."
   ]
  },
  {
   "cell_type": "markdown",
   "metadata": {},
   "source": [
    "### Теорема Ферма\n",
    "\n",
    "Пусть функция $ f \\in c[a, b], f \\in d(a, b) $. Тогда $ \\exists \\zeta: \\space f(b) - f(a) = f'(\\xi) (b - a) $\n",
    "\n",
    "### Доказательство\n",
    "\n",
    "Рассмотрим вспомогательную функцию $ F(x) = f(x) - f(a) - \\frac{f(b) - f(a)}{b - a}(x - a) $. Заметим, что $ F \\in c[a, b], F \\in (a, b) $ (поскольку представляет из себя линейную комбинацию функции $ f(x) $ и линейной функции). Заметим, также, что $ F(a) = 0, F(b) = 0 $. Значит функция $ F $ удовлетворяет на промежутке $ [a, b] $ всем условиям теоремы Ролля; следовательно, на интервале $ [a, b] \\space \\exists \\xi: F'(\\zeta) = 0. F'(\\xi) = f'(\\xi) - \\frac{f(b) - f(a)}{b - a} = 0 \\Rightarrow f'(\\xi)(b - a) = f(b) - f(a) $"
   ]
  },
  {
   "cell_type": "markdown",
   "metadata": {},
   "source": [
    "### Геометрический смысл\n",
    "\n",
    "При выполнении всех условий теоремы на кривой $ y = f(x), a < x < b $ найдётся точка, касательная в которой будет параллельна секущей, проходящей через $ A(a, f(a)), B(b, f(b)) $."
   ]
  },
  {
   "cell_type": "markdown",
   "metadata": {},
   "source": [
    "### Замечание\n",
    "\n",
    "Формулу $ f(b) - f(a) = f'(\\xi) (b - a) $ принято называть формулой Лагранжа или формулой конечных приращений. Если положить в ней $ x = a_0, b = x_0 + \\Delta x $, то она представима в виде $ \\Delta f = f(x_0 + \\Delta x) - f(x_0) = f'(x_0 + \\theta \\cdot \\Delta x) \\cdot \\Delta x, \\space\\space\\space\\space 0 < \\theta < 1 $"
   ]
  },
  {
   "cell_type": "markdown",
   "metadata": {},
   "source": [
    "### Следствие 1\n",
    "\n",
    "Если функция $ f(x) \\in d(a, b), f'(x) = 0 \\space \\forall x \\in (a, b) $, то $ f(x) = const $\n",
    "\n",
    "### Доказательство\n",
    "\n",
    "Пусть $ x_0 \\in (a, b) $. Вощтмём произвольгую точку $ x \\in (a, b) $ (пусть $ x > x_0 $), Тогда $ f(x) \\in d(a, b) $, следовательно, $ f(x) \\in c(a, b) $. Тогда по теореме Лагранжа $ \\exists \\xi \\in (a, b): \\space f(x) - f(x_0) = f'(\\zeta) (x - x_0) \\Rightarrow f(x) = f(x_0) \\Rightarrow f(x) = f(x_0) \\space \\forall x \\in (a, b) \\Rightarrow f(x) = const $"
   ]
  },
  {
   "cell_type": "markdown",
   "metadata": {},
   "source": [
    "### Следствие 2\n",
    "\n",
    "Пусть $ f(x) \\in d(a, b) $. Тогда:\n",
    "\n",
    "1. $ f(x) $ не убывает (не возрастает), тогда и только тогда, когда $ f'(x) \\geqslant 0 \\space\\space(f'(x) \\leqslant 0) \\space\\space \\forall x \\in (a, b) $\n",
    "2. Если $ f'(x) > 0 \\space\\space (f'(x) < 0) \\space\\space \\forall x \\in (a, b) $, то $ f(x) $ возрастает (убывает) на $ (a, b) $\n",
    "\n",
    "### Доказательство\n",
    "\n",
    "1. Необходимость. Пусть $ f(x) $ не убывает на $ (a, b) $. Предположим, что сущетвует такая точка $ x_1 \\in (a, b) $, что $ f'(x_1) < 0 $. Тогда $ f(x) $ убывает в точке $ x_1 $ (достаточное условие для убываения в точке). Значит, найдётся такая точка $ x_2 > x_1 $, что $ f(x_2) < f(x_1) $. Но это противоречит тому, что $ f(x) $ является неубывающей. Значит $ f'(x) \\geqslant 0 \\space \\forall x \\in (a, b) $.\n",
    "   Достаточность. Пусть $ f'(x) \\geqslant 0 \\space \\forall x \\in (a, b) $. Выберем точки $ x_1, x_2 \\in (a, b), \\space x_1 < x_2 $. Заметим, что $ f \\in c[a, b], f \\in d(a, b) \\Rightarrow $ по теореме Лагранжа найдётся такая точка $ \\xi \\in (x_1, x_2) $, что $ f(x_2) - f(x_1) = f'(\\xi)(x_2 - x_1) $. Т.к. $ f'(\\xi) \\geqslant 0, \\space x_2 - x_1 > 0 $, левая часть равенства тоже имеет неотрицательный знак. Следовательно $ f(x_2) \\geqslant f(x_1) \\space\\space \\forall x_2 > x_1 $, то есть функция $ f $ не убывает на $ (a, b) $.\n",
    "   \n",
    "2. Пусть $ f'(x) > 0 \\space \\forall x \\in (a, b) $. Выберем точки $ x_1, x_2 \\in (a, b), \\space x_1 < x_2 $. Заметим, что $ f \\in c[a, b], f \\in d(a, b) \\Rightarrow $ по теореме Лагранжа найдётся такая точка $ \\xi \\in (x_1, x_2) $, что $ f(x_2) - f(x_1) = f'(\\xi)(x_2 - x_1) $. Т.к. $ f'(\\xi) > 0, \\space x_2 - x_1 > 0 $, левая часть равенства тоже имеет положительный знак. Следовательно $ f(x_2) > f(x_1) \\space \\forall x_2 > x_1 $, то есть функция $ f $ возрастает на $ (a, b) $."
   ]
  },
  {
   "cell_type": "markdown",
   "metadata": {},
   "source": [
    "### Следствие 3\n",
    "\n",
    "Пусть функция $ f(x) \\in d(a, b) $. Тогда её производная на этом интервале не может иметь ни устранимых разрывов, ни разрывов первого рода.\n",
    "\n",
    "### Доказательство\n",
    "\n",
    "Пусть $ c \\in (a, b) $ - точка разрыва и этой точке производная $ f'(x) $ имеет конечные односторонние пределы $ l_1 = \\lim_{x \\to c-0}\\limits f'(x), l_2 = \\lim_{x \\to c+0}\\limits f'(x) $. Возьмём произвольную точку $ x \\in (a, b), \\space x > c $. Так как $ f \\in c(a, b), f \\in d(a, b) $, то найдётся точка $ \\xi \\in (c, x): \\space \\frac{f(x) - f(c)}{x - c} = f'(\\xi) $. Значит $ f'(c) = \\lim_{x \\to c+0}\\limits \\frac{f(x) - f(c)}{x - c} = \\lim_{x \\to c+0}\\limits f'(\\xi) = l_2 $ (предел правой части существует, поскольку существует предел левой части). Аналогично $ f'(c) = l_1 $. Значит $ f'(x) $ непрерывна в точке $ c $."
   ]
  }
 ],
 "metadata": {
  "kernelspec": {
   "display_name": "Python 3",
   "language": "python",
   "name": "python3"
  },
  "language_info": {
   "codemirror_mode": {
    "name": "ipython",
    "version": 3
   },
   "file_extension": ".py",
   "mimetype": "text/x-python",
   "name": "python",
   "nbconvert_exporter": "python",
   "pygments_lexer": "ipython3",
   "version": "3.7.4"
  }
 },
 "nbformat": 4,
 "nbformat_minor": 4
}
