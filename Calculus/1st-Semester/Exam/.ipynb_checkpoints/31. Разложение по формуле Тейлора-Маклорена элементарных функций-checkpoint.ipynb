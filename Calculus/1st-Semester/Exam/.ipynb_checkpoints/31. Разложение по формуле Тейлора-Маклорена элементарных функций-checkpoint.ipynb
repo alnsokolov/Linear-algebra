{
 "cells": [
  {
   "cell_type": "markdown",
   "metadata": {},
   "source": [
    "# 31. Разложение по формуле Тейлора-Маклорена элементарных функций. Примеры приложений формулы Тейлора для приближенных вычислений элементарных функций и вычисления пределов."
   ]
  },
  {
   "cell_type": "markdown",
   "metadata": {},
   "source": [
    "1. $ f(x) = e^x$. Поскольку $ f^{(n)}(x) = e^x \\space\\space\\space \\forall n = 0, 1, \\dots $, то $ f^{(n)}(0) = 1$\n",
    "   \n",
    "   $ e^x = 1 + x + \\frac{x^2}{2!}  + \\frac{x^3}{3!} + \\dots + \\frac{n^2}{n!} + R_{n+1}(x) $\n",
    "   \n",
    "   $ R_{n+1}(x) = \\frac{e^{\\theta x}}{(n + 1)!} \\cdot x^{n + 1} $"
   ]
  },
  {
   "cell_type": "markdown",
   "metadata": {},
   "source": [
    "2. $ f(x) = sin (x) $. Поскольку $ (sin \\ x)' = sin (x  +\\frac{\\pi}{2}) $, то $ f^{n}(x) = \\begin{cases} 0 &, n = 2k \\newline (-1)^k &, n = 2k + 1 \\end{cases}$\n",
    "   \n",
    "   $ sin \\ x = 1 - \\frac{1}{x^3} + \\frac{1}{x^5} + \\dots + \\frac{1}{x^{2n + 1}} + R_{n + 1}(x) $  \n",
    "\n",
    "   $ R_{n + 1}(x) = \\frac{x^{n + 2}}{(n + 2)!}\\sin (\\theta_1 x + \\pi + \\frac{\\pi n}{2}), \\theta \\in (0, 1) $"
   ]
  },
  {
   "cell_type": "markdown",
   "metadata": {},
   "source": [
    "3. $ f(x) = \\cos x $. Поскольку $ f^{(n)}(x) = \\cos (x + \\frac{\\pi n}{2}) $, то $ f^{(n)}(0) = \\cos(\\frac{\\pi n}{2}) = \\begin{cases} (-1)^k, &n=2k, k = 1, 2, \\dots \\newline 0, &n = 2k + 1, k = 0, 1\\dots \\end{cases} $  \n",
    "\n",
    "   $ \\cos x = 1 - \\frac{x^2}{2!} + \\frac{x^4}{4!} - \\frac{x^6}{6!} + \\dots + \\frac{(-1)^kx^{2k}}{(2k)!} + R_{n + 2}(x) $ \n",
    "   \n",
    "   $ R_{n + 2}(x) = \\frac{x^{n + 2}}{(n + 2)!} \\cos (\\theta_1 x + \\pi + \\frac{\\pi n}{2}), \\theta_1 \\in (0, 1) $"
   ]
  },
  {
   "cell_type": "markdown",
   "metadata": {},
   "source": [
    "4. $ f(x) = \\ln(1 + x) $. Поскольку $ f^{(n)} = \\frac{(-1)^n (n - 1)!}{(x + 1)^n} $, то $ f(0) = 0, f^{(n)} = (-1)^n(n - 1)! $\n",
    "\n",
    "   $ \\ln(1 + x) = x - \\frac{x^2}{2} + \\frac{x^3}{3} - \\frac{x^4}{4} + \\dots + \\frac{(-1)^{n - 1}x^n}{n} + R_{n + 1}(x) $\n",
    "   \n",
    "   $ R_{n + 1}(x) = \\frac{(-1)^{n}x^{n + 1}}{(n + 1)(1 + \\theta_1 x)^{n + 1}} = \\frac{(-1)^n (1 - \\theta_2)^n x^{n + 1}}{(1 + \\theta_2 x)^{n + 1}}, \\space \\theta_1, \\theta_2 \\in (0, 1) $"
   ]
  },
  {
   "cell_type": "markdown",
   "metadata": {},
   "source": [
    "5. $ (1 + x)^\\alpha, \\alpha \\in \\mathbb{R}, -1 < x < 1 $  \n",
    "\n",
    "   $ f^{(n)}(x) = \\alpha (\\alpha - 1) \\cdots (\\alpha - n + 1) \\cdot (1 + x)^{\\alpha - n} \\Rightarrow f^{(n)}(x) = \\alpha (\\alpha - 1) \\cdots (\\alpha - n + 1) $  \n",
    "   \n",
    "   $ (1 + x)^\\alpha = 1 + \\alpha x + \\frac{\\alpha (\\alpha - 1)}{2}x^2 + \\cdots + \\frac{\\alpha (\\alpha - 1) \\cdots (\\alpha - n + 1)}{n!}x^n + R_{n + 1}(x) $\n",
    "   \n",
    "   $ R_{n + 1}(x) = \\frac{\\alpha (\\alpha - 1) \\cdots (\\alpha - n) \\cdot (1 + \\theta x)^{\\alpha - n + 1} \\cdot (1 - \\theta)^{n} \\cdot x^{n + 1}}{n!}, \\space \\theta \\in (0, 1)$"
   ]
  },
  {
   "cell_type": "markdown",
   "metadata": {},
   "source": [
    "## Примеры вычисления пределов\n",
    "\n",
    "1. $$ \\lim_{x \\to 0}\\limits \\frac{x - \\sin x}{x^3} = \\lim_{x \\to 0}\\limits \\frac{x - (x - \\frac{x^3}{3!} + \\overline{o}(x^4))}{x^3} = \\lim_{x \\to 0}\\limits \\left(\\frac{1}{6} + \\overline{o}(x) \\right) = \\frac{1}{6} $$\n",
    "2. $$ \\lim_{x \\to 0}\\limits \\frac{x(e^x + 1) - 2(e^x - 1)}{x^3} = \\lim_{x \\to 0}\\limits \\frac{2x + x^2 + \\frac{x^3}{2} - 2x - x^2 - \\frac{x^3}{3} + \\overline{o}(x^4)}{x^3} = \\lim_{x \\to 0}\\limits \\frac{\\frac{1}{6} \\cdot x^3 + \\overline{o}(x^4)}{x^3} = \\frac{1}{6} $$"
   ]
  }
 ],
 "metadata": {
  "kernelspec": {
   "display_name": "Python 3",
   "language": "python",
   "name": "python3"
  },
  "language_info": {
   "codemirror_mode": {
    "name": "ipython",
    "version": 3
   },
   "file_extension": ".py",
   "mimetype": "text/x-python",
   "name": "python",
   "nbconvert_exporter": "python",
   "pygments_lexer": "ipython3",
   "version": "3.7.4"
  }
 },
 "nbformat": 4,
 "nbformat_minor": 4
}
