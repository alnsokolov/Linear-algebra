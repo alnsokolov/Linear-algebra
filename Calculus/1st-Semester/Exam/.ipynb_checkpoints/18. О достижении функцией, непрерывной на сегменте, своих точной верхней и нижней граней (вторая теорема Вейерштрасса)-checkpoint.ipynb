{
 "cells": [
  {
   "cell_type": "markdown",
   "metadata": {},
   "source": [
    "# 18. О достижении функцией, непрерывной на сегменте, своих точной верхней и нижней граней (вторая теорема Вейерштрасса)."
   ]
  },
  {
   "cell_type": "markdown",
   "metadata": {},
   "source": [
    "### Определение\n",
    "\n",
    "Пусть $ f $ определена на множестве $ X, A \\subset X $. Число $ M \\in \\mathbb{R} \\space (m \\in \\mathbb{R}) $ называется точной верхней (нижней) гранью функции $ f $ на множестве $ A $, если:\n",
    "1. $ f(x) \\leqslant M \\space (f(x) \\geqslant m) \\space \\forall x \\in A $\n",
    "2. $ \\forall \\varepsilon > 0 \\space\\space \\exists x' \\in A: \\space f(x') > M - \\varepsilon \\space (f(x') < m + \\varepsilon) $\n",
    "\n",
    "Обозначение: $ M = \\underset{x \\in A}{\\sup} f(x), m = \\underset{x \\in A}{\\inf} f(x) $"
   ]
  },
  {
   "cell_type": "markdown",
   "metadata": {},
   "source": [
    "### Вторая теорема Вейерштрасса\n",
    "\n",
    "Пусть $ f \\in c[a, b] $. Тогда $ \\exists x_1, x_2 \\in [a, b]: \\space f(x_1) = \\underset{x \\in A}{\\sup} f(x), f(x_2) = \\underset{x \\in A}{\\inf} f(x) $\n",
    "\n",
    "### Доказательство\n",
    "\n",
    "Проведём для $ \\sup $ (для $ \\inf $ - аналогично). Обозначим $ M = \\underset{x \\in A}{\\sup} f(x) $. Предположим, что $ f(x) \\neq M \\space\\space \\forall x \\in [a, b] $. Тогда $ f(x) < M \\space\\space \\forall x \\in [a, b] $. Рассмотрим вспомогательную фугкцию $ g(x) = \\frac{1}{M - f(x)} > 0 $. Функция $ g \\in c[a, b] \\Rightarrow \\exists c > 0: \\space 0 < g(x) < c \\space \\forall x \\in [a, b] \\Rightarrow f(x) < M - \\frac{1}{c} \\space \\forall x \\in [a, b] $. Значит $ M - \\frac{1}{c} $ - верхняя граница $ f $ на $ [a, b] \\Rightarrow M $ не является точной гранью. Противоречие. Следовательно $ \\exists x_1 \\in [a, b]: \\space f(x_1) = M $\n",
    "\n",
    "ч.т.д."
   ]
  }
 ],
 "metadata": {
  "kernelspec": {
   "display_name": "Python 3",
   "language": "python",
   "name": "python3"
  },
  "language_info": {
   "codemirror_mode": {
    "name": "ipython",
    "version": 3
   },
   "file_extension": ".py",
   "mimetype": "text/x-python",
   "name": "python",
   "nbconvert_exporter": "python",
   "pygments_lexer": "ipython3",
   "version": "3.7.4"
  }
 },
 "nbformat": 4,
 "nbformat_minor": 4
}
