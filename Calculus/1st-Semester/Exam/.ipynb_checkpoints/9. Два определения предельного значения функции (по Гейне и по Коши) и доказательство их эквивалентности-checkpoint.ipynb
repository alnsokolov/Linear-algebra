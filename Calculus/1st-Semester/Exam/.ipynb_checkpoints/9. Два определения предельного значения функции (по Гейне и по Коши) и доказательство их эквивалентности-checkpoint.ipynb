{
 "cells": [
  {
   "cell_type": "markdown",
   "metadata": {},
   "source": [
    "# 9. Два определения предельного значения функции (по Гейне и по Коши) и доказательство их эквивалентности. Критерий Коши существования предельного значения функции."
   ]
  },
  {
   "cell_type": "markdown",
   "metadata": {},
   "source": [
    "### Определение предела функции по Коши\n",
    "\n",
    "Число $ b \\in \\mathbb{R} $ называется пределом $ f $ в точке $ a $, если $ \\forall \\varepsilon > 0 \\space \\exists \\delta(\\varepsilon): \\forall x \\in \\dot B_\\delta(a) \\cap X \\space |f(x) - b| < \\varepsilon $\n",
    "\n",
    "В этом и последующих определениях подразумевается, что $ a $ - предельная точка функции.\n",
    "\n",
    "### Определение предела функции по Гейне\n",
    "\n",
    "Число $ b \\in \\mathbb{R} $ называется пределом фукнции $ f $ в точке $ a $, если для любой последовательности аргументов, такой что $ \\lim_{n \\to \\infty}\\limits x_n = a, x_n \\neq a, \\lim_{n \\to \\infty}\\limits f(x_n) = b $\n",
    "\n",
    "Пишут: $ \\lim_{x \\to a}\\limits f(x) = b $"
   ]
  },
  {
   "cell_type": "markdown",
   "metadata": {},
   "source": [
    "### Теорема 1\n",
    "\n",
    "Определния по Коши и Гейне эквивалентны\n",
    "\n",
    "### Доказательство\n",
    "\n",
    "Пусть по Коши выполнено. $ \\exists \\delta(\\varepsilon) > 0 $, т.ч. $ \\forall x \\in \\dot B_\\delta(a) \\cap X \\space |f(a) - b| < \\varepsilon $. Пусть $ \\{x_n\\} $ - последовательность аргументов, такакя что $ \\lim_{n \\to \\infty}\\limits x_n = a, x_n \\neq a $. Значит $ \\exists N(\\delta(\\varepsilon)) $, т.ч $ \\forall n \\geqslant N \\space x_n \\in \\dot B_\\delta(a) \\cap X \\space |f(x) - b| < \\varepsilon $. Это и означает, что $ \\lim_{n \\to \\infty}\\limits f(x_n) = b \\Rightarrow $ определние выполненио и по Гейне.\n",
    "\n",
    "Допустим, что оно не выполнено по Коши. Значит $ \\exists \\delta(\\varepsilon) > 0: \\forall n \\in \\mathbb{N} \\space \\exists x_n \\in \\dot B_\\delta(a) \\cap X $, т.ч. $ |f(x_n) - b| \\geqslant \\varepsilon $. Получим последовательность аргументов $ \\{x_n\\} $, т.ч. $ \\lim_{n \\to \\infty}\\limits x_n = a, x_n \\neq a $, при этом $ \\lim_{n \\to \\infty}\\limits f(x_n) \\neq b \\Rightarrow $ и по Гейне определение не выполнено."
   ]
  },
  {
   "cell_type": "markdown",
   "metadata": {},
   "source": [
    "### Определение 5 (Коши)\n",
    "\n",
    "$ \\lim_{x \\to a}\\limits f(x) = \\infty (-\\infty, +\\infty) \\Leftrightarrow \\forall \\varepsilon > 0 \\space \\exists \\delta(\\varepsilon) > 0: \\space \\forall x \\in \\dot B_\\delta(a) \\cap X \\space\\space\\space |f(x)| > \\varepsilon \\space\\space (f(x) > \\varepsilon, \\space\\space f(x) < -\\varepsilon) $\n",
    "\n",
    "### Определение 6 (Гейне)\n",
    "\n",
    "$ \\lim_{x \\to a}\\limits f(x) = \\infty (-\\infty, +\\infty) \\Leftrightarrow \\forall \\{x_n\\}, \\lim_{n \\to \\infty}\\limits x_n = a, x_n \\neq a \\space\\space\\space  \\lim_{n \\to \\infty}\\limits f(x_n) = \\infty \\space ( +\\infty, \\space -\\infty ) $\n",
    "\n",
    "### Определение 7 (Коши)\n",
    "\n",
    "$ \\lim_{x \\to +\\infty}\\limits f(x) = b \\space \\left( \\lim_{x \\to -\\infty}\\limits f(x) = b \\right) \\Leftrightarrow \\forall \\varepsilon > 0 \\space \\exists \\delta(\\varepsilon) > 0: \\space \\forall x \\in (\\delta, +\\infty) \\cap X \\space ((-\\infty, -\\delta) \\cap X) \\space\\space\\space |f(x) - b| < \\varepsilon $\n",
    "\n",
    "### Определение 8 (Гейне)\n",
    "\n",
    "$ \\lim_{x \\to +\\infty}\\limits f(x) = b \\space \\left( \\lim_{x \\to -\\infty}\\limits f(x) = b \\right) \\Leftrightarrow \\forall \\{x_n\\}, \\lim_{n \\to \\infty}\\limits x_n = +\\infty (-\\infty), x_n \\neq a \\space\\space\\space  \\lim_{n \\to \\infty}\\limits f(x_n) = b $"
   ]
  },
  {
   "cell_type": "markdown",
   "metadata": {},
   "source": [
    "### Определение 9 (Коши)\n",
    "\n",
    "Число $ b \\in \\mathbb{R} $ называется арифметическим пределом в точке $ a $ справа (слева), если $ \\forall \\varepsilon > 0 \\space \\exists \\delta(\\varepsilon) > 0: \\forall x \\in (a, a + \\delta) \\cap X \\space (\\forall x \\in (a - \\delta, a) \\cap X) \\space |f(x) - b| < \\varepsilon $"
   ]
  },
  {
   "cell_type": "markdown",
   "metadata": {},
   "source": [
    "### Определение 10 (Гейне)\n",
    "\n",
    "Число $ b \\in \\mathbb{R} $ называется арифметическим пределом в точке $ a $ справа (слева), если для любой последовательности аргументов $ \\{ x_n \\} $, т.ч. $ \\lim_{n \\to \\infty}\\limits x_n = a, x_n > a \\space (x_n < a) \\space \\lim_{n \\to \\infty}\\limits f(x_n) = b $"
   ]
  },
  {
   "cell_type": "markdown",
   "metadata": {},
   "source": [
    "Обозначения: $ \\lim_{x \\to a + 0}\\limits f(x) = b $ и $ \\lim_{x \\to a - 0}\\limits f(x) = b $ соответственно"
   ]
  },
  {
   "cell_type": "markdown",
   "metadata": {},
   "source": [
    "### Утверждение 1\n",
    "\n",
    "Пусть $ f $ определена в окрестности точки $ a $. $ \\lim_{x \\to a + 0}\\limits f(x) = \\lim_{x \\to a - 0}\\limits f(x) \\Leftrightarrow \\exists \\lim_{x \\to a}\\limits f(x) $\n",
    "\n",
    "### Доказательство\n",
    "\n",
    "Сразу следует из определений 3 и 9."
   ]
  },
  {
   "cell_type": "markdown",
   "metadata": {},
   "source": [
    "### Определение 11\n",
    "\n",
    "Функция $ f $ удовлетворяет условию Коши, если $ \\forall \\varepsilon > 0 \\exists \\delta(\\varepsilon) > 0 $, т.ч. $ \\forall x', x'' \\in \\dot B_\\delta(a) \\cap X \\space |f(x') - f(x'')| < \\varepsilon $"
   ]
  },
  {
   "cell_type": "markdown",
   "metadata": {},
   "source": [
    "### Теорема 2 (критерий Коши существования предела функции в точке)\n",
    "\n",
    "Функция $ f $ имеет в точке $ a $ конечный предел $ \\Leftrightarrow $ она удовлетворяет условию Коши.\n",
    "\n",
    "### Доказательство\n",
    "\n",
    "$ \\Rightarrow | $ Пусть $ \\lim_{x \\to \\infty}\\limits = 0 $. Возьмём $ \\varepsilon > 0 \\exists \\delta(\\varepsilon) > 0, \\forall x', x'' \\in \\dot B_\\delta(a) \\cap X \\space |f(x') - f(x'')| \\leqslant |f(x'') - b| + |f(x') - b| < \\frac{\\varepsilon}{2} + \\frac{\\varepsilon}{2} = \\varepsilon $. Так что $ \\forall x \\in \\dot B_\\delta(a) \\cap X \\space |f(x) - b| < \\frac{\\varepsilon}{2} $  \n",
    "\n",
    "$ \\Leftarrow | $ Пусть функция $ f $ удовлетворяет условию Коши. $ \\varepsilon > 0 $ построим $ \\delta > 0 $ из условия Коши. Пусть $ \\{x_n\\} $ - произвольная последовательность аргументов, такая что $ \\lim_{n \\to \\infty}\\limits x_n = a, x_n \\neq a $. Тогда $ \\exists N(\\delta(\\varepsilon)) $, т.ч. $ \\forall n \\geqslant N \\space x_n \\in \\dot B_\\delta(a) \\cap X $. Тем более, $ \\forall p \\in \\mathbb{N} \\space x_{n + p} \\in \\dot B_\\delta(a) \\cap X $. Тогда из условия Коши следует, что $ |f(x_{n + p}) - f(x_n)| < \\varepsilon $. Получается, что предел последовательность $ \\{f(x_n)\\} $ не зависит от выбора $ \\{x_n\\} $  \n",
    "$ \\lim_{n \\to \\infty}\\limits x'_n = a, x'_n \\neq a \\space f(x'_n) = b'; \\lim_{n \\to \\infty}\\limits x''_n = a, x''_n \\neq a \\space \\lim_{n \\to \\infty}\\limits f(x''_n) = b''  $. Рассмотрим последовательность $ \\{x_n\\} = \\{ x'_1, x''_1, x'_2, x''_2, \\dots \\} $. Очевидно, что $ \\lim_{n \\to \\infty}\\limits x_n = a, x_n \\neq a \\Rightarrow \\lim_{n \\to \\infty}\\limits f(x_n) = b $. Но $ \\{ f(x'_n) \\}, \\{ f(x''_n) \\} $ - подпоследовательности $ \\{ f(x_n) \\} \\Rightarrow b' = b'' = b $ "
   ]
  }
 ],
 "metadata": {
  "kernelspec": {
   "display_name": "Python 3",
   "language": "python",
   "name": "python3"
  },
  "language_info": {
   "codemirror_mode": {
    "name": "ipython",
    "version": 3
   },
   "file_extension": ".py",
   "mimetype": "text/x-python",
   "name": "python",
   "nbconvert_exporter": "python",
   "pygments_lexer": "ipython3",
   "version": "3.7.4"
  }
 },
 "nbformat": 4,
 "nbformat_minor": 4
}
