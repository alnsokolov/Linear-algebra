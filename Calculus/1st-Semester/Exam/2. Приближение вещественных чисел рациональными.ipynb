{
 "cells": [
  {
   "cell_type": "markdown",
   "metadata": {},
   "source": [
    "# 2. Приближение вещественных чисел рациональными. Арифметические операции над вещественными числами. Свойства вещественных чисел."
   ]
  },
  {
   "cell_type": "markdown",
   "metadata": {},
   "source": [
    "### Лемма 1\n",
    "\n",
    "$ \\forall a, b, \\in \\mathbb{R}, a < b \\space\\space \\exists d \\in \\mathbb{Q}: a < d < b $\n",
    "\n",
    "### Доказательство\n",
    "\n",
    "Пусть $ 0 < a < b, a < b \\Rightarrow \\space \\exists k \\in \\mathbb{N} \\cup \\{0\\}: a_0 = b_0, \\dots, a _k < b_k $. Положим $ d = a_0, \\dots a_k \\underset{если \\space\\space есть}{\\underbrace{9\\dots9}}(a_m + 1) $, где $ m > k $, $ m $ - первый из номеров, таких что $ a_m < 9 $.\n",
    "\n",
    "Получим $ d \\in \\mathbb{Q}, d < b, a < d $ (т.к. $ a_m < a_m + 1 $).  \n",
    "Если $ a < 0, b > 0 $, то можно взять $ d = 0 $.\n",
    "\n",
    "Если $ a < b \\leqslant 0 $, то $ 0 \\leqslant |b| < |a| \\Rightarrow \\space \\exists \\hat{d} \\in \\mathbb{Q} $, т.ч. $ |b| < \\hat{d} < |a| \\Rightarrow a < -\\hat{d} < b $.\n",
    "\n",
    "Следствие: между любыми двумя не равными вещественными числами можно поместить бесконечно много рациональных."
   ]
  },
  {
   "cell_type": "markdown",
   "metadata": {},
   "source": [
    "### Лемма 2\n",
    "\n",
    "Пусть $ \\alpha \\in \\mathbb{R}, \\forall \\varepsilon \\in \\mathbb{Q}, \\varepsilon > 0, \\space \\exists a, b \\in \\mathbb{Q} $, т.ч. $ a \\leqslant \\alpha \\leqslant b, b - a < \\varepsilon $\n",
    "\n",
    "### Доказательство\n",
    "\n",
    "Пусть $ \\alpha \\geqslant 0 $. Возьмём $ \\forall \\varepsilon \\in \\mathbb{Q}, \\varepsilon > 0 $. Согласно аксиоме Архимеда $ \\exists n \\in \\mathbb{N}, 10^n > \\frac{1}{\\varepsilon} $. Тогда $ \\varepsilon > \\frac{1}{10^n} $. Положим $ a = a_0, a_1 \\dots a_n00\\dots, b = a + \\frac{1}{10^n} \\Rightarrow a \\leqslant \\alpha, b \\geqslant \\alpha, b - a = \\frac{1}{10^n} < \\varepsilon $.\n",
    "\n",
    "Если $ \\alpha < 0 $, то $ |\\alpha| > 0 \\Rightarrow \\space \\exists \\hat{a}, \\hat{b} \\in \\mathbb{Q} $, т.ч. $ \\hat{a} \\leqslant |\\alpha| \\leqslant \\hat{b}, \\hat{b} - \\hat{a} < \\varepsilon $. Теперь $ a = -\\hat{b}, b = -\\hat{a} $"
   ]
  },
  {
   "cell_type": "markdown",
   "metadata": {},
   "source": [
    "### Лемма 3\n",
    "\n",
    "Пусть $ a, b\\in \\mathbb{R} $. Если $ \\forall \\varepsilon > 0, \\varepsilon \\in \\mathbb{Q} \\space \\exists \\gamma_1, \\gamma_2 \\in \\mathbb{Q} $, т.ч. $ \\gamma_1 \\leqslant a \\leqslant \\gamma_2, \\gamma_1 \\leqslant b \\leqslant \\gamma_2  $, причём $ \\gamma_2 - \\gamma_1 < \\varepsilon $, то $ a = b $\n",
    "\n",
    "### Доказательство\n",
    "\n",
    "Предположим $ a \\neq b, a < b $ ($ a > b $ аналогично). Согласно Лемме 1 $ \\exists \\alpha_1, \\alpha_2: a < \\alpha_1 < \\alpha_2 < b. \\space\\space \\varepsilon > 0 \\Rightarrow \\space \\exists \\gamma_1, \\gamma_2 \\in \\mathbb{Q}: \\gamma_1 \\leqslant a < \\alpha_2 < \\alpha_2 < b \\leqslant \\gamma_2 $, причём $ \\gamma_2 - \\gamma_1 < \\varepsilon $. Тогда $ \\gamma_1 < \\alpha_1 < \\alpha_2 < \\gamma_2 \\Rightarrow 0 < \\alpha_2 - \\alpha_1 < \\gamma_2  - \\gamma_1 < \\varepsilon $. Это справедливо для $ \\forall \\varepsilon > 0, \\varepsilon \\in  \\mathbb{Q} $. Положим $ \\varepsilon = \\frac{\\alpha_2 - \\alpha_1}{2} $. Получим, что $ \\alpha_2 - \\alpha_1 < \\frac{\\alpha_2 - \\alpha_1}{2} $. Противоречие."
   ]
  },
  {
   "cell_type": "markdown",
   "metadata": {},
   "source": [
    "### Определение 1\n",
    "\n",
    "Число $ c \\in \\mathbb{R} $ называется суммой $ a, b \\in \\mathbb{R} $, если $ \\forall \\alpha_1, \\alpha_2, \\beta_1, \\beta_2 \\in \\mathbb{Q} $, т.ч. $ \\alpha_1 \\leqslant a \\leqslant \\alpha_2, \\beta_1 \\leqslant b \\leqslant \\beta_2 $ и $ \\alpha_1 + \\beta_1 \\leqslant c \\leqslant \\alpha_2 + \\beta_2 $\n",
    "\n",
    "### Определение 2\n",
    "\n",
    "Число $ c \\in \\mathbb{R} $ называется произведением $ a, b \\in \\mathbb{R}, a > 0, b > 0 $, если $ \\forall \\alpha_1, \\alpha_2, \\beta_1, \\beta_2 \\in \\mathbb{Q} $, т.ч. $ \\alpha_1 \\leqslant a \\leqslant \\alpha_2, \\beta_1 \\leqslant b \\leqslant \\beta_2 $ и $ \\alpha_1 \\cdot \\beta_1 \\leqslant c \\leqslant \\alpha_2 \\cdot \\beta_2 $"
   ]
  },
  {
   "cell_type": "markdown",
   "metadata": {},
   "source": [
    "### Теорема 1\n",
    "\n",
    "$ \\forall a, b \\in \\mathbb{R} \\space \\exists! c \\in \\mathbb{R}: c = a + b $\n",
    "\n",
    "### Доказательство\n",
    "\n",
    "1. $ A = \\{ \\alpha_1 + \\beta_1 | \\alpha_1, \\beta_1 \\in \\mathbb{Q}, \\alpha_1 \\leqslant a, \\beta_1 \\leqslant b \\}, A \\neq \\emptyset. A $ ограничено сверху (например $\\forall \\alpha_2, \\beta_2 \\in \\mathbb{Q}: \\alpha_2 \\geqslant a, \\beta_2 \\geqslant b $). Из Теоремы 1 $ \\exists c = \\sup A $. Заметим, что $ c \\geqslant \\alpha_1 + \\beta_1 \\space \\forall \\alpha_1, \\beta_1 \\in \\mathbb{Q} $ т.ч. $ \\alpha_1 \\geqslant a, \\beta_1 \\geqslant b $ ($ c = \\sup A $). С другой стороны $ c \\leqslant \\alpha_2 + \\beta_2 \\space \\forall \\alpha_2, \\beta_2 \\in \\mathbb{Q} $ т.ч. $ \\alpha_2 \\geqslant a, \\beta_2 \\geqslant b \\Rightarrow \\alpha_2 + \\beta_2 $ - одна из верхних граней $ A $. Согласно определению 1 $ c = a + b $\n",
    "2. Пусть $ c_1 = a + b, c_2 = a + b \\Rightarrow \\space \\exists \\alpha_1, \\beta_2, \\beta_1, \\beta_2 \\in \\mathbb{Q} $, т.ч. $ \\alpha_1 \\leqslant a \\leqslant \\alpha_2, \\beta_1 \\leqslant b \\leqslant \\beta_2, \\alpha_2 - \\alpha_1 < \\frac{\\varepsilon}{2}, \\beta_2 - \\beta_1 < \\frac{\\varepsilon}{2}. \\gamma_1 = \\alpha_1 + \\beta_1, \\gamma_2 = \\alpha_2 + \\beta_2 $. Тогда $ \\gamma_1 \\leqslant c_1 \\leqslant \\gamma_2, \\gamma_1 \\leqslant c_2 \\leqslant \\gamma_2, \\gamma_2 - \\gamma_2 < \\varepsilon $. ПО лемме 3 $ c_1 = c_2 $\n",
    "\n",
    "ч.т.д."
   ]
  },
  {
   "cell_type": "markdown",
   "metadata": {},
   "source": [
    "### Теорема 2\n",
    "\n",
    "$ \\forall a, b \\in \\mathbb{R} \\space \\exists! c \\in \\mathbb{R}: c = a \\cdot b $\n",
    "\n",
    "### Доказательство\n",
    "\n",
    "1. Достатачно провести для случая $ a > 0, b > 0 $. $ A = \\{ \\alpha_1 \\cdot \\beta_1 | \\alpha_1, \\beta_1 \\in \\mathbb{Q}, \\alpha_1 \\leqslant a, \\beta_1 \\leqslant b \\}, A \\neq \\emptyset. A $ ограничено сверху (например $\\forall \\alpha_2, \\beta_2 \\in \\mathbb{Q}: \\alpha_2 \\geqslant a, \\beta_2 \\geqslant b $). Из Теоремы 1 $ \\exists c = \\sup A $. Поскольку $ c = \\sup A, c \\geqslant \\alpha_1 \\beta_1 $. Поскольку $ c $ - ТВГ $ A, c \\leqslant \\alpha_2 \\cdot \\beta_2 \\Rightarrow c = a \\cdot b $\n",
    "\n",
    "2. Пусть $ c_1 = a \\cdot b, c_2 = a \\cdot b $  \n",
    "   $ \\varepsilon > 0, \\varepsilon \\in \\mathbb{Q}, M = \\max \\{[a], [b]\\} + 1 \\space\\space (M > a, M > b) $.  Из леммы 2 следует, что $ \\exists \\alpha_1, \\alpha_2, \\beta_1, \\beta_2 \\in \\mathbb{Q}: 0 < \\alpha_1 \\leqslant a \\leqslant \\alpha_2 \\leqslant M, 0 < \\beta_1 \\leqslant b \\leqslant \\beta_2 \\leqslant M $, причём $ \\alpha_2 - \\alpha_1 < \\frac{\\varepsilon}{2M}, \\beta_2 - \\beta_1 < \\frac{\\varepsilon}{2M} $. Пусть $ \\gamma_1 = \\alpha_1 \\beta_1, \\gamma_2 = \\alpha_2 \\beta_2 $. Тогда $ \\gamma_1 \\leqslant c_1 \\leqslant \\gamma_2, \\gamma_1 \\leqslant c_2 \\leqslant \\gamma_2 $  \n",
    "   $ \\gamma_2 - \\gamma_1 = \\alpha_2 (\\beta_2 - \\beta_1) + \\beta_1 (\\alpha_2 - \\alpha_1) < \\varepsilon \\Rightarrow c_1 = c_2 $ по лемме 3\n",
    "   \n",
    "ч.т.д."
   ]
  },
  {
   "cell_type": "markdown",
   "metadata": {},
   "source": [
    "## Свойства вещественных чисел\n",
    "\n",
    "1. $ \\forall a, b \\in \\mathbb{R}: a > b $ или $ a < b $ или $ a = b $ (упорядоченность)  \n",
    "   $ a > b \\Leftrightarrow b < a $\n",
    "2. $ a = b, b = c \\Rightarrow a = c \\space; \\space a < b, b < c \\Rightarrow a < c $ (транщитивность операции сравнения)\n",
    "3. $ \\forall a, b \\in \\mathbb{R} \\space \\exists! c \\in \\mathbb{R}: c = a + b $ (корректность операции сложения)\n",
    "4. $ \\forall a, b \\in \\mathbb{R} \\space \\exists! c \\in \\mathbb{R}: c = a \\cdot b $ (корректность операции умножения)\n",
    "5. $ \\forall a, b \\in \\mathbb{R}: a + b = b + a $ (коммутативность операции сложения)\n",
    "6. $ \\forall a, b, c \\in \\mathbb{R}: (a + b) + c = a + (b + c) $ (ассоциативность)\n",
    "7. $ \\exists! 0 \\in \\mathbb{R}: 0 + a = a + 0 = a \\space\\space \\forall a \\in \\mathbb{R} $\n",
    "8. $ \\forall a \\in \\mathbb{R} \\space \\exists! a' \\in \\mathbb{R}: a + a' = a' + a = 0 $\n",
    "9. $ \\forall a, b \\in \\mathbb{R}: a \\cdot b = b \\cdot a $ (коммутативность операции умножения)\n",
    "10. $ \\forall a, b, c \\in \\mathbb{R}: (a \\cdot b) \\cdot c = a \\cdot (b \\cdot c) $ (ассоциативность)\n",
    "11. $ \\exists! 1 \\in \\mathbb{R}: 1 \\cdot a = a \\cdot 1 = a \\space\\space \\forall a \\in \\mathbb{R} $\n",
    "12. $ \\forall a \\in \\mathbb{R}, a \\neq 0 \\space \\exists! a' \\in \\mathbb{R}: a \\cdot a' = a' \\cdot a = 1 $\n",
    "13. $ \\forall a, b, c \\in \\mathbb{R}: a \\cdot (b + c) = a \\cdot b + a \\cdot c $\n",
    "14. $ \\forall a, b, c \\in \\mathbb{R} \\space a < b \\Rightarrow a + c < b + c $\n",
    "    #### Доказательство  \n",
    "    $ a < b \\Rightarrow \\exists \\alpha_2, \\beta_1: a < \\alpha_2 < \\beta_1 < b $ (по лемме 1). Обозначим $ \\varepsilon = \\beta_1 - \\alpha_2 \\Rightarrow \\varepsilon > 0 , \\varepsilon \\in \\mathbb{Q} $. Из леммы 2 следует, что $ \\exists \\gamma_1, \\gamma_2 \\in \\mathbb{Q} $, т.ч. $ \\gamma_1 \\leqslant c \\leqslant \\gamma_2, \\gamma_2 - \\gamma_1 < \\varepsilon $. Пусть $ \\alpha_1, \\beta_2 \\in \\mathbb{Q}, \\alpha_1 \\leqslant a, b \\leqslant \\beta_2 $. Из определения суммы следует, что $ \\alpha_1 + \\gamma_1 \\leqslant a + c \\leqslant \\alpha_2 + \\gamma_2, \\beta_1 + \\gamma_1 \\leqslant a + b \\leqslant \\beta_2 + \\gamma_2 $  \n",
    "    $ (\\beta_1 - \\gamma_1) - (\\alpha_2 + \\gamma_2) = (\\beta_1 - \\alpha_2) - (\\gamma_2 - \\gamma_1) > 0 \\Rightarrow \\alpha_2 + \\gamma_2 < \\beta_1 + \\gamma_1 \\Rightarrow a + c \\leqslant \\alpha_2 + \\gamma_2 < \\beta_1 + \\gamma_1 \\leqslant b + c \\Rightarrow a + c < b + c $  \n",
    "\n",
    "\n",
    "15. $ \\forall a, b, c \\in \\mathbb{R} \\space a < b \\Rightarrow a \\cdot c < b \\cdot c $\n",
    "16. $ \\forall a \\in \\mathbb{R} \\space\\space \\exists n \\in \\mathbb{N}: \\space n > a $\n",
    "    #### Доказательство\n",
    "    Если $ a \\leqslant 0 $, то $ n = 1 $  \n",
    "    Если $ a > 0, a = a_0, a_1 a_2 \\dots $, то $ n = a_0 + 1 $"
   ]
  },
  {
   "cell_type": "markdown",
   "metadata": {},
   "source": [
    "### Определение 3\n",
    "\n",
    "Разностью чисел $ a $ и $ b $ называется число $ c $, т.ч. $ b + c = a $\n",
    "\n",
    "### Доказательство корректности определения\n",
    "\n",
    "Существование. Положим $ c = a + b' $, где $ b' $ - обратный к $ b $ по сложению. Тогда $ c + b = a + b' + b = a + (b' + b) = a + 0 = a $\n",
    "Единственность. Пусть $ \\exists d \\in \\mathbb{R} $. Тогда $ c = a + b' = (d + b) + b' = d + (b + b') = d + 0 = d $\n",
    "\n",
    "ч.т.д\n",
    "\n",
    "Обозначение: $ c = a - b, \\space\\space b' = 0 - b = -b $"
   ]
  },
  {
   "cell_type": "markdown",
   "metadata": {},
   "source": [
    "### Определение 4\n",
    "\n",
    "Частное чисел $ a $ и $ b $ называется такое число $ c \\in \\mathbb{R} $, что $ a = c \\cdot b $. Частное определено единственным образом. Будем обозначать его $ c = \\frac{a}{b} $; если $ b' $ - обратный к $ b $ по умножению, то $ b' = \\frac{1}{b} $"
   ]
  }
 ],
 "metadata": {
  "kernelspec": {
   "display_name": "Python 3",
   "language": "python",
   "name": "python3"
  },
  "language_info": {
   "codemirror_mode": {
    "name": "ipython",
    "version": 3
   },
   "file_extension": ".py",
   "mimetype": "text/x-python",
   "name": "python",
   "nbconvert_exporter": "python",
   "pygments_lexer": "ipython3",
   "version": "3.7.4"
  }
 },
 "nbformat": 4,
 "nbformat_minor": 4
}
