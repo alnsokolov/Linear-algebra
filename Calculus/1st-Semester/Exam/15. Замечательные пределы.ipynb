{
 "cells": [
  {
   "cell_type": "markdown",
   "metadata": {},
   "source": [
    "# 15. Замечательные пределы."
   ]
  },
  {
   "cell_type": "markdown",
   "metadata": {},
   "source": [
    "### Первый замечательный предел\n",
    "\n",
    "$$ \\lim_{x \\to 0}\\limits \\frac{\\sin x}{x} = 1 $$\n",
    "\n",
    "### Доказательство\n",
    "\n",
    "Пусть сначала $ x \\in (0, \\frac{\\pi}{2}) $. Возьмём на тригонометрической окружности точку $ A $ и точки $ C(1, 0), C(0, 0) $. Проведём высоту из точки $ C $, пересекающую $ AC $ в точке $ B $. $ |OA| = |OC| = 1, OC \\perp BC, \\angle COB = x $. Тогда $ S_{\\triangle AOC} \\leqslant S_{сектора \\space AOC} \\leqslant S_{\\triangle BOC} $  \n",
    "\n",
    "$ \\frac 1 2 |AO| |OC| \\cdot \\sin x \\leqslant \\frac 1 2 |AO|^2 \\cdot x \\leqslant \\frac 1 2 |OC| |BC| $\n",
    "\n",
    "$ \\sin x \\leqslant x \\leqslant tg \\space x $\n",
    "\n",
    "$ 1 \\leqslant \\frac{x}{\\sin x} \\leqslant \\frac{1}{\\cos x} \\underset{x \\to 0}{\\to} 1 \\Rightarrow  \\frac{x}{\\sin x} \\underset{x \\to 0+0}{\\to} 1, \\frac{\\sin x}{x} \\underset{x \\to 0+0}{\\to} 1 $.  \n",
    "\n",
    "Если $ x < 0 $, то $ \\lim_{x \\to 0-0}\\limits \\frac{\\sin x}{x} = |t = -x| = \\lim_{t \\to 0+0}\\limits \\frac{\\sin -t}{-t} = \\lim_{t \\to 0+0}\\limits \\frac{\\sin t}{t} = 1 \\Rightarrow \\lim_{x \\to 0}\\limits \\frac{\\sin x}{x} = 1 $"
   ]
  },
  {
   "cell_type": "markdown",
   "metadata": {},
   "source": [
    "### Следствие\n",
    "\n",
    "При $ x \\to 0 $:\n",
    "1. $ \\sin x \\sim x $\n",
    "2. $ tg \\space x \\sim x $\n",
    "3. $ 1 - \\cos x \\sim \\frac{x^2}{2} $\n",
    "4. $ \\arcsin x \\sim x $\n",
    "5. $ arctg \\space x \\sim x $\n",
    "\n",
    "### Доказательства\n",
    "1. Прямо следует из предела\n",
    "2. $ \\lim_{x \\to 0}\\limits \\frac{tg \\space x}{x} = \\lim_{x \\to 0}\\limits \\frac{\\sin x}{x} \\frac{1}{\\cos x} = 1 $\n",
    "3. $ \\lim_{x \\to 0}\\limits \\frac{1 - \\cos x}{\\frac{x^2}{2}} = \\lim_{x \\to 0}\\limits \\frac{2 \\sin^2 x}{\\frac{x^2}{2}} = 1 $\n",
    "4. $ \\lim_{x \\to 0}\\limits \\frac{\\arcsin x}{x} = \\left| \\begin{align} &t = \\arcsin x \\newline &x = \\sin t \\end{align} \\right| = \\lim_{t \\to 0}\\limits \\frac{t}{\\sin t} = 1 $\n",
    "5. $ \\lim_{x \\to 0}\\limits \\frac{arctg \\space x}{x} = \\left| \\begin{align} &t = arctg \\space x \\newline &x = tg \\space t \\end{align} \\right| = \\lim_{x \\to 0}\\limits \\frac{t}{tg \\space t} = 1 $"
   ]
  },
  {
   "cell_type": "markdown",
   "metadata": {},
   "source": [
    "### Второй замечательный предел\n",
    "\n",
    "$$ \\lim_{x \\to \\pm \\infty}\\limits \\left(1 + \\frac{1}{x} \\right)^x = \\lim_{x \\to 0}\\limits (1 + x)^{\\frac{1}{x}} = e $$\n",
    "\n",
    "### Доказательство\n",
    "\n",
    "1. Пусть сначала $ x \\to +\\infty $. Можем сичтать, что $ x > 1 $. Рассмотрим последовательность $ \\{x_n\\} $, т.ч. $ \\lim_{n \\to +\\infty}\\limits x_n = +\\infty, \\space x_n \\geqslant 1 $. Обозначим $ k_n = [x_n] $. Тогда $ k_n \\leqslant x_n < k_n + 1, k_n \\in \\mathbb{N} $. Тогда:\n",
    "\n",
    "$$  \\left(1 + \\frac{1}{k_n + 1} \\right)^{k_n} \\leqslant  \\left(1 + \\frac{1}{x_n} \\right)^{x_n} \\leqslant \\left(1 + \\frac{1}{k_n} \\right)^{k_n + 1} $$  \n",
    "\n",
    "$$ \\left(1 + \\frac{1}{k_n + 1} \\right)^{k_n + 1} \\cdot \\left(1 + \\frac{1}{k_n + 1} \\right)^{-1} \\leqslant  \\left(1 + \\frac{1}{x_n} \\right)^{x_n} \\leqslant \\left(1 + \\frac{1}{k_n} \\right)^{k_n} \\cdot \\left(1 + \\frac{1}{k_n} \\right) \\space\\space\\space\\space (*) $$\n",
    "\n",
    "$$ \\left(1 + \\frac{1}{k_n + 1} \\right)^{-1} \\underset{n \\to +\\infty}{\\to} 1, \\space\\space\\space\\space \\left(1 + \\frac{1}{k_n} \\right) \\underset{n \\to +\\infty}{\\to} 1 $$\n",
    "\n",
    "Докажем, что $ \\lim_{x \\to +\\infty}\\limits (1 + \\frac{1}{x})^x = e $  \n",
    "Возьмём $ \\varepsilon > 0 $. Знаем, что $ \\lim_{n \\to \\infty}\\limits (1 + \\frac{1}{n})^n = e \\Rightarrow \\exists N \\in \\mathbb{N}: \\space \\forall n \\geqslant N \\space |e - (1 + \\frac{1}{n})^n| < \\varepsilon $  \n",
    "\n",
    "Поскольку $ \\lim_{n \\to +\\infty}\\limits k_n = +\\infty $, то $ \\exists M \\in \\mathbb{N}: \\space \\forall n \\geqslant M \\space k_n \\geqslant N \\Rightarrow \\forall n \\geqslant M \\space |e - (1 + \\frac{1}{k_n})^{k_n}| < \\varepsilon \\Rightarrow \\lim_{n \\to +\\infty}\\limits (1 + \\frac{1}{k_n})^{k_n} = e $. Отсюда и из $ (*) \\Rightarrow \\lim_{n \\to +\\infty}\\limits (1 + \\frac{1}{x_n})^{x_n} = e $. Из определения по Гейне $ \\lim_{x \\to +\\infty}\\limits (1 + \\frac{1}{x})^x = e $\n",
    "\n",
    "2. $ \\lim_{x \\to -\\infty}\\limits (1 + \\frac{1}{x})^x = \\lim_{x \\to -\\infty}\\limits (\\frac{x + 1}{x})^x = \\lim_{x \\to -\\infty}\\limits (\\frac{x}{x + 1})^{-x} = \\lim_{x \\to -\\infty}\\limits (1 - \\frac{1}{x + 1})^{-x - 1} (1 - \\frac{1}{x + 1}) = \\left| \\begin{align} &t = - x - 1 \\newline &t \\to +\\infty \\end{align} \\right| = \\lim_{t \\to +\\infty}\\limits (1 + \\frac{1}{t})^t = e $\n",
    "3. $ \\lim_{x \\to \\pm 0}\\limits (1 + x)^{\\frac{1}{x}} = \\left| \\begin{align} &t = \\frac{1}{t} \\newline &t \\to \\pm \\infty \\end{align} \\right| = \\lim_{t \\to \\pm \\infty}\\limits \\left(1 + \\frac{1}{t} \\right)^t = e $"
   ]
  },
  {
   "cell_type": "markdown",
   "metadata": {},
   "source": [
    "### Следствие\n",
    "\n",
    "При $ x \\to 0 $:\n",
    "1. $ \\ln(1 + x) \\sim x $\n",
    "2. $ e^x - 1 \\sim x $\n",
    "3. $ a^x - 1 \\sim x \\cdot \\ln a $\n",
    "4. $ (1 + x)^\\alpha - 1 \\sim \\alpha x $\n",
    "\n",
    "### Доказательства\n",
    "\n",
    "Опущены, т.к. довольно просты."
   ]
  }
 ],
 "metadata": {
  "kernelspec": {
   "display_name": "Python 3",
   "language": "python",
   "name": "python3"
  },
  "language_info": {
   "codemirror_mode": {
    "name": "ipython",
    "version": 3
   },
   "file_extension": ".py",
   "mimetype": "text/x-python",
   "name": "python",
   "nbconvert_exporter": "python",
   "pygments_lexer": "ipython3",
   "version": "3.7.4"
  }
 },
 "nbformat": 4,
 "nbformat_minor": 4
}
