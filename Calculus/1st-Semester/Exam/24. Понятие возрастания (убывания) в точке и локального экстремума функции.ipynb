{
 "cells": [
  {
   "cell_type": "markdown",
   "metadata": {},
   "source": [
    "# 24. Понятие возрастания (убывания) в точке и локального экстремума функции. Достаточное условие возрастания (убывания) и необходимое условие экстремума дифференцируемой в данной точке функции."
   ]
  },
  {
   "cell_type": "markdown",
   "metadata": {},
   "source": [
    "Пусть $ f $ определена в окрестности точки $ x_0 $."
   ]
  },
  {
   "cell_type": "markdown",
   "metadata": {},
   "source": [
    "### Определение 1\n",
    "\n",
    "Функция $ f $ возрастает (убывает) в точке $ x_0 $, если $ \\exists \\delta > 0: \\space \\begin{cases} f(x) < f(x_0) \\space\\space \\forall x \\in (x_0 - \\delta, x_0) \\newline f(x) > f(x_0) \\space\\space \\forall x \\in (x_0, x_0 + \\delta) \\end{cases} $ (наоборот для убываения).  \n",
    "\n",
    "$ f $ не убывает (не возрастает) в точке $ x_0 $, если знаки в соответствующих неравенствах нестрогие."
   ]
  },
  {
   "cell_type": "markdown",
   "metadata": {},
   "source": [
    "### Определение 2\n",
    "$ f $ имеет в точке $ x_0 $ локальный максимум (минимум), если $ \\exists \\delta > 0: f'(x_0) \\geqslant f(x) \\space\\space (f'(x_0) \\leqslant f(x)) \\space\\space \\forall x \\in \\dot B_\\sigma(x_0) $. Такие точки назваются точками локального экстремума.  \n",
    "\n",
    "Если $ f(x_0) > f(x) \\space\\space \\forall x \\in \\dot B_\\delta(x_0) $, то экстремум строгий."
   ]
  },
  {
   "cell_type": "markdown",
   "metadata": {},
   "source": [
    "### Теорема 1 - достаточное условие возрастания\n",
    "\n",
    "Если $ f $ дифференцируема в точке $ x_0 $, и $ f'(x_0) > 0 \\space\\space (< 0) $, то $ f $ возрастает (убывает) в точке $ x_0 $\n",
    "\n",
    "### Доказательство\n",
    "\n",
    "Пусть $ f'(x_0) > 0 $. Полодим в определение производной через предел $ \\varepsilon = \\frac{f'(x_0)}{2} $. Тогда $ \\exists \\sigma > 0, \\forall x \\in \\dot B_\\delta (x_0): |\\frac{f(x) - f(x_0)}{x - x_0}  -f'(x_0)| < \\frac{f'(x_0)}{2} \\Rightarrow \\frac{f(x) - f(x_0)}{x - x_0} > frac{f'(x_0)}{2} > 0 \\forall x \\in \\dot B_\\sigma(x_0) $/. Значит $ f(x) - f(x_0) $ и $ x - x_0 $ имеют одинаковый знак и $ f $ возрастает в точке $ x_0 $."
   ]
  },
  {
   "cell_type": "markdown",
   "metadata": {},
   "source": [
    "### Теорема 2 - необходимое условие экстремума (теорема Ферма)\n",
    "\n",
    "Пусть $ x_0 $ - точка локального экстремума функции $ f $. Если $ f $ дифференцируема в точке $ x_0 $, то $ f'(x_0) = 0 $\n",
    "\n",
    "### Доказательство\n",
    "\n",
    "Если $ f'(x_0) > 0 (< 0)  $, то $ f $ возрастает (убывает) в точке $ x_0 \\Rightarrow $ это - не точка экстремума"
   ]
  }
 ],
 "metadata": {
  "kernelspec": {
   "display_name": "Python 3",
   "language": "python",
   "name": "python3"
  },
  "language_info": {
   "codemirror_mode": {
    "name": "ipython",
    "version": 3
   },
   "file_extension": ".py",
   "mimetype": "text/x-python",
   "name": "python",
   "nbconvert_exporter": "python",
   "pygments_lexer": "ipython3",
   "version": "3.7.4"
  }
 },
 "nbformat": 4,
 "nbformat_minor": 4
}
