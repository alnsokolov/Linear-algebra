{
 "cells": [
  {
   "cell_type": "markdown",
   "metadata": {},
   "source": [
    "# 5. Опередлитель транспонированной матрицы"
   ]
  },
  {
   "cell_type": "markdown",
   "metadata": {},
   "source": [
    "### Свойтво определителя\n",
    "\n",
    "Определитель квадратной матрицы не изменяется при её транспонировании: $ |A| = |A^T| $"
   ]
  },
  {
   "cell_type": "markdown",
   "metadata": {},
   "source": [
    "### Доказательство\n",
    "\n",
    "Опеделитель матрицы $ A = (a_{ij}) \\in \\mathbb{R}^{n \\times n} $ состоит из членов вида $ a_{1 \\alpha_1} a_{2 \\alpha_2} \\dots a_{n \\alpha_n} $. Все множители в этом произведении и в матрице $ A^T $ находятся в разных строках и разных столбцах. Следовательно $ |A|, |A^T| $ состоят из одних и тех же элементов.  \n",
    "\n",
    "Сравним их знаки. Знак произведения $ a_{1 \\alpha_1} a_{2 \\alpha_2} \\dots a_{n \\alpha_n} $ как члена $ |A| $ определяется чётностью перестановки $ \\alpha = (\\alpha_1, \\alpha_2, \\dots, \\alpha_n) $. Определим его как члена $ |A^T| $. Имеем $ a_{1 \\alpha_1} a_{2 \\alpha_2} \\dots a_{n \\alpha_n} = a_{\\alpha_1 1}^t a_{\\alpha_2 2}^t \\dots a_{\\alpha_n n}^t $. Упорядочим элементы так, чтобы номера строк образовывали натуралтную перестановку. $ a_{\\alpha_1 1}^t a_{\\alpha_2 2}^t \\dots a_{\\alpha_n n}^t = a_{1 \\beta_1}^t a_{2 \\beta_2}^t \\dots a_{n \\beta_n}^t $. Знак произведения $ a_{1 \\alpha_1} a_{2 \\alpha_2} \\dots a_{n \\alpha_n} $ как члена $ |A^T| $ определяется перестановкой $ \\beta = (\\beta_1, \\beta_2, \\dots, \\beta_n) $. Но эта перестановка совпадает с перстановкой индексных номеров в перстановке $ \\alpha $, а соглавно свойствам перестановок, $ \\sigma(\\alpha) = \\sigma(\\beta) $. Таким образом $ |A|, |A^T| $ являются суммами одинаковых слагаемых, то есль они совпадают."
   ]
  }
 ],
 "metadata": {
  "kernelspec": {
   "display_name": "Python 3",
   "language": "python",
   "name": "python3"
  },
  "language_info": {
   "codemirror_mode": {
    "name": "ipython",
    "version": 3
   },
   "file_extension": ".py",
   "mimetype": "text/x-python",
   "name": "python",
   "nbconvert_exporter": "python",
   "pygments_lexer": "ipython3",
   "version": "3.7.4"
  }
 },
 "nbformat": 4,
 "nbformat_minor": 4
}
