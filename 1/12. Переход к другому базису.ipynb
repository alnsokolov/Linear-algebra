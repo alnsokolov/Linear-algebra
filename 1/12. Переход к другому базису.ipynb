{
 "cells": [
  {
   "cell_type": "markdown",
   "metadata": {},
   "source": [
    "# 12. Переход к другому базису. Матрица перехода"
   ]
  },
  {
   "cell_type": "markdown",
   "metadata": {},
   "source": [
    "Пусть $ e = (e_1, \\dots, e_n), f = (f_1, \\dots, f_n) $ - два базиса $ n $-мерного пространства $ V $. Выясним, как меняются координаты вектора при переходе от базиса $ e $ к базису $ f $.  \n",
    "\n",
    "Векторы второго базиса, как векторы $ V $, разлагаются по базису $ e $; пусть  \n",
    "\n",
    "$$\n",
    "\\begin{array}{}\n",
    "f_1 &=& c_{11} e_1 &+& c_{21} e_2 &+& \\dots &+& c_{n1} e_n \\\\\n",
    "f_2 &=& c_{12} e_1 &+& c_{22} e_2 &+& \\dots &+& c_{n2} e_n \\\\\n",
    "&&&& \\ \\ \\cdots \\\\\n",
    "f_n &=& c_{1n} e_1 &+& c_{2n} e_2 &+& \\dots &+& c_{nn} e_n \\\\\n",
    "\\end{array}\n",
    "$$  \n",
    "\n",
    "Коэффиценты $ c_{ij} $ этих разложений образуют матрицу  \n",
    "\n",
    "$$\n",
    "C = (c_{ij}) \\in \\mathbb{R}^{n \\times n}\n",
    "$$  \n",
    "\n",
    "которая называется матрицей перехода от базиса $ e $ к базису $ f $. Обозначается как $ C $ или $ C_{e \\to f} $.\n",
    "\n",
    "Соотношения можно записать в компактном виде  \n",
    "\n",
    "$$ f = eC $$"
   ]
  },
  {
   "cell_type": "markdown",
   "metadata": {},
   "source": [
    "### Теорема\n",
    "\n",
    "Матрица перехода не вырождена."
   ]
  },
  {
   "cell_type": "markdown",
   "metadata": {},
   "source": [
    "### Доказательство\n",
    "\n",
    "Пусть $ |C| = 0 $. Тогда один из столбцов матрицы $ C $ является линейной комбинацией других. Значит один из векторов базиса $ f $ является линейной комбинацией других, а $ f $ не является базисом."
   ]
  },
  {
   "cell_type": "markdown",
   "metadata": {},
   "source": [
    "### Теоерма\n",
    "\n",
    "Если $ C $ - матрица перехода от базиса $ e $ к $ f $, то $ C^{-1} $ - матрица перехода от $ f $ к $ e $."
   ]
  },
  {
   "cell_type": "markdown",
   "metadata": {},
   "source": [
    "### Доказательство\n",
    "\n",
    "Пусть $ f = eC $. Т.к. $ |C| \\neq 0, \\exists C^{-1} $. Домножим обе части уравнения на $ C^{-1}: fC^{-1} = eCC^{-1} \\Leftrightarrow fC^{-1} = e \\Leftrightarrow e = fC^{-1} $. Значит матрица $ C^{-1} $ по определению - матрица перехода от базиса $ f $ к $ e $."
   ]
  },
  {
   "cell_type": "markdown",
   "metadata": {},
   "source": [
    "### Теорема\n",
    "\n",
    "Координаты вектора в базисах $ e $ и $ f $ связаны между собой выражением  \n",
    "\n",
    "$$ x_e = Cx_f $$"
   ]
  },
  {
   "cell_type": "markdown",
   "metadata": {},
   "source": [
    "### Доказательство\n",
    "\n",
    "$ x = ex_e, x = fx_f = (eC)x_f = e(Cx_f) \\Rightarrow x_e = Cx_f $"
   ]
  }
 ],
 "metadata": {
  "kernelspec": {
   "display_name": "Python 3",
   "language": "python",
   "name": "python3"
  },
  "language_info": {
   "codemirror_mode": {
    "name": "ipython",
    "version": 3
   },
   "file_extension": ".py",
   "mimetype": "text/x-python",
   "name": "python",
   "nbconvert_exporter": "python",
   "pygments_lexer": "ipython3",
   "version": "3.7.4"
  }
 },
 "nbformat": 4,
 "nbformat_minor": 4
}
