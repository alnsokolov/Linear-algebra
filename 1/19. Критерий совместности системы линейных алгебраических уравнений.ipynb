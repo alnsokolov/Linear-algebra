{
 "cells": [
  {
   "cell_type": "markdown",
   "metadata": {},
   "source": [
    "# 19. Критерий совместности системы линейных алгебраических уравнений. Критерий единственности решения"
   ]
  },
  {
   "cell_type": "markdown",
   "metadata": {},
   "source": [
    "Пусть $ Ax = b $ - система общего вида и $ A = (a_{ij}) \\in \\mathbb{R}^{m \\times n} $. Припишем к матрице $ A $ слева слобец свободных членов: $ B = [A|b] $. Матрица $ B $ называется расширенной матрицей системы."
   ]
  },
  {
   "cell_type": "markdown",
   "metadata": {},
   "source": [
    "### Теорема Кронекера-Капелли\n",
    "\n",
    "Система линейных алгебраических уравнений совместна тогда и только тогда, когда ранг основной матрицы равен рангу расширенной матрицы."
   ]
  },
  {
   "cell_type": "markdown",
   "metadata": {},
   "source": [
    "### Доказательство\n",
    "\n",
    "#### Необходимость\n",
    "\n",
    "Пусть система совместна. Тогда существую такие числа $ x_1, x_2, \\dots, x_n \\in \\mathbb{R} $, что $ b = x_1b_1 + x_2b_2 + \\dots + x_nb_n $. Следовательно столбец $ b $ является линейной комбинацией столбцов матрицы $ A \\ a_1, a_2, \\dots, a_n \\Rightarrow rg \\ A = rg \\ B $\n",
    "\n",
    "#### Достаточность\n",
    "\n",
    "Пусть $ rg \\ A = rg \\ B = r $. Возьмём в матрице $ A $ какой-нибудь базисный минор. Так как $ rg \\ A = rg \\ B = r $, он будет базисным минором и матрицы $ B $. Тогда столбец $ b $ будет являться линейной комбинацией столбцов $ A $, что и означает совместность системы."
   ]
  },
  {
   "cell_type": "markdown",
   "metadata": {},
   "source": [
    "СЛАУ иммет едиственное решение, если $ rg A = n $"
   ]
  }
 ],
 "metadata": {
  "kernelspec": {
   "display_name": "Python 3",
   "language": "python",
   "name": "python3"
  },
  "language_info": {
   "codemirror_mode": {
    "name": "ipython",
    "version": 3
   },
   "file_extension": ".py",
   "mimetype": "text/x-python",
   "name": "python",
   "nbconvert_exporter": "python",
   "pygments_lexer": "ipython3",
   "version": "3.7.4"
  }
 },
 "nbformat": 4,
 "nbformat_minor": 4
}
