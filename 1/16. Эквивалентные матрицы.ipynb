{
 "cells": [
  {
   "cell_type": "markdown",
   "metadata": {},
   "source": [
    "# 16. Эквивалентные матрицы. Критерий эквивалентности"
   ]
  },
  {
   "cell_type": "markdown",
   "metadata": {},
   "source": [
    "Две матрицы $ A, B \\in \\mathbb{R}^{n \\times m} $ называются эквивалентными, если $ \\exists P, Q, |P| \\neq 0, |Q| \\neq 0: A = PBQ $  \n",
    "\n",
    "Пишут $ A \\sim B $"
   ]
  },
  {
   "cell_type": "markdown",
   "metadata": {},
   "source": [
    "### Критерий эквивалентности\n",
    "\n",
    "Две матрицы эквивалентны тогда и только тогда, когда их ранги совпадают."
   ]
  },
  {
   "cell_type": "markdown",
   "metadata": {},
   "source": [
    "Докажем, что любая ненулевая матрица $ A \\in \\mathbb{R}^{n \\times m} $ ранга $ r $ эквивалентна матрице $ I_r \\in \\mathbb{R}^{n \\times m} $ вида\n",
    "$$\n",
    "I_r = \n",
    "\\begin{bmatrix}\n",
    "    \\begin{array}{cccc|c}\n",
    "        1 & 0 & \\cdots  & 0 &   \\\\\n",
    "        0 & 1 & \\cdots  & 0 & O \\\\\n",
    "          &   & \\ddots  &   &   \\\\\n",
    "        0 & 0 & \\cdots  & 1 &   \\\\ \\hline\n",
    "          & O &         &   & O \\\\\n",
    "    \\end{array}\n",
    "\\end{bmatrix}\n",
    "$$"
   ]
  },
  {
   "cell_type": "markdown",
   "metadata": {},
   "source": [
    "В самом деле, строчный вариант основного процесса приводит её к вержней ступенчатой форме. Если к получившейся матрице применить столюцовый вариан основного процесса, то мы при дём к диагональной матрице. Так как элементарные преобразования не изменяют ранг матрицы, ровно $ r $ элементов получисвшейся матрицы не равны нулю. Разделив каждую из первых $ r $ строк получившейся матрицы не диагональный элемент, мы получим матрицу $ I_r $. То есть существуют такие матрицы элементарных преобразований $ Q_1, \\dots, Q_k $ и $ P_1, \\dots, P_s $, что $ I_r = Q_k \\dots Q_1 A P_1 \\dots P_s $. Положив, что $ Q = Q_k \\dots Q_1, P = P_1 \\dots P_s $, получим, что $ I_r = QAP, |Q| \\neq 0, |P| \\neq 0 $ в силу невырожденности матриц элементарных преобразований."
   ]
  },
  {
   "cell_type": "markdown",
   "metadata": {},
   "source": [
    "Необходимость вытекает из теоремы об инвариантности ранга относительно элементарных преобразований. Достаточность следует из вышеприведённой теоремы и транзитивности отношения эквивалентности."
   ]
  }
 ],
 "metadata": {
  "kernelspec": {
   "display_name": "Python 3",
   "language": "python",
   "name": "python3"
  },
  "language_info": {
   "codemirror_mode": {
    "name": "ipython",
    "version": 3
   },
   "file_extension": ".py",
   "mimetype": "text/x-python",
   "name": "python",
   "nbconvert_exporter": "python",
   "pygments_lexer": "ipython3",
   "version": "3.7.4"
  }
 },
 "nbformat": 4,
 "nbformat_minor": 4
}
