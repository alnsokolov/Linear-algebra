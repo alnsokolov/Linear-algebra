{
 "cells": [
  {
   "cell_type": "markdown",
   "metadata": {},
   "source": [
    "# 7. Миноры и их алгебраические дополнения. Теорема Лапласса"
   ]
  },
  {
   "cell_type": "markdown",
   "metadata": {},
   "source": [
    "Пусть $ A = (a_{ij}) \\in \\mathbb{R}^{n \\times m} $ и $ k \\in \\mathbb{N} 1 \\leqslant k \\leqslant min(n, m) $. Выберем любые $ k $ строк и $ k $ столбцов, с индексами $ i_1 < i_2 < \\dots < i_k $ и $ j_1 < j_2 < \\dots < j_k $. На пересечении этих строк и столбцов стоят элементы, образующие квадратную матрицу $ k $-го порядка. Её определитель называется минором $ k $-го порядка, матрицы $ A $, расположенным на строках $ i_1, i_2, \\dots, i_k $ и в столбцах $ j_1, j_2, \\dots, j_k $. Обозначатеся он как $ M_{j_1 j_2 \\dots j_k}^{i_1 i_2 \\dots i_k} $  \n",
    "\n",
    "Если вычеркнуть взятые столбцы и строки, то оставшиеся элементы образуют новую матрицу. Её определитель называется дополнительным минором к минору $ M_{j_1 j_2 \\dots j_k}^{i_1 i_2 \\dots i_k} $. Обозначается он символами $ \\overline{M}_{j_1 j_2 \\dots j_k}^{i_1 i_2 \\dots i_k}, \\overline{M}, M^\\sigma $. Дополнительный минор взятый со знаком $ (-1)^{\\sum_{p = 1}^k (i_p + j_p)} $ называется алгебраическим дополнением к минору $ M $ и обозначается символом $ A_{j_1 j_2 \\dots j_k}^{i_1 i_2 \\dots i_k} $"
   ]
  },
  {
   "cell_type": "markdown",
   "metadata": {},
   "source": [
    "### Теорема Лапласса"
   ]
  },
  {
   "cell_type": "markdown",
   "metadata": {},
   "source": [
    "Пусть $ A = (a_{ij}) \\in \\mathbb{R}^{n \\times n}, k \\in \\mathbb{N} 1 \\leqslant k \\leqslant n - 1. $ Пусть в матрице выбраны произвольные k строк (столбцов). Тогда определиетль матрицы равен всем возможным произведениям миноров $ k $-го порядка, расположенным на этих строках (столбцах) на их алгебраические дополнения."
   ]
  },
  {
   "cell_type": "markdown",
   "metadata": {},
   "source": [
    "### Доказательство\n",
    "\n",
    "Пусть выбраны строки $ i_1, i_2, \\dots, i_k $. Надо доказать, что $ |A| = \\sum\\limits_{j_1, j_2, \\dots, j_k} M_{j_1 j_2 \\dots j_k}^{i_1 i_2 \\dots i_k} A_{j_1 j_2 \\dots j_k}^{i_1 i_2 \\dots i_k} $, где суммирование ведётся по всевозможным $ j_1, j_2, \\dots, j_k $, т.ч. $ 1 \\leqslant j_1 < j_2 < \\dots < j_k \\leqslant n $"
   ]
  },
  {
   "cell_type": "markdown",
   "metadata": {},
   "source": [
    "$ \\cdots $"
   ]
  }
 ],
 "metadata": {
  "kernelspec": {
   "display_name": "Python 3",
   "language": "python",
   "name": "python3"
  },
  "language_info": {
   "codemirror_mode": {
    "name": "ipython",
    "version": 3
   },
   "file_extension": ".py",
   "mimetype": "text/x-python",
   "name": "python",
   "nbconvert_exporter": "python",
   "pygments_lexer": "ipython3",
   "version": "3.7.4"
  }
 },
 "nbformat": 4,
 "nbformat_minor": 4
}
