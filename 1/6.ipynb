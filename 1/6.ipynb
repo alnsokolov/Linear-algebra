{
 "cells": [
  {
   "cell_type": "markdown",
   "metadata": {},
   "source": [
    "# 6. Определитель произведения матриц"
   ]
  },
  {
   "cell_type": "markdown",
   "metadata": {},
   "source": [
    "### Определитель произведения матриц\n",
    "\n",
    "$ |AB| = |A| \\cdot |B| $"
   ]
  },
  {
   "cell_type": "markdown",
   "metadata": {},
   "source": [
    "### Доказательство\n",
    "\n",
    "Рассмотрим матрицу \n",
    "$\n",
    "C = \n",
    "\\begin{bmatrix}\n",
    "\\begin{array}{c|c}\n",
    " A &  0 \\\\ \\hline\n",
    "-I &  B \\\\\n",
    "\\end{array}\n",
    "\\end{bmatrix}\n",
    "$  \n",
    "\n",
    "Т.к. $ C $ - квазитреугольная матрица, $ |C| = |A| \\cot |B| $. Не меняя её определителя преобразуем её так, чтобы первая клетка стала равна нулю. Сначала аннулируем первую её строку, для чего прибавим к ней сумму строк с индексами $ n, (n + 1), \\dots, 2n $, умноженных на $ a_{11}, a_{12}, \\dots, a_{1n} $. Теперь аннулируем вторую строку в новой матрице. Для этого прибавим к ней сумму строк с индексами $ n, (n + 1), \\dots, 2n $, умноженных на $ a_{21}, a_{22}, \\dots, a_{2n} $. Таким образом аннулируем все строки первой клетки.  \n",
    "Новая матрица\n",
    "$\n",
    "C_1 = \n",
    "\\begin{bmatrix}\n",
    "\\begin{array}{c|c}\n",
    " 0 &  AB \\\\ \\hline\n",
    "-I &  B  \\\\\n",
    "\\end{array}\n",
    "\\end{bmatrix},\n",
    "|C_1| = |C|\n",
    "$.  \n",
    "\n",
    "В ноаой матрице переставим столбцы $ 1 \\ и \\ (n + 1), 2 \\ и \\ (n + 2) $ и т.д. Получим квазитреугольнуую матрицу вида:\n",
    "$\n",
    "C_2 = \n",
    "\\begin{bmatrix}\n",
    "\\begin{array}{c|c}\n",
    "AB &  0  \\\\ \\hline\n",
    "B  &  -I \\\\\n",
    "\\end{array}\n",
    "\\end{bmatrix},\n",
    "|C_2| = (-1)^n \\cdot |C_1|\n",
    "$ из-за $ n $ перестановок, необходимых для преобразования.  \n",
    "Определитель новой матрицы $ |C_2| = |AB| \\cdot (-1)^n $, но $ |C_2| = |C_1| \\cdot (-1)^n \\Rightarrow |C| = |A| \\cdot |B| = |C_1| = \\frac{|C_2|}{(-1)^n} = |AB| \\Rightarrow |AB| = |A| \\cdot |B| $"
   ]
  }
 ],
 "metadata": {
  "kernelspec": {
   "display_name": "Python 3",
   "language": "python",
   "name": "python3"
  },
  "language_info": {
   "codemirror_mode": {
    "name": "ipython",
    "version": 3
   },
   "file_extension": ".py",
   "mimetype": "text/x-python",
   "name": "python",
   "nbconvert_exporter": "python",
   "pygments_lexer": "ipython3",
   "version": "3.7.4"
  }
 },
 "nbformat": 4,
 "nbformat_minor": 4
}
