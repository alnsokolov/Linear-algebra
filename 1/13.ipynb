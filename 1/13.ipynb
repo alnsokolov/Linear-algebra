{
 "cells": [
  {
   "cell_type": "markdown",
   "metadata": {},
   "source": [
    "# 13. Ранг матрицы. Теорема о базисном миноре"
   ]
  },
  {
   "cell_type": "markdown",
   "metadata": {},
   "source": [
    "Рангом матрицы $ A (rg \\ A, rang A, r_A) $ называется максимальный порядок ненулевых миноров этой матрицы. Следствия:  \n",
    "\n",
    "1. $ rg \\ A \\leqslant min(n, m) $\n",
    "2. $ rg \\ A = r > 0 \\\\ \\Leftrightarrow \\exists M \\in \\mathbb{R}^{r \\times r}, |M| \\neq 0 \\\\ \\Leftrightarrow \\forall M \\in \\mathbb{R}^{r' \\times r'}, r' \\in \\mathbb{N}, r' > r, |M| = 0 $\n",
    "\n",
    "Любой ненулевой минор $r$-го порядка называется базисным, а его строки и столбцы - базисными строками и столбцами."
   ]
  },
  {
   "cell_type": "markdown",
   "metadata": {},
   "source": [
    "### Теорема о базисном миноре\n",
    "\n",
    "Базисные строки (столбцы) линейно независимы. Любая строка (столбец) является линейной комбинацией базисных строк (столбцов)."
   ]
  },
  {
   "cell_type": "markdown",
   "metadata": {},
   "source": [
    "### Доказательство\n",
    "\n",
    "Докажем столбцовый вариант теоремы. Не нарушая общности рассуждений, будем считать, что базисный минор $ M_r $ расположен в левом верхнем углу.\n",
    "\n",
    "Докажем линейлую независимость базисных столбцов. Допустим они линейно зависимы. Тогда один из столбцов является линейной комбинацией остальных. Значит и один из столбцов минора будет линейной комбинацией остальных $ \\Rightarrow M_r = 0 $, что противоречит тому, что $ M_r $ - базисный минор.  \n",
    "\n",
    "Пусть $ a_k $ - произвольный столбец матрицы $ A $. Покажем, что он является линейной комбинацией $ A_1, a_2, \\dots, a_r $. Считаем, что $ k > r $. Найдём $ \\alpha_1, \\alpha_2, \\dots, \\alpha_r: a_k = \\sum_{s = 1}^r \\alpha_s a_r $ или  \n",
    "\n",
    "$$ a_{ik} = \\sum\\limits_{s = 1}^r \\alpha_{s} a_{is}, \\ i = \\overline{1, m} $$  \n",
    "\n",
    "Для этого составим матрицу  \n",
    "$$\n",
    "\\Delta_i = \n",
    "\\begin{bmatrix}\n",
    "a_{11} & \\dots  & a_{1r} & a_{1k} \\\\\n",
    "\\dots  & \\dots  & \\dots  & \\dots  \\\\\n",
    "a_{r1} & \\dots  & a_{rr} & a_{rk} \\\\\n",
    "a_{i1} & \\dots  & a_{ir} & a_{ik} \\\\\n",
    "\\end{bmatrix}\n",
    "$$\n",
    "\n",
    "Очевидно, что $ |\\Delta_i| = 0 $. Тогда, раскладывая $ \\Delta_i $ по последней строке получаем: $ 0 = a_{i1} A_1 + \\dots + a_{ir} A_r + a_{ik} M_r $. Полагая, что $ \\alpha_s = -A_s / M_r, s = \\overline{1, r} $ приходим к изначальному равенству."
   ]
  }
 ],
 "metadata": {
  "kernelspec": {
   "display_name": "Python 3",
   "language": "python",
   "name": "python3"
  },
  "language_info": {
   "codemirror_mode": {
    "name": "ipython",
    "version": 3
   },
   "file_extension": ".py",
   "mimetype": "text/x-python",
   "name": "python",
   "nbconvert_exporter": "python",
   "pygments_lexer": "ipython3",
   "version": "3.7.4"
  }
 },
 "nbformat": 4,
 "nbformat_minor": 4
}
