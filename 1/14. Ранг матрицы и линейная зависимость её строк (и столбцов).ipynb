{
 "cells": [
  {
   "cell_type": "markdown",
   "metadata": {},
   "source": [
    "# 14. Ранг матрицы и линейная зависимость её строк (и столбцов)"
   ]
  },
  {
   "cell_type": "markdown",
   "metadata": {},
   "source": [
    "Рангом матрицы $ A (rg \\ A, rang A, r_A) $ называется максимальный порядок ненулевых миноров этой матрицы. Следствия:  \n",
    "\n",
    "1. $ rg \\ A \\leqslant min(n, m) $\n",
    "2. $ rg \\ A = r > 0 \\\\ \\Leftrightarrow \\exists M \\in \\mathbb{R}^{r \\times r}, |M| \\neq 0 \\\\ \\Leftrightarrow \\forall M \\in \\mathbb{R}^{r' \\times r'}, r' \\in \\mathbb{N}, r' > r, |M| = 0 $\n",
    "\n",
    "Любой ненулевой минор $r$-го порядка называется базисным, а его строки и столбцы - базисными строками и столбцами."
   ]
  },
  {
   "cell_type": "markdown",
   "metadata": {},
   "source": [
    "### Теорема"
   ]
  },
  {
   "cell_type": "markdown",
   "metadata": {},
   "source": [
    "Ранг матрицы равем максимальному числу её линейно независимых строк (столбцов)."
   ]
  },
  {
   "cell_type": "markdown",
   "metadata": {},
   "source": [
    "### Доказательство"
   ]
  },
  {
   "cell_type": "markdown",
   "metadata": {},
   "source": [
    "Пусть $ rg \\ A = r, r > 0 $. Тогда в матрице $ A $ существуют $ r $ линейно независимых строк (столбцов) - это её базисные строки (столбцы). При этом любая система из большего числа столбцов (строк) линейно зависима на основании теоремы о базисном миноре."
   ]
  }
 ],
 "metadata": {
  "kernelspec": {
   "display_name": "Python 3",
   "language": "python",
   "name": "python3"
  },
  "language_info": {
   "codemirror_mode": {
    "name": "ipython",
    "version": 3
   },
   "file_extension": ".py",
   "mimetype": "text/x-python",
   "name": "python",
   "nbconvert_exporter": "python",
   "pygments_lexer": "ipython3",
   "version": "3.7.4"
  }
 },
 "nbformat": 4,
 "nbformat_minor": 4
}
