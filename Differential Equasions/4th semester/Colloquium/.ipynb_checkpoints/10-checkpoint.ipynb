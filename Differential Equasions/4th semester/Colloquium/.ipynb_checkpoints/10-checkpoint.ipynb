{
 "cells": [
  {
   "cell_type": "markdown",
   "metadata": {},
   "source": [
    "# Вопрос 10"
   ]
  },
  {
   "cell_type": "markdown",
   "metadata": {},
   "source": [
    "Нормальные системы дифференциальных уравнений. Понятие решения. Теорема  единственности решения задачи Коши для нормальной системы."
   ]
  },
  {
   "cell_type": "markdown",
   "metadata": {},
   "source": [
    "## Ответ"
   ]
  },
  {
   "cell_type": "markdown",
   "metadata": {},
   "source": [
    "Пусть $ f_i(t, y_1, y_2, \\dots, y_n), \\space i = 1, 2 \\dots, n $ определены и непрерывны для $ t \\in [a, b], (y_1, y_2, \\dots, y_n) \\in \\mathbb R^n $.\n",
    "\n",
    "Нормальной системой дифференциальных уравнений относительно неизвестных функций $ y_1(t), y_2(t), \\dots, y_n(t) $ называется система\n",
    "\n",
    "$$\n",
    "\\begin{cases}\n",
    "y_1'(t) = f_1(t, y_1(t), y_2(t), \\dots, y_n(t)) \\\\\n",
    "y_2'(t) = f_2(t, y_1(t), y_2(t), \\dots, y_n(t)) \\\\\n",
    "\\dots \\\\\n",
    "y_n'(t) = f_n(t, y_1(t), y_2(t), \\dots, y_n(t)) \\\\\n",
    "\\end{cases}\n",
    "$$\n",
    "\n",
    "Функии $ y_1(t), y_2(t), \\dots, y_n(t) $ называются решением номрмальной системы дифференциальных уравнений, если\n",
    "1. $ y_i(t) \\in C^1[a, b], \\space i = 1, 2, \\dots, n $\n",
    "2. $ y_i'(t) = f_i(t, y_1(t), y_2(t), \\dots, y_n(t)), \\space t \\in [a, b], \\space i = 1, 2, \\dots, n $"
   ]
  },
  {
   "cell_type": "markdown",
   "metadata": {},
   "source": [
    "Задачей Коши для нормальной системы дифференциальных уравнений называется нормальная система дифференциальных уравнений с указанными начальными условиями\n",
    "\n",
    "$$ y_1(t_0) = y_{01}, y_2(t_0) = y_{02}, \\dots, y_n(t_0) = y_{0n} $$\n",
    "\n",
    "где $ t_0 $ - некая фиксированныя точка отрезка $ [a, b] $, а $ y_{01}, \\dots, y_{0n} $ - заданные вещественные числа."
   ]
  },
  {
   "cell_type": "markdown",
   "metadata": {},
   "source": [
    "### Теорема\n",
    "\n",
    "Пусть $ f_k(t, y_1, y_2, \\dots, y_n), k = 1, 2, \\dots, n $ определены и непрерывны при $ t \\in [a, b], (y_1, y_2, \\dots, y_n) \\in \\mathbb R^n $ и удовлетворяют условию Липшица с одной и той же константой $ L $.\n",
    "\n",
    "Тогда если функции $ y_1(t), y_2(t), \\dots, y_n(t) $ и $ \\overline y_1(t), \\overline y_2(t), \\dots, \\overline y_n(t) $ являются решениями задачи Коши на отрезке $ [a, b] $, то $ y_i(t) = \\overline y_i(t) \\space \\forall t \\in [a, b], \\space i = 1, 2, \\dots, n $\n",
    "\n",
    "### Доказательство\n",
    "\n",
    "Учитывая условие,\n",
    "\n",
    "$$ y_i(t) = y_{0i} + \\int_{t_0}^t f_i(\\tau, y_1(\\tau), y_2(\\tau), \\dots, y_n(\\tau)) d\\tau, \\quad t \\in [a, b] $$\n",
    "\n",
    "а также\n",
    "\n",
    "$$ \\overline y_i(t) = y_{0i} + \\int_{t_0}^t f_i(\\tau, \\overline y_1(\\tau), \\overline y_2(\\tau), \\dots, \\overline y_n(\\tau)) d\\tau, \\quad t \\in [a, b] $$\n",
    "\n",
    "Вычтем второе из первого:\n",
    "\n",
    "$$\n",
    "|y_i(t) - \\overline y_i(y)| = \\left| \\int_{t_0}^t (f_i(\\tau, y_1(\\tau), y_2(\\tau), \\dots, y_n(\\tau)) - f_i(\\tau, \\overline y_1(\\tau), \\overline y_2(\\tau), \\dots, \\overline y_n(\\tau))) d\\tau \\right| \\leq \\\\\n",
    "\\leq L \\left| \\int_{t_0}^t (|y_1(t) - \\overline y_1(y)| + |y_2(t) - \\overline y_2(y)| + \\dots + |y_n(t) - \\overline y_n(y)|) d\\tau \\right|\n",
    "$$\n",
    "\n",
    "Введём $ z(t) = |y_1(t) - \\overline y_1(y)| + |y_2(t) - \\overline y_2(y)| + \\dots + |y_n(t) - \\overline y_n(y)| $. Тогда\n",
    "\n",
    "$$\n",
    "z(t) \\leq nL \\left| \\int_{t_0}^t z(\\tau)d \\tau \\right|, \\quad t \\in [a, b]\n",
    "$$\n",
    "\n",
    "Из леммы Гронуолла-Белламана $ z(t) = 0, t \\in [a, b] \\Rightarrow y_i(t) = \\overline y_i(t), \\space i = 1, 2, \\dots, n, t \\in [a, b] $\n",
    "\n",
    "ч.т.д."
   ]
  }
 ],
 "metadata": {
  "kernelspec": {
   "display_name": "Python 3",
   "language": "python",
   "name": "python3"
  },
  "language_info": {
   "codemirror_mode": {
    "name": "ipython",
    "version": 3
   },
   "file_extension": ".py",
   "mimetype": "text/x-python",
   "name": "python",
   "nbconvert_exporter": "python",
   "pygments_lexer": "ipython3",
   "version": "3.8.6"
  }
 },
 "nbformat": 4,
 "nbformat_minor": 4
}
