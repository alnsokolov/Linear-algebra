{
 "cells": [
  {
   "cell_type": "markdown",
   "metadata": {},
   "source": [
    "# Вопрос 8"
   ]
  },
  {
   "cell_type": "markdown",
   "metadata": {},
   "source": [
    "Дифференциальное уравнение первого порядка, не разрешенное относительно производной. Теорема существования и единственности решения задачи Коши. Примеры."
   ]
  },
  {
   "cell_type": "markdown",
   "metadata": {},
   "source": [
    "## Ответ"
   ]
  },
  {
   "cell_type": "markdown",
   "metadata": {},
   "source": [
    "Рассмотрим дифференциальное уравнение первого порядка\n",
    "\n",
    "$$ F(t, y(t), y'(t)) = 0 $$\n",
    "\n",
    "Если данное уравнение нельза записать в виде $ y'(t) = f(t, y) $, то оно называется уравнением, не разрешённым относительно производной.\n",
    "\n",
    "Функция $ y(t) $ называется решением данного уравнения на отрезке $ [t_1, t_2] $, если\n",
    "1. $ y(t) \\in C^1[t_1, t_2] $\n",
    "2. $ (t, y(t), y'(t)) \\in D \\quad \\forall t \\in [t_1, t_2] $\n",
    "3. $ F(t, y(t), y'(t)) = 0 \\quad \\forall t \\in [t_1, t_2] $"
   ]
  },
  {
   "cell_type": "markdown",
   "metadata": {},
   "source": [
    "### Пример\n",
    "\n",
    "$$\n",
    "(y'(t))^2 - (t + y(t)) y'(t) + t y(t) = 0 \\\\\n",
    "\\left[\\begin{align} &y'(t) = t \\\\ &y'(t) = y(t) \\end{align}\\right.\n",
    "$$"
   ]
  },
  {
   "cell_type": "markdown",
   "metadata": {},
   "source": [
    "### Теорема\n",
    "\n",
    "Пусть $ F(t, y, p) $ задана в параллелепипеде $ D = \\{ (t, y, p): |t - t_0| \\leq a, |y - y_0| \\leq b, |p - y_0'| \\leq c \\} $ и выполнены следующие условия:\n",
    "\n",
    "1. $ F(t_0, y_0, y_0') = 0 $\n",
    "2. $ F(t, y, p), \\frac{\\partial F(t, y, p)}{\\partial y}, \\frac{\\partial F(t, y, p)}{\\partial p} $ непрерывны в $ D $\n",
    "3. $ \\frac{\\partial F(t_0, y_0, y_0')}{\\partial p} \\neq 0 $\n",
    "\n",
    "Тогда найдётся $ h > 0 $ т.ч. на отрезке $ [t_0 - h, t + h] \\; \\exists! \\space y(t) $ - решение $ F $\n",
    "\n",
    "### Доказательство\n",
    "\n",
    "В окрестности точки $ (t, y_0, y_0') $ согласно условиям и теореме о неявной функции, найдётся открестность $ \\Omega_0 $ точки $ (t_0, y_0) $, в которой $ \\exists! \\space p = f(t, y) $, имеющая в $ \\Omega_0 $ непрерывную частную производную\n",
    "\n",
    "$$\n",
    "\\frac{\\partial f(t, y)}{\\partial y} = -\\frac{\\partial F(t, y, f(t, p)) / \\partial y}{\\partial F(t, y, f(t, p)) / \\partial p}\n",
    "$$\n",
    "\n",
    "и являющаяся решением $ F $. В частности $ y_0' = f(t_0, y_0) $. В окрестности $ \\Omega_0 $ уравнение принимает вид\n",
    "\n",
    "$$ y'(t) = f(t, y(t)), \\quad y(t_0) = y_0 $$\n",
    "\n",
    "Рассмотрим получившуюся задачу Коши в $ \\Pi = \\{ (t, y): |t - t_0| \\leq a_0, |y - y_0| \\leq b_0 \\} $, где $ a_0, b_0 $ настолько малы, что $ \\Pi \\subset \\Omega_0 $.  Функция $ f(t, y) $ непрерывна в $ \\Omega_0 \\Rightarrow $ непрерывна и в $ \\Pi $. Условие Липшица по переменной $ y $ на множестве $ \\Pi $ с $ L = \\underset{(t, y) \\in \\Pi}{\\max} \\left| \\frac{\\partial f(t, y)}{\\partial y} \\right| $ вытекает из непрерывности в $ \\Pi $ частной производной $ \\frac{\\partial f(t, y)}{\\partial y} $. Значит в $ \\Pi $ выполнены все условия теоремы существования и единственность решения задачи Коши для дифференциального уравнения, разрешённого относительно производной. Следовательно $ \\exists h > 0 $ т.ч. на отрезке $ [t_0 - h, t_0 + h] $ существует решение уравнения $ y'(t) = f(t, y(t)), \\: y(t_0) = y_0 $, равно как и изначального уравнения."
   ]
  }
 ],
 "metadata": {
  "kernelspec": {
   "display_name": "Python 3",
   "language": "python",
   "name": "python3"
  },
  "language_info": {
   "codemirror_mode": {
    "name": "ipython",
    "version": 3
   },
   "file_extension": ".py",
   "mimetype": "text/x-python",
   "name": "python",
   "nbconvert_exporter": "python",
   "pygments_lexer": "ipython3",
   "version": "3.8.6"
  }
 },
 "nbformat": 4,
 "nbformat_minor": 4
}
