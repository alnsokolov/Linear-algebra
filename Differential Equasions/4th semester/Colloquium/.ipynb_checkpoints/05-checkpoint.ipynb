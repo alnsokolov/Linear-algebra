{
 "cells": [
  {
   "cell_type": "markdown",
   "metadata": {},
   "source": [
    "# Вопрос 5"
   ]
  },
  {
   "cell_type": "markdown",
   "metadata": {},
   "source": [
    "Условие Липшица, примеры. Доказательство леммы Гронуолла–Беллмана."
   ]
  },
  {
   "cell_type": "markdown",
   "metadata": {},
   "source": [
    "## Ответ"
   ]
  },
  {
   "cell_type": "markdown",
   "metadata": {},
   "source": [
    "Функция $ f(t, y) $, заданная в прямоугольнике $ \\Pi $ удовлетворяет в нём услови Липшица по $ y $ если\n",
    "\n",
    "$$ |f(t, y_1) - f(t, y_2)| \\leq L|y_1 - y_2|, \\quad \\forall (t, y_1), (t, y_2) \\in \\Pi $$"
   ]
  },
  {
   "cell_type": "markdown",
   "metadata": {},
   "source": [
    "### Замечание\n",
    "\n",
    "Если $ f (t, y), f_y (t, y) $ определены и непрерывны в $ \\Pi $ то $ f(t, y) $ удовлетворяет в $ \\Pi $ условию Липшица. Доказывается с помощью формулы Лагранжа.\n",
    "\n",
    "Функция может быть не дифференцируема по $ y $, но удовлетворять условию Липшица ($ f(t, y) = (t - t_0)|y - y_0| $)\n",
    "\n",
    "Функция модет быть непрерывной по $ y $, но не удовлетворять условию Липшица $\\left( f(t, y) = \\begin{cases} \\sqrt y, & 0 \\leq y \\leq q \\\\ -\\sqrt y, & -1 \\leq y \\leq 0  \\end{cases} \\right) $"
   ]
  },
  {
   "cell_type": "markdown",
   "metadata": {},
   "source": [
    "### Лема Гронуолла-Беллмана\n",
    "\n",
    "пусть $ z(t) \\in C[a, b] $ такова, что\n",
    "\n",
    "$$ 0 \\leq z(t) \\leq c + d \\left| \\displaystyle \\int_{t_0}^t z(\\tau) d\\tau\\right|, \\quad t \\in [a, b] $$\n",
    "\n",
    "где $ c \\geq 0, d > 0, t_0 \\in [a, b] $. Тогда\n",
    "\n",
    "$$ z(t) \\leq c e^{d |t - t_0|} $$\n",
    "\n",
    "### Доказательство\n",
    "\n",
    "Сначала рассмотрим $ t \\in [t_0, b] $, похожие рассуждения для $ t \\in [a, t_0] $. Рассмотрим функцию\n",
    "\n",
    "$$ p(t) = \\int_{t_0}^t z(\\tau) d\\tau $$\n",
    "\n",
    "$ p'(t) = z(t) \\geq 0, p(t_0) = 0 \\Rightarrow p'(t) \\leq c + d p(t) $. Умножаем на $ e^{-d(t-t_0)} $. Получаем\n",
    "\n",
    "$ p'(t) e^{-d(t-t_0)} \\leq c e^{-d(t-t_0)} + d p(t) e^{-d(t-t_0)} \\Rightarrow \\frac{d}{dt} \\left( p(t) e^{-d(t-t_0)} \\right) \\leq c e^{-d(t-t_0)} $\n",
    "\n",
    "Итегрируем от $ t_0 $ до $ t $. Получаем\n",
    "\n",
    "$$ p(t) e^{-d(t-t_0)} - p(t_0) \\leq \\frac{c}{d} (1 - e^{-d(t-t_0)}) \\Leftrightarrow d p(t) \\leq c e^{d(t-t_0)} - c $$\n",
    "\n",
    "Следовательно\n",
    "\n",
    "$$ z(t) \\leq c + d p(t) \\leq c + ce^{d(t-t_0)} - c = c e^{d(t-t_0)} $$\n",
    "\n",
    "Для $ t \\in [a, t_0] $ раскрываем модуль, меняем пределы интегрирования местами, приравниваем интеграл функции и делаем всё то же, то домножаем на $ e^{-d(t_0-t)} $. Профит"
   ]
  }
 ],
 "metadata": {
  "kernelspec": {
   "display_name": "Python 3",
   "language": "python",
   "name": "python3"
  },
  "language_info": {
   "codemirror_mode": {
    "name": "ipython",
    "version": 3
   },
   "file_extension": ".py",
   "mimetype": "text/x-python",
   "name": "python",
   "nbconvert_exporter": "python",
   "pygments_lexer": "ipython3",
   "version": "3.8.6"
  }
 },
 "nbformat": 4,
 "nbformat_minor": 4
}
