{
 "cells": [
  {
   "cell_type": "markdown",
   "metadata": {},
   "source": [
    "# Вопрос 3"
   ]
  },
  {
   "cell_type": "markdown",
   "metadata": {},
   "source": [
    "Общий интеграл ОДУ первого порядка,  примеры."
   ]
  },
  {
   "cell_type": "markdown",
   "metadata": {},
   "source": [
    "## Ответ"
   ]
  },
  {
   "cell_type": "markdown",
   "metadata": {},
   "source": [
    "Рассмотрим ОДУ первого порядка $ F(t, y, y') = 0 $\n",
    "\n",
    "Уравнение $ \\Phi (t, y, c) = 0 $ называется интегралом дифференциального уравнения в области $ D $, если при любом $ c \\in C_0 $ оно определяет решение уравнения.\n",
    "\n",
    "Интеграл наpывается общим, если он определяет все решения уравнения, то есть для любого решения уравнения $ y = y(t) $, интегральная кривая которого лежит в $ D $, найдётся постоянная $ \\overline c \\in C_0 $ такая, что $ \\Phi(t, y, \\overline c) \\equiv 0 $"
   ]
  },
  {
   "cell_type": "markdown",
   "metadata": {},
   "source": [
    "## Примеры\n",
    "\n",
    "Общий интеграл $ t dt + y dy = 0 $ - $ t^ 2 + y^2 - c = 0, \\space C_0 = \\{ x > 0 | x \\in \\mathbb R \\} $\n",
    "\n",
    "Для уравнения $ y'(t) = \\sqrt[3]{y^2(t)} $ существует общий интеграл в области $ y > 0 $ - $ y - \\displaystyle\\frac{(t - c)^3}{27} = 0 $, - но на всей плоскость это уравнение не является общим интегралом."
   ]
  }
 ],
 "metadata": {
  "kernelspec": {
   "display_name": "Python 3",
   "language": "python",
   "name": "python3"
  },
  "language_info": {
   "codemirror_mode": {
    "name": "ipython",
    "version": 3
   },
   "file_extension": ".py",
   "mimetype": "text/x-python",
   "name": "python",
   "nbconvert_exporter": "python",
   "pygments_lexer": "ipython3",
   "version": "3.8.6"
  }
 },
 "nbformat": 4,
 "nbformat_minor": 4
}
