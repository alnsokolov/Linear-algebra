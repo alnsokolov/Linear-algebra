{
 "cells": [
  {
   "cell_type": "markdown",
   "metadata": {},
   "source": [
    "# Вопрос 6"
   ]
  },
  {
   "cell_type": "markdown",
   "metadata": {},
   "source": [
    "Теорема единственности решения задачи Коши для ОДУ 1-го порядка, разрешенного относительно производной."
   ]
  },
  {
   "cell_type": "markdown",
   "metadata": {},
   "source": [
    "## Ответ"
   ]
  },
  {
   "cell_type": "markdown",
   "metadata": {},
   "source": [
    "## Теорема\n",
    "\n",
    "Пусть функция $ f(t, y) $ непрерывна в $ \\Pi $ и удовлетворяет нём же услови Липшица по $ y $. Если $ y_1(t), y_2(t) $ - решения задачи Коши $ y'(t) = f(t, y(y)) $ на отрезке $ [t_1, t_2] $, то $ y_1(t) = y_2(t), \\quad \\forall t \\in [t_1, t_2] $\n",
    "\n",
    "## Доказательство\n",
    "\n",
    "Т.к. функции $ y_1(t), y_2(t) $ - решения задачи Коши, они явяются решениями интегральных уравнений \n",
    "\n",
    "$$\n",
    "y_1(t) = y_0 + \\int_{t_0}^t f(\\tau, y_1(\\tau)) d\\tau, \\quad t \\in [t_1, t_2] \\\\\n",
    "y_2(t) = y_0 + \\int_{t_0}^t f(\\tau, y_2(\\tau)) d\\tau, \\quad t \\in [t_1, t_2]\n",
    "$$\n",
    "\n",
    "Вычитаем второе из первого, помещаем их под модуль, переходим к неравенству, используем условие Липшица. Получаем\n",
    "\n",
    "$$\n",
    "|y_1(t) - y_2(t)| \\leq L \\left| \\int_{t_0}^t |y_1(\\tau) - y_2(\\tau)| d\\tau \\right|, \\quad t \\in [t_1, t_2]\n",
    "$$\n",
    "\n",
    "Перепишем это как $ 0 \\leq z(t) \\leq L \\left| \\int_{t_0}^t z(\\tau)\\tau \\right|, \\quad t \\in [t_1, t_2] $. Применяем лемму Гронуолла-Беллмана с $ c = 0, d = L $, имеем $ z(t) = 0, t \\in [t_1, t_2] \\Rightarrow y_1(t) = y_2(t), t \\in [t_1, t_2] $. Профит"
   ]
  }
 ],
 "metadata": {
  "kernelspec": {
   "display_name": "Python 3",
   "language": "python",
   "name": "python3"
  },
  "language_info": {
   "codemirror_mode": {
    "name": "ipython",
    "version": 3
   },
   "file_extension": ".py",
   "mimetype": "text/x-python",
   "name": "python",
   "nbconvert_exporter": "python",
   "pygments_lexer": "ipython3",
   "version": "3.8.6"
  }
 },
 "nbformat": 4,
 "nbformat_minor": 4
}
