{
 "cells": [
  {
   "cell_type": "markdown",
   "metadata": {},
   "source": [
    "# Вопрос 7"
   ]
  },
  {
   "cell_type": "markdown",
   "metadata": {},
   "source": [
    "Теорема существования решения задачи Коши для ОДУ 1-го порядка, разрешенного относительно производной."
   ]
  },
  {
   "cell_type": "markdown",
   "metadata": {},
   "source": [
    "## Ответ"
   ]
  },
  {
   "cell_type": "markdown",
   "metadata": {},
   "source": [
    "### Локальная теорема о существовании решения задачи Коши\n",
    "\n",
    "Пусть $ f(t, y) $ непрерывна в $ \\Pi $, удовлетворяет условию Липшица по $ y $ и \n",
    "\n",
    "$$ |f(t, y)| \\leq M, \\quad (t, y) \\in \\Pi $$\n",
    "\n",
    "Тогда на отрезке $ [t_0 - h, t_0 + h] $, где\n",
    "\n",
    "$$\n",
    "h = \\min \\{ T, \\frac{A}{M} \\}\n",
    "$$\n",
    "\n",
    "Существует $ y(t) $, т.ч. $ y(t) \\in C^1[t_0 - h, t_0 + h], \\space |y(t) - y_0| \\leq A, \\space t \\in [t_0 - h, t_0 + h], $\n",
    "\n",
    "$$\n",
    "y'(t) = f(t, y(t)), t \\in [t_0 - h, t_0 + h],\\\\\n",
    "y(t_0) = y_0\n",
    "$$\n",
    "\n",
    "### Доказательство\n",
    "\n",
    "Достаточно доказать существование функции $ y(t) \\in C[t_0 - h, t_0 + h] $, т.ч. $ |y(t) - y_0| \\leq A, t \\in [t_0 - h, t_0 + h] $ и являющуюся решением \n",
    "\n",
    "$$\n",
    "y(t) = y_0 + \\int_{t_0}^t f(\\tau, y(\\tau)) d\\tau, t \\in [t_0 - h, t_0 + h]\n",
    "$$\n",
    "\n",
    "Проведём доказательство используя метод последовательных приближений. Рассмотрим последовательность функций $ y_k(t), k = 0, 1, 2, \\dots $, т.ч. $ y_0(t) = y_0 $\n",
    "\n",
    "$$ y_{k + 1} = y_0 + \\int_{t_0}^t  f(\\tau, y_k(\\tau)) d\\tau, \\quad t \\in [t_0 - h, t_0 + h], \\quad k = 0, 1, 2, \\dots $$\n",
    "\n",
    "Используя метод мат. индукции покажем, что $ y_k(t) \\in C[t_0 - h, t_0 + h], \\quad |y_k(t) - y_0| \\leq A, t \\in [t_0 - h, t_0 + h] $. Доказывается учитывая тот факт, что для $ y_0 $ это верно, $ \\int_{t_0}^t  f(\\tau, y_0(\\tau)) d\\tau \\in C[t_0 - h, t_0 + h] $, т.к. непрерывна функция $ y_0 $ и т.д. Далее рассматриваем $ |y_{m + 1} - y_0| $, вспоминаем условие Липшица, максимальное значение функции по модулю, то, что $ |t - t_0| \\leq A $. Доказали.\n",
    "\n",
    "Докажем, используя мат.индукцию, что\n",
    "\n",
    "$$\n",
    "|y_{k + 1}(t) - y_k(t)| \\leq A l^k \\displaystyle\\frac{|t - t_0|^k}{k!}, \\quad k = 0, 1, 2, \\dots, \\quad t \\in [t_0 - h, t_0 + h]\n",
    "$$\n",
    "\n",
    "Для $ k = 0, |y_1(t) - y_0(t)| \\leq A, t \\in [t_0 - h, t_0 + h] $. Пусть оценка верна для $ k = m - 1 $. Рассмотрим $ k = m $:\n",
    "\n",
    "$$\n",
    "|y_{m + 1}(t) - y{m}(t)| \\leq \\left| \\int_{t_0}^t |f(\\tau, y_{m}(\\tau)) - f(\\tau, y_{m}(\\tau))| d\\tau \\right|, \\quad t \\in [t_0 - h, t_0 + h]\n",
    "$$\n",
    "\n",
    "Используем условие Липшица и доказываемое неравенство для $ k = m - 1 $\n",
    "\n",
    "$$ |y_{m + 1}(t) - y{m}(t)| \\leq L\\left| \\int_{t_0}^t |y_{m}(\\tau) - y_{m + 1}(\\tau)| d\\tau \\right| \\leq \\\\\n",
    "\\leq L\\left| \\int_{t_0}^t A L^{m - 1} \\frac{|\\tau - t_0|^{m - 1}}{(m - 1)!} d\\tau \\right| = AL^m \\frac{|t - t_0|^m}{m!}, \\quad t \\in [t_0 - h, t_0 + h]  $$\n",
    "\n",
    "Профит.\n",
    "\n",
    "$$ y_k(t) = y_0 + \\sum_{n = 1}^k (y_n(t) - y_{n - 1}(t)), n = 1, 2, \\dots $$\n",
    "\n",
    "Этот ряд равномерно сходится к какой-то функции $ y(t) $, т.к. сходится ряд $ \\displaystyle\\sum_{n = 1}^\\infty (y_n(t) - y_{n - 1}(t)) $ (применяем признак Вейерштрасса)\n",
    "\n",
    "$ |y(t) - y_0| \\leq A $ - доказывается переходом к пределу в неравенстве $ |y_k(t) - y_0| \\leq A $. Далее надо показать то, что $ y(t) $ является решением интегрального уравнения. В силу равномерной сходимости $ y_k(t) $ к $ y(t) $ на $ [t_0 - h, t_0 + h] $, $ \\forall \\delta > 0 \\exists k_0(\\delta): \\space k \\geq k_0, |y_k(t) - y(t)| < \\delta, \\; \\forall t \\in [t_0 - h, t_0 + h] $. Тогда $ \\forall \\varepsilon > 0 $ выберем $ \\delta(\\varepsilon) = \\frac{\\varepsilon}{Lh} $ и $ k_0 = k_0(\\delta(\\varepsilon)) \\Rightarrow \\forall k \\geq k_0 $\n",
    "\n",
    "$$ \\left| \\int_{t_0}^t f(\\tau, y_k(\\tau))d\\tau - \\int_{t_0}^t f(\\tau, y_k(\\tau))d\\tau \\right| \\leq L |\\delta| |t - t_0| \\leq \\varepsilon $$\n",
    "\n",
    "Значит в изначальном рекурентном задании функций $ y_k $ можно перейти к пределу. В результате $ y(t) $ - решение интегрального уравнения, $ y(t) \\in C [t_0 - h, t_0 + h], |y(t) - y_0| \\leq A, t \\in [t_0 - h, t_0 + h]$. Значит $ y(t) $ - решение задачи Коши. Наконец-то теорема доказана"
   ]
  }
 ],
 "metadata": {
  "kernelspec": {
   "display_name": "Python 3",
   "language": "python",
   "name": "python3"
  },
  "language_info": {
   "codemirror_mode": {
    "name": "ipython",
    "version": 3
   },
   "file_extension": ".py",
   "mimetype": "text/x-python",
   "name": "python",
   "nbconvert_exporter": "python",
   "pygments_lexer": "ipython3",
   "version": "3.8.6"
  }
 },
 "nbformat": 4,
 "nbformat_minor": 4
}
