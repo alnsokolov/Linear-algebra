{
 "cells": [
  {
   "cell_type": "markdown",
   "metadata": {},
   "source": [
    "# Вопрос 2"
   ]
  },
  {
   "cell_type": "markdown",
   "metadata": {},
   "source": [
    "Понятие решения ОДУ. Постановка задачи с начальными данными (задача Коши) для разрешенного относительно производной ОДУ 1-го порядка. Геометрический смысл задачи Коши."
   ]
  },
  {
   "cell_type": "markdown",
   "metadata": {},
   "source": [
    "## Ответ"
   ]
  },
  {
   "cell_type": "markdown",
   "metadata": {},
   "source": [
    "Функция $ y(t) $ называется решением ОДУ $ F(t, y, y') = 0 $ на отрезке $ [a, b] $ если:\n",
    "\n",
    "1. $ y(t) \\in C^1[a, b] $\n",
    "2. $ (t, y(t)) \\in D \\space\\forall t \\in [a, b] $\n",
    "3. $ y'(t) = f(t, y(t)) \\forall t \\in [a, b] $"
   ]
  },
  {
   "cell_type": "markdown",
   "metadata": {},
   "source": [
    "Пусть $ f(t, y) $ определена и непрерывна в $ \\Pi = \\{ (t, y): |t - t_0| \\leq T, |y - y_0| \\leq A \\} $/\n",
    "\n",
    "Рассмотрим на отрезке $ [t_0 - T, t_0 + T] $ дифференциальное уравнение $ y'(t) = f(t, y(t)) $ с условием $ y(t_0) = y_0 $ Требуется определить функцию $ y(t) $, удовлетворящую дифференциальному уравнению и начальному условию.  Эта задача называется задачей с начальным условием или задачей Коши.\n",
    "\n",
    "Геометрический смысл задачи состоит в нахождении функции $ y(t) $, являющейся решением дифференциального уравнения и такой, что её интегральная кривая $ (t, y(t)) $ проходит через точку $ (t_0, y(t_0)) $."
   ]
  }
 ],
 "metadata": {
  "kernelspec": {
   "display_name": "Python 3",
   "language": "python",
   "name": "python3"
  },
  "language_info": {
   "codemirror_mode": {
    "name": "ipython",
    "version": 3
   },
   "file_extension": ".py",
   "mimetype": "text/x-python",
   "name": "python",
   "nbconvert_exporter": "python",
   "pygments_lexer": "ipython3",
   "version": "3.8.6"
  }
 },
 "nbformat": 4,
 "nbformat_minor": 4
}
